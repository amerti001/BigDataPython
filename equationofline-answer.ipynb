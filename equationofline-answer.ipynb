{
 "cells": [
  {
   "cell_type": "markdown",
   "metadata": {},
   "source": [
    "# Lets plot two data points and fit a line to them"
   ]
  },
  {
   "cell_type": "markdown",
   "metadata": {},
   "source": [
    "For this everyone needs to make their own plot but before you begin work in groups of about 4 people to figure it out.  \n",
    "\n",
    "When you have data you usually plot the data as points on a graph and then you plot the best fit line to that data.  We are going to do something simple and plot two points and then fit the straight line.  \n",
    "Rember that the equation of a line is \n",
    "y=mx+b\n",
    "\n",
    "If you have two points they would be stored in a list.  I call this list x_data and y_data.  the first point on the graph is x[0],y[0] the second point is x[1],y[1]\n",
    "\n",
    "We could solve the equation now since we have two equations and two unknowns.  you would get\n",
    "\n",
    "y[0]=m*x[0]+b\n",
    "\n",
    "y[1]=m*x[1]+b\n",
    "\n",
    "With these two equations and two unknowns you can solve for m and b.  So you should solve for m and b and get the equations you will use.  \n",
    "\n",
    "Now that you have m and b you can then calculate the fit.  I call these x_fit and y_fit.  \n",
    "\n",
    "What function can we use to generate the x_fit numbers?\n",
    "\n",
    "Then we plot the data.  I use\n",
    "\n",
    "plt.scatter() for the data as this shows just points.  If you add the keyword argument label='' then it gives a label to that part of the plot that can later show up in a legend.\n",
    "\n",
    "I used plt.plot() like usual to plot the line.  But I added the label='' keyword.\n",
    "\n",
    "I label the axes.  \n",
    "\n",
    "I turn on the legend with plt.legend()\n",
    "\n",
    "When I get fancy I can add a title that includes the equation of the line.  We can do this by making a string with the format notation.  The format notation is nice to control the number of decimal places.  \n",
    "\n",
    "Fill it all in below and see how it goes!  Make sure everyone in your group understands it all and makes a great plot.  "
   ]
  },
  {
   "cell_type": "code",
   "execution_count": 1,
   "metadata": {},
   "outputs": [
    {
     "ename": "SyntaxError",
     "evalue": "invalid syntax (<ipython-input-1-205ee3421e16>, line 8)",
     "output_type": "error",
     "traceback": [
      "\u001b[1;36m  File \u001b[1;32m\"<ipython-input-1-205ee3421e16>\"\u001b[1;36m, line \u001b[1;32m8\u001b[0m\n\u001b[1;33m    m=\u001b[0m\n\u001b[1;37m      ^\u001b[0m\n\u001b[1;31mSyntaxError\u001b[0m\u001b[1;31m:\u001b[0m invalid syntax\n"
     ]
    }
   ],
   "source": [
    "%matplotlib inline\n",
    "import numpy as np\n",
    "import matplotlib.pyplot as plt\n",
    "#This is my data\n",
    "x_data=np.array([1.1,6])\n",
    "y_data=np.array([4,8.])\n",
    "\n",
    "#this is my solution to the line\n",
    "m=\n",
    "b=\n",
    "\n",
    "#This is the best fit line\n",
    "x_fit=\n",
    "y_fit=\n",
    "\n",
    "#this is plotting the data\n",
    "fig,ax\n",
    "plot_title=''.format(m,b)\n",
    "plt.scatter()   #this plots points without a line\n",
    "plt.plot()       #this will plot a line without points.  \n",
    "plt.xlabel()\n",
    "plt.ylabel()\n",
    "plt.title()\n",
    "plt.legend()"
   ]
  },
  {
   "cell_type": "code",
   "execution_count": 24,
   "metadata": {},
   "outputs": [
    {
     "data": {
      "text/plain": [
       "<matplotlib.legend.Legend at 0xbb53358>"
      ]
     },
     "execution_count": 24,
     "metadata": {},
     "output_type": "execute_result"
    },
    {
     "data": {
      "image/png": "[encoded data removed]",
      "text/plain": [
       "<matplotlib.figure.Figure at 0xbe85be0>"
      ]
     },
     "metadata": {},
     "output_type": "display_data"
    }
   ],
   "source": [
    "### my answer"
   ]
  },
  {
   "cell_type": "code",
   "execution_count": 5,
   "metadata": {},
   "outputs": [
    {
     "data": {
      "text/plain": [
       "<matplotlib.legend.Legend at 0x80c1dd8>"
      ]
     },
     "execution_count": 5,
     "metadata": {},
     "output_type": "execute_result"
    },
    {
     "data": {
      "image/png": "[encoded data removed]",
      "text/plain": [
       "<matplotlib.figure.Figure at 0x7d19160>"
      ]
     },
     "metadata": {},
     "output_type": "display_data"
    }
   ],
   "source": [
    "%matplotlib inline\n",
    "import numpy as np\n",
    "import matplotlib.pyplot as plt\n",
    "\n",
    "#This is my data\n",
    "x_data=np.array([1.1,6])\n",
    "y_data=np.array([4,8.])\n",
    "\n",
    "\n",
    "#this is my solution to the line\n",
    "m=(y_data[1]-y_data[0])/(x_data[1]-x_data[0])\n",
    "b=y_data[0]-x_data[0]*m\n",
    "\n",
    "#This is the best fit line\n",
    "x_fit=np.linspace(-10,10)\n",
    "y_fit=m*x_fit+b\n",
    "\n",
    "#this is plotting the data\n",
    "fig,ax=plt.subplots()\n",
    "ax.scatter(x_data,y_data,label='Data')   #this plots points without a line\n",
    "ax.plot(x_fit,y_fit,label='Fit') \n",
    "plot_title='Best fit line y = {:.2f}x+{:.2f}\\n'.format(m,b)\n",
    "ax.set_xlabel('x axis')\n",
    "ax.set_ylabel('y axis')\n",
    "ax.set_title(plot_title)\n",
    "ax.legend(loc='best')\n"
   ]
  },
  {
   "cell_type": "code",
   "execution_count": null,
   "metadata": {
    "collapsed": true
   },
   "outputs": [],
   "source": []
  }
 ],
 "metadata": {
  "kernelspec": {
   "display_name": "Python 3",
   "language": "python",
   "name": "python3"
  },
  "language_info": {
   "codemirror_mode": {
    "name": "ipython",
    "version": 3
   },
   "file_extension": ".py",
   "mimetype": "text/x-python",
   "name": "python",
   "nbconvert_exporter": "python",
   "pygments_lexer": "ipython3",
   "version": "3.6.6"
  }
 },
 "nbformat": 4,
 "nbformat_minor": 1
}
