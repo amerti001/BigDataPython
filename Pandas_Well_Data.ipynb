{
 "cells": [
  {
   "cell_type": "markdown",
   "metadata": {},
   "source": [
    "# Pandas"
   ]
  },
  {
   "cell_type": "markdown",
   "metadata": {},
   "source": [
    "Today we are going to start using pandas.  Lets review the libraries or packages and what they have done so far.\n",
    "1.  We always start byt typing %matploltlib inline.  This is a built in magic command that enables us to plot the data right into our ipython notebook https://ipython.org/ipython-doc/3/interactive/magics.html \n",
    "2.  we import matplotlib.pylab as plt.  This turns on all the graphing capabilities and then uses the shorthand plt. for when we call functions from matplotlib\n",
    "3.  we import numpy as np.  This turns on math functions and we use the shorthand np.\n",
    "4.  we from scipy we import stats.  scipy gives us a lot of analysis functions and we use linear regression from stats.\n",
    "5.  Now we are also going to use pandas.  Pandas is database management.  It lets us take complicated datasets and anlyze them.  You can think of it like a supercharged excel where you combine the organization of excel with the power of a programming language.  It can do amazing things and I am still learning every day.  So lets get started!\n",
    "1.  What is pandas? http://pandas.pydata.org/index.html  and here is the documentation http://pandas.pydata.org/pandas-docs/stable/\n",
    "1.  import pandas as pd!!!!!!\n",
    "1.  On a final note you can see I made a numbered list in markdown. To do that you type a number a period and then two spaces.\n"
   ]
  },
  {
   "cell_type": "code",
   "execution_count": 2,
   "metadata": {
    "collapsed": false
   },
   "outputs": [],
   "source": [
    "%matplotlib inline\n",
    "import pandas as pd\n",
    "import numpy as np\n",
    "import matplotlib.pylab as plt\n",
    "from scipy import stats"
   ]
  },
  {
   "cell_type": "markdown",
   "metadata": {},
   "source": [
    "## Importing files\n",
    "We are going to start by finding our csv file and reading it in"
   ]
  },
  {
   "cell_type": "markdown",
   "metadata": {},
   "source": [
    "I only want to list the csv files so I can see what I can read in.  so I will do ls \\*.csv   the star is a wildcard that means everything and then .csv is only ones that end in .csv.  Today we are going to look at data from well water chemistry in Bangladesh. Specifically arsenic concentrations and if people drink the water.  We will also look at the rest of the chemistry.  We are looking at well water arsenic because drinking water with arsenic has negative long term health impacts.  The US standard for arsenic is 10 ppb or 10 ug/L.  The bangladesh standard is 50 ppb.  Lets see what we can learn!  We are going to try and learn about how many people drink water with 10 or 50 ppb arsenic.  (to show the start I had to type \\\\*)\n",
    "\n",
    "The data is on the edblogs siteh ttps://edblogs.columbia.edu/eescx3050-001-2015-3/category/classes/class-10-start-pandas/ or on the github site https://github.com/bmaillou/BigDataPython/blob/master/well_data.csv.  "
   ]
  },
  {
   "cell_type": "code",
   "execution_count": 2,
   "metadata": {
    "collapsed": false
   },
   "outputs": [
    {
     "data": {
      "text/plain": [
       "u'C:\\\\work-teaching\\\\python\\\\fall16\\\\BigDataPython'"
      ]
     },
     "execution_count": 2,
     "metadata": {},
     "output_type": "execute_result"
    }
   ],
   "source": [
    "pwd"
   ]
  },
  {
   "cell_type": "code",
   "execution_count": 3,
   "metadata": {
    "collapsed": false
   },
   "outputs": [
    {
     "name": "stdout",
     "output_type": "stream",
     "text": [
      " Volume in drive C has no label.\n",
      " Volume Serial Number is D0AD-C6E1\n",
      "\n",
      " Directory of C:\\work-teaching\\python\\fall16\\BigDataPython\n",
      "\n",
      "02/24/2015  03:36 PM             1,380 Brian.csv\n",
      "01/22/2015  06:29 PM         4,093,009 central_park.csv\n",
      "10/20/2015  10:55 AM             1,642 CoreEM09GC01.csv\n",
      "11/02/2015  10:34 AM             1,661 CoreEM09GC01-extra-line.csv\n",
      "03/19/2015  12:38 PM            64,749 fldav_ljo.csv\n",
      "02/13/2015  04:23 PM             2,180 gdp.csv\n",
      "08/31/2015  02:29 PM             1,125 gdp_only.csv\n",
      "08/31/2015  02:26 PM             2,180 gdp2.csv\n",
      "08/11/2015  04:28 PM             1,999 gdp2015.csv\n",
      "02/12/2015  04:46 PM             4,841 GDP-Lifespan.csv\n",
      "03/07/2015  04:01 PM            16,753 Libby_Thesis_Data.csv\n",
      "02/24/2015  02:04 PM            37,289 mystery.csv\n",
      "02/23/2015  10:49 PM               102 twoD1.csv\n",
      "03/27/2015  09:58 AM            53,449 weekly_mlo.csv\n",
      "10/09/2015  11:37 AM            78,886 well_data.csv\n",
      "03/26/2015  03:27 PM               128 well_sites.csv\n",
      "02/27/2015  04:09 PM             2,589 Well-As.csv\n",
      "              17 File(s)      4,363,962 bytes\n",
      "               0 Dir(s)   9,266,089,984 bytes free\n"
     ]
    }
   ],
   "source": [
    "ls *.csv"
   ]
  },
  {
   "cell_type": "markdown",
   "metadata": {},
   "source": [
    "now we read in a well_data.csv.  But I want to use pandas and not numpy.  "
   ]
  },
  {
   "cell_type": "markdown",
   "metadata": {},
   "source": [
    "But we are going to read in some data and try to analyze it.  open the well_data.csv.  It is for wells from Bangladesh. every well has an id#, a latitude and longitude, Depth, if people drink it and then some concentration data.  lets use readcsv to get read in.  In Pandas you are trying to get your data into a dataframe which is like an excel sheet.  It will have column titles and an indexed for rows.  It is all about the dataframes.  When using pandas people name things 'df' a lot.  That is shorthand for dataframe.  I am not a good namer. \n",
    "\n",
    "I renamed to df_well_data.  This is the well data dataframe.  If I forgot df on a name you may need to fix it."
   ]
  },
  {
   "cell_type": "code",
   "execution_count": 5,
   "metadata": {
    "collapsed": false
   },
   "outputs": [],
   "source": [
    "df_well_data=pd.read_csv('well_data.csv')"
   ]
  },
  {
   "cell_type": "markdown",
   "metadata": {},
   "source": [
    "The data is now magically in the computers memory even if we can't see it we can access it!"
   ]
  },
  {
   "cell_type": "markdown",
   "metadata": {},
   "source": [
    "## This is important.  Your output may not look like my output.  It changes between computers depending on default settings when you installed.  Don't worry.  If you see data of descriptions you are fine.\n",
    "\n",
    "just typing well_data will give us some descriptions of what we got!  It used the first row for column names!  I used well_data.head() so I would only see a few lines.  The head of the data.  You can also look at .tail().  Or you should just type well_data and see what it gives you!"
   ]
  },
  {
   "cell_type": "code",
   "execution_count": 6,
   "metadata": {
    "collapsed": false
   },
   "outputs": [
    {
     "data": {
      "text/html": [
       "<div>\n",
       "<style>\n",
       "    .dataframe thead tr:only-child th {\n",
       "        text-align: right;\n",
       "    }\n",
       "\n",
       "    .dataframe thead th {\n",
       "        text-align: left;\n",
       "    }\n",
       "\n",
       "    .dataframe tbody tr th {\n",
       "        vertical-align: top;\n",
       "    }\n",
       "</style>\n",
       "<table border=\"1\" class=\"dataframe\">\n",
       "  <thead>\n",
       "    <tr style=\"text-align: right;\">\n",
       "      <th></th>\n",
       "      <th>Well_ID</th>\n",
       "      <th>Lat</th>\n",
       "      <th>Lon</th>\n",
       "      <th>Depth</th>\n",
       "      <th>Drink</th>\n",
       "      <th>Si</th>\n",
       "      <th>P</th>\n",
       "      <th>S</th>\n",
       "      <th>Ca</th>\n",
       "      <th>Fe</th>\n",
       "      <th>...</th>\n",
       "      <th>Na</th>\n",
       "      <th>Mg</th>\n",
       "      <th>K</th>\n",
       "      <th>Mn</th>\n",
       "      <th>As</th>\n",
       "      <th>Sr</th>\n",
       "      <th>F</th>\n",
       "      <th>Cl</th>\n",
       "      <th>SO4</th>\n",
       "      <th>Br</th>\n",
       "    </tr>\n",
       "  </thead>\n",
       "  <tbody>\n",
       "    <tr>\n",
       "      <th>0</th>\n",
       "      <td>2</td>\n",
       "      <td>23.74</td>\n",
       "      <td>90.31</td>\n",
       "      <td>45</td>\n",
       "      <td>Y</td>\n",
       "      <td>NaN</td>\n",
       "      <td>NaN</td>\n",
       "      <td>NaN</td>\n",
       "      <td>NaN</td>\n",
       "      <td>NaN</td>\n",
       "      <td>...</td>\n",
       "      <td>NaN</td>\n",
       "      <td>NaN</td>\n",
       "      <td>NaN</td>\n",
       "      <td>NaN</td>\n",
       "      <td>NaN</td>\n",
       "      <td>NaN</td>\n",
       "      <td>NaN</td>\n",
       "      <td>NaN</td>\n",
       "      <td>NaN</td>\n",
       "      <td>NaN</td>\n",
       "    </tr>\n",
       "    <tr>\n",
       "      <th>1</th>\n",
       "      <td>14</td>\n",
       "      <td>23.62</td>\n",
       "      <td>90.60</td>\n",
       "      <td>60</td>\n",
       "      <td>Y</td>\n",
       "      <td>NaN</td>\n",
       "      <td>NaN</td>\n",
       "      <td>NaN</td>\n",
       "      <td>NaN</td>\n",
       "      <td>NaN</td>\n",
       "      <td>...</td>\n",
       "      <td>NaN</td>\n",
       "      <td>NaN</td>\n",
       "      <td>NaN</td>\n",
       "      <td>NaN</td>\n",
       "      <td>NaN</td>\n",
       "      <td>NaN</td>\n",
       "      <td>NaN</td>\n",
       "      <td>NaN</td>\n",
       "      <td>NaN</td>\n",
       "      <td>NaN</td>\n",
       "    </tr>\n",
       "    <tr>\n",
       "      <th>2</th>\n",
       "      <td>23</td>\n",
       "      <td>23.94</td>\n",
       "      <td>91.46</td>\n",
       "      <td>60</td>\n",
       "      <td>Y</td>\n",
       "      <td>NaN</td>\n",
       "      <td>NaN</td>\n",
       "      <td>NaN</td>\n",
       "      <td>NaN</td>\n",
       "      <td>NaN</td>\n",
       "      <td>...</td>\n",
       "      <td>NaN</td>\n",
       "      <td>NaN</td>\n",
       "      <td>NaN</td>\n",
       "      <td>NaN</td>\n",
       "      <td>NaN</td>\n",
       "      <td>NaN</td>\n",
       "      <td>NaN</td>\n",
       "      <td>NaN</td>\n",
       "      <td>NaN</td>\n",
       "      <td>NaN</td>\n",
       "    </tr>\n",
       "    <tr>\n",
       "      <th>3</th>\n",
       "      <td>83</td>\n",
       "      <td>23.80</td>\n",
       "      <td>91.33</td>\n",
       "      <td>50</td>\n",
       "      <td>Y</td>\n",
       "      <td>48084.33842</td>\n",
       "      <td>0.936358</td>\n",
       "      <td>2085.570979</td>\n",
       "      <td>54666.48199</td>\n",
       "      <td>1.260031</td>\n",
       "      <td>...</td>\n",
       "      <td>76.207449</td>\n",
       "      <td>26.104825</td>\n",
       "      <td>NaN</td>\n",
       "      <td>1.019154</td>\n",
       "      <td>78.97747</td>\n",
       "      <td>253.528674</td>\n",
       "      <td>0.1669</td>\n",
       "      <td>83.0137</td>\n",
       "      <td>5.6188</td>\n",
       "      <td>0.1512</td>\n",
       "    </tr>\n",
       "    <tr>\n",
       "      <th>4</th>\n",
       "      <td>84</td>\n",
       "      <td>23.98</td>\n",
       "      <td>90.81</td>\n",
       "      <td>150</td>\n",
       "      <td>Y</td>\n",
       "      <td>NaN</td>\n",
       "      <td>NaN</td>\n",
       "      <td>NaN</td>\n",
       "      <td>NaN</td>\n",
       "      <td>NaN</td>\n",
       "      <td>...</td>\n",
       "      <td>NaN</td>\n",
       "      <td>NaN</td>\n",
       "      <td>NaN</td>\n",
       "      <td>NaN</td>\n",
       "      <td>NaN</td>\n",
       "      <td>NaN</td>\n",
       "      <td>NaN</td>\n",
       "      <td>NaN</td>\n",
       "      <td>NaN</td>\n",
       "      <td>NaN</td>\n",
       "    </tr>\n",
       "  </tbody>\n",
       "</table>\n",
       "<p>5 rows × 21 columns</p>\n",
       "</div>"
      ],
      "text/plain": [
       "   Well_ID    Lat    Lon  Depth Drink           Si         P            S  \\\n",
       "0        2  23.74  90.31     45     Y          NaN       NaN          NaN   \n",
       "1       14  23.62  90.60     60     Y          NaN       NaN          NaN   \n",
       "2       23  23.94  91.46     60     Y          NaN       NaN          NaN   \n",
       "3       83  23.80  91.33     50     Y  48084.33842  0.936358  2085.570979   \n",
       "4       84  23.98  90.81    150     Y          NaN       NaN          NaN   \n",
       "\n",
       "            Ca        Fe   ...           Na         Mg   K        Mn  \\\n",
       "0          NaN       NaN   ...          NaN        NaN NaN       NaN   \n",
       "1          NaN       NaN   ...          NaN        NaN NaN       NaN   \n",
       "2          NaN       NaN   ...          NaN        NaN NaN       NaN   \n",
       "3  54666.48199  1.260031   ...    76.207449  26.104825 NaN  1.019154   \n",
       "4          NaN       NaN   ...          NaN        NaN NaN       NaN   \n",
       "\n",
       "         As          Sr       F       Cl     SO4      Br  \n",
       "0       NaN         NaN     NaN      NaN     NaN     NaN  \n",
       "1       NaN         NaN     NaN      NaN     NaN     NaN  \n",
       "2       NaN         NaN     NaN      NaN     NaN     NaN  \n",
       "3  78.97747  253.528674  0.1669  83.0137  5.6188  0.1512  \n",
       "4       NaN         NaN     NaN      NaN     NaN     NaN  \n",
       "\n",
       "[5 rows x 21 columns]"
      ]
     },
     "execution_count": 6,
     "metadata": {},
     "output_type": "execute_result"
    }
   ],
   "source": [
    "df_well_data.head()"
   ]
  },
  {
   "cell_type": "markdown",
   "metadata": {},
   "source": [
    "type well_data in the next one for a summary.  you might have to type print well_data.  I am not doing it as it wastes a ton of paper.  You try it though!"
   ]
  },
  {
   "cell_type": "code",
   "execution_count": null,
   "metadata": {
    "collapsed": false
   },
   "outputs": [],
   "source": [
    "df_well_data"
   ]
  },
  {
   "cell_type": "code",
   "execution_count": null,
   "metadata": {
    "collapsed": true
   },
   "outputs": [],
   "source": []
  },
  {
   "cell_type": "markdown",
   "metadata": {},
   "source": [
    "Since we didn't set an index it just numbers each row and calls that the index.  But that doesn't help us.  I think we could set the well_id to the index.  When you look at your data above. see how the numbers on the left have no title but are a little offset.  That is the index.  But what is an index.  I am not sure.  It is sort of like a master column that helps us organize the data.  It will make more sense when we get to timeseries analysis.  That is where pandas shines even more.  But lets set and index and use well_id as that is the most important factor."
   ]
  },
  {
   "cell_type": "code",
   "execution_count": 8,
   "metadata": {
    "collapsed": false
   },
   "outputs": [],
   "source": [
    "df_well_data=df_well_data.set_index('Well_ID')"
   ]
  },
  {
   "cell_type": "code",
   "execution_count": 9,
   "metadata": {
    "collapsed": false
   },
   "outputs": [
    {
     "name": "stdout",
     "output_type": "stream",
     "text": [
      "           Lat    Lon  Depth Drink           Si         P            S  \\\n",
      "Well_ID                                                                  \n",
      "2        23.74  90.31     45     Y          NaN       NaN          NaN   \n",
      "14       23.62  90.60     60     Y          NaN       NaN          NaN   \n",
      "23       23.94  91.46     60     Y          NaN       NaN          NaN   \n",
      "83       23.80  91.33     50     Y  48084.33842  0.936358  2085.570979   \n",
      "84       23.98  90.81    150     Y          NaN       NaN          NaN   \n",
      "\n",
      "                  Ca        Fe         Ba         Na         Mg   K        Mn  \\\n",
      "Well_ID                                                                         \n",
      "2                NaN       NaN        NaN        NaN        NaN NaN       NaN   \n",
      "14               NaN       NaN        NaN        NaN        NaN NaN       NaN   \n",
      "23               NaN       NaN        NaN        NaN        NaN NaN       NaN   \n",
      "83       54666.48199  1.260031  96.159587  76.207449  26.104825 NaN  1.019154   \n",
      "84               NaN       NaN        NaN        NaN        NaN NaN       NaN   \n",
      "\n",
      "               As          Sr       F       Cl     SO4      Br  \n",
      "Well_ID                                                         \n",
      "2             NaN         NaN     NaN      NaN     NaN     NaN  \n",
      "14            NaN         NaN     NaN      NaN     NaN     NaN  \n",
      "23            NaN         NaN     NaN      NaN     NaN     NaN  \n",
      "83       78.97747  253.528674  0.1669  83.0137  5.6188  0.1512  \n",
      "84            NaN         NaN     NaN      NaN     NaN     NaN  \n"
     ]
    }
   ],
   "source": [
    "print df_well_data.head()"
   ]
  },
  {
   "cell_type": "code",
   "execution_count": null,
   "metadata": {
    "collapsed": false
   },
   "outputs": [],
   "source": []
  },
  {
   "cell_type": "markdown",
   "metadata": {},
   "source": [
    "we can undue the index"
   ]
  },
  {
   "cell_type": "code",
   "execution_count": 10,
   "metadata": {
    "collapsed": false
   },
   "outputs": [],
   "source": [
    "df_well_data=df_well_data.reset_index()"
   ]
  },
  {
   "cell_type": "code",
   "execution_count": 11,
   "metadata": {
    "collapsed": false
   },
   "outputs": [
    {
     "data": {
      "text/html": [
       "<div>\n",
       "<style>\n",
       "    .dataframe thead tr:only-child th {\n",
       "        text-align: right;\n",
       "    }\n",
       "\n",
       "    .dataframe thead th {\n",
       "        text-align: left;\n",
       "    }\n",
       "\n",
       "    .dataframe tbody tr th {\n",
       "        vertical-align: top;\n",
       "    }\n",
       "</style>\n",
       "<table border=\"1\" class=\"dataframe\">\n",
       "  <thead>\n",
       "    <tr style=\"text-align: right;\">\n",
       "      <th></th>\n",
       "      <th>Well_ID</th>\n",
       "      <th>Lat</th>\n",
       "      <th>Lon</th>\n",
       "      <th>Depth</th>\n",
       "      <th>Drink</th>\n",
       "      <th>Si</th>\n",
       "      <th>P</th>\n",
       "      <th>S</th>\n",
       "      <th>Ca</th>\n",
       "      <th>Fe</th>\n",
       "      <th>...</th>\n",
       "      <th>Na</th>\n",
       "      <th>Mg</th>\n",
       "      <th>K</th>\n",
       "      <th>Mn</th>\n",
       "      <th>As</th>\n",
       "      <th>Sr</th>\n",
       "      <th>F</th>\n",
       "      <th>Cl</th>\n",
       "      <th>SO4</th>\n",
       "      <th>Br</th>\n",
       "    </tr>\n",
       "  </thead>\n",
       "  <tbody>\n",
       "    <tr>\n",
       "      <th>0</th>\n",
       "      <td>2</td>\n",
       "      <td>23.74</td>\n",
       "      <td>90.31</td>\n",
       "      <td>45</td>\n",
       "      <td>Y</td>\n",
       "      <td>NaN</td>\n",
       "      <td>NaN</td>\n",
       "      <td>NaN</td>\n",
       "      <td>NaN</td>\n",
       "      <td>NaN</td>\n",
       "      <td>...</td>\n",
       "      <td>NaN</td>\n",
       "      <td>NaN</td>\n",
       "      <td>NaN</td>\n",
       "      <td>NaN</td>\n",
       "      <td>NaN</td>\n",
       "      <td>NaN</td>\n",
       "      <td>NaN</td>\n",
       "      <td>NaN</td>\n",
       "      <td>NaN</td>\n",
       "      <td>NaN</td>\n",
       "    </tr>\n",
       "    <tr>\n",
       "      <th>1</th>\n",
       "      <td>14</td>\n",
       "      <td>23.62</td>\n",
       "      <td>90.60</td>\n",
       "      <td>60</td>\n",
       "      <td>Y</td>\n",
       "      <td>NaN</td>\n",
       "      <td>NaN</td>\n",
       "      <td>NaN</td>\n",
       "      <td>NaN</td>\n",
       "      <td>NaN</td>\n",
       "      <td>...</td>\n",
       "      <td>NaN</td>\n",
       "      <td>NaN</td>\n",
       "      <td>NaN</td>\n",
       "      <td>NaN</td>\n",
       "      <td>NaN</td>\n",
       "      <td>NaN</td>\n",
       "      <td>NaN</td>\n",
       "      <td>NaN</td>\n",
       "      <td>NaN</td>\n",
       "      <td>NaN</td>\n",
       "    </tr>\n",
       "    <tr>\n",
       "      <th>2</th>\n",
       "      <td>23</td>\n",
       "      <td>23.94</td>\n",
       "      <td>91.46</td>\n",
       "      <td>60</td>\n",
       "      <td>Y</td>\n",
       "      <td>NaN</td>\n",
       "      <td>NaN</td>\n",
       "      <td>NaN</td>\n",
       "      <td>NaN</td>\n",
       "      <td>NaN</td>\n",
       "      <td>...</td>\n",
       "      <td>NaN</td>\n",
       "      <td>NaN</td>\n",
       "      <td>NaN</td>\n",
       "      <td>NaN</td>\n",
       "      <td>NaN</td>\n",
       "      <td>NaN</td>\n",
       "      <td>NaN</td>\n",
       "      <td>NaN</td>\n",
       "      <td>NaN</td>\n",
       "      <td>NaN</td>\n",
       "    </tr>\n",
       "    <tr>\n",
       "      <th>3</th>\n",
       "      <td>83</td>\n",
       "      <td>23.80</td>\n",
       "      <td>91.33</td>\n",
       "      <td>50</td>\n",
       "      <td>Y</td>\n",
       "      <td>48084.33842</td>\n",
       "      <td>0.936358</td>\n",
       "      <td>2085.570979</td>\n",
       "      <td>54666.48199</td>\n",
       "      <td>1.260031</td>\n",
       "      <td>...</td>\n",
       "      <td>76.207449</td>\n",
       "      <td>26.104825</td>\n",
       "      <td>NaN</td>\n",
       "      <td>1.019154</td>\n",
       "      <td>78.97747</td>\n",
       "      <td>253.528674</td>\n",
       "      <td>0.1669</td>\n",
       "      <td>83.0137</td>\n",
       "      <td>5.6188</td>\n",
       "      <td>0.1512</td>\n",
       "    </tr>\n",
       "    <tr>\n",
       "      <th>4</th>\n",
       "      <td>84</td>\n",
       "      <td>23.98</td>\n",
       "      <td>90.81</td>\n",
       "      <td>150</td>\n",
       "      <td>Y</td>\n",
       "      <td>NaN</td>\n",
       "      <td>NaN</td>\n",
       "      <td>NaN</td>\n",
       "      <td>NaN</td>\n",
       "      <td>NaN</td>\n",
       "      <td>...</td>\n",
       "      <td>NaN</td>\n",
       "      <td>NaN</td>\n",
       "      <td>NaN</td>\n",
       "      <td>NaN</td>\n",
       "      <td>NaN</td>\n",
       "      <td>NaN</td>\n",
       "      <td>NaN</td>\n",
       "      <td>NaN</td>\n",
       "      <td>NaN</td>\n",
       "      <td>NaN</td>\n",
       "    </tr>\n",
       "  </tbody>\n",
       "</table>\n",
       "<p>5 rows × 21 columns</p>\n",
       "</div>"
      ],
      "text/plain": [
       "   Well_ID    Lat    Lon  Depth Drink           Si         P            S  \\\n",
       "0        2  23.74  90.31     45     Y          NaN       NaN          NaN   \n",
       "1       14  23.62  90.60     60     Y          NaN       NaN          NaN   \n",
       "2       23  23.94  91.46     60     Y          NaN       NaN          NaN   \n",
       "3       83  23.80  91.33     50     Y  48084.33842  0.936358  2085.570979   \n",
       "4       84  23.98  90.81    150     Y          NaN       NaN          NaN   \n",
       "\n",
       "            Ca        Fe   ...           Na         Mg   K        Mn  \\\n",
       "0          NaN       NaN   ...          NaN        NaN NaN       NaN   \n",
       "1          NaN       NaN   ...          NaN        NaN NaN       NaN   \n",
       "2          NaN       NaN   ...          NaN        NaN NaN       NaN   \n",
       "3  54666.48199  1.260031   ...    76.207449  26.104825 NaN  1.019154   \n",
       "4          NaN       NaN   ...          NaN        NaN NaN       NaN   \n",
       "\n",
       "         As          Sr       F       Cl     SO4      Br  \n",
       "0       NaN         NaN     NaN      NaN     NaN     NaN  \n",
       "1       NaN         NaN     NaN      NaN     NaN     NaN  \n",
       "2       NaN         NaN     NaN      NaN     NaN     NaN  \n",
       "3  78.97747  253.528674  0.1669  83.0137  5.6188  0.1512  \n",
       "4       NaN         NaN     NaN      NaN     NaN     NaN  \n",
       "\n",
       "[5 rows x 21 columns]"
      ]
     },
     "execution_count": 11,
     "metadata": {},
     "output_type": "execute_result"
    }
   ],
   "source": [
    "df_well_data.head()  #since we have an index it prints the index name on its own row."
   ]
  },
  {
   "cell_type": "markdown",
   "metadata": {},
   "source": [
    "Or we could just read in the data with the index set.  "
   ]
  },
  {
   "cell_type": "code",
   "execution_count": 12,
   "metadata": {
    "collapsed": false
   },
   "outputs": [],
   "source": [
    "df_well_data=pd.read_csv('well_data.csv',index_col='Well_ID')"
   ]
  },
  {
   "cell_type": "markdown",
   "metadata": {},
   "source": [
    "If you don't know the column name you can use the column number!"
   ]
  },
  {
   "cell_type": "code",
   "execution_count": 13,
   "metadata": {
    "collapsed": false
   },
   "outputs": [],
   "source": [
    "df_well_data=pd.read_csv('well_data.csv',index_col=0)"
   ]
  },
  {
   "cell_type": "markdown",
   "metadata": {},
   "source": [
    "## The first great trick of pandas!\n",
    "The describe function.  It gives you amazing summary statistics lickety-split!"
   ]
  },
  {
   "cell_type": "code",
   "execution_count": 14,
   "metadata": {
    "collapsed": false
   },
   "outputs": [
    {
     "name": "stdout",
     "output_type": "stream",
     "text": [
      "              Lat         Lon       Depth            Si           P  \\\n",
      "count  759.000000  759.000000  759.000000    407.000000  407.000000   \n",
      "mean    23.789249   90.641199   65.554677  40101.151444    0.809323   \n",
      "std      0.578493    0.578800   42.186161  10117.680290    0.902860   \n",
      "min     22.780000   89.610000    0.000000  12605.576700    0.008210   \n",
      "25%     23.285000   90.155000   45.000000  33200.310900    0.151957   \n",
      "50%     23.790000   90.650000   50.000000  40021.490000    0.507850   \n",
      "75%     24.300000   91.130000   70.000000  45369.825000    1.189271   \n",
      "max     24.770000   91.650000  523.000000  70304.057950    5.477616   \n",
      "\n",
      "                  S             Ca          Fe          Ba          Na  \\\n",
      "count    407.000000     407.000000  407.000000  407.000000  407.000000   \n",
      "mean    3407.292389   41129.291921    5.556200   89.078507   29.441511   \n",
      "std     5364.247733   20161.130827    5.153779   54.172650   17.888604   \n",
      "min      -41.390000    3577.160000   -0.003680    5.630000    4.428421   \n",
      "25%      149.635000   26996.273955    1.706806   53.423976   15.171753   \n",
      "50%     1220.877945   40166.830000    3.931310   79.674488   23.775190   \n",
      "75%     4341.695000   52976.458285    8.531585  113.711543   41.495813   \n",
      "max    45035.460000  116040.620000   30.192230  293.440000  105.318060   \n",
      "\n",
      "               Mg             K          Mn          As          Sr  \\\n",
      "count  407.000000    343.000000  407.000000  407.000000  407.000000   \n",
      "mean    20.487685   5068.337278    1.309343   89.688641  186.770328   \n",
      "std     11.359487   5566.741424    0.978969  101.530582   90.501136   \n",
      "min      2.490000     18.855854    0.000000    0.000000   34.470000   \n",
      "25%     14.020000   2804.793027    0.545000   14.026849  119.685000   \n",
      "50%     18.250000   3563.100000    1.183136   54.400000  174.617542   \n",
      "75%     24.780000   4979.045000    1.850000  129.433314  233.535000   \n",
      "max    104.545670  44273.150000    6.271782  700.890000  681.287906   \n",
      "\n",
      "                F          Cl         SO4          Br  \n",
      "count  413.000000  411.000000  397.000000  405.000000  \n",
      "mean     0.216924   42.371061    9.300930    0.056895  \n",
      "std      0.194702   34.464444   14.287154    0.087262  \n",
      "min     -0.010200    0.226100    0.120000    0.005800  \n",
      "25%      0.113000   18.931200    0.407100    0.019300  \n",
      "50%      0.166700   31.298100    3.344400    0.032700  \n",
      "75%      0.239700   52.962050   11.973300    0.053800  \n",
      "max      1.595800  217.525000  125.317000    0.994800  \n"
     ]
    }
   ],
   "source": [
    "print df_well_data.describe()"
   ]
  },
  {
   "cell_type": "markdown",
   "metadata": {},
   "source": [
    "A hint of what is to come!  But we just got all of our summary statistics.  Run this and scroll down.  I didn't run it to save paper.  see what happens!"
   ]
  },
  {
   "cell_type": "code",
   "execution_count": null,
   "metadata": {
    "collapsed": false
   },
   "outputs": [],
   "source": [
    "well_data.boxplot()"
   ]
  },
  {
   "cell_type": "markdown",
   "metadata": {},
   "source": [
    "That boxplot was hard to see.  What if we just look at As and Fe?"
   ]
  },
  {
   "cell_type": "code",
   "execution_count": 15,
   "metadata": {
    "collapsed": false
   },
   "outputs": [
    {
     "data": {
      "text/plain": [
       "<matplotlib.text.Text at 0xa751be0>"
      ]
     },
     "execution_count": 15,
     "metadata": {},
     "output_type": "execute_result"
    },
    {
     "data": {
      "image/png": "[encoded data removed]",
      "text/plain": [
       "<matplotlib.figure.Figure at 0xa940b38>"
      ]
     },
     "metadata": {},
     "output_type": "display_data"
    }
   ],
   "source": [
    "fig,ax=plt.subplots()\n",
    "df_well_data.boxplot(column=['As','Fe'],ax=ax)\n",
    "ax.get_figure().suptitle(\"\") #This line gets rid of text."
   ]
  },
  {
   "cell_type": "markdown",
   "metadata": {},
   "source": [
    "this plotting is a little diffrent then how we have been plotting.  Pandas has some built in plotting so you can make some really nice and quick plots. But these plots are a little harder to customize. So we will be doing both types of plotting depending on the goal.  The goal could be a quick view versus a profesional looking plot.  "
   ]
  },
  {
   "cell_type": "markdown",
   "metadata": {},
   "source": [
    "We can also just get a list of our columns."
   ]
  },
  {
   "cell_type": "code",
   "execution_count": 16,
   "metadata": {
    "collapsed": false
   },
   "outputs": [
    {
     "data": {
      "text/plain": [
       "Index([u'Lat', u'Lon', u'Depth', u'Drink', u'Si', u'P', u'S', u'Ca', u'Fe',\n",
       "       u'Ba', u'Na', u'Mg', u'K', u'Mn', u'As', u'Sr', u'F', u'Cl', u'SO4',\n",
       "       u'Br'],\n",
       "      dtype='object')"
      ]
     },
     "execution_count": 16,
     "metadata": {},
     "output_type": "execute_result"
    }
   ],
   "source": [
    "df_well_data.columns"
   ]
  },
  {
   "cell_type": "markdown",
   "metadata": {},
   "source": [
    "Remember NaN is not a number.  We are going to use this to our advantage! "
   ]
  },
  {
   "cell_type": "markdown",
   "metadata": {},
   "source": [
    "shape still gives us the shape.  We can call it two different ways"
   ]
  },
  {
   "cell_type": "code",
   "execution_count": 17,
   "metadata": {
    "collapsed": false
   },
   "outputs": [
    {
     "data": {
      "text/plain": [
       "(759, 20)"
      ]
     },
     "execution_count": 17,
     "metadata": {},
     "output_type": "execute_result"
    }
   ],
   "source": [
    "df_well_data.shape"
   ]
  },
  {
   "cell_type": "code",
   "execution_count": 18,
   "metadata": {
    "collapsed": false
   },
   "outputs": [
    {
     "data": {
      "text/plain": [
       "(759, 20)"
      ]
     },
     "execution_count": 18,
     "metadata": {},
     "output_type": "execute_result"
    }
   ],
   "source": [
    "np.shape(df_well_data)"
   ]
  },
  {
   "cell_type": "markdown",
   "metadata": {},
   "source": [
    "## Stop and think for a second.  What does this shape mean?  \n",
    "It means we are starting to analyze a lot of data.  It is a dataset with 759 rows or wells and 20 columns or different parameters.  This will already get hard to deal with in excel!"
   ]
  },
  {
   "cell_type": "markdown",
   "metadata": {},
   "source": [
    "## We have to slow down and learn some Pandas basics.  this is a critical section.   Take your time"
   ]
  },
  {
   "cell_type": "markdown",
   "metadata": {},
   "source": [
    "Now how do we get at our data.  How do we slice it.  There are many ways. lets go through them all.\n",
    "\n",
    ".ix\n",
    "\n",
    ".loc\n",
    "\n",
    ".iloc\n",
    "\n",
    "[]\n",
    "\n",
    "We are going to do a lot of practice and then I tried to make a cheat sheet/table.  Take lots of notes.  "
   ]
  },
  {
   "cell_type": "markdown",
   "metadata": {},
   "source": [
    "[] works like normal except you can only use integers on rows and names on columns.  you can't use integers on both rows and columns.   "
   ]
  },
  {
   "cell_type": "markdown",
   "metadata": {},
   "source": [
    "I am putting .head() on the print statements to save paper. You don't need them."
   ]
  },
  {
   "cell_type": "code",
   "execution_count": 20,
   "metadata": {
    "collapsed": false
   },
   "outputs": [
    {
     "data": {
      "text/html": [
       "<div>\n",
       "<style>\n",
       "    .dataframe thead tr:only-child th {\n",
       "        text-align: right;\n",
       "    }\n",
       "\n",
       "    .dataframe thead th {\n",
       "        text-align: left;\n",
       "    }\n",
       "\n",
       "    .dataframe tbody tr th {\n",
       "        vertical-align: top;\n",
       "    }\n",
       "</style>\n",
       "<table border=\"1\" class=\"dataframe\">\n",
       "  <thead>\n",
       "    <tr style=\"text-align: right;\">\n",
       "      <th></th>\n",
       "      <th>Lat</th>\n",
       "      <th>Lon</th>\n",
       "      <th>Depth</th>\n",
       "      <th>Drink</th>\n",
       "      <th>Si</th>\n",
       "      <th>P</th>\n",
       "      <th>S</th>\n",
       "      <th>Ca</th>\n",
       "      <th>Fe</th>\n",
       "      <th>Ba</th>\n",
       "      <th>Na</th>\n",
       "      <th>Mg</th>\n",
       "      <th>K</th>\n",
       "      <th>Mn</th>\n",
       "      <th>As</th>\n",
       "      <th>Sr</th>\n",
       "      <th>F</th>\n",
       "      <th>Cl</th>\n",
       "      <th>SO4</th>\n",
       "      <th>Br</th>\n",
       "    </tr>\n",
       "    <tr>\n",
       "      <th>Well_ID</th>\n",
       "      <th></th>\n",
       "      <th></th>\n",
       "      <th></th>\n",
       "      <th></th>\n",
       "      <th></th>\n",
       "      <th></th>\n",
       "      <th></th>\n",
       "      <th></th>\n",
       "      <th></th>\n",
       "      <th></th>\n",
       "      <th></th>\n",
       "      <th></th>\n",
       "      <th></th>\n",
       "      <th></th>\n",
       "      <th></th>\n",
       "      <th></th>\n",
       "      <th></th>\n",
       "      <th></th>\n",
       "      <th></th>\n",
       "      <th></th>\n",
       "    </tr>\n",
       "  </thead>\n",
       "  <tbody>\n",
       "    <tr>\n",
       "      <th>2</th>\n",
       "      <td>23.74</td>\n",
       "      <td>90.31</td>\n",
       "      <td>45</td>\n",
       "      <td>Y</td>\n",
       "      <td>NaN</td>\n",
       "      <td>NaN</td>\n",
       "      <td>NaN</td>\n",
       "      <td>NaN</td>\n",
       "      <td>NaN</td>\n",
       "      <td>NaN</td>\n",
       "      <td>NaN</td>\n",
       "      <td>NaN</td>\n",
       "      <td>NaN</td>\n",
       "      <td>NaN</td>\n",
       "      <td>NaN</td>\n",
       "      <td>NaN</td>\n",
       "      <td>NaN</td>\n",
       "      <td>NaN</td>\n",
       "      <td>NaN</td>\n",
       "      <td>NaN</td>\n",
       "    </tr>\n",
       "    <tr>\n",
       "      <th>14</th>\n",
       "      <td>23.62</td>\n",
       "      <td>90.60</td>\n",
       "      <td>60</td>\n",
       "      <td>Y</td>\n",
       "      <td>NaN</td>\n",
       "      <td>NaN</td>\n",
       "      <td>NaN</td>\n",
       "      <td>NaN</td>\n",
       "      <td>NaN</td>\n",
       "      <td>NaN</td>\n",
       "      <td>NaN</td>\n",
       "      <td>NaN</td>\n",
       "      <td>NaN</td>\n",
       "      <td>NaN</td>\n",
       "      <td>NaN</td>\n",
       "      <td>NaN</td>\n",
       "      <td>NaN</td>\n",
       "      <td>NaN</td>\n",
       "      <td>NaN</td>\n",
       "      <td>NaN</td>\n",
       "    </tr>\n",
       "    <tr>\n",
       "      <th>23</th>\n",
       "      <td>23.94</td>\n",
       "      <td>91.46</td>\n",
       "      <td>60</td>\n",
       "      <td>Y</td>\n",
       "      <td>NaN</td>\n",
       "      <td>NaN</td>\n",
       "      <td>NaN</td>\n",
       "      <td>NaN</td>\n",
       "      <td>NaN</td>\n",
       "      <td>NaN</td>\n",
       "      <td>NaN</td>\n",
       "      <td>NaN</td>\n",
       "      <td>NaN</td>\n",
       "      <td>NaN</td>\n",
       "      <td>NaN</td>\n",
       "      <td>NaN</td>\n",
       "      <td>NaN</td>\n",
       "      <td>NaN</td>\n",
       "      <td>NaN</td>\n",
       "      <td>NaN</td>\n",
       "    </tr>\n",
       "    <tr>\n",
       "      <th>83</th>\n",
       "      <td>23.80</td>\n",
       "      <td>91.33</td>\n",
       "      <td>50</td>\n",
       "      <td>Y</td>\n",
       "      <td>48084.33842</td>\n",
       "      <td>0.936358</td>\n",
       "      <td>2085.570979</td>\n",
       "      <td>54666.48199</td>\n",
       "      <td>1.260031</td>\n",
       "      <td>96.159587</td>\n",
       "      <td>76.207449</td>\n",
       "      <td>26.104825</td>\n",
       "      <td>NaN</td>\n",
       "      <td>1.019154</td>\n",
       "      <td>78.97747</td>\n",
       "      <td>253.528674</td>\n",
       "      <td>0.1669</td>\n",
       "      <td>83.0137</td>\n",
       "      <td>5.6188</td>\n",
       "      <td>0.1512</td>\n",
       "    </tr>\n",
       "    <tr>\n",
       "      <th>84</th>\n",
       "      <td>23.98</td>\n",
       "      <td>90.81</td>\n",
       "      <td>150</td>\n",
       "      <td>Y</td>\n",
       "      <td>NaN</td>\n",
       "      <td>NaN</td>\n",
       "      <td>NaN</td>\n",
       "      <td>NaN</td>\n",
       "      <td>NaN</td>\n",
       "      <td>NaN</td>\n",
       "      <td>NaN</td>\n",
       "      <td>NaN</td>\n",
       "      <td>NaN</td>\n",
       "      <td>NaN</td>\n",
       "      <td>NaN</td>\n",
       "      <td>NaN</td>\n",
       "      <td>NaN</td>\n",
       "      <td>NaN</td>\n",
       "      <td>NaN</td>\n",
       "      <td>NaN</td>\n",
       "    </tr>\n",
       "  </tbody>\n",
       "</table>\n",
       "</div>"
      ],
      "text/plain": [
       "           Lat    Lon  Depth Drink           Si         P            S  \\\n",
       "Well_ID                                                                  \n",
       "2        23.74  90.31     45     Y          NaN       NaN          NaN   \n",
       "14       23.62  90.60     60     Y          NaN       NaN          NaN   \n",
       "23       23.94  91.46     60     Y          NaN       NaN          NaN   \n",
       "83       23.80  91.33     50     Y  48084.33842  0.936358  2085.570979   \n",
       "84       23.98  90.81    150     Y          NaN       NaN          NaN   \n",
       "\n",
       "                  Ca        Fe         Ba         Na         Mg   K        Mn  \\\n",
       "Well_ID                                                                         \n",
       "2                NaN       NaN        NaN        NaN        NaN NaN       NaN   \n",
       "14               NaN       NaN        NaN        NaN        NaN NaN       NaN   \n",
       "23               NaN       NaN        NaN        NaN        NaN NaN       NaN   \n",
       "83       54666.48199  1.260031  96.159587  76.207449  26.104825 NaN  1.019154   \n",
       "84               NaN       NaN        NaN        NaN        NaN NaN       NaN   \n",
       "\n",
       "               As          Sr       F       Cl     SO4      Br  \n",
       "Well_ID                                                         \n",
       "2             NaN         NaN     NaN      NaN     NaN     NaN  \n",
       "14            NaN         NaN     NaN      NaN     NaN     NaN  \n",
       "23            NaN         NaN     NaN      NaN     NaN     NaN  \n",
       "83       78.97747  253.528674  0.1669  83.0137  5.6188  0.1512  \n",
       "84            NaN         NaN     NaN      NaN     NaN     NaN  "
      ]
     },
     "execution_count": 20,
     "metadata": {},
     "output_type": "execute_result"
    }
   ],
   "source": [
    "df_well_data[:].head()  #I am including head to shorten my printouts"
   ]
  },
  {
   "cell_type": "code",
   "execution_count": 23,
   "metadata": {
    "collapsed": false
   },
   "outputs": [
    {
     "name": "stdout",
     "output_type": "stream",
     "text": [
      "Well_ID\n",
      "2          NaN\n",
      "14         NaN\n",
      "23         NaN\n",
      "83    78.97747\n",
      "84         NaN\n",
      "Name: As, dtype: float64\n"
     ]
    }
   ],
   "source": [
    "print df_well_data['As'].head()"
   ]
  },
  {
   "cell_type": "code",
   "execution_count": 24,
   "metadata": {
    "collapsed": false
   },
   "outputs": [
    {
     "name": "stdout",
     "output_type": "stream",
     "text": [
      "Well_ID\n",
      "2          NaN\n",
      "14         NaN\n",
      "23         NaN\n",
      "83    78.97747\n",
      "84         NaN\n",
      "Name: As, dtype: float64\n"
     ]
    }
   ],
   "source": [
    "print df_well_data[:]['As'].head() #This is the same as the one above showing the rows"
   ]
  },
  {
   "cell_type": "code",
   "execution_count": 25,
   "metadata": {
    "collapsed": false
   },
   "outputs": [
    {
     "name": "stdout",
     "output_type": "stream",
     "text": [
      "Well_ID\n",
      "330     10.233204\n",
      "333           NaN\n",
      "342           NaN\n",
      "356           NaN\n",
      "374     18.365596\n",
      "389     59.285003\n",
      "397    115.834040\n",
      "398           NaN\n",
      "402     17.755544\n",
      "403     81.859568\n",
      "410           NaN\n",
      "414           NaN\n",
      "415     87.102492\n",
      "417           NaN\n",
      "418    386.827954\n",
      "420     79.798479\n",
      "421    142.409968\n",
      "434           NaN\n",
      "475    270.785974\n",
      "478     56.883257\n",
      "Name: As, dtype: float64\n"
     ]
    }
   ],
   "source": [
    "print df_well_data[30:50]['As']"
   ]
  },
  {
   "cell_type": "code",
   "execution_count": 26,
   "metadata": {
    "collapsed": false
   },
   "outputs": [
    {
     "name": "stdout",
     "output_type": "stream",
     "text": [
      "Well_ID\n",
      "330     10.233204\n",
      "342           NaN\n",
      "374     18.365596\n",
      "397    115.834040\n",
      "402     17.755544\n",
      "410           NaN\n",
      "415     87.102492\n",
      "418    386.827954\n",
      "421    142.409968\n",
      "475    270.785974\n",
      "Name: As, dtype: float64\n"
     ]
    }
   ],
   "source": [
    "print df_well_data[30:50:2]['As'] #we skipped two!"
   ]
  },
  {
   "cell_type": "markdown",
   "metadata": {},
   "source": [
    "But you can pass a list to the columns you want! SEE the double brackets???  It is a list in the brackets!"
   ]
  },
  {
   "cell_type": "code",
   "execution_count": 28,
   "metadata": {
    "collapsed": false
   },
   "outputs": [
    {
     "data": {
      "text/html": [
       "<div>\n",
       "<style>\n",
       "    .dataframe thead tr:only-child th {\n",
       "        text-align: right;\n",
       "    }\n",
       "\n",
       "    .dataframe thead th {\n",
       "        text-align: left;\n",
       "    }\n",
       "\n",
       "    .dataframe tbody tr th {\n",
       "        vertical-align: top;\n",
       "    }\n",
       "</style>\n",
       "<table border=\"1\" class=\"dataframe\">\n",
       "  <thead>\n",
       "    <tr style=\"text-align: right;\">\n",
       "      <th></th>\n",
       "      <th>As</th>\n",
       "      <th>Depth</th>\n",
       "    </tr>\n",
       "    <tr>\n",
       "      <th>Well_ID</th>\n",
       "      <th></th>\n",
       "      <th></th>\n",
       "    </tr>\n",
       "  </thead>\n",
       "  <tbody>\n",
       "    <tr>\n",
       "      <th>330</th>\n",
       "      <td>10.233204</td>\n",
       "      <td>45</td>\n",
       "    </tr>\n",
       "    <tr>\n",
       "      <th>342</th>\n",
       "      <td>NaN</td>\n",
       "      <td>30</td>\n",
       "    </tr>\n",
       "    <tr>\n",
       "      <th>374</th>\n",
       "      <td>18.365596</td>\n",
       "      <td>45</td>\n",
       "    </tr>\n",
       "    <tr>\n",
       "      <th>397</th>\n",
       "      <td>115.834040</td>\n",
       "      <td>45</td>\n",
       "    </tr>\n",
       "    <tr>\n",
       "      <th>402</th>\n",
       "      <td>17.755544</td>\n",
       "      <td>30</td>\n",
       "    </tr>\n",
       "    <tr>\n",
       "      <th>410</th>\n",
       "      <td>NaN</td>\n",
       "      <td>60</td>\n",
       "    </tr>\n",
       "    <tr>\n",
       "      <th>415</th>\n",
       "      <td>87.102492</td>\n",
       "      <td>60</td>\n",
       "    </tr>\n",
       "    <tr>\n",
       "      <th>418</th>\n",
       "      <td>386.827954</td>\n",
       "      <td>65</td>\n",
       "    </tr>\n",
       "    <tr>\n",
       "      <th>421</th>\n",
       "      <td>142.409968</td>\n",
       "      <td>150</td>\n",
       "    </tr>\n",
       "    <tr>\n",
       "      <th>475</th>\n",
       "      <td>270.785974</td>\n",
       "      <td>55</td>\n",
       "    </tr>\n",
       "  </tbody>\n",
       "</table>\n",
       "</div>"
      ],
      "text/plain": [
       "                 As  Depth\n",
       "Well_ID                   \n",
       "330       10.233204     45\n",
       "342             NaN     30\n",
       "374       18.365596     45\n",
       "397      115.834040     45\n",
       "402       17.755544     30\n",
       "410             NaN     60\n",
       "415       87.102492     60\n",
       "418      386.827954     65\n",
       "421      142.409968    150\n",
       "475      270.785974     55"
      ]
     },
     "execution_count": 28,
     "metadata": {},
     "output_type": "execute_result"
    }
   ],
   "source": [
    "df_well_data[30:50:2][['As','Depth']]"
   ]
  },
  {
   "cell_type": "markdown",
   "metadata": {},
   "source": [
    "And the order doesn't matter"
   ]
  },
  {
   "cell_type": "code",
   "execution_count": 29,
   "metadata": {
    "collapsed": false
   },
   "outputs": [
    {
     "data": {
      "text/html": [
       "<div>\n",
       "<style>\n",
       "    .dataframe thead tr:only-child th {\n",
       "        text-align: right;\n",
       "    }\n",
       "\n",
       "    .dataframe thead th {\n",
       "        text-align: left;\n",
       "    }\n",
       "\n",
       "    .dataframe tbody tr th {\n",
       "        vertical-align: top;\n",
       "    }\n",
       "</style>\n",
       "<table border=\"1\" class=\"dataframe\">\n",
       "  <thead>\n",
       "    <tr style=\"text-align: right;\">\n",
       "      <th></th>\n",
       "      <th>As</th>\n",
       "      <th>Depth</th>\n",
       "    </tr>\n",
       "  </thead>\n",
       "  <tbody>\n",
       "    <tr>\n",
       "      <th>30</th>\n",
       "      <td>10.233204</td>\n",
       "      <td>45</td>\n",
       "    </tr>\n",
       "    <tr>\n",
       "      <th>32</th>\n",
       "      <td>NaN</td>\n",
       "      <td>30</td>\n",
       "    </tr>\n",
       "    <tr>\n",
       "      <th>34</th>\n",
       "      <td>18.365596</td>\n",
       "      <td>45</td>\n",
       "    </tr>\n",
       "    <tr>\n",
       "      <th>36</th>\n",
       "      <td>115.834040</td>\n",
       "      <td>45</td>\n",
       "    </tr>\n",
       "    <tr>\n",
       "      <th>38</th>\n",
       "      <td>17.755544</td>\n",
       "      <td>30</td>\n",
       "    </tr>\n",
       "    <tr>\n",
       "      <th>40</th>\n",
       "      <td>NaN</td>\n",
       "      <td>60</td>\n",
       "    </tr>\n",
       "    <tr>\n",
       "      <th>42</th>\n",
       "      <td>87.102492</td>\n",
       "      <td>60</td>\n",
       "    </tr>\n",
       "    <tr>\n",
       "      <th>44</th>\n",
       "      <td>386.827954</td>\n",
       "      <td>65</td>\n",
       "    </tr>\n",
       "    <tr>\n",
       "      <th>46</th>\n",
       "      <td>142.409968</td>\n",
       "      <td>150</td>\n",
       "    </tr>\n",
       "    <tr>\n",
       "      <th>48</th>\n",
       "      <td>270.785974</td>\n",
       "      <td>55</td>\n",
       "    </tr>\n",
       "  </tbody>\n",
       "</table>\n",
       "</div>"
      ],
      "text/plain": [
       "            As  Depth\n",
       "30   10.233204     45\n",
       "32         NaN     30\n",
       "34   18.365596     45\n",
       "36  115.834040     45\n",
       "38   17.755544     30\n",
       "40         NaN     60\n",
       "42   87.102492     60\n",
       "44  386.827954     65\n",
       "46  142.409968    150\n",
       "48  270.785974     55"
      ]
     },
     "execution_count": 29,
     "metadata": {},
     "output_type": "execute_result"
    }
   ],
   "source": [
    "well_data[['As','Depth']][30:50:2]"
   ]
  },
  {
   "cell_type": "code",
   "execution_count": 30,
   "metadata": {
    "collapsed": false,
    "scrolled": true
   },
   "outputs": [
    {
     "data": {
      "text/html": [
       "<div>\n",
       "<style>\n",
       "    .dataframe thead tr:only-child th {\n",
       "        text-align: right;\n",
       "    }\n",
       "\n",
       "    .dataframe thead th {\n",
       "        text-align: left;\n",
       "    }\n",
       "\n",
       "    .dataframe tbody tr th {\n",
       "        vertical-align: top;\n",
       "    }\n",
       "</style>\n",
       "<table border=\"1\" class=\"dataframe\">\n",
       "  <thead>\n",
       "    <tr style=\"text-align: right;\">\n",
       "      <th></th>\n",
       "      <th>Depth</th>\n",
       "      <th>As</th>\n",
       "    </tr>\n",
       "    <tr>\n",
       "      <th>Well_ID</th>\n",
       "      <th></th>\n",
       "      <th></th>\n",
       "    </tr>\n",
       "  </thead>\n",
       "  <tbody>\n",
       "    <tr>\n",
       "      <th>330</th>\n",
       "      <td>45</td>\n",
       "      <td>10.233204</td>\n",
       "    </tr>\n",
       "    <tr>\n",
       "      <th>342</th>\n",
       "      <td>30</td>\n",
       "      <td>NaN</td>\n",
       "    </tr>\n",
       "    <tr>\n",
       "      <th>374</th>\n",
       "      <td>45</td>\n",
       "      <td>18.365596</td>\n",
       "    </tr>\n",
       "    <tr>\n",
       "      <th>397</th>\n",
       "      <td>45</td>\n",
       "      <td>115.834040</td>\n",
       "    </tr>\n",
       "    <tr>\n",
       "      <th>402</th>\n",
       "      <td>30</td>\n",
       "      <td>17.755544</td>\n",
       "    </tr>\n",
       "    <tr>\n",
       "      <th>410</th>\n",
       "      <td>60</td>\n",
       "      <td>NaN</td>\n",
       "    </tr>\n",
       "    <tr>\n",
       "      <th>415</th>\n",
       "      <td>60</td>\n",
       "      <td>87.102492</td>\n",
       "    </tr>\n",
       "    <tr>\n",
       "      <th>418</th>\n",
       "      <td>65</td>\n",
       "      <td>386.827954</td>\n",
       "    </tr>\n",
       "    <tr>\n",
       "      <th>421</th>\n",
       "      <td>150</td>\n",
       "      <td>142.409968</td>\n",
       "    </tr>\n",
       "    <tr>\n",
       "      <th>475</th>\n",
       "      <td>55</td>\n",
       "      <td>270.785974</td>\n",
       "    </tr>\n",
       "  </tbody>\n",
       "</table>\n",
       "</div>"
      ],
      "text/plain": [
       "         Depth          As\n",
       "Well_ID                   \n",
       "330         45   10.233204\n",
       "342         30         NaN\n",
       "374         45   18.365596\n",
       "397         45  115.834040\n",
       "402         30   17.755544\n",
       "410         60         NaN\n",
       "415         60   87.102492\n",
       "418         65  386.827954\n",
       "421        150  142.409968\n",
       "475         55  270.785974"
      ]
     },
     "execution_count": 30,
     "metadata": {},
     "output_type": "execute_result"
    }
   ],
   "source": [
    "df_well_data[['Depth','As']][30:50:2]"
   ]
  },
  {
   "cell_type": "code",
   "execution_count": 156,
   "metadata": {
    "collapsed": false
   },
   "outputs": [],
   "source": []
  },
  {
   "cell_type": "markdown",
   "metadata": {},
   "source": [
    "What I am teaching you is easy and hard at the same time.  Take your time.  It is a lot.  I am showing you how to get at data.  I just showed you brackets and now I am going to show you .loc.  Also remember I just add .head to shorten the printouts.  you can remove it."
   ]
  },
  {
   "cell_type": "markdown",
   "metadata": {},
   "source": [
    ".loc only uses names of the index and the columns. \n",
    "\n",
    "Sometimes I put print sometimes not. It doesn't always matter and sometimes one looks nicer than the other.  "
   ]
  },
  {
   "cell_type": "code",
   "execution_count": 32,
   "metadata": {
    "collapsed": false
   },
   "outputs": [
    {
     "data": {
      "text/html": [
       "<div>\n",
       "<style>\n",
       "    .dataframe thead tr:only-child th {\n",
       "        text-align: right;\n",
       "    }\n",
       "\n",
       "    .dataframe thead th {\n",
       "        text-align: left;\n",
       "    }\n",
       "\n",
       "    .dataframe tbody tr th {\n",
       "        vertical-align: top;\n",
       "    }\n",
       "</style>\n",
       "<table border=\"1\" class=\"dataframe\">\n",
       "  <thead>\n",
       "    <tr style=\"text-align: right;\">\n",
       "      <th></th>\n",
       "      <th>Lat</th>\n",
       "      <th>Lon</th>\n",
       "      <th>Depth</th>\n",
       "      <th>Drink</th>\n",
       "      <th>Si</th>\n",
       "      <th>P</th>\n",
       "      <th>S</th>\n",
       "      <th>Ca</th>\n",
       "      <th>Fe</th>\n",
       "      <th>Ba</th>\n",
       "      <th>Na</th>\n",
       "      <th>Mg</th>\n",
       "      <th>K</th>\n",
       "      <th>Mn</th>\n",
       "      <th>As</th>\n",
       "      <th>Sr</th>\n",
       "      <th>F</th>\n",
       "      <th>Cl</th>\n",
       "      <th>SO4</th>\n",
       "      <th>Br</th>\n",
       "    </tr>\n",
       "    <tr>\n",
       "      <th>Well_ID</th>\n",
       "      <th></th>\n",
       "      <th></th>\n",
       "      <th></th>\n",
       "      <th></th>\n",
       "      <th></th>\n",
       "      <th></th>\n",
       "      <th></th>\n",
       "      <th></th>\n",
       "      <th></th>\n",
       "      <th></th>\n",
       "      <th></th>\n",
       "      <th></th>\n",
       "      <th></th>\n",
       "      <th></th>\n",
       "      <th></th>\n",
       "      <th></th>\n",
       "      <th></th>\n",
       "      <th></th>\n",
       "      <th></th>\n",
       "      <th></th>\n",
       "    </tr>\n",
       "  </thead>\n",
       "  <tbody>\n",
       "    <tr>\n",
       "      <th>2</th>\n",
       "      <td>23.74</td>\n",
       "      <td>90.31</td>\n",
       "      <td>45</td>\n",
       "      <td>Y</td>\n",
       "      <td>NaN</td>\n",
       "      <td>NaN</td>\n",
       "      <td>NaN</td>\n",
       "      <td>NaN</td>\n",
       "      <td>NaN</td>\n",
       "      <td>NaN</td>\n",
       "      <td>NaN</td>\n",
       "      <td>NaN</td>\n",
       "      <td>NaN</td>\n",
       "      <td>NaN</td>\n",
       "      <td>NaN</td>\n",
       "      <td>NaN</td>\n",
       "      <td>NaN</td>\n",
       "      <td>NaN</td>\n",
       "      <td>NaN</td>\n",
       "      <td>NaN</td>\n",
       "    </tr>\n",
       "    <tr>\n",
       "      <th>14</th>\n",
       "      <td>23.62</td>\n",
       "      <td>90.60</td>\n",
       "      <td>60</td>\n",
       "      <td>Y</td>\n",
       "      <td>NaN</td>\n",
       "      <td>NaN</td>\n",
       "      <td>NaN</td>\n",
       "      <td>NaN</td>\n",
       "      <td>NaN</td>\n",
       "      <td>NaN</td>\n",
       "      <td>NaN</td>\n",
       "      <td>NaN</td>\n",
       "      <td>NaN</td>\n",
       "      <td>NaN</td>\n",
       "      <td>NaN</td>\n",
       "      <td>NaN</td>\n",
       "      <td>NaN</td>\n",
       "      <td>NaN</td>\n",
       "      <td>NaN</td>\n",
       "      <td>NaN</td>\n",
       "    </tr>\n",
       "    <tr>\n",
       "      <th>23</th>\n",
       "      <td>23.94</td>\n",
       "      <td>91.46</td>\n",
       "      <td>60</td>\n",
       "      <td>Y</td>\n",
       "      <td>NaN</td>\n",
       "      <td>NaN</td>\n",
       "      <td>NaN</td>\n",
       "      <td>NaN</td>\n",
       "      <td>NaN</td>\n",
       "      <td>NaN</td>\n",
       "      <td>NaN</td>\n",
       "      <td>NaN</td>\n",
       "      <td>NaN</td>\n",
       "      <td>NaN</td>\n",
       "      <td>NaN</td>\n",
       "      <td>NaN</td>\n",
       "      <td>NaN</td>\n",
       "      <td>NaN</td>\n",
       "      <td>NaN</td>\n",
       "      <td>NaN</td>\n",
       "    </tr>\n",
       "    <tr>\n",
       "      <th>83</th>\n",
       "      <td>23.80</td>\n",
       "      <td>91.33</td>\n",
       "      <td>50</td>\n",
       "      <td>Y</td>\n",
       "      <td>48084.33842</td>\n",
       "      <td>0.936358</td>\n",
       "      <td>2085.570979</td>\n",
       "      <td>54666.48199</td>\n",
       "      <td>1.260031</td>\n",
       "      <td>96.159587</td>\n",
       "      <td>76.207449</td>\n",
       "      <td>26.104825</td>\n",
       "      <td>NaN</td>\n",
       "      <td>1.019154</td>\n",
       "      <td>78.97747</td>\n",
       "      <td>253.528674</td>\n",
       "      <td>0.1669</td>\n",
       "      <td>83.0137</td>\n",
       "      <td>5.6188</td>\n",
       "      <td>0.1512</td>\n",
       "    </tr>\n",
       "    <tr>\n",
       "      <th>84</th>\n",
       "      <td>23.98</td>\n",
       "      <td>90.81</td>\n",
       "      <td>150</td>\n",
       "      <td>Y</td>\n",
       "      <td>NaN</td>\n",
       "      <td>NaN</td>\n",
       "      <td>NaN</td>\n",
       "      <td>NaN</td>\n",
       "      <td>NaN</td>\n",
       "      <td>NaN</td>\n",
       "      <td>NaN</td>\n",
       "      <td>NaN</td>\n",
       "      <td>NaN</td>\n",
       "      <td>NaN</td>\n",
       "      <td>NaN</td>\n",
       "      <td>NaN</td>\n",
       "      <td>NaN</td>\n",
       "      <td>NaN</td>\n",
       "      <td>NaN</td>\n",
       "      <td>NaN</td>\n",
       "    </tr>\n",
       "  </tbody>\n",
       "</table>\n",
       "</div>"
      ],
      "text/plain": [
       "           Lat    Lon  Depth Drink           Si         P            S  \\\n",
       "Well_ID                                                                  \n",
       "2        23.74  90.31     45     Y          NaN       NaN          NaN   \n",
       "14       23.62  90.60     60     Y          NaN       NaN          NaN   \n",
       "23       23.94  91.46     60     Y          NaN       NaN          NaN   \n",
       "83       23.80  91.33     50     Y  48084.33842  0.936358  2085.570979   \n",
       "84       23.98  90.81    150     Y          NaN       NaN          NaN   \n",
       "\n",
       "                  Ca        Fe         Ba         Na         Mg   K        Mn  \\\n",
       "Well_ID                                                                         \n",
       "2                NaN       NaN        NaN        NaN        NaN NaN       NaN   \n",
       "14               NaN       NaN        NaN        NaN        NaN NaN       NaN   \n",
       "23               NaN       NaN        NaN        NaN        NaN NaN       NaN   \n",
       "83       54666.48199  1.260031  96.159587  76.207449  26.104825 NaN  1.019154   \n",
       "84               NaN       NaN        NaN        NaN        NaN NaN       NaN   \n",
       "\n",
       "               As          Sr       F       Cl     SO4      Br  \n",
       "Well_ID                                                         \n",
       "2             NaN         NaN     NaN      NaN     NaN     NaN  \n",
       "14            NaN         NaN     NaN      NaN     NaN     NaN  \n",
       "23            NaN         NaN     NaN      NaN     NaN     NaN  \n",
       "83       78.97747  253.528674  0.1669  83.0137  5.6188  0.1512  \n",
       "84            NaN         NaN     NaN      NaN     NaN     NaN  "
      ]
     },
     "execution_count": 32,
     "metadata": {},
     "output_type": "execute_result"
    }
   ],
   "source": [
    "df_well_data.loc[:].head()  #gives us all rows with all indexes"
   ]
  },
  {
   "cell_type": "code",
   "execution_count": 33,
   "metadata": {
    "collapsed": false
   },
   "outputs": [
    {
     "data": {
      "text/html": [
       "<div>\n",
       "<style>\n",
       "    .dataframe thead tr:only-child th {\n",
       "        text-align: right;\n",
       "    }\n",
       "\n",
       "    .dataframe thead th {\n",
       "        text-align: left;\n",
       "    }\n",
       "\n",
       "    .dataframe tbody tr th {\n",
       "        vertical-align: top;\n",
       "    }\n",
       "</style>\n",
       "<table border=\"1\" class=\"dataframe\">\n",
       "  <thead>\n",
       "    <tr style=\"text-align: right;\">\n",
       "      <th></th>\n",
       "      <th>Lat</th>\n",
       "      <th>Lon</th>\n",
       "      <th>Depth</th>\n",
       "      <th>Drink</th>\n",
       "      <th>Si</th>\n",
       "      <th>P</th>\n",
       "      <th>S</th>\n",
       "      <th>Ca</th>\n",
       "      <th>Fe</th>\n",
       "      <th>Ba</th>\n",
       "      <th>Na</th>\n",
       "      <th>Mg</th>\n",
       "      <th>K</th>\n",
       "      <th>Mn</th>\n",
       "      <th>As</th>\n",
       "      <th>Sr</th>\n",
       "      <th>F</th>\n",
       "      <th>Cl</th>\n",
       "      <th>SO4</th>\n",
       "      <th>Br</th>\n",
       "    </tr>\n",
       "    <tr>\n",
       "      <th>Well_ID</th>\n",
       "      <th></th>\n",
       "      <th></th>\n",
       "      <th></th>\n",
       "      <th></th>\n",
       "      <th></th>\n",
       "      <th></th>\n",
       "      <th></th>\n",
       "      <th></th>\n",
       "      <th></th>\n",
       "      <th></th>\n",
       "      <th></th>\n",
       "      <th></th>\n",
       "      <th></th>\n",
       "      <th></th>\n",
       "      <th></th>\n",
       "      <th></th>\n",
       "      <th></th>\n",
       "      <th></th>\n",
       "      <th></th>\n",
       "      <th></th>\n",
       "    </tr>\n",
       "  </thead>\n",
       "  <tbody>\n",
       "    <tr>\n",
       "      <th>101</th>\n",
       "      <td>24.40</td>\n",
       "      <td>90.26</td>\n",
       "      <td>60</td>\n",
       "      <td>Y</td>\n",
       "      <td>34311.71514</td>\n",
       "      <td>0.117534</td>\n",
       "      <td>2618.717799</td>\n",
       "      <td>42646.99574</td>\n",
       "      <td>1.843156</td>\n",
       "      <td>58.666191</td>\n",
       "      <td>28.281030</td>\n",
       "      <td>22.578377</td>\n",
       "      <td>NaN</td>\n",
       "      <td>1.192692</td>\n",
       "      <td>28.070949</td>\n",
       "      <td>123.043018</td>\n",
       "      <td>0.1994</td>\n",
       "      <td>38.1123</td>\n",
       "      <td>7.5180</td>\n",
       "      <td>0.0552</td>\n",
       "    </tr>\n",
       "    <tr>\n",
       "      <th>107</th>\n",
       "      <td>24.02</td>\n",
       "      <td>89.67</td>\n",
       "      <td>45</td>\n",
       "      <td>N</td>\n",
       "      <td>NaN</td>\n",
       "      <td>NaN</td>\n",
       "      <td>NaN</td>\n",
       "      <td>NaN</td>\n",
       "      <td>NaN</td>\n",
       "      <td>NaN</td>\n",
       "      <td>NaN</td>\n",
       "      <td>NaN</td>\n",
       "      <td>NaN</td>\n",
       "      <td>NaN</td>\n",
       "      <td>NaN</td>\n",
       "      <td>NaN</td>\n",
       "      <td>0.0739</td>\n",
       "      <td>48.8797</td>\n",
       "      <td>27.1446</td>\n",
       "      <td>0.0304</td>\n",
       "    </tr>\n",
       "    <tr>\n",
       "      <th>110</th>\n",
       "      <td>23.39</td>\n",
       "      <td>91.35</td>\n",
       "      <td>45</td>\n",
       "      <td>Y</td>\n",
       "      <td>47417.95635</td>\n",
       "      <td>1.095644</td>\n",
       "      <td>113.180915</td>\n",
       "      <td>46848.09017</td>\n",
       "      <td>11.740445</td>\n",
       "      <td>131.582974</td>\n",
       "      <td>23.585986</td>\n",
       "      <td>20.501162</td>\n",
       "      <td>NaN</td>\n",
       "      <td>2.091605</td>\n",
       "      <td>96.885674</td>\n",
       "      <td>161.537333</td>\n",
       "      <td>0.1106</td>\n",
       "      <td>38.2706</td>\n",
       "      <td>0.3645</td>\n",
       "      <td>0.0403</td>\n",
       "    </tr>\n",
       "    <tr>\n",
       "      <th>112</th>\n",
       "      <td>24.61</td>\n",
       "      <td>91.18</td>\n",
       "      <td>60</td>\n",
       "      <td>Y</td>\n",
       "      <td>37289.99489</td>\n",
       "      <td>2.448648</td>\n",
       "      <td>13.335397</td>\n",
       "      <td>65129.07627</td>\n",
       "      <td>8.923465</td>\n",
       "      <td>134.435231</td>\n",
       "      <td>15.872622</td>\n",
       "      <td>24.259731</td>\n",
       "      <td>NaN</td>\n",
       "      <td>0.528849</td>\n",
       "      <td>80.627214</td>\n",
       "      <td>271.210408</td>\n",
       "      <td>0.2701</td>\n",
       "      <td>29.8010</td>\n",
       "      <td>NaN</td>\n",
       "      <td>NaN</td>\n",
       "    </tr>\n",
       "    <tr>\n",
       "      <th>116</th>\n",
       "      <td>22.96</td>\n",
       "      <td>89.77</td>\n",
       "      <td>60</td>\n",
       "      <td>Y</td>\n",
       "      <td>NaN</td>\n",
       "      <td>NaN</td>\n",
       "      <td>NaN</td>\n",
       "      <td>NaN</td>\n",
       "      <td>NaN</td>\n",
       "      <td>NaN</td>\n",
       "      <td>NaN</td>\n",
       "      <td>NaN</td>\n",
       "      <td>NaN</td>\n",
       "      <td>NaN</td>\n",
       "      <td>NaN</td>\n",
       "      <td>NaN</td>\n",
       "      <td>NaN</td>\n",
       "      <td>NaN</td>\n",
       "      <td>NaN</td>\n",
       "      <td>NaN</td>\n",
       "    </tr>\n",
       "    <tr>\n",
       "      <th>130</th>\n",
       "      <td>22.94</td>\n",
       "      <td>89.97</td>\n",
       "      <td>60</td>\n",
       "      <td>N</td>\n",
       "      <td>44023.88418</td>\n",
       "      <td>1.172086</td>\n",
       "      <td>1023.167741</td>\n",
       "      <td>80183.25742</td>\n",
       "      <td>6.349396</td>\n",
       "      <td>159.171636</td>\n",
       "      <td>32.822761</td>\n",
       "      <td>27.926934</td>\n",
       "      <td>NaN</td>\n",
       "      <td>1.671612</td>\n",
       "      <td>77.006865</td>\n",
       "      <td>359.682075</td>\n",
       "      <td>0.1746</td>\n",
       "      <td>78.9229</td>\n",
       "      <td>2.6963</td>\n",
       "      <td>0.0487</td>\n",
       "    </tr>\n",
       "    <tr>\n",
       "      <th>153</th>\n",
       "      <td>24.17</td>\n",
       "      <td>90.81</td>\n",
       "      <td>45</td>\n",
       "      <td>Y</td>\n",
       "      <td>40523.43773</td>\n",
       "      <td>0.091676</td>\n",
       "      <td>2848.048146</td>\n",
       "      <td>40703.88184</td>\n",
       "      <td>1.869486</td>\n",
       "      <td>69.657716</td>\n",
       "      <td>29.684875</td>\n",
       "      <td>21.333230</td>\n",
       "      <td>NaN</td>\n",
       "      <td>2.291619</td>\n",
       "      <td>39.249817</td>\n",
       "      <td>173.403095</td>\n",
       "      <td>0.0716</td>\n",
       "      <td>35.8091</td>\n",
       "      <td>8.4836</td>\n",
       "      <td>0.0207</td>\n",
       "    </tr>\n",
       "    <tr>\n",
       "      <th>156</th>\n",
       "      <td>22.84</td>\n",
       "      <td>91.56</td>\n",
       "      <td>60</td>\n",
       "      <td>N</td>\n",
       "      <td>48375.82211</td>\n",
       "      <td>0.979053</td>\n",
       "      <td>1420.255478</td>\n",
       "      <td>52694.25919</td>\n",
       "      <td>13.020352</td>\n",
       "      <td>129.253387</td>\n",
       "      <td>23.804323</td>\n",
       "      <td>20.638614</td>\n",
       "      <td>NaN</td>\n",
       "      <td>3.111451</td>\n",
       "      <td>131.248945</td>\n",
       "      <td>232.340847</td>\n",
       "      <td>0.1152</td>\n",
       "      <td>40.7122</td>\n",
       "      <td>3.8367</td>\n",
       "      <td>0.0397</td>\n",
       "    </tr>\n",
       "  </tbody>\n",
       "</table>\n",
       "</div>"
      ],
      "text/plain": [
       "           Lat    Lon  Depth Drink           Si         P            S  \\\n",
       "Well_ID                                                                  \n",
       "101      24.40  90.26     60     Y  34311.71514  0.117534  2618.717799   \n",
       "107      24.02  89.67     45     N          NaN       NaN          NaN   \n",
       "110      23.39  91.35     45     Y  47417.95635  1.095644   113.180915   \n",
       "112      24.61  91.18     60     Y  37289.99489  2.448648    13.335397   \n",
       "116      22.96  89.77     60     Y          NaN       NaN          NaN   \n",
       "130      22.94  89.97     60     N  44023.88418  1.172086  1023.167741   \n",
       "153      24.17  90.81     45     Y  40523.43773  0.091676  2848.048146   \n",
       "156      22.84  91.56     60     N  48375.82211  0.979053  1420.255478   \n",
       "\n",
       "                  Ca         Fe          Ba         Na         Mg   K  \\\n",
       "Well_ID                                                                 \n",
       "101      42646.99574   1.843156   58.666191  28.281030  22.578377 NaN   \n",
       "107              NaN        NaN         NaN        NaN        NaN NaN   \n",
       "110      46848.09017  11.740445  131.582974  23.585986  20.501162 NaN   \n",
       "112      65129.07627   8.923465  134.435231  15.872622  24.259731 NaN   \n",
       "116              NaN        NaN         NaN        NaN        NaN NaN   \n",
       "130      80183.25742   6.349396  159.171636  32.822761  27.926934 NaN   \n",
       "153      40703.88184   1.869486   69.657716  29.684875  21.333230 NaN   \n",
       "156      52694.25919  13.020352  129.253387  23.804323  20.638614 NaN   \n",
       "\n",
       "               Mn          As          Sr       F       Cl      SO4      Br  \n",
       "Well_ID                                                                      \n",
       "101      1.192692   28.070949  123.043018  0.1994  38.1123   7.5180  0.0552  \n",
       "107           NaN         NaN         NaN  0.0739  48.8797  27.1446  0.0304  \n",
       "110      2.091605   96.885674  161.537333  0.1106  38.2706   0.3645  0.0403  \n",
       "112      0.528849   80.627214  271.210408  0.2701  29.8010      NaN     NaN  \n",
       "116           NaN         NaN         NaN     NaN      NaN      NaN     NaN  \n",
       "130      1.671612   77.006865  359.682075  0.1746  78.9229   2.6963  0.0487  \n",
       "153      2.291619   39.249817  173.403095  0.0716  35.8091   8.4836  0.0207  \n",
       "156      3.111451  131.248945  232.340847  0.1152  40.7122   3.8367  0.0397  "
      ]
     },
     "execution_count": 33,
     "metadata": {},
     "output_type": "execute_result"
    }
   ],
   "source": [
    "df_well_data.loc[101:156]  \n",
    "#gives us all rows with all indexes but the numbers have to match an index. The numbers had to match Well_ID"
   ]
  },
  {
   "cell_type": "code",
   "execution_count": 34,
   "metadata": {
    "collapsed": false
   },
   "outputs": [
    {
     "data": {
      "text/plain": [
       "Lat          24.4\n",
       "Lon         90.26\n",
       "Depth          60\n",
       "Drink           Y\n",
       "Si        34311.7\n",
       "P        0.117534\n",
       "S         2618.72\n",
       "Ca          42647\n",
       "Fe        1.84316\n",
       "Ba        58.6662\n",
       "Na         28.281\n",
       "Mg        22.5784\n",
       "K             NaN\n",
       "Mn        1.19269\n",
       "As        28.0709\n",
       "Sr        123.043\n",
       "F          0.1994\n",
       "Cl        38.1123\n",
       "SO4         7.518\n",
       "Br         0.0552\n",
       "Name: 101, dtype: object"
      ]
     },
     "execution_count": 34,
     "metadata": {},
     "output_type": "execute_result"
    }
   ],
   "source": [
    "df_well_data.loc[101]   # just call one index.  This is well 101"
   ]
  },
  {
   "cell_type": "code",
   "execution_count": null,
   "metadata": {
    "collapsed": false
   },
   "outputs": [],
   "source": [
    "df_well_data.loc[102]   # if the index doesn't exist you get an error"
   ]
  },
  {
   "cell_type": "code",
   "execution_count": null,
   "metadata": {
    "collapsed": false
   },
   "outputs": [],
   "source": []
  },
  {
   "cell_type": "markdown",
   "metadata": {},
   "source": [
    "But we can use column names"
   ]
  },
  {
   "cell_type": "code",
   "execution_count": 36,
   "metadata": {
    "collapsed": false
   },
   "outputs": [
    {
     "name": "stdout",
     "output_type": "stream",
     "text": [
      "Well_ID\n",
      "2          NaN\n",
      "14         NaN\n",
      "23         NaN\n",
      "83    78.97747\n",
      "84         NaN\n",
      "Name: As, dtype: float64\n"
     ]
    }
   ],
   "source": [
    "print df_well_data.loc[:]['As'].head()"
   ]
  },
  {
   "cell_type": "markdown",
   "metadata": {},
   "source": [
    "Plus it can seperata with commas as well as multiple brackets"
   ]
  },
  {
   "cell_type": "code",
   "execution_count": 37,
   "metadata": {
    "collapsed": false
   },
   "outputs": [
    {
     "name": "stdout",
     "output_type": "stream",
     "text": [
      "Well_ID\n",
      "2          NaN\n",
      "14         NaN\n",
      "23         NaN\n",
      "83    78.97747\n",
      "84         NaN\n",
      "Name: As, dtype: float64\n"
     ]
    }
   ],
   "source": [
    "print df_well_data.loc[:,'As'].head()"
   ]
  },
  {
   "cell_type": "code",
   "execution_count": 38,
   "metadata": {
    "collapsed": false
   },
   "outputs": [
    {
     "name": "stdout",
     "output_type": "stream",
     "text": [
      "<class 'pandas.core.series.Series'>\n",
      "<class 'pandas.core.series.Series'>\n"
     ]
    }
   ],
   "source": [
    "print type(df_well_data.loc[:]['As'])\n",
    "print type(df_well_data.loc[:,'As'])"
   ]
  },
  {
   "cell_type": "code",
   "execution_count": null,
   "metadata": {
    "collapsed": false
   },
   "outputs": [],
   "source": []
  },
  {
   "cell_type": "code",
   "execution_count": 39,
   "metadata": {
    "collapsed": false
   },
   "outputs": [
    {
     "name": "stdout",
     "output_type": "stream",
     "text": [
      "Well_ID\n",
      "330     10.233204\n",
      "342           NaN\n",
      "374     18.365596\n",
      "397    115.834040\n",
      "402     17.755544\n",
      "410           NaN\n",
      "415     87.102492\n",
      "418    386.827954\n",
      "421    142.409968\n",
      "475    270.785974\n",
      "481           NaN\n",
      "488           NaN\n",
      "500           NaN\n",
      "Name: As, dtype: float64\n"
     ]
    }
   ],
   "source": [
    "print df_well_data.loc[330:500:2]['As']  "
   ]
  },
  {
   "cell_type": "markdown",
   "metadata": {},
   "source": [
    "We can also add a list of names"
   ]
  },
  {
   "cell_type": "code",
   "execution_count": 41,
   "metadata": {
    "collapsed": false
   },
   "outputs": [
    {
     "data": {
      "text/html": [
       "<div>\n",
       "<style>\n",
       "    .dataframe thead tr:only-child th {\n",
       "        text-align: right;\n",
       "    }\n",
       "\n",
       "    .dataframe thead th {\n",
       "        text-align: left;\n",
       "    }\n",
       "\n",
       "    .dataframe tbody tr th {\n",
       "        vertical-align: top;\n",
       "    }\n",
       "</style>\n",
       "<table border=\"1\" class=\"dataframe\">\n",
       "  <thead>\n",
       "    <tr style=\"text-align: right;\">\n",
       "      <th></th>\n",
       "      <th>As</th>\n",
       "      <th>Depth</th>\n",
       "    </tr>\n",
       "    <tr>\n",
       "      <th>Well_ID</th>\n",
       "      <th></th>\n",
       "      <th></th>\n",
       "    </tr>\n",
       "  </thead>\n",
       "  <tbody>\n",
       "    <tr>\n",
       "      <th>330</th>\n",
       "      <td>10.233204</td>\n",
       "      <td>45</td>\n",
       "    </tr>\n",
       "    <tr>\n",
       "      <th>342</th>\n",
       "      <td>NaN</td>\n",
       "      <td>30</td>\n",
       "    </tr>\n",
       "    <tr>\n",
       "      <th>374</th>\n",
       "      <td>18.365596</td>\n",
       "      <td>45</td>\n",
       "    </tr>\n",
       "    <tr>\n",
       "      <th>397</th>\n",
       "      <td>115.834040</td>\n",
       "      <td>45</td>\n",
       "    </tr>\n",
       "    <tr>\n",
       "      <th>402</th>\n",
       "      <td>17.755544</td>\n",
       "      <td>30</td>\n",
       "    </tr>\n",
       "    <tr>\n",
       "      <th>410</th>\n",
       "      <td>NaN</td>\n",
       "      <td>60</td>\n",
       "    </tr>\n",
       "    <tr>\n",
       "      <th>415</th>\n",
       "      <td>87.102492</td>\n",
       "      <td>60</td>\n",
       "    </tr>\n",
       "    <tr>\n",
       "      <th>418</th>\n",
       "      <td>386.827954</td>\n",
       "      <td>65</td>\n",
       "    </tr>\n",
       "    <tr>\n",
       "      <th>421</th>\n",
       "      <td>142.409968</td>\n",
       "      <td>150</td>\n",
       "    </tr>\n",
       "    <tr>\n",
       "      <th>475</th>\n",
       "      <td>270.785974</td>\n",
       "      <td>55</td>\n",
       "    </tr>\n",
       "    <tr>\n",
       "      <th>481</th>\n",
       "      <td>NaN</td>\n",
       "      <td>60</td>\n",
       "    </tr>\n",
       "    <tr>\n",
       "      <th>488</th>\n",
       "      <td>NaN</td>\n",
       "      <td>45</td>\n",
       "    </tr>\n",
       "    <tr>\n",
       "      <th>500</th>\n",
       "      <td>NaN</td>\n",
       "      <td>60</td>\n",
       "    </tr>\n",
       "  </tbody>\n",
       "</table>\n",
       "</div>"
      ],
      "text/plain": [
       "                 As  Depth\n",
       "Well_ID                   \n",
       "330       10.233204     45\n",
       "342             NaN     30\n",
       "374       18.365596     45\n",
       "397      115.834040     45\n",
       "402       17.755544     30\n",
       "410             NaN     60\n",
       "415       87.102492     60\n",
       "418      386.827954     65\n",
       "421      142.409968    150\n",
       "475      270.785974     55\n",
       "481             NaN     60\n",
       "488             NaN     45\n",
       "500             NaN     60"
      ]
     },
     "execution_count": 41,
     "metadata": {},
     "output_type": "execute_result"
    }
   ],
   "source": [
    "df_well_data.loc[330:500:2][['As','Depth']]"
   ]
  },
  {
   "cell_type": "markdown",
   "metadata": {},
   "source": [
    "## iloc\n",
    "iloc only uses integers.  So now this is row numbers. NOT the index.  look the Well_ID compared to the iloc numberss"
   ]
  },
  {
   "cell_type": "code",
   "execution_count": 42,
   "metadata": {
    "collapsed": false
   },
   "outputs": [
    {
     "data": {
      "text/html": [
       "<div>\n",
       "<style>\n",
       "    .dataframe thead tr:only-child th {\n",
       "        text-align: right;\n",
       "    }\n",
       "\n",
       "    .dataframe thead th {\n",
       "        text-align: left;\n",
       "    }\n",
       "\n",
       "    .dataframe tbody tr th {\n",
       "        vertical-align: top;\n",
       "    }\n",
       "</style>\n",
       "<table border=\"1\" class=\"dataframe\">\n",
       "  <thead>\n",
       "    <tr style=\"text-align: right;\">\n",
       "      <th></th>\n",
       "      <th>Lat</th>\n",
       "      <th>Lon</th>\n",
       "      <th>Depth</th>\n",
       "      <th>Drink</th>\n",
       "      <th>Si</th>\n",
       "      <th>P</th>\n",
       "      <th>S</th>\n",
       "      <th>Ca</th>\n",
       "      <th>Fe</th>\n",
       "      <th>Ba</th>\n",
       "      <th>Na</th>\n",
       "      <th>Mg</th>\n",
       "      <th>K</th>\n",
       "      <th>Mn</th>\n",
       "      <th>As</th>\n",
       "      <th>Sr</th>\n",
       "      <th>F</th>\n",
       "      <th>Cl</th>\n",
       "      <th>SO4</th>\n",
       "      <th>Br</th>\n",
       "    </tr>\n",
       "    <tr>\n",
       "      <th>Well_ID</th>\n",
       "      <th></th>\n",
       "      <th></th>\n",
       "      <th></th>\n",
       "      <th></th>\n",
       "      <th></th>\n",
       "      <th></th>\n",
       "      <th></th>\n",
       "      <th></th>\n",
       "      <th></th>\n",
       "      <th></th>\n",
       "      <th></th>\n",
       "      <th></th>\n",
       "      <th></th>\n",
       "      <th></th>\n",
       "      <th></th>\n",
       "      <th></th>\n",
       "      <th></th>\n",
       "      <th></th>\n",
       "      <th></th>\n",
       "      <th></th>\n",
       "    </tr>\n",
       "  </thead>\n",
       "  <tbody>\n",
       "    <tr>\n",
       "      <th>2</th>\n",
       "      <td>23.74</td>\n",
       "      <td>90.31</td>\n",
       "      <td>45</td>\n",
       "      <td>Y</td>\n",
       "      <td>NaN</td>\n",
       "      <td>NaN</td>\n",
       "      <td>NaN</td>\n",
       "      <td>NaN</td>\n",
       "      <td>NaN</td>\n",
       "      <td>NaN</td>\n",
       "      <td>NaN</td>\n",
       "      <td>NaN</td>\n",
       "      <td>NaN</td>\n",
       "      <td>NaN</td>\n",
       "      <td>NaN</td>\n",
       "      <td>NaN</td>\n",
       "      <td>NaN</td>\n",
       "      <td>NaN</td>\n",
       "      <td>NaN</td>\n",
       "      <td>NaN</td>\n",
       "    </tr>\n",
       "    <tr>\n",
       "      <th>14</th>\n",
       "      <td>23.62</td>\n",
       "      <td>90.60</td>\n",
       "      <td>60</td>\n",
       "      <td>Y</td>\n",
       "      <td>NaN</td>\n",
       "      <td>NaN</td>\n",
       "      <td>NaN</td>\n",
       "      <td>NaN</td>\n",
       "      <td>NaN</td>\n",
       "      <td>NaN</td>\n",
       "      <td>NaN</td>\n",
       "      <td>NaN</td>\n",
       "      <td>NaN</td>\n",
       "      <td>NaN</td>\n",
       "      <td>NaN</td>\n",
       "      <td>NaN</td>\n",
       "      <td>NaN</td>\n",
       "      <td>NaN</td>\n",
       "      <td>NaN</td>\n",
       "      <td>NaN</td>\n",
       "    </tr>\n",
       "    <tr>\n",
       "      <th>23</th>\n",
       "      <td>23.94</td>\n",
       "      <td>91.46</td>\n",
       "      <td>60</td>\n",
       "      <td>Y</td>\n",
       "      <td>NaN</td>\n",
       "      <td>NaN</td>\n",
       "      <td>NaN</td>\n",
       "      <td>NaN</td>\n",
       "      <td>NaN</td>\n",
       "      <td>NaN</td>\n",
       "      <td>NaN</td>\n",
       "      <td>NaN</td>\n",
       "      <td>NaN</td>\n",
       "      <td>NaN</td>\n",
       "      <td>NaN</td>\n",
       "      <td>NaN</td>\n",
       "      <td>NaN</td>\n",
       "      <td>NaN</td>\n",
       "      <td>NaN</td>\n",
       "      <td>NaN</td>\n",
       "    </tr>\n",
       "    <tr>\n",
       "      <th>83</th>\n",
       "      <td>23.80</td>\n",
       "      <td>91.33</td>\n",
       "      <td>50</td>\n",
       "      <td>Y</td>\n",
       "      <td>48084.33842</td>\n",
       "      <td>0.936358</td>\n",
       "      <td>2085.570979</td>\n",
       "      <td>54666.48199</td>\n",
       "      <td>1.260031</td>\n",
       "      <td>96.159587</td>\n",
       "      <td>76.207449</td>\n",
       "      <td>26.104825</td>\n",
       "      <td>NaN</td>\n",
       "      <td>1.019154</td>\n",
       "      <td>78.97747</td>\n",
       "      <td>253.528674</td>\n",
       "      <td>0.1669</td>\n",
       "      <td>83.0137</td>\n",
       "      <td>5.6188</td>\n",
       "      <td>0.1512</td>\n",
       "    </tr>\n",
       "    <tr>\n",
       "      <th>84</th>\n",
       "      <td>23.98</td>\n",
       "      <td>90.81</td>\n",
       "      <td>150</td>\n",
       "      <td>Y</td>\n",
       "      <td>NaN</td>\n",
       "      <td>NaN</td>\n",
       "      <td>NaN</td>\n",
       "      <td>NaN</td>\n",
       "      <td>NaN</td>\n",
       "      <td>NaN</td>\n",
       "      <td>NaN</td>\n",
       "      <td>NaN</td>\n",
       "      <td>NaN</td>\n",
       "      <td>NaN</td>\n",
       "      <td>NaN</td>\n",
       "      <td>NaN</td>\n",
       "      <td>NaN</td>\n",
       "      <td>NaN</td>\n",
       "      <td>NaN</td>\n",
       "      <td>NaN</td>\n",
       "    </tr>\n",
       "  </tbody>\n",
       "</table>\n",
       "</div>"
      ],
      "text/plain": [
       "           Lat    Lon  Depth Drink           Si         P            S  \\\n",
       "Well_ID                                                                  \n",
       "2        23.74  90.31     45     Y          NaN       NaN          NaN   \n",
       "14       23.62  90.60     60     Y          NaN       NaN          NaN   \n",
       "23       23.94  91.46     60     Y          NaN       NaN          NaN   \n",
       "83       23.80  91.33     50     Y  48084.33842  0.936358  2085.570979   \n",
       "84       23.98  90.81    150     Y          NaN       NaN          NaN   \n",
       "\n",
       "                  Ca        Fe         Ba         Na         Mg   K        Mn  \\\n",
       "Well_ID                                                                         \n",
       "2                NaN       NaN        NaN        NaN        NaN NaN       NaN   \n",
       "14               NaN       NaN        NaN        NaN        NaN NaN       NaN   \n",
       "23               NaN       NaN        NaN        NaN        NaN NaN       NaN   \n",
       "83       54666.48199  1.260031  96.159587  76.207449  26.104825 NaN  1.019154   \n",
       "84               NaN       NaN        NaN        NaN        NaN NaN       NaN   \n",
       "\n",
       "               As          Sr       F       Cl     SO4      Br  \n",
       "Well_ID                                                         \n",
       "2             NaN         NaN     NaN      NaN     NaN     NaN  \n",
       "14            NaN         NaN     NaN      NaN     NaN     NaN  \n",
       "23            NaN         NaN     NaN      NaN     NaN     NaN  \n",
       "83       78.97747  253.528674  0.1669  83.0137  5.6188  0.1512  \n",
       "84            NaN         NaN     NaN      NaN     NaN     NaN  "
      ]
     },
     "execution_count": 42,
     "metadata": {},
     "output_type": "execute_result"
    }
   ],
   "source": [
    "df_well_data.iloc[:].head()"
   ]
  },
  {
   "cell_type": "code",
   "execution_count": 43,
   "metadata": {
    "collapsed": false
   },
   "outputs": [
    {
     "data": {
      "text/html": [
       "<div>\n",
       "<style>\n",
       "    .dataframe thead tr:only-child th {\n",
       "        text-align: right;\n",
       "    }\n",
       "\n",
       "    .dataframe thead th {\n",
       "        text-align: left;\n",
       "    }\n",
       "\n",
       "    .dataframe tbody tr th {\n",
       "        vertical-align: top;\n",
       "    }\n",
       "</style>\n",
       "<table border=\"1\" class=\"dataframe\">\n",
       "  <thead>\n",
       "    <tr style=\"text-align: right;\">\n",
       "      <th></th>\n",
       "      <th>Lat</th>\n",
       "      <th>Lon</th>\n",
       "      <th>Depth</th>\n",
       "      <th>Drink</th>\n",
       "      <th>Si</th>\n",
       "      <th>P</th>\n",
       "      <th>S</th>\n",
       "      <th>Ca</th>\n",
       "      <th>Fe</th>\n",
       "      <th>Ba</th>\n",
       "      <th>Na</th>\n",
       "      <th>Mg</th>\n",
       "      <th>K</th>\n",
       "      <th>Mn</th>\n",
       "      <th>As</th>\n",
       "      <th>Sr</th>\n",
       "      <th>F</th>\n",
       "      <th>Cl</th>\n",
       "      <th>SO4</th>\n",
       "      <th>Br</th>\n",
       "    </tr>\n",
       "    <tr>\n",
       "      <th>Well_ID</th>\n",
       "      <th></th>\n",
       "      <th></th>\n",
       "      <th></th>\n",
       "      <th></th>\n",
       "      <th></th>\n",
       "      <th></th>\n",
       "      <th></th>\n",
       "      <th></th>\n",
       "      <th></th>\n",
       "      <th></th>\n",
       "      <th></th>\n",
       "      <th></th>\n",
       "      <th></th>\n",
       "      <th></th>\n",
       "      <th></th>\n",
       "      <th></th>\n",
       "      <th></th>\n",
       "      <th></th>\n",
       "      <th></th>\n",
       "      <th></th>\n",
       "    </tr>\n",
       "  </thead>\n",
       "  <tbody>\n",
       "    <tr>\n",
       "      <th>3058</th>\n",
       "      <td>23.92</td>\n",
       "      <td>90.47</td>\n",
       "      <td>60</td>\n",
       "      <td>Y</td>\n",
       "      <td>NaN</td>\n",
       "      <td>NaN</td>\n",
       "      <td>NaN</td>\n",
       "      <td>NaN</td>\n",
       "      <td>NaN</td>\n",
       "      <td>NaN</td>\n",
       "      <td>NaN</td>\n",
       "      <td>NaN</td>\n",
       "      <td>NaN</td>\n",
       "      <td>NaN</td>\n",
       "      <td>NaN</td>\n",
       "      <td>NaN</td>\n",
       "      <td>0.1166</td>\n",
       "      <td>110.2480</td>\n",
       "      <td>34.2441</td>\n",
       "      <td>0.0313</td>\n",
       "    </tr>\n",
       "    <tr>\n",
       "      <th>3060</th>\n",
       "      <td>23.62</td>\n",
       "      <td>91.56</td>\n",
       "      <td>60</td>\n",
       "      <td>Y</td>\n",
       "      <td>37199.96208</td>\n",
       "      <td>0.949837</td>\n",
       "      <td>13.694978</td>\n",
       "      <td>51862.73844</td>\n",
       "      <td>10.061950</td>\n",
       "      <td>119.569875</td>\n",
       "      <td>11.641918</td>\n",
       "      <td>19.904506</td>\n",
       "      <td>7806.94907</td>\n",
       "      <td>1.376403</td>\n",
       "      <td>154.676413</td>\n",
       "      <td>230.823815</td>\n",
       "      <td>0.2422</td>\n",
       "      <td>12.7629</td>\n",
       "      <td>0.1512</td>\n",
       "      <td>0.0201</td>\n",
       "    </tr>\n",
       "    <tr>\n",
       "      <th>3103</th>\n",
       "      <td>23.33</td>\n",
       "      <td>90.12</td>\n",
       "      <td>130</td>\n",
       "      <td>Y</td>\n",
       "      <td>NaN</td>\n",
       "      <td>NaN</td>\n",
       "      <td>NaN</td>\n",
       "      <td>NaN</td>\n",
       "      <td>NaN</td>\n",
       "      <td>NaN</td>\n",
       "      <td>NaN</td>\n",
       "      <td>NaN</td>\n",
       "      <td>NaN</td>\n",
       "      <td>NaN</td>\n",
       "      <td>NaN</td>\n",
       "      <td>NaN</td>\n",
       "      <td>NaN</td>\n",
       "      <td>NaN</td>\n",
       "      <td>NaN</td>\n",
       "      <td>NaN</td>\n",
       "    </tr>\n",
       "    <tr>\n",
       "      <th>3112</th>\n",
       "      <td>24.43</td>\n",
       "      <td>91.05</td>\n",
       "      <td>45</td>\n",
       "      <td>Y</td>\n",
       "      <td>41513.82677</td>\n",
       "      <td>1.697027</td>\n",
       "      <td>14.933618</td>\n",
       "      <td>47308.53575</td>\n",
       "      <td>14.961449</td>\n",
       "      <td>133.853170</td>\n",
       "      <td>22.606914</td>\n",
       "      <td>17.730658</td>\n",
       "      <td>NaN</td>\n",
       "      <td>0.913210</td>\n",
       "      <td>130.108906</td>\n",
       "      <td>182.378072</td>\n",
       "      <td>0.1951</td>\n",
       "      <td>22.9864</td>\n",
       "      <td>0.2077</td>\n",
       "      <td>0.0278</td>\n",
       "    </tr>\n",
       "    <tr>\n",
       "      <th>3179</th>\n",
       "      <td>23.18</td>\n",
       "      <td>90.78</td>\n",
       "      <td>50</td>\n",
       "      <td>Y</td>\n",
       "      <td>NaN</td>\n",
       "      <td>NaN</td>\n",
       "      <td>NaN</td>\n",
       "      <td>NaN</td>\n",
       "      <td>NaN</td>\n",
       "      <td>NaN</td>\n",
       "      <td>NaN</td>\n",
       "      <td>NaN</td>\n",
       "      <td>NaN</td>\n",
       "      <td>NaN</td>\n",
       "      <td>NaN</td>\n",
       "      <td>NaN</td>\n",
       "      <td>NaN</td>\n",
       "      <td>NaN</td>\n",
       "      <td>NaN</td>\n",
       "      <td>NaN</td>\n",
       "    </tr>\n",
       "  </tbody>\n",
       "</table>\n",
       "</div>"
      ],
      "text/plain": [
       "           Lat    Lon  Depth Drink           Si         P          S  \\\n",
       "Well_ID                                                                \n",
       "3058     23.92  90.47     60     Y          NaN       NaN        NaN   \n",
       "3060     23.62  91.56     60     Y  37199.96208  0.949837  13.694978   \n",
       "3103     23.33  90.12    130     Y          NaN       NaN        NaN   \n",
       "3112     24.43  91.05     45     Y  41513.82677  1.697027  14.933618   \n",
       "3179     23.18  90.78     50     Y          NaN       NaN        NaN   \n",
       "\n",
       "                  Ca         Fe          Ba         Na         Mg           K  \\\n",
       "Well_ID                                                                         \n",
       "3058             NaN        NaN         NaN        NaN        NaN         NaN   \n",
       "3060     51862.73844  10.061950  119.569875  11.641918  19.904506  7806.94907   \n",
       "3103             NaN        NaN         NaN        NaN        NaN         NaN   \n",
       "3112     47308.53575  14.961449  133.853170  22.606914  17.730658         NaN   \n",
       "3179             NaN        NaN         NaN        NaN        NaN         NaN   \n",
       "\n",
       "               Mn          As          Sr       F        Cl      SO4      Br  \n",
       "Well_ID                                                                       \n",
       "3058          NaN         NaN         NaN  0.1166  110.2480  34.2441  0.0313  \n",
       "3060     1.376403  154.676413  230.823815  0.2422   12.7629   0.1512  0.0201  \n",
       "3103          NaN         NaN         NaN     NaN       NaN      NaN     NaN  \n",
       "3112     0.913210  130.108906  182.378072  0.1951   22.9864   0.2077  0.0278  \n",
       "3179          NaN         NaN         NaN     NaN       NaN      NaN     NaN  "
      ]
     },
     "execution_count": 43,
     "metadata": {},
     "output_type": "execute_result"
    }
   ],
   "source": [
    "df_well_data.iloc[101:110:2] #this is row numbers now. so the index is not matching."
   ]
  },
  {
   "cell_type": "markdown",
   "metadata": {},
   "source": [
    "and column number.  But we use a column seperator......."
   ]
  },
  {
   "cell_type": "code",
   "execution_count": 44,
   "metadata": {
    "collapsed": false
   },
   "outputs": [
    {
     "data": {
      "text/plain": [
       "Well_ID\n",
       "3058         NaN\n",
       "3060    0.949837\n",
       "3103         NaN\n",
       "3112    1.697027\n",
       "3179         NaN\n",
       "Name: P, dtype: float64"
      ]
     },
     "execution_count": 44,
     "metadata": {},
     "output_type": "execute_result"
    }
   ],
   "source": [
    "df_well_data.iloc[101:110:2,5]"
   ]
  },
  {
   "cell_type": "code",
   "execution_count": 45,
   "metadata": {
    "collapsed": false
   },
   "outputs": [
    {
     "data": {
      "text/html": [
       "<div>\n",
       "<style>\n",
       "    .dataframe thead tr:only-child th {\n",
       "        text-align: right;\n",
       "    }\n",
       "\n",
       "    .dataframe thead th {\n",
       "        text-align: left;\n",
       "    }\n",
       "\n",
       "    .dataframe tbody tr th {\n",
       "        vertical-align: top;\n",
       "    }\n",
       "</style>\n",
       "<table border=\"1\" class=\"dataframe\">\n",
       "  <thead>\n",
       "    <tr style=\"text-align: right;\">\n",
       "      <th></th>\n",
       "      <th>Depth</th>\n",
       "      <th>Drink</th>\n",
       "      <th>Si</th>\n",
       "    </tr>\n",
       "    <tr>\n",
       "      <th>Well_ID</th>\n",
       "      <th></th>\n",
       "      <th></th>\n",
       "      <th></th>\n",
       "    </tr>\n",
       "  </thead>\n",
       "  <tbody>\n",
       "    <tr>\n",
       "      <th>3058</th>\n",
       "      <td>60</td>\n",
       "      <td>Y</td>\n",
       "      <td>NaN</td>\n",
       "    </tr>\n",
       "    <tr>\n",
       "      <th>3060</th>\n",
       "      <td>60</td>\n",
       "      <td>Y</td>\n",
       "      <td>37199.96208</td>\n",
       "    </tr>\n",
       "    <tr>\n",
       "      <th>3103</th>\n",
       "      <td>130</td>\n",
       "      <td>Y</td>\n",
       "      <td>NaN</td>\n",
       "    </tr>\n",
       "    <tr>\n",
       "      <th>3112</th>\n",
       "      <td>45</td>\n",
       "      <td>Y</td>\n",
       "      <td>41513.82677</td>\n",
       "    </tr>\n",
       "    <tr>\n",
       "      <th>3179</th>\n",
       "      <td>50</td>\n",
       "      <td>Y</td>\n",
       "      <td>NaN</td>\n",
       "    </tr>\n",
       "  </tbody>\n",
       "</table>\n",
       "</div>"
      ],
      "text/plain": [
       "         Depth Drink           Si\n",
       "Well_ID                          \n",
       "3058        60     Y          NaN\n",
       "3060        60     Y  37199.96208\n",
       "3103       130     Y          NaN\n",
       "3112        45     Y  41513.82677\n",
       "3179        50     Y          NaN"
      ]
     },
     "execution_count": 45,
     "metadata": {},
     "output_type": "execute_result"
    }
   ],
   "source": [
    "df_well_data.iloc[101:110:2,2:5]"
   ]
  },
  {
   "cell_type": "markdown",
   "metadata": {},
   "source": [
    "Just to boggles your bind a little....."
   ]
  },
  {
   "cell_type": "code",
   "execution_count": 46,
   "metadata": {
    "collapsed": false
   },
   "outputs": [
    {
     "data": {
      "text/html": [
       "<div>\n",
       "<style>\n",
       "    .dataframe thead tr:only-child th {\n",
       "        text-align: right;\n",
       "    }\n",
       "\n",
       "    .dataframe thead th {\n",
       "        text-align: left;\n",
       "    }\n",
       "\n",
       "    .dataframe tbody tr th {\n",
       "        vertical-align: top;\n",
       "    }\n",
       "</style>\n",
       "<table border=\"1\" class=\"dataframe\">\n",
       "  <thead>\n",
       "    <tr style=\"text-align: right;\">\n",
       "      <th></th>\n",
       "      <th>Depth</th>\n",
       "      <th>P</th>\n",
       "      <th>Fe</th>\n",
       "    </tr>\n",
       "    <tr>\n",
       "      <th>Well_ID</th>\n",
       "      <th></th>\n",
       "      <th></th>\n",
       "      <th></th>\n",
       "    </tr>\n",
       "  </thead>\n",
       "  <tbody>\n",
       "    <tr>\n",
       "      <th>3058</th>\n",
       "      <td>60</td>\n",
       "      <td>NaN</td>\n",
       "      <td>NaN</td>\n",
       "    </tr>\n",
       "    <tr>\n",
       "      <th>3060</th>\n",
       "      <td>60</td>\n",
       "      <td>0.949837</td>\n",
       "      <td>10.061950</td>\n",
       "    </tr>\n",
       "    <tr>\n",
       "      <th>3103</th>\n",
       "      <td>130</td>\n",
       "      <td>NaN</td>\n",
       "      <td>NaN</td>\n",
       "    </tr>\n",
       "    <tr>\n",
       "      <th>3112</th>\n",
       "      <td>45</td>\n",
       "      <td>1.697027</td>\n",
       "      <td>14.961449</td>\n",
       "    </tr>\n",
       "    <tr>\n",
       "      <th>3179</th>\n",
       "      <td>50</td>\n",
       "      <td>NaN</td>\n",
       "      <td>NaN</td>\n",
       "    </tr>\n",
       "  </tbody>\n",
       "</table>\n",
       "</div>"
      ],
      "text/plain": [
       "         Depth         P         Fe\n",
       "Well_ID                            \n",
       "3058        60       NaN        NaN\n",
       "3060        60  0.949837  10.061950\n",
       "3103       130       NaN        NaN\n",
       "3112        45  1.697027  14.961449\n",
       "3179        50       NaN        NaN"
      ]
     },
     "execution_count": 46,
     "metadata": {},
     "output_type": "execute_result"
    }
   ],
   "source": [
    "df_well_data.iloc[101:110:2,[2,5,8]]  #I just had it show columns 2,5,8"
   ]
  },
  {
   "cell_type": "markdown",
   "metadata": {},
   "source": [
    ".ix does a mixture of .loc and .iloc\n",
    "\n",
    "ix is getting deprecated or phased out."
   ]
  },
  {
   "cell_type": "code",
   "execution_count": 47,
   "metadata": {
    "collapsed": false
   },
   "outputs": [
    {
     "name": "stdout",
     "output_type": "stream",
     "text": [
      "         Depth         P         Fe\n",
      "Well_ID                            \n",
      "101         60  0.117534   1.843156\n",
      "110         45  1.095644  11.740445\n"
     ]
    },
    {
     "name": "stderr",
     "output_type": "stream",
     "text": [
      "C:\\Users\\bmailloux\\AppData\\Local\\Continuum\\Anaconda\\lib\\site-packages\\ipykernel\\__main__.py:1: DeprecationWarning: \n",
      ".ix is deprecated. Please use\n",
      ".loc for label based indexing or\n",
      ".iloc for positional indexing\n",
      "\n",
      "See the documentation here:\n",
      "http://pandas.pydata.org/pandas-docs/stable/indexing.html#ix-indexer-is-deprecated\n",
      "  if __name__ == '__main__':\n"
     ]
    }
   ],
   "source": [
    "print df_well_data.ix[101:110:2,[2,5,8]]"
   ]
  },
  {
   "cell_type": "code",
   "execution_count": 48,
   "metadata": {
    "collapsed": false
   },
   "outputs": [
    {
     "name": "stdout",
     "output_type": "stream",
     "text": [
      "                As  Depth\n",
      "Well_ID                  \n",
      "101      28.070949     60\n",
      "110      96.885674     45\n",
      "116            NaN     60\n",
      "153      39.249817     45\n"
     ]
    }
   ],
   "source": [
    "print df_well_data.ix[101:156:2][['As','Depth']]"
   ]
  },
  {
   "cell_type": "markdown",
   "metadata": {},
   "source": [
    "They say it is better to be explicit and use [],iloc, or loc."
   ]
  },
  {
   "cell_type": "markdown",
   "metadata": {},
   "source": [
    "## Dot notation\n",
    "I am not sure if that is the official name but here is how it works"
   ]
  },
  {
   "cell_type": "markdown",
   "metadata": {},
   "source": [
    "What I didn't show you is a dot notation."
   ]
  },
  {
   "cell_type": "code",
   "execution_count": 49,
   "metadata": {
    "collapsed": false
   },
   "outputs": [
    {
     "data": {
      "text/plain": [
       "Well_ID\n",
       "2          NaN\n",
       "14         NaN\n",
       "23         NaN\n",
       "83    78.97747\n",
       "84         NaN\n",
       "Name: As, dtype: float64"
      ]
     },
     "execution_count": 49,
     "metadata": {},
     "output_type": "execute_result"
    }
   ],
   "source": [
    "df_well_data.As.head()"
   ]
  },
  {
   "cell_type": "code",
   "execution_count": 50,
   "metadata": {
    "collapsed": false
   },
   "outputs": [
    {
     "data": {
      "text/plain": [
       "Well_ID\n",
       "233          NaN\n",
       "237          NaN\n",
       "275          NaN\n",
       "279          NaN\n",
       "280     5.364619\n",
       "283          NaN\n",
       "287          NaN\n",
       "290          NaN\n",
       "292    53.097829\n",
       "295          NaN\n",
       "Name: As, dtype: float64"
      ]
     },
     "execution_count": 50,
     "metadata": {},
     "output_type": "execute_result"
    }
   ],
   "source": [
    "df_well_data.As[20:30]"
   ]
  },
  {
   "cell_type": "markdown",
   "metadata": {},
   "source": [
    "All examples in one place so maybe we can make sense of them?"
   ]
  },
  {
   "cell_type": "markdown",
   "metadata": {},
   "source": [
    "\n",
    "\n",
    "|Name                                     |Description|\n",
    "|-----------------------------------------|-----------------------|\n",
    "|[]||\n",
    "|well_data[:]          |             all data |\n",
    "|well_data[:]['As']    |            all arsenic data |\n",
    "|well_data.loc[:,'As']                    |basically the same as above|\n",
    "|well_data['As']                    |all arsenic data.|\n",
    "|well_data[1:10]['As']              |arsenic data from rows 1-10 excluding 10|\n",
    "|well_data[1:10:2]['As']            |same but skipping by two|\n",
    "|well_data[1:10:2][['As','Depth']]  |for As and depth.  note the double brackets.|\n",
    "|well_data[['As','Depth']][1:10:2]  |order doesn't matter|\n",
    "|well_data[['Depth','As']][1:10:2]  |order doesn't matter.|  \n",
    "|you can't use column numbers...................................  | |\n",
    "\n",
    "<br/>\n",
    "<br/>\n",
    "\n",
    "|loc|Description |\n",
    "|---------------------------------:|--------------------------------:|\n",
    "|well_data.loc[:]  |gives us all rows with all columns|\n",
    "|well_data.loc[101:156]  |needs to be an index  Gives us by index number not row number.|\n",
    "|well_data.loc[101:156:2] | and we can skip|\n",
    "|well_data.loc[101:156:2]['As'] | and we can do column names|\n",
    "|well_data.loc[:]['As']|  |\n",
    "|well_data.loc[:,'As'] | is the same as above. I have bugs where one works but other doesn't|\n",
    "|well_data.loc[101:156:2][['As','Depth']]|  we can do multiple columns|\n",
    "|................................................................................| .|\n",
    "\n",
    "<br/>\n",
    "<br/>\n",
    "\n",
    "|iloc| |\n",
    "|-----------------------------------------|-----------------------|\n",
    "|well_data.iloc[:]                   |gives it all.|\n",
    "|well_data.iloc[101:110:2]           |does row numbers.|\n",
    "|well_data.iloc[101:110:2,5]         |row number by column number|\n",
    "|well_data.iloc[101:110:2,2:5]        |mulitple row multiple number|\n",
    "|well_data.iloc[101:110:2,[2,5,8]]    |select columns|\n",
    "|...........................................................................|.|\n",
    "\n",
    "<br/>\n",
    "<br/>\n",
    "\n",
    "|ix |I guess we won't use this much|\n",
    "|-----------------------------------------|-----------------------|\n",
    "|well_data.ix[101:156:2][['As','Depth']]||\n",
    "|well_data.ix[101:110:2,[2,5,8]]||\n",
    "\n",
    "<br/>\n",
    "<br/>\n",
    "\n",
    "|Dot notation. |This can be very nice.|\n",
    "|-----------------------------------------|-----------------------|\n",
    "|well_data.As       |gives all arsenic data|\n",
    "|well_data.As[1:5]  |gives rows 1-5|\n",
    "|...............................................................||\n"
   ]
  },
  {
   "cell_type": "markdown",
   "metadata": {},
   "source": [
    "### You can use boolean choices to get the data you want.  For example I gave the description if people drink or don't drink from their well.  Lets count that.  \n",
    "\n",
    "I am going to do the same thing many different ways!  value_counts is a function that counts each "
   ]
  },
  {
   "cell_type": "code",
   "execution_count": 51,
   "metadata": {
    "collapsed": false
   },
   "outputs": [
    {
     "name": "stdout",
     "output_type": "stream",
     "text": [
      "Y    614\n",
      "N    144\n",
      "Name: Drink, dtype: int64\n"
     ]
    }
   ],
   "source": [
    "print df_well_data['Drink'].value_counts()"
   ]
  },
  {
   "cell_type": "markdown",
   "metadata": {},
   "source": [
    "is the same as"
   ]
  },
  {
   "cell_type": "code",
   "execution_count": 52,
   "metadata": {
    "collapsed": false
   },
   "outputs": [
    {
     "name": "stdout",
     "output_type": "stream",
     "text": [
      "Y    614\n",
      "N    144\n",
      "Name: Drink, dtype: int64\n"
     ]
    }
   ],
   "source": [
    "print df_well_data.Drink.value_counts()"
   ]
  },
  {
   "cell_type": "markdown",
   "metadata": {},
   "source": [
    "Is the same as (I am trying to teach you pandas)"
   ]
  },
  {
   "cell_type": "code",
   "execution_count": 53,
   "metadata": {
    "collapsed": false
   },
   "outputs": [
    {
     "name": "stdout",
     "output_type": "stream",
     "text": [
      "Y    614\n",
      "N    144\n",
      "Name: Drink, dtype: int64\n"
     ]
    }
   ],
   "source": [
    "print df_well_data.iloc[:,3].value_counts()"
   ]
  },
  {
   "cell_type": "markdown",
   "metadata": {},
   "source": [
    "Is the same as (I am trying to teach you pandas)"
   ]
  },
  {
   "cell_type": "code",
   "execution_count": 54,
   "metadata": {
    "collapsed": false
   },
   "outputs": [
    {
     "name": "stdout",
     "output_type": "stream",
     "text": [
      "Y    614\n",
      "N    144\n",
      "Name: Drink, dtype: int64\n"
     ]
    }
   ],
   "source": [
    "print df_well_data.loc[:,'Drink'].value_counts()"
   ]
  },
  {
   "cell_type": "markdown",
   "metadata": {},
   "source": [
    "Is the same as (I am trying to teach you pandas)"
   ]
  },
  {
   "cell_type": "code",
   "execution_count": 55,
   "metadata": {
    "collapsed": false
   },
   "outputs": [
    {
     "name": "stdout",
     "output_type": "stream",
     "text": [
      "Y    614\n",
      "N    144\n",
      "Name: Drink, dtype: int64\n"
     ]
    }
   ],
   "source": [
    "print df_well_data.ix[:,'Drink'].value_counts()"
   ]
  },
  {
   "cell_type": "markdown",
   "metadata": {},
   "source": [
    "Now you should be able to access your data.  I always forget the semantics.  Look online or back at your cheat sheets.  That is why I made the cheat sheet above."
   ]
  },
  {
   "cell_type": "markdown",
   "metadata": {},
   "source": [
    "Now we can sub-select data very easily.  "
   ]
  },
  {
   "cell_type": "markdown",
   "metadata": {},
   "source": [
    "We can return a boolean based on results.  "
   ]
  },
  {
   "cell_type": "code",
   "execution_count": 56,
   "metadata": {
    "collapsed": false
   },
   "outputs": [
    {
     "name": "stdout",
     "output_type": "stream",
     "text": [
      "Well_ID\n",
      "2          True\n",
      "14         True\n",
      "23         True\n",
      "83         True\n",
      "84         True\n",
      "93         True\n",
      "101        True\n",
      "107       False\n",
      "110        True\n",
      "112        True\n",
      "116        True\n",
      "130       False\n",
      "153        True\n",
      "156       False\n",
      "166        True\n",
      "173        True\n",
      "176        True\n",
      "205        True\n",
      "214       False\n",
      "217        True\n",
      "233        True\n",
      "237       False\n",
      "275        True\n",
      "279        True\n",
      "280        True\n",
      "283       False\n",
      "287        True\n",
      "290        True\n",
      "292        True\n",
      "295       False\n",
      "          ...  \n",
      "11585     False\n",
      "11634     False\n",
      "11644      True\n",
      "11784      True\n",
      "11796      True\n",
      "11824     False\n",
      "11825     False\n",
      "11923      True\n",
      "12022      True\n",
      "12043      True\n",
      "12071      True\n",
      "12085     False\n",
      "12101      True\n",
      "12103      True\n",
      "12105     False\n",
      "12110     False\n",
      "12116      True\n",
      "12130      True\n",
      "12133      True\n",
      "12249      True\n",
      "12275      True\n",
      "12356      True\n",
      "12363      True\n",
      "12440      True\n",
      "12461      True\n",
      "12516      True\n",
      "12654      True\n",
      "72641     False\n",
      "76175     False\n",
      "141499    False\n",
      "Name: Drink, Length: 759, dtype: bool\n"
     ]
    }
   ],
   "source": [
    "print df_well_data['Drink']=='Y'"
   ]
  },
  {
   "cell_type": "markdown",
   "metadata": {},
   "source": [
    "Also do it with the dot notation"
   ]
  },
  {
   "cell_type": "code",
   "execution_count": null,
   "metadata": {
    "collapsed": false
   },
   "outputs": [],
   "source": [
    "print df_well_data.Drink=='Y'"
   ]
  },
  {
   "cell_type": "markdown",
   "metadata": {},
   "source": [
    "What if we only wanted arsenic concentrations where people drink the water?"
   ]
  },
  {
   "cell_type": "code",
   "execution_count": 58,
   "metadata": {
    "collapsed": false
   },
   "outputs": [
    {
     "name": "stdout",
     "output_type": "stream",
     "text": [
      "Well_ID\n",
      "2          NaN\n",
      "14         NaN\n",
      "23         NaN\n",
      "83    78.97747\n",
      "84         NaN\n",
      "Name: As, dtype: float64\n"
     ]
    }
   ],
   "source": [
    "print df_well_data['As'][df_well_data.Drink=='Y'].head()"
   ]
  },
  {
   "cell_type": "markdown",
   "metadata": {},
   "source": [
    "Could we ask what are the well id's for people who drink water and their arsenic is greater than 250 ppb.  This would be poeple with high exposure!  We would need to use an and statement.  In pandas you do this two ways.  You can use a np.logical_and().  Else you can use the & but you need parentheses.  ** REMEMBER THIS!!!!!** It will come back and help you. For example if we wanted we could then try to convinces these households to switch.  The drinking water standard is 10 ppb"
   ]
  },
  {
   "cell_type": "code",
   "execution_count": 60,
   "metadata": {
    "collapsed": false
   },
   "outputs": [
    {
     "name": "stdout",
     "output_type": "stream",
     "text": [
      "Well_ID\n",
      "475     270.785974\n",
      "2821    285.971884\n",
      "2841    506.750799\n",
      "2977    282.519542\n",
      "4545    439.690000\n",
      "4689    267.553524\n",
      "4793    271.752307\n",
      "4987    255.620635\n",
      "5060    368.900000\n",
      "5557    351.206317\n",
      "5717    700.890000\n",
      "5788    422.070000\n",
      "6137    309.920000\n",
      "6583    339.300000\n",
      "7007    304.690000\n",
      "8051    308.880000\n",
      "8522    256.610000\n",
      "9362    299.530000\n",
      "Name: As, dtype: float64\n"
     ]
    }
   ],
   "source": [
    "print df_well_data['As'][(df_well_data.Drink=='Y') & (df_well_data.As>250)]"
   ]
  },
  {
   "cell_type": "code",
   "execution_count": 61,
   "metadata": {
    "collapsed": false
   },
   "outputs": [
    {
     "name": "stdout",
     "output_type": "stream",
     "text": [
      "Well_ID\n",
      "475     270.785974\n",
      "2821    285.971884\n",
      "2841    506.750799\n",
      "2977    282.519542\n",
      "4545    439.690000\n",
      "4689    267.553524\n",
      "4793    271.752307\n",
      "4987    255.620635\n",
      "5060    368.900000\n",
      "5557    351.206317\n",
      "5717    700.890000\n",
      "5788    422.070000\n",
      "6137    309.920000\n",
      "6583    339.300000\n",
      "7007    304.690000\n",
      "8051    308.880000\n",
      "8522    256.610000\n",
      "9362    299.530000\n",
      "Name: As, dtype: float64\n"
     ]
    }
   ],
   "source": [
    "print df_well_data['As'][np.logical_and(df_well_data.Drink=='Y',df_well_data.As>250)]"
   ]
  },
  {
   "cell_type": "markdown",
   "metadata": {},
   "source": [
    "Can we look at who drinks from their wells and if they don't drink is it beacuse it has more arsenic?"
   ]
  },
  {
   "cell_type": "code",
   "execution_count": 62,
   "metadata": {
    "collapsed": false
   },
   "outputs": [
    {
     "name": "stdout",
     "output_type": "stream",
     "text": [
      "count    336.000000\n",
      "mean      72.484421\n",
      "std       91.571489\n",
      "min        0.000000\n",
      "25%        9.962403\n",
      "50%       39.975000\n",
      "75%       99.294435\n",
      "max      700.890000\n",
      "Name: As, dtype: float64\n",
      "\n",
      "\n",
      "count     71.000000\n",
      "mean     171.105792\n",
      "std      107.308224\n",
      "min        1.368709\n",
      "25%       81.614239\n",
      "50%      150.250000\n",
      "75%      250.245000\n",
      "max      473.340000\n",
      "Name: As, dtype: float64\n"
     ]
    }
   ],
   "source": [
    "print df_well_data['As'][df_well_data.Drink=='Y'].describe() \n",
    "print '\\n'\n",
    "print df_well_data['As'][df_well_data.Drink=='N'].describe()"
   ]
  },
  {
   "cell_type": "markdown",
   "metadata": {},
   "source": [
    "What do the results above show?"
   ]
  },
  {
   "cell_type": "markdown",
   "metadata": {},
   "source": [
    "Could we disply this data?  "
   ]
  },
  {
   "cell_type": "code",
   "execution_count": 63,
   "metadata": {
    "collapsed": false
   },
   "outputs": [
    {
     "data": {
      "text/plain": [
       "<matplotlib.axes._subplots.AxesSubplot at 0xab2c5f8>"
      ]
     },
     "execution_count": 63,
     "metadata": {},
     "output_type": "execute_result"
    },
    {
     "data": {
      "image/png": "[encoded data removed]",
      "text/plain": [
       "<matplotlib.figure.Figure at 0xab2bf60>"
      ]
     },
     "metadata": {},
     "output_type": "display_data"
    }
   ],
   "source": [
    "df_well_data.boxplot(column='As')"
   ]
  },
  {
   "cell_type": "markdown",
   "metadata": {},
   "source": [
    "Do you remember what a boxplot shows? I found this next picture on stackoverflow.  No need to import. Just for your reference.  \n",
    "http://stackoverflow.com/questions/17725927/boxplots-in-matplotlib-markers-and-outliers\n"
   ]
  },
  {
   "cell_type": "code",
   "execution_count": 57,
   "metadata": {
    "collapsed": false
   },
   "outputs": [
    {
     "data": {
      "image/png": "[encoded data removed]",
      "text/plain": [
       "<IPython.core.display.Image object>"
      ]
     },
     "execution_count": 57,
     "metadata": {
      "image/png": {
       "width": 600
      }
     },
     "output_type": "execute_result"
    }
   ],
   "source": [
    "from IPython.display import Image\n",
    "Image(filename='boxplot_structure.png',width=600)"
   ]
  },
  {
   "cell_type": "markdown",
   "metadata": {},
   "source": [
    "But we really want two boxplots.  One for people who drink and one for people who don't drink.  I wasn't sure how to do it?  So I googled pandas boxplot.  Here are two of the links I got.  See if you can figure it out!  If you scroll down on the first link you should find the answer....\n",
    "\n",
    "\n",
    "http://pandas-docs.github.io/pandas-docs-travis/visualization.html#box-plots\n",
    "\n",
    "http://stackoverflow.com/questions/23232989/boxplot-stratified-by-column-in-python-pandas"
   ]
  },
  {
   "cell_type": "code",
   "execution_count": 65,
   "metadata": {
    "collapsed": false
   },
   "outputs": [
    {
     "data": {
      "text/plain": [
       "<matplotlib.axes._subplots.AxesSubplot at 0xc0542e8>"
      ]
     },
     "execution_count": 65,
     "metadata": {},
     "output_type": "execute_result"
    },
    {
     "data": {
      "image/png": "[encoded data removed]",
      "text/plain": [
       "<matplotlib.figure.Figure at 0xc05f320>"
      ]
     },
     "metadata": {},
     "output_type": "display_data"
    }
   ],
   "source": []
  },
  {
   "cell_type": "markdown",
   "metadata": {},
   "source": [
    "What difference do you notice about the arsenic concentrations of peeople drinking from their wells?"
   ]
  },
  {
   "cell_type": "markdown",
   "metadata": {},
   "source": [
    "### What wells do people drink from?\n",
    "For our final exercise. Lets put it together and get data and then see if we can plot it.  I want to know the number of people who are drinking from there wells based on the arsenic concentrations.  Can we do the reverse.  if the arsenic is <10,10-50, and >50 what is the value counts of drinking and not drinking.  I chose these numbers because 10 ppb is the EPA and WHO drinking water limit.  50 ppb is the Bangladesh drinking water limit.  We see negative health effects at 10ppb.  Drinking water with 10 ppb arsenic is bad for you!   It increases your risk of cardiovascular disease, cancers, and death!"
   ]
  },
  {
   "cell_type": "markdown",
   "metadata": {},
   "source": [
    "I would first just try and break the data into 3 groups and print out the results.  So use your way of selecting data and select data based on the levels of arsenic.  To do between 10 and 50 you will need to use an and statement and how to do those is different.  you need to use a boolean function to choose two data sets! works by taking two arguments and then returning what happens the same way as if you did an and.  but it works better.  Remember we did this above.\n",
    "\n",
    "Three Groups\n",
    "1.  <10 ppb arsenic\n",
    "1.  10-50 ppb arsenic\n",
    "1.  \\>50 ppb arsenic\n",
    "\n",
    "1.  Print out the number of people drinking from wells with arsenic less than 10.  you can use value_counts() and your selection method."
   ]
  },
  {
   "cell_type": "code",
   "execution_count": 66,
   "metadata": {
    "collapsed": false
   },
   "outputs": [
    {
     "name": "stdout",
     "output_type": "stream",
     "text": [
      "people drinking with <10 \n",
      "Y    84\n",
      "N     1\n",
      "Name: Drink, dtype: int64\n"
     ]
    }
   ],
   "source": [
    "print 'people drinking with <10 \\n',df_well_data['Drink'][df_well_data.As<=10].value_counts() \n"
   ]
  },
  {
   "cell_type": "markdown",
   "metadata": {},
   "source": [
    "2.  Next use determine the  people drinking from wells with arsenic more than 50. "
   ]
  },
  {
   "cell_type": "code",
   "execution_count": 113,
   "metadata": {
    "collapsed": false
   },
   "outputs": [
    {
     "name": "stdout",
     "output_type": "stream",
     "text": [
      "\n",
      "people drinking with >50 \n",
      "Y    147\n",
      "N     66\n",
      "dtype: int64\n"
     ]
    }
   ],
   "source": []
  },
  {
   "cell_type": "markdown",
   "metadata": {},
   "source": [
    "3.  Now use your logical_and() to determine between 10 and 50.  "
   ]
  },
  {
   "cell_type": "code",
   "execution_count": 115,
   "metadata": {
    "collapsed": false
   },
   "outputs": [
    {
     "name": "stdout",
     "output_type": "stream",
     "text": [
      "\n",
      "people drinking with 10-50 \n",
      "Y    105\n",
      "N      4\n",
      "dtype: int64\n"
     ]
    }
   ],
   "source": []
  },
  {
   "cell_type": "markdown",
   "metadata": {},
   "source": [
    "This is a bad way of looking at the data.  I would like to make bar plot.  Here is my goal.  Can we get there?    Follow the next steps after the plot and see how it goes!"
   ]
  },
  {
   "cell_type": "code",
   "execution_count": 145,
   "metadata": {
    "collapsed": false
   },
   "outputs": [
    {
     "data": {
      "text/plain": [
       "<matplotlib.text.Text at 0x11506128>"
      ]
     },
     "execution_count": 145,
     "metadata": {},
     "output_type": "execute_result"
    },
    {
     "data": {
      "image/png": "[encoded data removed]",
      "text/plain": [
       "<matplotlib.figure.Figure at 0x10b2fe48>"
      ]
     },
     "metadata": {},
     "output_type": "display_data"
    }
   ],
   "source": []
  },
  {
   "cell_type": "markdown",
   "metadata": {},
   "source": [
    "First lets look up bar plot.  http://matplotlib.org/examples/api/barchart_demo.html  This is the example on all the web pages.   We can make sense of it.  Lets do one step at a time.  What plt.bar wants is (x,y,width).  lets do it for As<10 first.  Here is our data again.  "
   ]
  },
  {
   "cell_type": "code",
   "execution_count": 78,
   "metadata": {
    "collapsed": false
   },
   "outputs": [
    {
     "name": "stdout",
     "output_type": "stream",
     "text": [
      "people drinking with <10 \n",
      "Y    84\n",
      "N     1\n",
      "Name: Drink, dtype: int64\n"
     ]
    }
   ],
   "source": [
    "print 'people drinking with <10 \\n',df_well_data['Drink'][df_well_data.As<=10].value_counts() "
   ]
  },
  {
   "cell_type": "markdown",
   "metadata": {},
   "source": [
    "So we want to plot 84 Drink, 1 Doesn't drink.  I will do it longhand first time."
   ]
  },
  {
   "cell_type": "code",
   "execution_count": 74,
   "metadata": {
    "collapsed": false
   },
   "outputs": [
    {
     "data": {
      "text/plain": [
       "<Container object of 1 artists>"
      ]
     },
     "execution_count": 74,
     "metadata": {},
     "output_type": "execute_result"
    },
    {
     "data": {
      "image/png": "[encoded data removed]",
      "text/plain": [
       "<matplotlib.figure.Figure at 0x17e462e8>"
      ]
     },
     "metadata": {},
     "output_type": "display_data"
    }
   ],
   "source": [
    "fig,ax=plt.subplots()\n",
    "ax.bar(0,84)"
   ]
  },
  {
   "cell_type": "markdown",
   "metadata": {},
   "source": [
    "The default width is 0.8 starting from 0.  Now we need to add the doesn't drink.  "
   ]
  },
  {
   "cell_type": "code",
   "execution_count": 79,
   "metadata": {
    "collapsed": false
   },
   "outputs": [
    {
     "data": {
      "text/plain": [
       "<Container object of 1 artists>"
      ]
     },
     "execution_count": 79,
     "metadata": {},
     "output_type": "execute_result"
    },
    {
     "data": {
      "image/png": "[encoded data removed]",
      "text/plain": [
       "<matplotlib.figure.Figure at 0xcda5d30>"
      ]
     },
     "metadata": {},
     "output_type": "display_data"
    }
   ],
   "source": [
    "fig,ax=plt.subplots()\n",
    "ax.bar(0,84)\n",
    "ax.bar(0.8,1)"
   ]
  },
  {
   "cell_type": "markdown",
   "metadata": {},
   "source": [
    "Now we need to add colors and labels for a legend.  "
   ]
  },
  {
   "cell_type": "code",
   "execution_count": 80,
   "metadata": {
    "collapsed": false
   },
   "outputs": [
    {
     "data": {
      "text/plain": [
       "<matplotlib.legend.Legend at 0xd2433c8>"
      ]
     },
     "execution_count": 80,
     "metadata": {},
     "output_type": "execute_result"
    },
    {
     "data": {
      "image/png": "[encoded data removed]",
      "text/plain": [
       "<matplotlib.figure.Figure at 0xd2430f0>"
      ]
     },
     "metadata": {},
     "output_type": "display_data"
    }
   ],
   "source": [
    "fig,ax=plt.subplots()\n",
    "ax.bar(0,84,color='g',label='Drink')\n",
    "ax.bar(0.8,1,color='r',label=\"Doesn't Drink\") #I did double quotes so I could print the single quote\n",
    "ax.legend(loc='best')"
   ]
  },
  {
   "cell_type": "markdown",
   "metadata": {},
   "source": [
    "this is a disaster.  We can't hard wire it all. We need to be better in our programming and be what people call pythonic.  The first trick is setting this fig,ax=plt.subplots()   this will help us get access to all parts of the graph later on and is just telling the program to make one plot in one location. Later in the course we will do multiple subplots.  now instead of setting the x-axis to zero lets use np.arange.  Then also lets set the width. We will also make the second bar start at one width  "
   ]
  },
  {
   "cell_type": "code",
   "execution_count": 81,
   "metadata": {
    "collapsed": false
   },
   "outputs": [
    {
     "data": {
      "text/plain": [
       "<matplotlib.legend.Legend at 0xd4efc50>"
      ]
     },
     "execution_count": 81,
     "metadata": {},
     "output_type": "execute_result"
    },
    {
     "data": {
      "image/png": "[encoded data removed]",
      "text/plain": [
       "<matplotlib.figure.Figure at 0xc7ff1d0>"
      ]
     },
     "metadata": {},
     "output_type": "display_data"
    }
   ],
   "source": [
    "fig,ax=plt.subplots() \n",
    "width=0.35\n",
    "xvalues=np.arange(1)\n",
    "ax.bar(xvalues,84,width,color='g',label='Drink')\n",
    "ax.bar(xvalues+width,1,width,color='r',label=\"Doesn't Drink\") #I did double quotes so I could print the single quote\n",
    "ax.legend(loc='best')"
   ]
  },
  {
   "cell_type": "markdown",
   "metadata": {},
   "source": [
    "Now we are starting to make progress.  But we need the other two sets of bars.  We will need a set of yes and no values.  so we need yes[0],yes[1],yes[2] representing our values.  I would make a nump array of zeros and then fill it in.  So to make a numpy array of zeros.  then fill in the array.  we know the length has to be three."
   ]
  },
  {
   "cell_type": "code",
   "execution_count": 82,
   "metadata": {
    "collapsed": false
   },
   "outputs": [
    {
     "name": "stdout",
     "output_type": "stream",
     "text": [
      "[ 0.  0.  0.]\n"
     ]
    }
   ],
   "source": [
    "yes=np.zeros(3)\n",
    "print yes"
   ]
  },
  {
   "cell_type": "markdown",
   "metadata": {},
   "source": [
    "Now do the same for no.  then set each one equal to the correct result that you have above where you printed out the results.  don't print the results like you did above.  set them to yes,no given the correct array spot.  At the end you should now have yes and no set for the three levels.    "
   ]
  },
  {
   "cell_type": "code",
   "execution_count": 85,
   "metadata": {
    "collapsed": false
   },
   "outputs": [
    {
     "name": "stdout",
     "output_type": "stream",
     "text": [
      "[ 0.  0.  0.]\n"
     ]
    }
   ],
   "source": []
  },
  {
   "cell_type": "markdown",
   "metadata": {},
   "source": [
    "Now I will show you how to add the first yes and no"
   ]
  },
  {
   "cell_type": "code",
   "execution_count": 86,
   "metadata": {
    "collapsed": false
   },
   "outputs": [
    {
     "name": "stdout",
     "output_type": "stream",
     "text": [
      "yes [ 84.   0.   0.]\n",
      "no [ 1.  0.  0.]\n"
     ]
    }
   ],
   "source": [
    "yes[0],no[0]=df_well_data['Drink'][df_well_data.As<=10].value_counts() \n",
    "print 'yes',yes\n",
    "print 'no',no"
   ]
  },
  {
   "cell_type": "markdown",
   "metadata": {},
   "source": [
    "Now can you do the other two?"
   ]
  },
  {
   "cell_type": "code",
   "execution_count": 140,
   "metadata": {
    "collapsed": false
   },
   "outputs": [
    {
     "name": "stdout",
     "output_type": "stream",
     "text": [
      "[  84.  105.  147.] [  1.   4.  66.]\n"
     ]
    }
   ],
   "source": []
  },
  {
   "cell_type": "markdown",
   "metadata": {},
   "source": [
    "Now we can do a bar plot of yes and no.  Go copy and past your barplot code from above.  but now make the x-axis have an np.arange of 3 b/c we want 3 locations.  And don't use the hardwired number put in your new yes and no arrays you just made."
   ]
  },
  {
   "cell_type": "code",
   "execution_count": 141,
   "metadata": {
    "collapsed": false
   },
   "outputs": [
    {
     "data": {
      "text/plain": [
       "<matplotlib.legend.Legend at 0x106ed908>"
      ]
     },
     "execution_count": 141,
     "metadata": {},
     "output_type": "execute_result"
    },
    {
     "data": {
      "image/png": "[encoded data removed]",
      "text/plain": [
       "<matplotlib.figure.Figure at 0x106ede10>"
      ]
     },
     "metadata": {},
     "output_type": "display_data"
    }
   ],
   "source": []
  },
  {
   "cell_type": "markdown",
   "metadata": {},
   "source": [
    "Now you are looking great with a wonderful graph.  lets label everything.  We just need an x-axis labeled correctly.  Also, I would put all the code in one cell so it always works smoothly.  If we go back to our webpage with the example we can use ax.set_xticks(xvalues+width/2) to get us the xticks we want.  then we can add ax.set_xticklabels(('names','names','names')).  We can also use ax.set_xlabel() and ax.set_ylabel()"
   ]
  },
  {
   "cell_type": "code",
   "execution_count": 144,
   "metadata": {
    "collapsed": false
   },
   "outputs": [
    {
     "data": {
      "text/plain": [
       "<matplotlib.text.Text at 0x10f052e8>"
      ]
     },
     "execution_count": 144,
     "metadata": {},
     "output_type": "execute_result"
    },
    {
     "data": {
      "image/png": "[encoded data removed]",
      "text/plain": [
       "<matplotlib.figure.Figure at 0x10b32da0>"
      ]
     },
     "metadata": {},
     "output_type": "display_data"
    }
   ],
   "source": []
  },
  {
   "cell_type": "markdown",
   "metadata": {
    "collapsed": false
   },
   "source": [
    "Now that is a great looking graph. You just need to add a figure caption.  I would write something like\n",
    "\n",
    "Number of wells categorized by if the respondents drink or don't drink from the well and stratified by arsenic concentration."
   ]
  },
  {
   "cell_type": "markdown",
   "metadata": {
    "collapsed": false
   },
   "source": [
    "As a total bonus and if you have time you could change it from the number of wells to the proportion of wells in each category.  "
   ]
  },
  {
   "cell_type": "code",
   "execution_count": 100,
   "metadata": {
    "collapsed": false
   },
   "outputs": [
    {
     "data": {
      "text/plain": [
       "<matplotlib.text.Text at 0x19af3cc0>"
      ]
     },
     "execution_count": 100,
     "metadata": {},
     "output_type": "execute_result"
    },
    {
     "data": {
      "image/png": "[encoded data removed]",
      "text/plain": [
       "<matplotlib.figure.Figure at 0x19035a58>"
      ]
     },
     "metadata": {},
     "output_type": "display_data"
    }
   ],
   "source": []
  },
  {
   "cell_type": "markdown",
   "metadata": {},
   "source": [
    "I thought it might be nice to stack the bars since they add up to 100..... See http://matplotlib.org/examples/pylab_examples/bar_stacked.html  It is \"easy\"  I used the bottom keyword. Then I removed the width offset and tweaked a few other things"
   ]
  },
  {
   "cell_type": "code",
   "execution_count": 106,
   "metadata": {
    "collapsed": false
   },
   "outputs": [
    {
     "data": {
      "text/plain": [
       "<matplotlib.text.Text at 0x1a6b4c18>"
      ]
     },
     "execution_count": 106,
     "metadata": {},
     "output_type": "execute_result"
    },
    {
     "data": {
      "image/png": "[encoded data removed]",
      "text/plain": [
       "<matplotlib.figure.Figure at 0x1991f080>"
      ]
     },
     "metadata": {},
     "output_type": "display_data"
    }
   ],
   "source": []
  },
  {
   "cell_type": "markdown",
   "metadata": {},
   "source": [
    "### Answers"
   ]
  },
  {
   "cell_type": "code",
   "execution_count": 64,
   "metadata": {
    "collapsed": false
   },
   "outputs": [
    {
     "data": {
      "text/plain": [
       "<matplotlib.axes._subplots.AxesSubplot at 0xab52d30>"
      ]
     },
     "execution_count": 64,
     "metadata": {},
     "output_type": "execute_result"
    },
    {
     "data": {
      "image/png": "[encoded data removed]",
      "text/plain": [
       "<matplotlib.figure.Figure at 0xac4c748>"
      ]
     },
     "metadata": {},
     "output_type": "display_data"
    }
   ],
   "source": [
    "df_well_data.boxplot(column='As',by='Drink')"
   ]
  },
  {
   "cell_type": "code",
   "execution_count": 67,
   "metadata": {
    "collapsed": false
   },
   "outputs": [
    {
     "name": "stdout",
     "output_type": "stream",
     "text": [
      "people drinking with <10 \n",
      "Y    84\n",
      "N     1\n",
      "Name: Drink, dtype: int64\n"
     ]
    }
   ],
   "source": [
    "print 'people drinking with <10 \\n',df_well_data['Drink'][df_well_data.As<=10].value_counts() "
   ]
  },
  {
   "cell_type": "code",
   "execution_count": 68,
   "metadata": {
    "collapsed": false
   },
   "outputs": [
    {
     "name": "stdout",
     "output_type": "stream",
     "text": [
      "\n",
      "people drinking with >50 \n",
      "Y    147\n",
      "N     66\n",
      "Name: Drink, dtype: int64\n"
     ]
    }
   ],
   "source": [
    "print '\\npeople drinking with >50 \\n',df_well_data['Drink'][df_well_data.As>=50].value_counts() "
   ]
  },
  {
   "cell_type": "code",
   "execution_count": 69,
   "metadata": {
    "collapsed": false
   },
   "outputs": [
    {
     "name": "stdout",
     "output_type": "stream",
     "text": [
      "\n",
      "people drinking with 10-50 \n",
      "Y    105\n",
      "N      4\n",
      "Name: Drink, dtype: int64\n"
     ]
    }
   ],
   "source": [
    "print '\\npeople drinking with 10-50 \\n',df_well_data['Drink'][(df_well_data.As<=50)&(df_well_data.As>=10)].value_counts() \n"
   ]
  },
  {
   "cell_type": "code",
   "execution_count": 70,
   "metadata": {
    "collapsed": false
   },
   "outputs": [
    {
     "name": "stdout",
     "output_type": "stream",
     "text": [
      "[  84.  105.  147.] [  1.   4.  66.]\n"
     ]
    }
   ],
   "source": [
    "yes=np.zeros(3)\n",
    "no=np.zeros(3)\n",
    "yes[0],no[0]=df_well_data['Drink'][df_well_data.As<=10].value_counts() \n",
    "yes[1],no[1]=df_well_data['Drink'][(df_well_data.As<=50)&(df_well_data.As>=10)].value_counts()\n",
    "yes[2],no[2]=df_well_data['Drink'][df_well_data.As>=50].value_counts() \n",
    "print yes,no"
   ]
  },
  {
   "cell_type": "code",
   "execution_count": 71,
   "metadata": {
    "collapsed": false
   },
   "outputs": [
    {
     "data": {
      "text/plain": [
       "<matplotlib.legend.Legend at 0xc1ed940>"
      ]
     },
     "execution_count": 71,
     "metadata": {},
     "output_type": "execute_result"
    },
    {
     "data": {
      "image/png": "[encoded data removed]",
      "text/plain": [
       "<matplotlib.figure.Figure at 0xc05f908>"
      ]
     },
     "metadata": {},
     "output_type": "display_data"
    }
   ],
   "source": [
    "fig,ax=plt.subplots(1,1) \n",
    "width=0.35\n",
    "xvalues=np.arange(3)\n",
    "ax.bar(xvalues,yes,width,color='g',label='Drink')\n",
    "ax.bar(xvalues+width,no,width,color='r',label=\"Doesn't Drink\") #I did double quotes so I could print the single quote\n",
    "ax.legend(loc='best')"
   ]
  },
  {
   "cell_type": "code",
   "execution_count": 74,
   "metadata": {
    "collapsed": false
   },
   "outputs": [
    {
     "data": {
      "text/plain": [
       "<matplotlib.text.Text at 0xc580710>"
      ]
     },
     "execution_count": 74,
     "metadata": {},
     "output_type": "execute_result"
    },
    {
     "data": {
      "image/png": "[encoded data removed]",
      "text/plain": [
       "<matplotlib.figure.Figure at 0xab2bdd8>"
      ]
     },
     "metadata": {},
     "output_type": "display_data"
    }
   ],
   "source": [
    "yes=np.zeros(3)\n",
    "no=np.zeros(3)\n",
    "yes[0],no[0]=df_well_data['Drink'][df_well_data.As<=10].value_counts() \n",
    "yes[1],no[1]=df_well_data['Drink'][(df_well_data.As<=50)&(df_well_data.As>=10)].value_counts()\n",
    "yes[2],no[2]=df_well_data['Drink'][df_well_data.As>=50].value_counts() \n",
    "\n",
    "fig,ax=plt.subplots(1,1) \n",
    "width=0.35\n",
    "xvalues=np.arange(3)\n",
    "ax.bar(xvalues,yes,width,color='g',label='Drink')\n",
    "ax.bar(xvalues+width,no,width,color='r',label=\"Doesn't Drink\") #I did double quotes so I could print the single quote\n",
    "ax.legend(loc='best')\n",
    "ax.set_xticks(xvalues+width/2)\n",
    "ax.set_xticklabels(('<10','10-50','>50'))\n",
    "ax.set_xlabel('Arsenic Concentration ppb')\n",
    "ax.set_ylabel('Number of wells')"
   ]
  },
  {
   "cell_type": "code",
   "execution_count": 76,
   "metadata": {
    "collapsed": false
   },
   "outputs": [
    {
     "data": {
      "text/plain": [
       "<matplotlib.text.Text at 0xcdd6908>"
      ]
     },
     "execution_count": 76,
     "metadata": {},
     "output_type": "execute_result"
    },
    {
     "data": {
      "image/png": "[encoded data removed]",
      "text/plain": [
       "<matplotlib.figure.Figure at 0xc8fb8d0>"
      ]
     },
     "metadata": {},
     "output_type": "display_data"
    }
   ],
   "source": [
    "yes=np.zeros(3)\n",
    "no=np.zeros(3)\n",
    "\n",
    "yes[0],no[0]=df_well_data['Drink'][df_well_data.As<=10].value_counts() / df_well_data.As[df_well_data.As<=10].count() *100.\n",
    "yes[1],no[1]=df_well_data['Drink'][(df_well_data.As<=50)&(df_well_data.As>=10)].value_counts()\\\n",
    "            /df_well_data.As[(df_well_data.As<=50)&(df_well_data.As>=10)].count() *100.\n",
    "yes[2],no[2]=df_well_data['Drink'][df_well_data.As>=50].value_counts() /df_well_data.As[df_well_data.As>=50].count() *100.\n",
    "\n",
    "\n",
    "fig,ax=plt.subplots(1,1) \n",
    "width=0.35\n",
    "xvalues=np.arange(3)\n",
    "ax.bar(xvalues,yes,width,color='g',label='Drink')\n",
    "ax.bar(xvalues+width,no,width,color='r',label=\"Doesn't Drink\") #I did double quotes so I could print the single quote\n",
    "ax.legend(loc='best')\n",
    "ax.set_xticks(xvalues+width/2)\n",
    "ax.set_xticklabels(('<10','10-50','>50'))\n",
    "ax.set_xlabel('Arsenic Concentration ppb')\n",
    "ax.set_ylabel('Percent of wells used')"
   ]
  },
  {
   "cell_type": "code",
   "execution_count": 77,
   "metadata": {
    "collapsed": false
   },
   "outputs": [
    {
     "data": {
      "text/plain": [
       "<matplotlib.text.Text at 0xcfd63c8>"
      ]
     },
     "execution_count": 77,
     "metadata": {},
     "output_type": "execute_result"
    },
    {
     "data": {
      "image/png": "[encoded data removed]",
      "text/plain": [
       "<matplotlib.figure.Figure at 0xc438b70>"
      ]
     },
     "metadata": {},
     "output_type": "display_data"
    }
   ],
   "source": [
    "yes=np.zeros(3)\n",
    "no=np.zeros(3)\n",
    "yes[0],no[0]=df_well_data['Drink'][df_well_data.As<=10].value_counts() / df_well_data.As[df_well_data.As<=10].count() *100.\n",
    "yes[1],no[1]=df_well_data['Drink'][(df_well_data.As<=50)&(df_well_data.As>=10)].value_counts()\\\n",
    "            /df_well_data.As[(df_well_data.As<=50)&(df_well_data.As>=10)].count() *100.\n",
    "yes[2],no[2]=df_well_data['Drink'][df_well_data.As>=50].value_counts() /df_well_data.As[df_well_data.As>=50].count() *100.\n",
    "\n",
    "fig,ax=plt.subplots(1,1) \n",
    "width=0.35\n",
    "xvalues=np.arange(3)\n",
    "ax.bar(xvalues,yes,width,color='g',label='Drink')\n",
    "ax.bar(xvalues,no,width,color='r',bottom=yes,label=\"Doesn't Drink\") #I did double quotes so I could print the single quote\n",
    "ax.legend(loc=3)  #You can try numbers 1-8 for location. see http://matplotlib.org/1.3.1/users/legend_guide.html\n",
    "ax.set_xticks(xvalues+width/2)\n",
    "ax.set_xticklabels(('<10','10-50','>50'))\n",
    "ax.set_xlabel('Arsenic Concentration ppb')\n",
    "ax.set_ylabel('Percent of wells used')"
   ]
  },
  {
   "cell_type": "code",
   "execution_count": null,
   "metadata": {
    "collapsed": false
   },
   "outputs": [],
   "source": []
  },
  {
   "cell_type": "code",
   "execution_count": null,
   "metadata": {
    "collapsed": true
   },
   "outputs": [],
   "source": []
  }
 ],
 "metadata": {
  "kernelspec": {
   "display_name": "Python 2",
   "language": "python",
   "name": "python2"
  },
  "language_info": {
   "codemirror_mode": {
    "name": "ipython",
    "version": 2
   },
   "file_extension": ".py",
   "mimetype": "text/x-python",
   "name": "python",
   "nbconvert_exporter": "python",
   "pygments_lexer": "ipython2",
   "version": "2.7.12"
  }
 },
 "nbformat": 4,
 "nbformat_minor": 0
}
