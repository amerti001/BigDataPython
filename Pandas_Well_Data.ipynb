{
 "cells": [
  {
   "cell_type": "markdown",
   "metadata": {},
   "source": [
    "# Pandas"
   ]
  },
  {
   "cell_type": "markdown",
   "metadata": {},
   "source": [
    "Today we are going to start using pandas.  Lets review the libraries or packages and what they have done so far.\n",
    "1.  We always start byt typing %matploltlib inline.  This is a magic function that enables us to plot the data right into our ipython notebook\n",
    "2.  we import matplot lib.pylab as plt.  This turns on all the graphing capabilities and then uses the shorthand plt. for when we call functions from matplotlib\n",
    "3.  we import numpy as np.  This turns on math functions and we use the shorthand np.\n",
    "4.  we from scipy we import stats.  scipy gives us a lot of analysis functions and we use linear regression from stats.\n",
    "5.  Now we are also going to use pandas.  Pandas is database management.  It lets us take complicated datasets and anlyze them.  You can think of it like a supercharged excel where you combine the organization of excel with the power of a programming language.  It can do amazing things and I am still learning every day.  So lets get started!\n",
    "1.  What is pandas? http://pandas.pydata.org/index.html  and here is the documentation http://pandas.pydata.org/pandas-docs/version/0.15.2/\n",
    "1.  import pandas as pd!!!!!!\n",
    "1.  On a final note you can see I made a numbered list in markdown. To do that you type a number a period and then two spaces.\n"
   ]
  },
  {
   "cell_type": "code",
   "execution_count": 1,
   "metadata": {
    "collapsed": false
   },
   "outputs": [],
   "source": [
    "%matplotlib inline\n",
    "import pandas as pd\n",
    "import numpy as np\n",
    "import matplotlib.pylab as plt\n",
    "from scipy import stats"
   ]
  },
  {
   "cell_type": "markdown",
   "metadata": {},
   "source": [
    "## Importing files\n",
    "We are going to start by finding our csv file and reading it in"
   ]
  },
  {
   "cell_type": "markdown",
   "metadata": {},
   "source": [
    "I only want to list the csv files so I can see what I can read in.  so I will do ls \\*.csv   the star is a wildcard that means everything and then .csv is only ones that end in .csv.  Today we are going to look at data from well water chemistry in Bangladesh. Specifically arsenic concentrations and if people drink the water.  We will also look at the rest of the chemistry.  We are looking at well water arsenic because drinking water with arsenic has negative long term health impacts.  The US standard for arsenic is 10 ppb or 10 ug/L.  The bangladesh standard is 50 ppb.  Lets see what we can learn!  We are going to try and learn about how many people drink water with 10 or 50 ppb arsenic.  (to show the start I had to type \\\\*)"
   ]
  },
  {
   "cell_type": "code",
   "execution_count": 2,
   "metadata": {
    "collapsed": false
   },
   "outputs": [
    {
     "data": {
      "text/plain": [
       "u'C:\\\\work-teaching\\\\python\\\\fall15\\\\BigDataPython'"
      ]
     },
     "execution_count": 2,
     "metadata": {},
     "output_type": "execute_result"
    }
   ],
   "source": [
    "pwd"
   ]
  },
  {
   "cell_type": "code",
   "execution_count": 3,
   "metadata": {
    "collapsed": false
   },
   "outputs": [
    {
     "name": "stdout",
     "output_type": "stream",
     "text": [
      " Volume in drive C has no label.\n",
      " Volume Serial Number is D0AD-C6E1\n",
      "\n",
      " Directory of C:\\work-teaching\\python\\fall15\\BigDataPython\n",
      "\n",
      "02/24/2015  03:36 PM             1,380 Brian.csv\n",
      "01/22/2015  06:29 PM         4,093,009 central_park.csv\n",
      "03/23/2015  01:15 PM             1,541 CoreEM09GC01.csv\n",
      "03/19/2015  12:38 PM            64,749 fldav_ljo.csv\n",
      "02/13/2015  04:23 PM             2,180 gdp.csv\n",
      "08/31/2015  02:29 PM             1,125 gdp_only.csv\n",
      "08/31/2015  02:26 PM             2,180 gdp2.csv\n",
      "08/11/2015  04:28 PM             1,999 gdp2015.csv\n",
      "02/12/2015  04:46 PM             4,841 GDP-Lifespan.csv\n",
      "03/07/2015  04:01 PM            16,753 Libby_Thesis_Data.csv\n",
      "02/24/2015  02:04 PM            37,289 mystery.csv\n",
      "02/23/2015  10:49 PM               102 twoD1.csv\n",
      "03/27/2015  09:58 AM            53,449 weekly_mlo.csv\n",
      "10/09/2015  10:03 AM            78,927 well_data.csv\n",
      "03/26/2015  03:27 PM               128 well_sites.csv\n",
      "02/27/2015  04:09 PM             2,589 Well-As.csv\n",
      "              16 File(s)      4,362,241 bytes\n",
      "               0 Dir(s)  29,858,533,376 bytes free\n"
     ]
    }
   ],
   "source": [
    "ls *.csv"
   ]
  },
  {
   "cell_type": "markdown",
   "metadata": {},
   "source": [
    "now we read in a well_data.csv.  But I want to use pandas not and not numpy.  "
   ]
  },
  {
   "cell_type": "markdown",
   "metadata": {},
   "source": [
    "But we are going to read in some data and try to analyze it.  open the well_data.csv.  It is for wells from Bangladesh. every well has an id#, a latitude and longitude, Depth, if people drink it and then some concentration data.  lets use readcsv to get read in.  In Pandas you are trying to get your data into a dataframe which is like an excel sheet.  It will have column titles and an indexed for rows.  It is all about the dataframes.  When using pandas people name things 'df' a lot.  That is shorthand for dataframe.  I am not a good namer.."
   ]
  },
  {
   "cell_type": "code",
   "execution_count": 129,
   "metadata": {
    "collapsed": false
   },
   "outputs": [],
   "source": [
    "well_data=pd.read_csv('well_data.csv')"
   ]
  },
  {
   "cell_type": "markdown",
   "metadata": {},
   "source": [
    "The data is now magically in the computers memory even if we can't see it we can access it!"
   ]
  },
  {
   "cell_type": "markdown",
   "metadata": {},
   "source": [
    "## This is important.  Your output may not look like my output.  It changes between computers depending on default settings when you installed.  Don't worry.  If you see data of descriptions you are fine.\n",
    "\n",
    "just typing well_data will give us some descriptions of what we got!  It used the first row for column names!  I used well_data.head() so I would only see a few lines.  The head of the data.  You can also look at .tail().  Or you should just type well_data and see what it gives you!"
   ]
  },
  {
   "cell_type": "code",
   "execution_count": 130,
   "metadata": {
    "collapsed": false
   },
   "outputs": [
    {
     "data": {
      "text/html": [
       "<div>\n",
       "<table border=\"1\" class=\"dataframe\">\n",
       "  <thead>\n",
       "    <tr style=\"text-align: right;\">\n",
       "      <th></th>\n",
       "      <th>Well_ID</th>\n",
       "      <th>Lat</th>\n",
       "      <th>Lon</th>\n",
       "      <th>Depth</th>\n",
       "      <th>Drink</th>\n",
       "      <th>Si</th>\n",
       "      <th>P</th>\n",
       "      <th>S</th>\n",
       "      <th>Ca</th>\n",
       "      <th>Fe</th>\n",
       "      <th>...</th>\n",
       "      <th>Na</th>\n",
       "      <th>Mg</th>\n",
       "      <th>K</th>\n",
       "      <th>Mn</th>\n",
       "      <th>As</th>\n",
       "      <th>Sr</th>\n",
       "      <th>F</th>\n",
       "      <th>Cl</th>\n",
       "      <th>SO4</th>\n",
       "      <th>Br</th>\n",
       "    </tr>\n",
       "  </thead>\n",
       "  <tbody>\n",
       "    <tr>\n",
       "      <th>0</th>\n",
       "      <td>2</td>\n",
       "      <td>23.74</td>\n",
       "      <td>90.31</td>\n",
       "      <td>45</td>\n",
       "      <td>Y</td>\n",
       "      <td>NaN</td>\n",
       "      <td>NaN</td>\n",
       "      <td>NaN</td>\n",
       "      <td>NaN</td>\n",
       "      <td>NaN</td>\n",
       "      <td>...</td>\n",
       "      <td>NaN</td>\n",
       "      <td>NaN</td>\n",
       "      <td>NaN</td>\n",
       "      <td>NaN</td>\n",
       "      <td>NaN</td>\n",
       "      <td>NaN</td>\n",
       "      <td>NaN</td>\n",
       "      <td>NaN</td>\n",
       "      <td>NaN</td>\n",
       "      <td>NaN</td>\n",
       "    </tr>\n",
       "    <tr>\n",
       "      <th>1</th>\n",
       "      <td>14</td>\n",
       "      <td>23.62</td>\n",
       "      <td>90.60</td>\n",
       "      <td>60</td>\n",
       "      <td>Y</td>\n",
       "      <td>NaN</td>\n",
       "      <td>NaN</td>\n",
       "      <td>NaN</td>\n",
       "      <td>NaN</td>\n",
       "      <td>NaN</td>\n",
       "      <td>...</td>\n",
       "      <td>NaN</td>\n",
       "      <td>NaN</td>\n",
       "      <td>NaN</td>\n",
       "      <td>NaN</td>\n",
       "      <td>NaN</td>\n",
       "      <td>NaN</td>\n",
       "      <td>NaN</td>\n",
       "      <td>NaN</td>\n",
       "      <td>NaN</td>\n",
       "      <td>NaN</td>\n",
       "    </tr>\n",
       "    <tr>\n",
       "      <th>2</th>\n",
       "      <td>23</td>\n",
       "      <td>23.94</td>\n",
       "      <td>91.46</td>\n",
       "      <td>60</td>\n",
       "      <td>Y</td>\n",
       "      <td>NaN</td>\n",
       "      <td>NaN</td>\n",
       "      <td>NaN</td>\n",
       "      <td>NaN</td>\n",
       "      <td>NaN</td>\n",
       "      <td>...</td>\n",
       "      <td>NaN</td>\n",
       "      <td>NaN</td>\n",
       "      <td>NaN</td>\n",
       "      <td>NaN</td>\n",
       "      <td>NaN</td>\n",
       "      <td>NaN</td>\n",
       "      <td>NaN</td>\n",
       "      <td>NaN</td>\n",
       "      <td>NaN</td>\n",
       "      <td>NaN</td>\n",
       "    </tr>\n",
       "    <tr>\n",
       "      <th>3</th>\n",
       "      <td>83</td>\n",
       "      <td>23.80</td>\n",
       "      <td>91.33</td>\n",
       "      <td>50</td>\n",
       "      <td>Y</td>\n",
       "      <td>48084.33842</td>\n",
       "      <td>0.936358</td>\n",
       "      <td>2085.570979</td>\n",
       "      <td>54666.48199</td>\n",
       "      <td>1.260031</td>\n",
       "      <td>...</td>\n",
       "      <td>76.207449</td>\n",
       "      <td>26.104825</td>\n",
       "      <td>NaN</td>\n",
       "      <td>1.019154</td>\n",
       "      <td>78.97747</td>\n",
       "      <td>253.528674</td>\n",
       "      <td>0.1669</td>\n",
       "      <td>83.0137</td>\n",
       "      <td>5.6188</td>\n",
       "      <td>0.1512</td>\n",
       "    </tr>\n",
       "    <tr>\n",
       "      <th>4</th>\n",
       "      <td>84</td>\n",
       "      <td>23.98</td>\n",
       "      <td>90.81</td>\n",
       "      <td>150</td>\n",
       "      <td>Y</td>\n",
       "      <td>NaN</td>\n",
       "      <td>NaN</td>\n",
       "      <td>NaN</td>\n",
       "      <td>NaN</td>\n",
       "      <td>NaN</td>\n",
       "      <td>...</td>\n",
       "      <td>NaN</td>\n",
       "      <td>NaN</td>\n",
       "      <td>NaN</td>\n",
       "      <td>NaN</td>\n",
       "      <td>NaN</td>\n",
       "      <td>NaN</td>\n",
       "      <td>NaN</td>\n",
       "      <td>NaN</td>\n",
       "      <td>NaN</td>\n",
       "      <td>NaN</td>\n",
       "    </tr>\n",
       "  </tbody>\n",
       "</table>\n",
       "<p>5 rows × 21 columns</p>\n",
       "</div>"
      ],
      "text/plain": [
       "   Well_ID    Lat    Lon  Depth Drink           Si         P            S  \\\n",
       "0        2  23.74  90.31     45     Y          NaN       NaN          NaN   \n",
       "1       14  23.62  90.60     60     Y          NaN       NaN          NaN   \n",
       "2       23  23.94  91.46     60     Y          NaN       NaN          NaN   \n",
       "3       83  23.80  91.33     50     Y  48084.33842  0.936358  2085.570979   \n",
       "4       84  23.98  90.81    150     Y          NaN       NaN          NaN   \n",
       "\n",
       "            Ca        Fe   ...           Na         Mg   K        Mn  \\\n",
       "0          NaN       NaN   ...          NaN        NaN NaN       NaN   \n",
       "1          NaN       NaN   ...          NaN        NaN NaN       NaN   \n",
       "2          NaN       NaN   ...          NaN        NaN NaN       NaN   \n",
       "3  54666.48199  1.260031   ...    76.207449  26.104825 NaN  1.019154   \n",
       "4          NaN       NaN   ...          NaN        NaN NaN       NaN   \n",
       "\n",
       "         As          Sr       F       Cl     SO4      Br  \n",
       "0       NaN         NaN     NaN      NaN     NaN     NaN  \n",
       "1       NaN         NaN     NaN      NaN     NaN     NaN  \n",
       "2       NaN         NaN     NaN      NaN     NaN     NaN  \n",
       "3  78.97747  253.528674  0.1669  83.0137  5.6188  0.1512  \n",
       "4       NaN         NaN     NaN      NaN     NaN     NaN  \n",
       "\n",
       "[5 rows x 21 columns]"
      ]
     },
     "execution_count": 130,
     "metadata": {},
     "output_type": "execute_result"
    }
   ],
   "source": [
    "well_data.head()"
   ]
  },
  {
   "cell_type": "code",
   "execution_count": null,
   "metadata": {
    "collapsed": true
   },
   "outputs": [],
   "source": [
    "well_data()"
   ]
  },
  {
   "cell_type": "code",
   "execution_count": null,
   "metadata": {
    "collapsed": true
   },
   "outputs": [],
   "source": []
  },
  {
   "cell_type": "markdown",
   "metadata": {},
   "source": [
    "Since we didn't set an index it just numbers each row and calls that the index.  But that doesn't help us.  I think we could set the well_id to the index.  When you look at your data above. see how the numbers on the left have no title but are a little offset.  That is the index.  But what is an index.  I am not sure.  It is sort of like a master column that helps us organize the data.  It will make more sense when we get to timeseries analysis.  That is where pandas shines even more.  But lets set and index and use well_id as that is the most important factor."
   ]
  },
  {
   "cell_type": "code",
   "execution_count": 131,
   "metadata": {
    "collapsed": false
   },
   "outputs": [],
   "source": [
    "well_data=well_data.set_index('Well_ID')"
   ]
  },
  {
   "cell_type": "code",
   "execution_count": 128,
   "metadata": {
    "collapsed": false
   },
   "outputs": [
    {
     "name": "stdout",
     "output_type": "stream",
     "text": [
      "           Lat    Lon  Depth Drink  Si   P   S  Ca  Fe  Ba  Na  Mg   K  Mn  \\\n",
      "Well_ID                                                                      \n",
      "3990     23.36  90.23     45     Y NaN NaN NaN NaN NaN NaN NaN NaN NaN NaN   \n",
      "2497     23.70  91.34     45     Y NaN NaN NaN NaN NaN NaN NaN NaN NaN NaN   \n",
      "3058     23.92  90.47     60     Y NaN NaN NaN NaN NaN NaN NaN NaN NaN NaN   \n",
      "1571     23.77  90.80     45     Y NaN NaN NaN NaN NaN NaN NaN NaN NaN NaN   \n",
      "215      23.74  90.31     45     Y NaN NaN NaN NaN NaN NaN NaN NaN NaN NaN   \n",
      "\n",
      "         As  Sr       F       Cl      SO4      Br  \n",
      "Well_ID                                            \n",
      "3990    NaN NaN  0.0900   26.193  12.0475  0.0112  \n",
      "2497    NaN NaN     NaN      NaN      NaN     NaN  \n",
      "3058    NaN NaN  0.1166  110.248  34.2441  0.0313  \n",
      "1571    NaN NaN     NaN      NaN      NaN     NaN  \n",
      "215     NaN NaN     NaN      NaN      NaN     NaN  \n"
     ]
    }
   ],
   "source": [
    "print well_data.head()"
   ]
  },
  {
   "cell_type": "code",
   "execution_count": null,
   "metadata": {
    "collapsed": false
   },
   "outputs": [],
   "source": []
  },
  {
   "cell_type": "markdown",
   "metadata": {},
   "source": [
    "we can undue the index"
   ]
  },
  {
   "cell_type": "code",
   "execution_count": 135,
   "metadata": {
    "collapsed": false
   },
   "outputs": [],
   "source": [
    "well_data=well_data.reset_index()"
   ]
  },
  {
   "cell_type": "code",
   "execution_count": 136,
   "metadata": {
    "collapsed": false
   },
   "outputs": [
    {
     "data": {
      "text/html": [
       "<div>\n",
       "<table border=\"1\" class=\"dataframe\">\n",
       "  <thead>\n",
       "    <tr style=\"text-align: right;\">\n",
       "      <th></th>\n",
       "      <th>Well_ID</th>\n",
       "      <th>Lat</th>\n",
       "      <th>Lon</th>\n",
       "      <th>Depth</th>\n",
       "      <th>Drink</th>\n",
       "      <th>Si</th>\n",
       "      <th>P</th>\n",
       "      <th>S</th>\n",
       "      <th>Ca</th>\n",
       "      <th>Fe</th>\n",
       "      <th>...</th>\n",
       "      <th>Na</th>\n",
       "      <th>Mg</th>\n",
       "      <th>K</th>\n",
       "      <th>Mn</th>\n",
       "      <th>As</th>\n",
       "      <th>Sr</th>\n",
       "      <th>F</th>\n",
       "      <th>Cl</th>\n",
       "      <th>SO4</th>\n",
       "      <th>Br</th>\n",
       "    </tr>\n",
       "  </thead>\n",
       "  <tbody>\n",
       "    <tr>\n",
       "      <th>0</th>\n",
       "      <td>2</td>\n",
       "      <td>23.74</td>\n",
       "      <td>90.31</td>\n",
       "      <td>45</td>\n",
       "      <td>Y</td>\n",
       "      <td>NaN</td>\n",
       "      <td>NaN</td>\n",
       "      <td>NaN</td>\n",
       "      <td>NaN</td>\n",
       "      <td>NaN</td>\n",
       "      <td>...</td>\n",
       "      <td>NaN</td>\n",
       "      <td>NaN</td>\n",
       "      <td>NaN</td>\n",
       "      <td>NaN</td>\n",
       "      <td>NaN</td>\n",
       "      <td>NaN</td>\n",
       "      <td>NaN</td>\n",
       "      <td>NaN</td>\n",
       "      <td>NaN</td>\n",
       "      <td>NaN</td>\n",
       "    </tr>\n",
       "    <tr>\n",
       "      <th>1</th>\n",
       "      <td>14</td>\n",
       "      <td>23.62</td>\n",
       "      <td>90.60</td>\n",
       "      <td>60</td>\n",
       "      <td>Y</td>\n",
       "      <td>NaN</td>\n",
       "      <td>NaN</td>\n",
       "      <td>NaN</td>\n",
       "      <td>NaN</td>\n",
       "      <td>NaN</td>\n",
       "      <td>...</td>\n",
       "      <td>NaN</td>\n",
       "      <td>NaN</td>\n",
       "      <td>NaN</td>\n",
       "      <td>NaN</td>\n",
       "      <td>NaN</td>\n",
       "      <td>NaN</td>\n",
       "      <td>NaN</td>\n",
       "      <td>NaN</td>\n",
       "      <td>NaN</td>\n",
       "      <td>NaN</td>\n",
       "    </tr>\n",
       "    <tr>\n",
       "      <th>2</th>\n",
       "      <td>23</td>\n",
       "      <td>23.94</td>\n",
       "      <td>91.46</td>\n",
       "      <td>60</td>\n",
       "      <td>Y</td>\n",
       "      <td>NaN</td>\n",
       "      <td>NaN</td>\n",
       "      <td>NaN</td>\n",
       "      <td>NaN</td>\n",
       "      <td>NaN</td>\n",
       "      <td>...</td>\n",
       "      <td>NaN</td>\n",
       "      <td>NaN</td>\n",
       "      <td>NaN</td>\n",
       "      <td>NaN</td>\n",
       "      <td>NaN</td>\n",
       "      <td>NaN</td>\n",
       "      <td>NaN</td>\n",
       "      <td>NaN</td>\n",
       "      <td>NaN</td>\n",
       "      <td>NaN</td>\n",
       "    </tr>\n",
       "    <tr>\n",
       "      <th>3</th>\n",
       "      <td>83</td>\n",
       "      <td>23.80</td>\n",
       "      <td>91.33</td>\n",
       "      <td>50</td>\n",
       "      <td>Y</td>\n",
       "      <td>48084.33842</td>\n",
       "      <td>0.936358</td>\n",
       "      <td>2085.570979</td>\n",
       "      <td>54666.48199</td>\n",
       "      <td>1.260031</td>\n",
       "      <td>...</td>\n",
       "      <td>76.207449</td>\n",
       "      <td>26.104825</td>\n",
       "      <td>NaN</td>\n",
       "      <td>1.019154</td>\n",
       "      <td>78.97747</td>\n",
       "      <td>253.528674</td>\n",
       "      <td>0.1669</td>\n",
       "      <td>83.0137</td>\n",
       "      <td>5.6188</td>\n",
       "      <td>0.1512</td>\n",
       "    </tr>\n",
       "    <tr>\n",
       "      <th>4</th>\n",
       "      <td>84</td>\n",
       "      <td>23.98</td>\n",
       "      <td>90.81</td>\n",
       "      <td>150</td>\n",
       "      <td>Y</td>\n",
       "      <td>NaN</td>\n",
       "      <td>NaN</td>\n",
       "      <td>NaN</td>\n",
       "      <td>NaN</td>\n",
       "      <td>NaN</td>\n",
       "      <td>...</td>\n",
       "      <td>NaN</td>\n",
       "      <td>NaN</td>\n",
       "      <td>NaN</td>\n",
       "      <td>NaN</td>\n",
       "      <td>NaN</td>\n",
       "      <td>NaN</td>\n",
       "      <td>NaN</td>\n",
       "      <td>NaN</td>\n",
       "      <td>NaN</td>\n",
       "      <td>NaN</td>\n",
       "    </tr>\n",
       "  </tbody>\n",
       "</table>\n",
       "<p>5 rows × 21 columns</p>\n",
       "</div>"
      ],
      "text/plain": [
       "   Well_ID    Lat    Lon  Depth Drink           Si         P            S  \\\n",
       "0        2  23.74  90.31     45     Y          NaN       NaN          NaN   \n",
       "1       14  23.62  90.60     60     Y          NaN       NaN          NaN   \n",
       "2       23  23.94  91.46     60     Y          NaN       NaN          NaN   \n",
       "3       83  23.80  91.33     50     Y  48084.33842  0.936358  2085.570979   \n",
       "4       84  23.98  90.81    150     Y          NaN       NaN          NaN   \n",
       "\n",
       "            Ca        Fe   ...           Na         Mg   K        Mn  \\\n",
       "0          NaN       NaN   ...          NaN        NaN NaN       NaN   \n",
       "1          NaN       NaN   ...          NaN        NaN NaN       NaN   \n",
       "2          NaN       NaN   ...          NaN        NaN NaN       NaN   \n",
       "3  54666.48199  1.260031   ...    76.207449  26.104825 NaN  1.019154   \n",
       "4          NaN       NaN   ...          NaN        NaN NaN       NaN   \n",
       "\n",
       "         As          Sr       F       Cl     SO4      Br  \n",
       "0       NaN         NaN     NaN      NaN     NaN     NaN  \n",
       "1       NaN         NaN     NaN      NaN     NaN     NaN  \n",
       "2       NaN         NaN     NaN      NaN     NaN     NaN  \n",
       "3  78.97747  253.528674  0.1669  83.0137  5.6188  0.1512  \n",
       "4       NaN         NaN     NaN      NaN     NaN     NaN  \n",
       "\n",
       "[5 rows x 21 columns]"
      ]
     },
     "execution_count": 136,
     "metadata": {},
     "output_type": "execute_result"
    }
   ],
   "source": [
    "well_data.head()"
   ]
  },
  {
   "cell_type": "markdown",
   "metadata": {},
   "source": [
    "Or we could just read in the data with the index set.  "
   ]
  },
  {
   "cell_type": "code",
   "execution_count": 132,
   "metadata": {
    "collapsed": false
   },
   "outputs": [],
   "source": [
    "well_data=pd.read_csv('well_data.csv',index_col='Well_ID')"
   ]
  },
  {
   "cell_type": "markdown",
   "metadata": {},
   "source": [
    "If you don't know the column name you can use the column number!"
   ]
  },
  {
   "cell_type": "code",
   "execution_count": 11,
   "metadata": {
    "collapsed": false
   },
   "outputs": [],
   "source": [
    "well_data=pd.read_csv('well_data.csv',index_col=0)"
   ]
  },
  {
   "cell_type": "markdown",
   "metadata": {},
   "source": [
    "The first great trick of pandas!"
   ]
  },
  {
   "cell_type": "code",
   "execution_count": null,
   "metadata": {
    "collapsed": false
   },
   "outputs": [],
   "source": [
    "print well_data.describe()"
   ]
  },
  {
   "cell_type": "markdown",
   "metadata": {},
   "source": [
    "A hint of what is to come!  But we just got all of our summary statistics.  "
   ]
  },
  {
   "cell_type": "code",
   "execution_count": null,
   "metadata": {
    "collapsed": false
   },
   "outputs": [],
   "source": [
    "well_data.boxplot()"
   ]
  },
  {
   "cell_type": "markdown",
   "metadata": {},
   "source": [
    "That boxplot was hard to see.  What if we just look at As and Fe?"
   ]
  },
  {
   "cell_type": "code",
   "execution_count": 108,
   "metadata": {
    "collapsed": false
   },
   "outputs": [
    {
     "data": {
      "text/plain": [
       "<matplotlib.text.Text at 0x191e8518>"
      ]
     },
     "execution_count": 108,
     "metadata": {},
     "output_type": "execute_result"
    },
    {
     "data": {
      "image/png": "[encoded data removed]",
      "text/plain": [
       "<matplotlib.figure.Figure at 0x1ab01278>"
      ]
     },
     "metadata": {},
     "output_type": "display_data"
    }
   ],
   "source": [
    "well_data.boxplot(column=['As','Fe'])\n",
    "ax.get_figure().suptitle(\"\") #This line gets rid of text."
   ]
  },
  {
   "cell_type": "markdown",
   "metadata": {},
   "source": [
    "this plotting is a little diffrent then how we have been plotting.  Pandas has some built in plotting so you can make some really nice and quick plots. But these plots are a little harder to customize. So we will both types of plotting depending on the goal.  The goal could be a quick view versus a profesional looking plot.  "
   ]
  },
  {
   "cell_type": "markdown",
   "metadata": {},
   "source": [
    "We can also just get a list of our columns."
   ]
  },
  {
   "cell_type": "code",
   "execution_count": 15,
   "metadata": {
    "collapsed": false
   },
   "outputs": [
    {
     "data": {
      "text/plain": [
       "Index([u'Lat', u'Lon', u'Depth', u'Drink', u'Si', u'P', u'S', u'Ca', u'Fe',\n",
       "       u'Ba', u'Na', u'Mg', u'K', u'Mn', u'As', u'Sr', u'F', u'Cl', u'SO4',\n",
       "       u'Br'],\n",
       "      dtype='object')"
      ]
     },
     "execution_count": 15,
     "metadata": {},
     "output_type": "execute_result"
    }
   ],
   "source": [
    "well_data.columns"
   ]
  },
  {
   "cell_type": "markdown",
   "metadata": {},
   "source": [
    "Remember NaN is not a number.  We are going to use this to our advantage! "
   ]
  },
  {
   "cell_type": "markdown",
   "metadata": {},
   "source": [
    "shape still gives us the shape.  We can call it two different ways"
   ]
  },
  {
   "cell_type": "code",
   "execution_count": 16,
   "metadata": {
    "collapsed": false
   },
   "outputs": [
    {
     "data": {
      "text/plain": [
       "(759, 20)"
      ]
     },
     "execution_count": 16,
     "metadata": {},
     "output_type": "execute_result"
    }
   ],
   "source": [
    "well_data.shape"
   ]
  },
  {
   "cell_type": "code",
   "execution_count": 17,
   "metadata": {
    "collapsed": false
   },
   "outputs": [
    {
     "data": {
      "text/plain": [
       "(759, 20)"
      ]
     },
     "execution_count": 17,
     "metadata": {},
     "output_type": "execute_result"
    }
   ],
   "source": [
    "np.shape(well_data)"
   ]
  },
  {
   "cell_type": "markdown",
   "metadata": {},
   "source": [
    "Now how do we get at our data.  How do we slice it.  There are many ways. lets go through them all.\n",
    "\n",
    ".ix\n",
    "\n",
    ".loc\n",
    "\n",
    ".iloc\n",
    "\n",
    "[]\n",
    "\n",
    "We are going to do a lot of practice and then I tried to make a cheat sheet/table.  Take lots of notes.  "
   ]
  },
  {
   "cell_type": "markdown",
   "metadata": {},
   "source": [
    "[] works like normal except you can only use integers on rows and names on columns.  you can't use integers on both rows and columns.   "
   ]
  },
  {
   "cell_type": "markdown",
   "metadata": {},
   "source": [
    "I am putting .head() on the print statements to save paper. You don't need them."
   ]
  },
  {
   "cell_type": "code",
   "execution_count": 110,
   "metadata": {
    "collapsed": false
   },
   "outputs": [
    {
     "name": "stdout",
     "output_type": "stream",
     "text": [
      "          Lat    Lon  Depth Drink  Si   P   S  Ca  Fe  Ba  Na  Mg   K  Mn  As  \\\n",
      "Well_ID                                                                         \n",
      "2        23.8  90.65     45     Y NaN NaN NaN NaN NaN NaN NaN NaN NaN NaN NaN   \n",
      "14       23.8  90.65     45     Y NaN NaN NaN NaN NaN NaN NaN NaN NaN NaN NaN   \n",
      "23       23.8  90.65     60     Y NaN NaN NaN NaN NaN NaN NaN NaN NaN NaN NaN   \n",
      "83       23.8  90.65     45     Y NaN NaN NaN NaN NaN NaN NaN NaN NaN NaN NaN   \n",
      "84       23.8  90.65     45     Y NaN NaN NaN NaN NaN NaN NaN NaN NaN NaN NaN   \n",
      "\n",
      "         Sr       F       Cl      SO4      Br  \n",
      "Well_ID                                        \n",
      "2       NaN  0.0900   26.193  12.0475  0.0112  \n",
      "14      NaN     NaN      NaN      NaN     NaN  \n",
      "23      NaN  0.1166  110.248  34.2441  0.0313  \n",
      "83      NaN     NaN      NaN      NaN     NaN  \n",
      "84      NaN     NaN      NaN      NaN     NaN  \n"
     ]
    }
   ],
   "source": [
    "print well_data[:].head()  #I am including head to shorten my printouts"
   ]
  },
  {
   "cell_type": "code",
   "execution_count": 111,
   "metadata": {
    "collapsed": false
   },
   "outputs": [
    {
     "name": "stdout",
     "output_type": "stream",
     "text": [
      "Well_ID\n",
      "2    NaN\n",
      "14   NaN\n",
      "23   NaN\n",
      "83   NaN\n",
      "84   NaN\n",
      "Name: As, dtype: float64\n"
     ]
    }
   ],
   "source": [
    "print well_data['As'].head()"
   ]
  },
  {
   "cell_type": "code",
   "execution_count": 112,
   "metadata": {
    "collapsed": false
   },
   "outputs": [
    {
     "name": "stdout",
     "output_type": "stream",
     "text": [
      "Well_ID\n",
      "2    NaN\n",
      "14   NaN\n",
      "23   NaN\n",
      "83   NaN\n",
      "84   NaN\n",
      "Name: As, dtype: float64\n"
     ]
    }
   ],
   "source": [
    "print well_data[:]['As'].head()"
   ]
  },
  {
   "cell_type": "code",
   "execution_count": 114,
   "metadata": {
    "collapsed": false
   },
   "outputs": [
    {
     "name": "stdout",
     "output_type": "stream",
     "text": [
      "Well_ID\n",
      "330     78.977470\n",
      "333     26.400455\n",
      "342     68.556548\n",
      "356           NaN\n",
      "374           NaN\n",
      "389           NaN\n",
      "397           NaN\n",
      "398           NaN\n",
      "402      1.368709\n",
      "403     33.534598\n",
      "410     56.040172\n",
      "414    318.936338\n",
      "415     52.427434\n",
      "417     27.729503\n",
      "418           NaN\n",
      "420     63.935174\n",
      "421           NaN\n",
      "434           NaN\n",
      "475           NaN\n",
      "478           NaN\n",
      "Name: As, dtype: float64\n"
     ]
    }
   ],
   "source": [
    "print well_data[30:50]['As']"
   ]
  },
  {
   "cell_type": "code",
   "execution_count": 24,
   "metadata": {
    "collapsed": false
   },
   "outputs": [
    {
     "name": "stdout",
     "output_type": "stream",
     "text": [
      "Well_ID\n",
      "330    78.977470\n",
      "342    68.556548\n",
      "374          NaN\n",
      "397          NaN\n",
      "402     1.368709\n",
      "410    56.040172\n",
      "415    52.427434\n",
      "418          NaN\n",
      "421          NaN\n",
      "475          NaN\n",
      "Name: As, dtype: float64\n"
     ]
    }
   ],
   "source": [
    "print well_data[30:50:2]['As']"
   ]
  },
  {
   "cell_type": "markdown",
   "metadata": {},
   "source": [
    "But you can pass a list to the columns you want!"
   ]
  },
  {
   "cell_type": "code",
   "execution_count": 26,
   "metadata": {
    "collapsed": false
   },
   "outputs": [
    {
     "name": "stdout",
     "output_type": "stream",
     "text": [
      "                As  Depth\n",
      "Well_ID                  \n",
      "330      78.977470     50\n",
      "342      68.556548     60\n",
      "374            NaN     50\n",
      "397            NaN    150\n",
      "402       1.368709     60\n",
      "410      56.040172     67\n",
      "415      52.427434     50\n",
      "418            NaN     70\n",
      "421            NaN     60\n",
      "475            NaN     75\n"
     ]
    }
   ],
   "source": [
    "print well_data[30:50:2][['As','Depth']]"
   ]
  },
  {
   "cell_type": "markdown",
   "metadata": {},
   "source": [
    "And the order doesn't matter"
   ]
  },
  {
   "cell_type": "code",
   "execution_count": 27,
   "metadata": {
    "collapsed": false
   },
   "outputs": [
    {
     "name": "stdout",
     "output_type": "stream",
     "text": [
      "                As  Depth\n",
      "Well_ID                  \n",
      "330      78.977470     50\n",
      "342      68.556548     60\n",
      "374            NaN     50\n",
      "397            NaN    150\n",
      "402       1.368709     60\n",
      "410      56.040172     67\n",
      "415      52.427434     50\n",
      "418            NaN     70\n",
      "421            NaN     60\n",
      "475            NaN     75\n"
     ]
    }
   ],
   "source": [
    "print well_data[['As','Depth']][30:50:2]"
   ]
  },
  {
   "cell_type": "code",
   "execution_count": 28,
   "metadata": {
    "collapsed": false
   },
   "outputs": [
    {
     "name": "stdout",
     "output_type": "stream",
     "text": [
      "         Depth         As\n",
      "Well_ID                  \n",
      "330         50  78.977470\n",
      "342         60  68.556548\n",
      "374         50        NaN\n",
      "397        150        NaN\n",
      "402         60   1.368709\n",
      "410         67  56.040172\n",
      "415         50  52.427434\n",
      "418         70        NaN\n",
      "421         60        NaN\n",
      "475         75        NaN\n"
     ]
    }
   ],
   "source": [
    "print well_data[['Depth','As']][30:50:2]"
   ]
  },
  {
   "cell_type": "code",
   "execution_count": 156,
   "metadata": {
    "collapsed": false
   },
   "outputs": [],
   "source": []
  },
  {
   "cell_type": "markdown",
   "metadata": {},
   "source": [
    ".loc only uses names of the index and the columns. "
   ]
  },
  {
   "cell_type": "code",
   "execution_count": 115,
   "metadata": {
    "collapsed": false
   },
   "outputs": [
    {
     "name": "stdout",
     "output_type": "stream",
     "text": [
      "          Lat    Lon  Depth Drink  Si   P   S  Ca  Fe  Ba  Na  Mg   K  Mn  As  \\\n",
      "Well_ID                                                                         \n",
      "2        23.8  90.65     45     Y NaN NaN NaN NaN NaN NaN NaN NaN NaN NaN NaN   \n",
      "14       23.8  90.65     45     Y NaN NaN NaN NaN NaN NaN NaN NaN NaN NaN NaN   \n",
      "23       23.8  90.65     60     Y NaN NaN NaN NaN NaN NaN NaN NaN NaN NaN NaN   \n",
      "83       23.8  90.65     45     Y NaN NaN NaN NaN NaN NaN NaN NaN NaN NaN NaN   \n",
      "84       23.8  90.65     45     Y NaN NaN NaN NaN NaN NaN NaN NaN NaN NaN NaN   \n",
      "\n",
      "         Sr       F       Cl      SO4      Br  \n",
      "Well_ID                                        \n",
      "2       NaN  0.0900   26.193  12.0475  0.0112  \n",
      "14      NaN     NaN      NaN      NaN     NaN  \n",
      "23      NaN  0.1166  110.248  34.2441  0.0313  \n",
      "83      NaN     NaN      NaN      NaN     NaN  \n",
      "84      NaN     NaN      NaN      NaN     NaN  \n"
     ]
    }
   ],
   "source": [
    "print well_data.loc[:].head()  #gives us all rows with all indexes"
   ]
  },
  {
   "cell_type": "code",
   "execution_count": 30,
   "metadata": {
    "collapsed": false
   },
   "outputs": [
    {
     "name": "stdout",
     "output_type": "stream",
     "text": [
      "           Lat    Lon  Depth Drink  Si   P   S  Ca  Fe  Ba  Na  Mg   K  Mn  \\\n",
      "Well_ID                                                                      \n",
      "101      23.77  90.63     60     Y NaN NaN NaN NaN NaN NaN NaN NaN NaN NaN   \n",
      "107      23.77  90.63     45     Y NaN NaN NaN NaN NaN NaN NaN NaN NaN NaN   \n",
      "110      23.76  90.63     75     Y NaN NaN NaN NaN NaN NaN NaN NaN NaN NaN   \n",
      "112      23.76  90.63     60     Y NaN NaN NaN NaN NaN NaN NaN NaN NaN NaN   \n",
      "116      23.76  90.63    180     Y NaN NaN NaN NaN NaN NaN NaN NaN NaN NaN   \n",
      "130      23.76  90.63    160     Y NaN NaN NaN NaN NaN NaN NaN NaN NaN NaN   \n",
      "153      23.76  90.63    185     Y NaN NaN NaN NaN NaN NaN NaN NaN NaN NaN   \n",
      "156      23.76  90.63     45     N NaN NaN NaN NaN NaN NaN NaN NaN NaN NaN   \n",
      "\n",
      "         As  Sr       F       Cl      SO4      Br  \n",
      "Well_ID                                            \n",
      "101     NaN NaN     NaN      NaN      NaN     NaN  \n",
      "107     NaN NaN  0.0733  38.9047   8.0634  0.0143  \n",
      "110     NaN NaN  0.1269  51.6880   0.2817  0.0513  \n",
      "112     NaN NaN  0.0907  40.4725  14.6687  0.0277  \n",
      "116     NaN NaN     NaN      NaN      NaN     NaN  \n",
      "130     NaN NaN  0.4539  23.2110   0.4629  0.0565  \n",
      "153     NaN NaN  0.5604   7.8197   0.5005  0.0138  \n",
      "156     NaN NaN  0.0739  48.8797  27.1446  0.0304  \n"
     ]
    }
   ],
   "source": [
    "print well_data.loc[101:156]  \n",
    "#gives us all rows with all indexes but the numbers have to match an index"
   ]
  },
  {
   "cell_type": "code",
   "execution_count": 35,
   "metadata": {
    "collapsed": false
   },
   "outputs": [
    {
     "name": "stdout",
     "output_type": "stream",
     "text": [
      "Lat      23.77\n",
      "Lon      90.63\n",
      "Depth       60\n",
      "Drink        Y\n",
      "Si         NaN\n",
      "P          NaN\n",
      "S          NaN\n",
      "Ca         NaN\n",
      "Fe         NaN\n",
      "Ba         NaN\n",
      "Na         NaN\n",
      "Mg         NaN\n",
      "K          NaN\n",
      "Mn         NaN\n",
      "As         NaN\n",
      "Sr         NaN\n",
      "F          NaN\n",
      "Cl         NaN\n",
      "SO4        NaN\n",
      "Br         NaN\n",
      "Name: 101, dtype: object\n"
     ]
    }
   ],
   "source": [
    "print well_data.loc[101]   # just call one index"
   ]
  },
  {
   "cell_type": "code",
   "execution_count": null,
   "metadata": {
    "collapsed": false
   },
   "outputs": [],
   "source": [
    "print well_data.loc[102]   # if the index doesn't exist you get an error"
   ]
  },
  {
   "cell_type": "code",
   "execution_count": null,
   "metadata": {
    "collapsed": false
   },
   "outputs": [],
   "source": []
  },
  {
   "cell_type": "markdown",
   "metadata": {},
   "source": [
    "But we can use column names"
   ]
  },
  {
   "cell_type": "code",
   "execution_count": 116,
   "metadata": {
    "collapsed": false
   },
   "outputs": [
    {
     "name": "stdout",
     "output_type": "stream",
     "text": [
      "Well_ID\n",
      "2    NaN\n",
      "14   NaN\n",
      "23   NaN\n",
      "83   NaN\n",
      "84   NaN\n",
      "Name: As, dtype: float64\n"
     ]
    }
   ],
   "source": [
    "print well_data.loc[:]['As'].head()"
   ]
  },
  {
   "cell_type": "markdown",
   "metadata": {},
   "source": [
    "Plus it can seperata with commas as well as multiple brackets"
   ]
  },
  {
   "cell_type": "code",
   "execution_count": 117,
   "metadata": {
    "collapsed": false
   },
   "outputs": [
    {
     "name": "stdout",
     "output_type": "stream",
     "text": [
      "Well_ID\n",
      "2    NaN\n",
      "14   NaN\n",
      "23   NaN\n",
      "83   NaN\n",
      "84   NaN\n",
      "Name: As, dtype: float64\n"
     ]
    }
   ],
   "source": [
    "print well_data.loc[:,'As'].head()"
   ]
  },
  {
   "cell_type": "code",
   "execution_count": 41,
   "metadata": {
    "collapsed": false
   },
   "outputs": [
    {
     "name": "stdout",
     "output_type": "stream",
     "text": [
      "<class 'pandas.core.series.Series'>\n",
      "<class 'pandas.core.series.Series'>\n"
     ]
    }
   ],
   "source": [
    "print type(well_data.loc[:]['As'])\n",
    "print type(well_data.loc[:,'As'])"
   ]
  },
  {
   "cell_type": "code",
   "execution_count": 45,
   "metadata": {
    "collapsed": false
   },
   "outputs": [
    {
     "name": "stdout",
     "output_type": "stream",
     "text": [
      "Well_ID\n",
      "330    78.977470\n",
      "342    68.556548\n",
      "374          NaN\n",
      "397          NaN\n",
      "402     1.368709\n",
      "410    56.040172\n",
      "415    52.427434\n",
      "418          NaN\n",
      "421          NaN\n",
      "475          NaN\n",
      "481          NaN\n",
      "488          NaN\n",
      "500    80.627214\n",
      "Name: As, dtype: float64\n"
     ]
    }
   ],
   "source": [
    "print well_data.loc[300:500:2]['As']"
   ]
  },
  {
   "cell_type": "markdown",
   "metadata": {},
   "source": [
    "We can also add a list of names"
   ]
  },
  {
   "cell_type": "code",
   "execution_count": 46,
   "metadata": {
    "collapsed": false
   },
   "outputs": [
    {
     "name": "stdout",
     "output_type": "stream",
     "text": [
      "                As  Depth\n",
      "Well_ID                  \n",
      "330      78.977470     50\n",
      "342      68.556548     60\n",
      "374            NaN     50\n",
      "397            NaN    150\n",
      "402       1.368709     60\n",
      "410      56.040172     67\n",
      "415      52.427434     50\n",
      "418            NaN     70\n",
      "421            NaN     60\n",
      "475            NaN     75\n",
      "481            NaN     60\n",
      "488            NaN     45\n",
      "500      80.627214     60\n"
     ]
    }
   ],
   "source": [
    "print well_data.loc[300:500:2][['As','Depth']]"
   ]
  },
  {
   "cell_type": "markdown",
   "metadata": {},
   "source": [
    "##iloc\n",
    "iloc only uses integers.  So now this is row numbers. NOT the index.  look the Well_ID compared to the iloc numberss"
   ]
  },
  {
   "cell_type": "code",
   "execution_count": 118,
   "metadata": {
    "collapsed": false
   },
   "outputs": [
    {
     "name": "stdout",
     "output_type": "stream",
     "text": [
      "          Lat    Lon  Depth Drink  Si   P   S  Ca  Fe  Ba  Na  Mg   K  Mn  As  \\\n",
      "Well_ID                                                                         \n",
      "2        23.8  90.65     45     Y NaN NaN NaN NaN NaN NaN NaN NaN NaN NaN NaN   \n",
      "14       23.8  90.65     45     Y NaN NaN NaN NaN NaN NaN NaN NaN NaN NaN NaN   \n",
      "23       23.8  90.65     60     Y NaN NaN NaN NaN NaN NaN NaN NaN NaN NaN NaN   \n",
      "83       23.8  90.65     45     Y NaN NaN NaN NaN NaN NaN NaN NaN NaN NaN NaN   \n",
      "84       23.8  90.65     45     Y NaN NaN NaN NaN NaN NaN NaN NaN NaN NaN NaN   \n",
      "\n",
      "         Sr       F       Cl      SO4      Br  \n",
      "Well_ID                                        \n",
      "2       NaN  0.0900   26.193  12.0475  0.0112  \n",
      "14      NaN     NaN      NaN      NaN     NaN  \n",
      "23      NaN  0.1166  110.248  34.2441  0.0313  \n",
      "83      NaN     NaN      NaN      NaN     NaN  \n",
      "84      NaN     NaN      NaN      NaN     NaN  \n"
     ]
    }
   ],
   "source": [
    "print well_data.iloc[:].head()"
   ]
  },
  {
   "cell_type": "code",
   "execution_count": 50,
   "metadata": {
    "collapsed": false
   },
   "outputs": [
    {
     "name": "stdout",
     "output_type": "stream",
     "text": [
      "           Lat    Lon  Depth Drink           Si         P             S  \\\n",
      "Well_ID                                                                   \n",
      "901      23.79  90.65     45     Y          NaN       NaN           NaN   \n",
      "922      23.79  90.65     60     N  39711.04494  1.202475   1713.619468   \n",
      "944      23.79  90.65     45     Y          NaN       NaN           NaN   \n",
      "955      23.79  90.65     45     Y  49486.04857  0.122758  10355.431740   \n",
      "979      23.79  90.65     45     Y  49162.30770  0.343976   2910.615555   \n",
      "\n",
      "                  Ca         Fe          Ba         Na         Mg   K  \\\n",
      "Well_ID                                                                 \n",
      "901              NaN        NaN         NaN        NaN        NaN NaN   \n",
      "922      27794.01714  16.444496  165.007263  35.213826  15.770947 NaN   \n",
      "944              NaN        NaN         NaN        NaN        NaN NaN   \n",
      "955      55082.57902   1.347131  100.353303  49.182460  34.856190 NaN   \n",
      "979      40413.40766   2.146537   72.085959  21.292506  21.030646 NaN   \n",
      "\n",
      "               Mn         As          Sr       F       Cl      SO4      Br  \n",
      "Well_ID                                                                     \n",
      "901           NaN        NaN         NaN     NaN      NaN      NaN     NaN  \n",
      "922      0.748341  79.798479  113.083138     NaN      NaN      NaN     NaN  \n",
      "944           NaN        NaN         NaN     NaN      NaN      NaN     NaN  \n",
      "955      2.786047  48.306119  182.127140  0.1004  77.0646  30.2623  0.0395  \n",
      "979      1.560198  61.065882  150.404752  0.0827  25.0334   8.3055  0.0065  \n"
     ]
    }
   ],
   "source": [
    "print well_data.iloc[101:110:2]"
   ]
  },
  {
   "cell_type": "markdown",
   "metadata": {},
   "source": [
    "and column number.  But we use a column seperator......."
   ]
  },
  {
   "cell_type": "code",
   "execution_count": 51,
   "metadata": {
    "collapsed": false
   },
   "outputs": [
    {
     "name": "stdout",
     "output_type": "stream",
     "text": [
      "Well_ID\n",
      "901         NaN\n",
      "922    1.202475\n",
      "944         NaN\n",
      "955    0.122758\n",
      "979    0.343976\n",
      "Name: P, dtype: float64\n"
     ]
    }
   ],
   "source": [
    "print well_data.iloc[101:110:2,5]"
   ]
  },
  {
   "cell_type": "code",
   "execution_count": 52,
   "metadata": {
    "collapsed": false
   },
   "outputs": [
    {
     "name": "stdout",
     "output_type": "stream",
     "text": [
      "         Depth Drink           Si\n",
      "Well_ID                          \n",
      "901         45     Y          NaN\n",
      "922         60     N  39711.04494\n",
      "944         45     Y          NaN\n",
      "955         45     Y  49486.04857\n",
      "979         45     Y  49162.30770\n"
     ]
    }
   ],
   "source": [
    "print well_data.iloc[101:110:2,2:5]"
   ]
  },
  {
   "cell_type": "markdown",
   "metadata": {},
   "source": [
    "Just to boggles your bind a little....."
   ]
  },
  {
   "cell_type": "code",
   "execution_count": 54,
   "metadata": {
    "collapsed": false
   },
   "outputs": [
    {
     "name": "stdout",
     "output_type": "stream",
     "text": [
      "         Depth         P         Fe\n",
      "Well_ID                            \n",
      "901         45       NaN        NaN\n",
      "922         60  1.202475  16.444496\n",
      "944         45       NaN        NaN\n",
      "955         45  0.122758   1.347131\n",
      "979         45  0.343976   2.146537\n"
     ]
    }
   ],
   "source": [
    "print well_data.iloc[101:110:2,[2,5,8]]  #I just had it show columns 2,5,8"
   ]
  },
  {
   "cell_type": "markdown",
   "metadata": {},
   "source": [
    ".ix does a mixture of .loc and .iloc"
   ]
  },
  {
   "cell_type": "code",
   "execution_count": 55,
   "metadata": {
    "collapsed": false
   },
   "outputs": [
    {
     "name": "stdout",
     "output_type": "stream",
     "text": [
      "         Depth   P  Fe\n",
      "Well_ID               \n",
      "101         60 NaN NaN\n",
      "110         75 NaN NaN\n"
     ]
    }
   ],
   "source": [
    "print well_data.ix[101:110:2,[2,5,8]]"
   ]
  },
  {
   "cell_type": "code",
   "execution_count": 56,
   "metadata": {
    "collapsed": false
   },
   "outputs": [
    {
     "name": "stdout",
     "output_type": "stream",
     "text": [
      "         As  Depth\n",
      "Well_ID           \n",
      "101     NaN     60\n",
      "110     NaN     75\n",
      "116     NaN    180\n",
      "153     NaN    185\n"
     ]
    }
   ],
   "source": [
    "print well_data.ix[101:156:2][['As','Depth']]"
   ]
  },
  {
   "cell_type": "markdown",
   "metadata": {},
   "source": [
    "They say it is better to be explicit and use [],iloc, or loc."
   ]
  },
  {
   "cell_type": "markdown",
   "metadata": {},
   "source": [
    "## Dot notation\n",
    "I am not sure if that is the official name but here is how it works"
   ]
  },
  {
   "cell_type": "markdown",
   "metadata": {},
   "source": [
    "What I didn't show you is a dot notation."
   ]
  },
  {
   "cell_type": "code",
   "execution_count": 119,
   "metadata": {
    "collapsed": false
   },
   "outputs": [
    {
     "data": {
      "text/plain": [
       "Well_ID\n",
       "2    NaN\n",
       "14   NaN\n",
       "23   NaN\n",
       "83   NaN\n",
       "84   NaN\n",
       "Name: As, dtype: float64"
      ]
     },
     "execution_count": 119,
     "metadata": {},
     "output_type": "execute_result"
    }
   ],
   "source": [
    "well_data.As.head()"
   ]
  },
  {
   "cell_type": "code",
   "execution_count": 60,
   "metadata": {
    "collapsed": false
   },
   "outputs": [
    {
     "data": {
      "text/plain": [
       "Well_ID\n",
       "233           NaN\n",
       "237           NaN\n",
       "275           NaN\n",
       "279    139.696393\n",
       "280      5.364619\n",
       "283     15.527153\n",
       "287     43.553692\n",
       "290      4.798313\n",
       "292    150.232701\n",
       "295     28.070949\n",
       "Name: As, dtype: float64"
      ]
     },
     "execution_count": 60,
     "metadata": {},
     "output_type": "execute_result"
    }
   ],
   "source": [
    "well_data.As[20:30]"
   ]
  },
  {
   "cell_type": "markdown",
   "metadata": {},
   "source": [
    "All examples in one place so maybe we can make sense of them?"
   ]
  },
  {
   "cell_type": "markdown",
   "metadata": {},
   "source": [
    "\n",
    "\n",
    "|Name                                     |Description|\n",
    "|-----------------------------------------|-----------------------|\n",
    "|[]||\n",
    "|print well_data[:]          |             all data |\n",
    "|print well_data[:]['As']    |            all arsenic data |\n",
    "|well_data.loc[:,'As']                    |basically the same as above|\n",
    "|print well_data['As']                    |all arsenic data.|\n",
    "|well_data[1:10]['As']              |arsenic data from rows 1-10 excluding 10|\n",
    "|well_data[1:10:2]['As']            |same but skippint by two|\n",
    "|well_data[1:10:2][['As','Depth']]  |for As and depth.  note the double brackets.|\n",
    "|well_data[['As','Depth']][1:10:2]  |order doesn't matter|\n",
    "|well_data[['Depth','As']][1:10:2]  |order doesn't matter.|  \n",
    "|you can't use column numbers...................................  | |\n",
    "\n",
    "|loc| |\n",
    "|---------------------------------:|--------------------------------:|\n",
    "|well_data.loc[:]  |gives us all rows with all columns|\n",
    "|well_data.loc[101:156]  |needs to be an index  Gives us by index number not row number.|\n",
    "|well_data.loc[101:156:2] | and we can skip|\n",
    "|well_data.loc[101:156:2]['As'] | and we can do column names|\n",
    "|well_data.loc[:]['As']|  |\n",
    "|well_data.loc[:,'As'] | is the same as above. I have bugs where one works but other doesn't|\n",
    "|well_data.loc[101:156:2][['As','Depth']]|  we can do multiple columns|\n",
    "|................................................................................| .|\n",
    "\n",
    "\n",
    "|iloc| |\n",
    "|-----------------------------------------|-----------------------|\n",
    "|well_data.iloc[:]                   |gives it all.|\n",
    "|well_data.iloc[101:110:2]           |does row numbers.|\n",
    "|well_data.iloc[101:110:2,5]         |row number by column number|\n",
    "|well_data.iloc[101:110:2,2:5]        |mulitple row multiple number|\n",
    "|well_data.iloc[101:110:2,[2,5,8]]    |select columns|\n",
    "|...........................................................................|.|\n",
    "\n",
    "|ix |I guess we won't use this much|\n",
    "|-----------------------------------------|-----------------------|\n",
    "|well_data.ix[101:156:2][['As','Depth']]||\n",
    "|well_data.ix[101:110:2,[2,5,8]]||\n",
    "\n",
    "\n",
    "|Dot notation. |This can be very nice.|\n",
    "|-----------------------------------------|-----------------------|\n",
    "|well_data.As       |gives all arsenic data|\n",
    "|well_data.As[1:5]  |gives rows 1-5|\n",
    "|...............................................................||\n"
   ]
  },
  {
   "cell_type": "markdown",
   "metadata": {},
   "source": [
    "### You can use boolean choices to get the data you want.  For example I gave the description if people drink or don't drink from their well.  Lets count that.  \n",
    "\n",
    "I am going to do the same thing many different ways!"
   ]
  },
  {
   "cell_type": "code",
   "execution_count": 61,
   "metadata": {
    "collapsed": false
   },
   "outputs": [
    {
     "name": "stdout",
     "output_type": "stream",
     "text": [
      "Y    614\n",
      "N    144\n",
      "dtype: int64\n"
     ]
    }
   ],
   "source": [
    "print well_data['Drink'].value_counts()"
   ]
  },
  {
   "cell_type": "markdown",
   "metadata": {},
   "source": [
    "is the same as"
   ]
  },
  {
   "cell_type": "code",
   "execution_count": 62,
   "metadata": {
    "collapsed": false
   },
   "outputs": [
    {
     "name": "stdout",
     "output_type": "stream",
     "text": [
      "Y    614\n",
      "N    144\n",
      "dtype: int64\n"
     ]
    }
   ],
   "source": [
    "print well_data.Drink.value_counts()"
   ]
  },
  {
   "cell_type": "code",
   "execution_count": 63,
   "metadata": {
    "collapsed": false
   },
   "outputs": [
    {
     "name": "stdout",
     "output_type": "stream",
     "text": [
      "Y    614\n",
      "N    144\n",
      "dtype: int64\n"
     ]
    }
   ],
   "source": [
    "print well_data.iloc[:,3].value_counts()"
   ]
  },
  {
   "cell_type": "code",
   "execution_count": 64,
   "metadata": {
    "collapsed": false
   },
   "outputs": [
    {
     "name": "stdout",
     "output_type": "stream",
     "text": [
      "Y    614\n",
      "N    144\n",
      "dtype: int64\n"
     ]
    }
   ],
   "source": [
    "print well_data.loc[:,'Drink'].value_counts()"
   ]
  },
  {
   "cell_type": "code",
   "execution_count": 65,
   "metadata": {
    "collapsed": false
   },
   "outputs": [
    {
     "name": "stdout",
     "output_type": "stream",
     "text": [
      "Y    614\n",
      "N    144\n",
      "dtype: int64\n"
     ]
    }
   ],
   "source": [
    "print well_data.ix[:,'Drink'].value_counts()"
   ]
  },
  {
   "cell_type": "markdown",
   "metadata": {},
   "source": [
    "Now you should be able to access your data.  I always forget the semantics.  Look online or back at your cheat sheets.  That is why I made the cheat sheet above."
   ]
  },
  {
   "cell_type": "markdown",
   "metadata": {},
   "source": [
    "Now we can sub-select data very easily.  "
   ]
  },
  {
   "cell_type": "markdown",
   "metadata": {},
   "source": [
    "We can return a boolean based on results.  "
   ]
  },
  {
   "cell_type": "code",
   "execution_count": 121,
   "metadata": {
    "collapsed": false
   },
   "outputs": [
    {
     "name": "stdout",
     "output_type": "stream",
     "text": [
      "Well_ID\n",
      "2          True\n",
      "14         True\n",
      "23         True\n",
      "83         True\n",
      "84         True\n",
      "93         True\n",
      "101        True\n",
      "107        True\n",
      "110        True\n",
      "112        True\n",
      "116        True\n",
      "130        True\n",
      "153        True\n",
      "156       False\n",
      "166        True\n",
      "173        True\n",
      "176        True\n",
      "205        True\n",
      "214        True\n",
      "217        True\n",
      "233        True\n",
      "237        True\n",
      "275        True\n",
      "279       False\n",
      "280        True\n",
      "283        True\n",
      "287        True\n",
      "290        True\n",
      "292        True\n",
      "295        True\n",
      "          ...  \n",
      "7808      False\n",
      "7814       True\n",
      "7817      False\n",
      "7832      False\n",
      "7835       True\n",
      "7840       True\n",
      "7851       True\n",
      "7867       True\n",
      "7868       True\n",
      "7871       True\n",
      "7880       True\n",
      "7886       True\n",
      "7888       True\n",
      "7949       True\n",
      "7953       True\n",
      "7954       True\n",
      "7959       True\n",
      "7960       True\n",
      "7968       True\n",
      "7973       True\n",
      "7974       True\n",
      "7979       True\n",
      "7984       True\n",
      "7993       True\n",
      "7996       True\n",
      "7997       True\n",
      "7998       True\n",
      "70100     False\n",
      "72000     False\n",
      "140000    False\n",
      "Name: Drink, dtype: bool\n"
     ]
    }
   ],
   "source": [
    "print well_data['Drink']=='Y'"
   ]
  },
  {
   "cell_type": "markdown",
   "metadata": {},
   "source": [
    "Also do it with the dot notation"
   ]
  },
  {
   "cell_type": "code",
   "execution_count": null,
   "metadata": {
    "collapsed": false
   },
   "outputs": [],
   "source": [
    "print well_data.Drink=='Y'"
   ]
  },
  {
   "cell_type": "markdown",
   "metadata": {},
   "source": [
    "What if we only wanted arsenic concentrations where people drink the water?"
   ]
  },
  {
   "cell_type": "code",
   "execution_count": 122,
   "metadata": {
    "collapsed": false
   },
   "outputs": [
    {
     "name": "stdout",
     "output_type": "stream",
     "text": [
      "Well_ID\n",
      "2    NaN\n",
      "14   NaN\n",
      "23   NaN\n",
      "83   NaN\n",
      "84   NaN\n",
      "Name: As, dtype: float64\n"
     ]
    }
   ],
   "source": [
    "print well_data['As'][well_data.Drink=='Y'].head()"
   ]
  },
  {
   "cell_type": "markdown",
   "metadata": {},
   "source": [
    "Could we ask what are the well id's for people who drink water and their arsenic is greater than 250 ppb.  This would be poeple with high exposure!  We would need to use an and statement.  In pandas you use a logical_and().  For example if we wanted we could then try to convinces these households to switch.  "
   ]
  },
  {
   "cell_type": "code",
   "execution_count": 70,
   "metadata": {
    "collapsed": false
   },
   "outputs": [
    {
     "name": "stdout",
     "output_type": "stream",
     "text": [
      "Well_ID\n",
      "493     271.752307\n",
      "1145    282.519542\n",
      "1165    267.553524\n",
      "1440    351.206317\n",
      "1469    270.785974\n",
      "1868    285.971884\n",
      "1919    506.750799\n",
      "2071    255.620635\n",
      "2303    700.890000\n",
      "2875    309.920000\n",
      "2880    368.900000\n",
      "2900    304.690000\n",
      "2917    422.070000\n",
      "3763    439.690000\n",
      "4824    339.300000\n",
      "7835    256.610000\n",
      "7851    299.530000\n",
      "7993    308.880000\n",
      "Name: As, dtype: float64\n"
     ]
    }
   ],
   "source": [
    "print well_data['As'][np.logical_and(well_data.Drink=='Y',well_data.As>250)]"
   ]
  },
  {
   "cell_type": "markdown",
   "metadata": {},
   "source": [
    "Can we look at who drinks from their wells and if they don't drink is it beacuse it has more arsenic?"
   ]
  },
  {
   "cell_type": "code",
   "execution_count": 71,
   "metadata": {
    "collapsed": false
   },
   "outputs": [
    {
     "name": "stdout",
     "output_type": "stream",
     "text": [
      "count    336.000000\n",
      "mean      72.484421\n",
      "std       91.571489\n",
      "min        0.000000\n",
      "25%        9.962403\n",
      "50%       39.975000\n",
      "75%       99.294435\n",
      "max      700.890000\n",
      "Name: As, dtype: float64\n",
      "count     71.000000\n",
      "mean     171.105792\n",
      "std      107.308224\n",
      "min        1.368709\n",
      "25%       81.614239\n",
      "50%      150.250000\n",
      "75%      250.245000\n",
      "max      473.340000\n",
      "Name: As, dtype: float64\n"
     ]
    }
   ],
   "source": [
    "print well_data['As'][well_data.Drink=='Y'].describe() \n",
    "print well_data['As'][well_data.Drink=='N'].describe()"
   ]
  },
  {
   "cell_type": "markdown",
   "metadata": {},
   "source": [
    "Could we disply this data?  "
   ]
  },
  {
   "cell_type": "code",
   "execution_count": 72,
   "metadata": {
    "collapsed": false
   },
   "outputs": [
    {
     "data": {
      "text/plain": [
       "{'boxes': [<matplotlib.lines.Line2D at 0x17e0a6d8>],\n",
       " 'caps': [<matplotlib.lines.Line2D at 0x17d92b00>,\n",
       "  <matplotlib.lines.Line2D at 0x17e0a898>],\n",
       " 'fliers': [<matplotlib.lines.Line2D at 0x17e1a3c8>],\n",
       " 'means': [],\n",
       " 'medians': [<matplotlib.lines.Line2D at 0x17e0ae10>],\n",
       " 'whiskers': [<matplotlib.lines.Line2D at 0x17db2160>,\n",
       "  <matplotlib.lines.Line2D at 0x17d9b2b0>]}"
      ]
     },
     "execution_count": 72,
     "metadata": {},
     "output_type": "execute_result"
    },
    {
     "data": {
      "image/png": "[encoded data removed]",
      "text/plain": [
       "<matplotlib.figure.Figure at 0x17d79a90>"
      ]
     },
     "metadata": {},
     "output_type": "display_data"
    }
   ],
   "source": [
    "well_data.boxplot(column='As')"
   ]
  },
  {
   "cell_type": "markdown",
   "metadata": {},
   "source": [
    "But we really want two boxplots.  One for people who drink and one for people who don't drink.  I wasn't sure how to do it?  So I googles pandas boxplot.  Here are two of the links I got.  See if you can figure it out!\n",
    "\n",
    "\n",
    "http://pandas-docs.github.io/pandas-docs-travis/visualization.html#box-plots\n",
    "\n",
    "http://stackoverflow.com/questions/23232989/boxplot-stratified-by-column-in-python-pandas"
   ]
  },
  {
   "cell_type": "code",
   "execution_count": 73,
   "metadata": {
    "collapsed": false
   },
   "outputs": [
    {
     "data": {
      "text/plain": [
       "<matplotlib.axes._subplots.AxesSubplot at 0x17d79160>"
      ]
     },
     "execution_count": 73,
     "metadata": {},
     "output_type": "execute_result"
    },
    {
     "data": {
      "image/png": "[encoded data removed]",
      "text/plain": [
       "<matplotlib.figure.Figure at 0x17e34400>"
      ]
     },
     "metadata": {},
     "output_type": "display_data"
    }
   ],
   "source": []
  },
  {
   "cell_type": "markdown",
   "metadata": {},
   "source": [
    "What difference do you notice about the arsenic concentrations of peeople drinking from their wells?"
   ]
  },
  {
   "cell_type": "markdown",
   "metadata": {},
   "source": [
    "For our final exercise. Lets put it together and get data and then see if we can plot it.  I want to know the number of people who are drinking from there wells based on the arsenic concentrations.  Can we do the reverse.  if the arsenic is <10,10-50, and >50 what is the value counts of drinking and not drinking.  I chose these numbers because 10 ppb is the EPA and WHO drinking water limit.  50 ppb is the Bangladesh drinking water limit.  We see negative health effects at 10ppb.    "
   ]
  },
  {
   "cell_type": "markdown",
   "metadata": {},
   "source": [
    "I would first just try and break the data into 3 groups and print out the results.  So use your way of selecting data and select data based on the levels of arsenic.  To do between 10 and 50 you will need to use an and statement and how to do those is different.  you need to use the logical_and() fucntion.  numpy logical_and(argument1, argument2) works by taking tow arguments and then returning what happens the same way as if you did an and.  but it works better.  \n",
    "\n",
    "Three Groups\n",
    "1.  <10 ppb arsenic\n",
    "1.  10-50 ppb arsenic\n",
    "1.  \\>50 ppb arsenic\n",
    "\n",
    "1.  Print out the number of people drinking from wells with arsenic less than 10.  you can use value_counts() and your selection method."
   ]
  },
  {
   "cell_type": "code",
   "execution_count": 112,
   "metadata": {
    "collapsed": false
   },
   "outputs": [
    {
     "name": "stdout",
     "output_type": "stream",
     "text": [
      "people drinking with <10 \n",
      "Y    84\n",
      "N     1\n",
      "dtype: int64\n"
     ]
    }
   ],
   "source": [
    "print 'people drinking with <10 \\n',well_data['Drink'][well_data.As<=10].value_counts() \n"
   ]
  },
  {
   "cell_type": "markdown",
   "metadata": {},
   "source": [
    "2.  Next use determine the  people drinking from wells with arsenic more than 50. "
   ]
  },
  {
   "cell_type": "code",
   "execution_count": 113,
   "metadata": {
    "collapsed": false
   },
   "outputs": [
    {
     "name": "stdout",
     "output_type": "stream",
     "text": [
      "\n",
      "people drinking with >50 \n",
      "Y    147\n",
      "N     66\n",
      "dtype: int64\n"
     ]
    }
   ],
   "source": []
  },
  {
   "cell_type": "markdown",
   "metadata": {},
   "source": [
    "3.  Now use your logical_and() to determine between 10 and 50.  "
   ]
  },
  {
   "cell_type": "code",
   "execution_count": 115,
   "metadata": {
    "collapsed": false
   },
   "outputs": [
    {
     "name": "stdout",
     "output_type": "stream",
     "text": [
      "\n",
      "people drinking with 10-50 \n",
      "Y    105\n",
      "N      4\n",
      "dtype: int64\n"
     ]
    }
   ],
   "source": []
  },
  {
   "cell_type": "markdown",
   "metadata": {},
   "source": [
    "This is a bad way of looking at the data.  I would like to make bar plot.  Here is my goal.  Cand we get there?  "
   ]
  },
  {
   "cell_type": "code",
   "execution_count": 145,
   "metadata": {
    "collapsed": false
   },
   "outputs": [
    {
     "data": {
      "text/plain": [
       "<matplotlib.text.Text at 0x11506128>"
      ]
     },
     "execution_count": 145,
     "metadata": {},
     "output_type": "execute_result"
    },
    {
     "data": {
      "image/png": "[encoded data removed]",
      "text/plain": [
       "<matplotlib.figure.Figure at 0x10b2fe48>"
      ]
     },
     "metadata": {},
     "output_type": "display_data"
    }
   ],
   "source": []
  },
  {
   "cell_type": "markdown",
   "metadata": {},
   "source": [
    "First lets look up bar plot.  http://matplotlib.org/examples/api/barchart_demo.html  This is the example on all the web pages.   We can make sense of it.  Lets do one step at a time.  What plt.bar wants is (x,y,width).  lets do it for As<10 first.  Here is our data again.  "
   ]
  },
  {
   "cell_type": "code",
   "execution_count": 122,
   "metadata": {
    "collapsed": false
   },
   "outputs": [
    {
     "name": "stdout",
     "output_type": "stream",
     "text": [
      "people drinking with <10 \n",
      "Y    84\n",
      "N     1\n",
      "dtype: int64\n"
     ]
    }
   ],
   "source": [
    "print 'people drinking with <10 \\n',well_data['Drink'][well_data.As<=10].value_counts() "
   ]
  },
  {
   "cell_type": "markdown",
   "metadata": {},
   "source": [
    "So we want to plot 84 Drink, 1 Doesn't drink.  I will do it longhand first time."
   ]
  },
  {
   "cell_type": "code",
   "execution_count": 74,
   "metadata": {
    "collapsed": false
   },
   "outputs": [
    {
     "data": {
      "text/plain": [
       "<Container object of 1 artists>"
      ]
     },
     "execution_count": 74,
     "metadata": {},
     "output_type": "execute_result"
    },
    {
     "data": {
      "image/png": "[encoded data removed]",
      "text/plain": [
       "<matplotlib.figure.Figure at 0x17e462e8>"
      ]
     },
     "metadata": {},
     "output_type": "display_data"
    }
   ],
   "source": [
    "fig,ax=plt.subplots()\n",
    "ax.bar(0,84)"
   ]
  },
  {
   "cell_type": "markdown",
   "metadata": {},
   "source": [
    "The default width is 0.8 starting from 0.  Now we need to add the doesn't drink.  "
   ]
  },
  {
   "cell_type": "code",
   "execution_count": 75,
   "metadata": {
    "collapsed": false
   },
   "outputs": [
    {
     "data": {
      "text/plain": [
       "<Container object of 1 artists>"
      ]
     },
     "execution_count": 75,
     "metadata": {},
     "output_type": "execute_result"
    },
    {
     "data": {
      "image/png": "[encoded data removed]",
      "text/plain": [
       "<matplotlib.figure.Figure at 0x184b8898>"
      ]
     },
     "metadata": {},
     "output_type": "display_data"
    }
   ],
   "source": [
    "fig,ax=plt.subplots()\n",
    "ax.bar(0,84)\n",
    "ax.bar(0.8,1)"
   ]
  },
  {
   "cell_type": "markdown",
   "metadata": {},
   "source": [
    "Now we need to add colors and labels for a legend.  "
   ]
  },
  {
   "cell_type": "code",
   "execution_count": 77,
   "metadata": {
    "collapsed": false
   },
   "outputs": [
    {
     "data": {
      "text/plain": [
       "<matplotlib.legend.Legend at 0x174359b0>"
      ]
     },
     "execution_count": 77,
     "metadata": {},
     "output_type": "execute_result"
    },
    {
     "data": {
      "image/png": "[encoded data removed]",
      "text/plain": [
       "<matplotlib.figure.Figure at 0x18a19a90>"
      ]
     },
     "metadata": {},
     "output_type": "display_data"
    }
   ],
   "source": [
    "fig,ax=plt.subplots()\n",
    "ax.bar(0,84,color='g',label='Drink')\n",
    "ax.bar(0.8,1,color='r',label=\"Doesn't Drink\") #I did double quotes so I could print the single quote\n",
    "ax.legend(loc='best')"
   ]
  },
  {
   "cell_type": "markdown",
   "metadata": {},
   "source": [
    "this is a disaster.  We can't hard wire it all. We need to be better in our programming and be what people call pythonic.  The first trick is setting this fig,ax=plt.subplots()   this will help us get access to all parts of the graph later on and is just telling the program to make one plot in one location. Later in the course we will do multiple subplots.  now instead of setting the x-axis to zero lets use np.arange.  Then also lets set the width. We will also make the second bar start at one width  "
   ]
  },
  {
   "cell_type": "code",
   "execution_count": 78,
   "metadata": {
    "collapsed": false
   },
   "outputs": [
    {
     "data": {
      "text/plain": [
       "<matplotlib.legend.Legend at 0x18c5ea58>"
      ]
     },
     "execution_count": 78,
     "metadata": {},
     "output_type": "execute_result"
    },
    {
     "data": {
      "image/png": "[encoded data removed]",
      "text/plain": [
       "<matplotlib.figure.Figure at 0x18c5e5f8>"
      ]
     },
     "metadata": {},
     "output_type": "display_data"
    }
   ],
   "source": [
    "fig,ax=plt.subplots() \n",
    "width=0.35\n",
    "xvalues=np.arange(1)\n",
    "ax.bar(xvalues,84,width,color='g',label='Drink')\n",
    "ax.bar(xvalues+width,1,width,color='r',label=\"Doesn't Drink\") #I did double quotes so I could print the single quote\n",
    "ax.legend(loc='best')"
   ]
  },
  {
   "cell_type": "markdown",
   "metadata": {},
   "source": [
    "Now we are starting to make progress.  But we need the other two sets of bars.  We will need a set of yes and no values.  so we need yes[0],yes[1],yes[2] representing our values.  I would make a nump array of zeros and then fill it in.  So to make a numpy array of zeros.  then fill in the array.  we know the length has to be three."
   ]
  },
  {
   "cell_type": "code",
   "execution_count": 79,
   "metadata": {
    "collapsed": false
   },
   "outputs": [
    {
     "name": "stdout",
     "output_type": "stream",
     "text": [
      "[ 0.  0.  0.]\n"
     ]
    }
   ],
   "source": [
    "yes=np.zeros(3)\n",
    "print yes"
   ]
  },
  {
   "cell_type": "markdown",
   "metadata": {},
   "source": [
    "Now do the same for no.  then set each one equal to the correct result that you have above where you printed out the results.  don't print the results like you did above.  set them to yes,no given the correct array spot.  At the end you should now have yes and no set for the three levels.    "
   ]
  },
  {
   "cell_type": "code",
   "execution_count": 140,
   "metadata": {
    "collapsed": false
   },
   "outputs": [
    {
     "name": "stdout",
     "output_type": "stream",
     "text": [
      "[  84.  105.  147.] [  1.   4.  66.]\n"
     ]
    }
   ],
   "source": []
  },
  {
   "cell_type": "markdown",
   "metadata": {},
   "source": [
    "Now we can do a bar plot of yes and no.  Go copy and past your barplot code from above.  but now make the x-axis have an np.arange of 3 b/c we want 3 locations.  And don't use the hardwired number put in your new yes and no arrays you just made."
   ]
  },
  {
   "cell_type": "code",
   "execution_count": 141,
   "metadata": {
    "collapsed": false
   },
   "outputs": [
    {
     "data": {
      "text/plain": [
       "<matplotlib.legend.Legend at 0x106ed908>"
      ]
     },
     "execution_count": 141,
     "metadata": {},
     "output_type": "execute_result"
    },
    {
     "data": {
      "image/png": "[encoded data removed]",
      "text/plain": [
       "<matplotlib.figure.Figure at 0x106ede10>"
      ]
     },
     "metadata": {},
     "output_type": "display_data"
    }
   ],
   "source": []
  },
  {
   "cell_type": "markdown",
   "metadata": {},
   "source": [
    "Now you are looking great with a wonderful graph.  lets label everything.  We just need an x-axis labeled correctly.  Also, I would put all the code in one cell so it always works smoothly.  If we go back to our webpage with the example we can use ax.set_xticks(xvalues+width) to get us the xticks we want.  then we can add ax.set_xticklabels(('names','names','names')).  We can also use ax.set_xlabel() and ax.set_ylabel()"
   ]
  },
  {
   "cell_type": "code",
   "execution_count": 144,
   "metadata": {
    "collapsed": false
   },
   "outputs": [
    {
     "data": {
      "text/plain": [
       "<matplotlib.text.Text at 0x10f052e8>"
      ]
     },
     "execution_count": 144,
     "metadata": {},
     "output_type": "execute_result"
    },
    {
     "data": {
      "image/png": "[encoded data removed]",
      "text/plain": [
       "<matplotlib.figure.Figure at 0x10b32da0>"
      ]
     },
     "metadata": {},
     "output_type": "display_data"
    }
   ],
   "source": []
  },
  {
   "cell_type": "markdown",
   "metadata": {
    "collapsed": false
   },
   "source": [
    "Now that is a great looking graph. You just need to add a figure caption.  I would write something like\n",
    "\n",
    "Number of wells categorized by if the respondents drink or don't drink from the well and stratified by arsenic concentration."
   ]
  },
  {
   "cell_type": "markdown",
   "metadata": {
    "collapsed": false
   },
   "source": [
    "As a total bonus and if you have time you could change it from the number of wells to the proportion of wells in each category.  "
   ]
  },
  {
   "cell_type": "code",
   "execution_count": 100,
   "metadata": {
    "collapsed": false
   },
   "outputs": [
    {
     "data": {
      "text/plain": [
       "<matplotlib.text.Text at 0x19af3cc0>"
      ]
     },
     "execution_count": 100,
     "metadata": {},
     "output_type": "execute_result"
    },
    {
     "data": {
      "image/png": "[encoded data removed]",
      "text/plain": [
       "<matplotlib.figure.Figure at 0x19035a58>"
      ]
     },
     "metadata": {},
     "output_type": "display_data"
    }
   ],
   "source": [
    "yes=np.zeros(3)\n",
    "no=np.zeros(3)\n",
    "yes[0],no[0]=well_data['Drink'][well_data.As<=10].value_counts() / well_data.As[well_data.As<=10].count() *100.\n",
    "yes[1],no[1]=well_data['Drink'][np.logical_and(well_data.As<=50,well_data.As>=10)].value_counts()\\\n",
    "            /well_data.As[np.logical_and(well_data.As<=50,well_data.As>=10)].count() *100.\n",
    "yes[2],no[2]=well_data['Drink'][well_data.As>=50].value_counts() /well_data.As[well_data.As>=50].count() *100.\n",
    "\n",
    "fig,ax=plt.subplots(1,1) \n",
    "width=0.35\n",
    "xvalues=np.arange(3)\n",
    "ax.bar(xvalues,yes,width,color='g',label='Drink')\n",
    "ax.bar(xvalues+width,no,width,color='r',label=\"Doesn't Drink\") #I did double quotes so I could print the single quote\n",
    "ax.legend(loc='best')\n",
    "ax.set_xticks(xvalues+width)\n",
    "ax.set_xticklabels(('<10','10-50','>50'))\n",
    "ax.set_xlabel('Arsenic Concentration ppb')\n",
    "ax.set_ylabel('Percent of wells used')"
   ]
  },
  {
   "cell_type": "markdown",
   "metadata": {},
   "source": [
    "I thought it might be nice to stack the bars since they add up to 100..... See http://matplotlib.org/examples/pylab_examples/bar_stacked.html  It is \"easy\"  I used the bottom keyword. Then I removed the width offset and tweaked a few other things"
   ]
  },
  {
   "cell_type": "code",
   "execution_count": 106,
   "metadata": {
    "collapsed": false
   },
   "outputs": [
    {
     "data": {
      "text/plain": [
       "<matplotlib.text.Text at 0x1a6b4c18>"
      ]
     },
     "execution_count": 106,
     "metadata": {},
     "output_type": "execute_result"
    },
    {
     "data": {
      "image/png": "[encoded data removed]",
      "text/plain": [
       "<matplotlib.figure.Figure at 0x1991f080>"
      ]
     },
     "metadata": {},
     "output_type": "display_data"
    }
   ],
   "source": []
  },
  {
   "cell_type": "markdown",
   "metadata": {},
   "source": [
    "### Answers"
   ]
  },
  {
   "cell_type": "code",
   "execution_count": 100,
   "metadata": {
    "collapsed": false
   },
   "outputs": [
    {
     "data": {
      "text/plain": [
       "<matplotlib.axes._subplots.AxesSubplot at 0xd40ce48>"
      ]
     },
     "execution_count": 100,
     "metadata": {},
     "output_type": "execute_result"
    },
    {
     "data": {
      "image/png": "[encoded data removed]",
      "text/plain": [
       "<matplotlib.figure.Figure at 0xd40fcf8>"
      ]
     },
     "metadata": {},
     "output_type": "display_data"
    }
   ],
   "source": [
    "well_data.boxplot(column='As',by='Drink')"
   ]
  },
  {
   "cell_type": "code",
   "execution_count": 117,
   "metadata": {
    "collapsed": false
   },
   "outputs": [
    {
     "name": "stdout",
     "output_type": "stream",
     "text": [
      "people drinking with <10 \n",
      "Y    84\n",
      "N     1\n",
      "dtype: int64\n"
     ]
    }
   ],
   "source": [
    "print 'people drinking with <10 \\n',well_data['Drink'][well_data.As<=10].value_counts() "
   ]
  },
  {
   "cell_type": "code",
   "execution_count": 118,
   "metadata": {
    "collapsed": false
   },
   "outputs": [
    {
     "name": "stdout",
     "output_type": "stream",
     "text": [
      "\n",
      "people drinking with >50 \n",
      "Y    147\n",
      "N     66\n",
      "dtype: int64\n"
     ]
    }
   ],
   "source": [
    "print '\\npeople drinking with >50 \\n',well_data['Drink'][well_data.As>=50].value_counts() "
   ]
  },
  {
   "cell_type": "code",
   "execution_count": 95,
   "metadata": {
    "collapsed": false
   },
   "outputs": [
    {
     "name": "stdout",
     "output_type": "stream",
     "text": [
      "\n",
      "people drinking with 10-50 \n",
      "Y    105\n",
      "N      4\n",
      "dtype: int64\n"
     ]
    }
   ],
   "source": [
    "print '\\npeople drinking with 10-50 \\n',well_data['Drink'][np.logical_and(well_data.As<=50,well_data.As>=10)].value_counts() \n"
   ]
  },
  {
   "cell_type": "code",
   "execution_count": 96,
   "metadata": {
    "collapsed": false
   },
   "outputs": [
    {
     "name": "stdout",
     "output_type": "stream",
     "text": [
      "[  84.  105.  147.] [  1.   4.  66.]\n"
     ]
    }
   ],
   "source": [
    "yes=np.zeros(3)\n",
    "no=np.zeros(3)\n",
    "yes[0],no[0]=well_data['Drink'][well_data.As<=10].value_counts() \n",
    "yes[1],no[1]=well_data['Drink'][np.logical_and(well_data.As<=50,well_data.As>=10)].value_counts()\n",
    "yes[2],no[2]=well_data['Drink'][well_data.As>=50].value_counts() \n",
    "print yes,no"
   ]
  },
  {
   "cell_type": "code",
   "execution_count": 173,
   "metadata": {
    "collapsed": false
   },
   "outputs": [
    {
     "data": {
      "text/plain": [
       "<matplotlib.legend.Legend at 0xea20630>"
      ]
     },
     "execution_count": 173,
     "metadata": {},
     "output_type": "execute_result"
    },
    {
     "data": {
      "image/png": "[encoded data removed]",
      "text/plain": [
       "<matplotlib.figure.Figure at 0x1152ef28>"
      ]
     },
     "metadata": {},
     "output_type": "display_data"
    }
   ],
   "source": [
    "fig,ax=plt.subplots(1,1) \n",
    "width=0.35\n",
    "xvalues=np.arange(3)\n",
    "ax.bar(xvalues,yes,width,color='g',label='Drink')\n",
    "ax.bar(xvalues+width,no,width,color='r',label=\"Doesn't Drink\") #I did double quotes so I could print the single quote\n",
    "ax.legend(loc='best')"
   ]
  },
  {
   "cell_type": "code",
   "execution_count": 99,
   "metadata": {
    "collapsed": false
   },
   "outputs": [
    {
     "data": {
      "text/plain": [
       "<matplotlib.text.Text at 0x197f1a58>"
      ]
     },
     "execution_count": 99,
     "metadata": {},
     "output_type": "execute_result"
    },
    {
     "data": {
      "image/png": "[encoded data removed]",
      "text/plain": [
       "<matplotlib.figure.Figure at 0x1919ac88>"
      ]
     },
     "metadata": {},
     "output_type": "display_data"
    }
   ],
   "source": [
    "yes=np.zeros(3)\n",
    "no=np.zeros(3)\n",
    "yes[0],no[0]=well_data['Drink'][well_data.As<=10].value_counts() \n",
    "yes[1],no[1]=well_data['Drink'][np.logical_and(well_data.As<=50,well_data.As>=10)].value_counts()\n",
    "yes[2],no[2]=well_data['Drink'][well_data.As>=50].value_counts() \n",
    "\n",
    "fig,ax=plt.subplots(1,1) \n",
    "width=0.35\n",
    "xvalues=np.arange(3)\n",
    "ax.bar(xvalues,yes,width,color='g',label='Drink')\n",
    "ax.bar(xvalues+width,no,width,color='r',label=\"Doesn't Drink\") #I did double quotes so I could print the single quote\n",
    "ax.legend(loc='best')\n",
    "ax.set_xticks(xvalues+width)\n",
    "ax.set_xticklabels(('<10','10-50','>50'))\n",
    "ax.set_xlabel('Arsenic Concentration ppb')\n",
    "ax.set_ylabel('Number of wells')"
   ]
  },
  {
   "cell_type": "code",
   "execution_count": 94,
   "metadata": {
    "collapsed": false
   },
   "outputs": [
    {
     "data": {
      "text/plain": [
       "<matplotlib.text.Text at 0x193b9390>"
      ]
     },
     "execution_count": 94,
     "metadata": {},
     "output_type": "execute_result"
    },
    {
     "data": {
      "image/png": "[encoded data removed]",
      "text/plain": [
       "<matplotlib.figure.Figure at 0x19265630>"
      ]
     },
     "metadata": {},
     "output_type": "display_data"
    }
   ],
   "source": [
    "yes=np.zeros(3)\n",
    "no=np.zeros(3)\n",
    "yes[0],no[0]=well_data['Drink'][well_data.As<=10].value_counts() / well_data.As[well_data.As<=10].count() *100.\n",
    "yes[1],no[1]=well_data['Drink'][np.logical_and(well_data.As<=50,well_data.As>=10)].value_counts()\\\n",
    "            /well_data.As[np.logical_and(well_data.As<=50,well_data.As>=10)].count() *100.\n",
    "yes[2],no[2]=well_data['Drink'][well_data.As>=50].value_counts() /well_data.As[well_data.As>=50].count() *100.\n",
    "\n",
    "fig,ax=plt.subplots(1,1) \n",
    "width=0.35\n",
    "xvalues=np.arange(3)\n",
    "ax.bar(xvalues,yes,width,color='g',label='Drink')\n",
    "ax.bar(xvalues+width,no,width,color='r',label=\"Doesn't Drink\") #I did double quotes so I could print the single quote\n",
    "ax.legend(loc='best')\n",
    "ax.set_xticks(xvalues+width)\n",
    "ax.set_xticklabels(('<10','10-50','>50'))\n",
    "ax.set_xlabel('Arsenic Concentration ppb')\n",
    "ax.set_ylabel('Percent of wells used')"
   ]
  },
  {
   "cell_type": "code",
   "execution_count": 105,
   "metadata": {
    "collapsed": false
   },
   "outputs": [
    {
     "data": {
      "text/plain": [
       "<matplotlib.text.Text at 0x1a51d278>"
      ]
     },
     "execution_count": 105,
     "metadata": {},
     "output_type": "execute_result"
    },
    {
     "data": {
      "image/png": "[encoded data removed]",
      "text/plain": [
       "<matplotlib.figure.Figure at 0x19a072e8>"
      ]
     },
     "metadata": {},
     "output_type": "display_data"
    }
   ],
   "source": [
    "yes=np.zeros(3)\n",
    "no=np.zeros(3)\n",
    "yes[0],no[0]=well_data['Drink'][well_data.As<=10].value_counts() / well_data.As[well_data.As<=10].count() *100.\n",
    "yes[1],no[1]=well_data['Drink'][np.logical_and(well_data.As<=50,well_data.As>=10)].value_counts()\\\n",
    "            /well_data.As[np.logical_and(well_data.As<=50,well_data.As>=10)].count() *100.\n",
    "yes[2],no[2]=well_data['Drink'][well_data.As>=50].value_counts() /well_data.As[well_data.As>=50].count() *100.\n",
    "\n",
    "fig,ax=plt.subplots(1,1) \n",
    "width=0.35\n",
    "xvalues=np.arange(3)\n",
    "ax.bar(xvalues,yes,width,color='g',label='Drink')\n",
    "ax.bar(xvalues,no,width,color='r',bottom=yes,label=\"Doesn't Drink\") #I did double quotes so I could print the single quote\n",
    "ax.legend(loc=3)  #You can try numbers 1-8 for location. see http://matplotlib.org/1.3.1/users/legend_guide.html\n",
    "ax.set_xticks(xvalues+width/2)\n",
    "ax.set_xticklabels(('<10','10-50','>50'))\n",
    "ax.set_xlabel('Arsenic Concentration ppb')\n",
    "ax.set_ylabel('Percent of wells used')"
   ]
  },
  {
   "cell_type": "code",
   "execution_count": null,
   "metadata": {
    "collapsed": false
   },
   "outputs": [],
   "source": []
  },
  {
   "cell_type": "code",
   "execution_count": null,
   "metadata": {
    "collapsed": true
   },
   "outputs": [],
   "source": []
  }
 ],
 "metadata": {
  "kernelspec": {
   "display_name": "Python 2",
   "language": "python",
   "name": "python2"
  },
  "language_info": {
   "codemirror_mode": {
    "name": "ipython",
    "version": 2
   },
   "file_extension": ".py",
   "mimetype": "text/x-python",
   "name": "python",
   "nbconvert_exporter": "python",
   "pygments_lexer": "ipython2",
   "version": "2.7.10"
  }
 },
 "nbformat": 4,
 "nbformat_minor": 0
}
