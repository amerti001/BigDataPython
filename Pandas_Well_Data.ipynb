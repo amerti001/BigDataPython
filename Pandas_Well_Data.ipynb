{
 "metadata": {
  "name": "pandas_well_data.ipynb"
 },
 "nbformat": 3,
 "nbformat_minor": 0,
 "worksheets": [
  {
   "cells": [
    {
     "cell_type": "code",
     "collapsed": false,
     "input": [
      "import pandas as pd\n",
      "import numpy as np\n",
      "import matplotlib.pylab as plt\n",
      "from scipy import stats"
     ],
     "language": "python",
     "metadata": {},
     "outputs": [],
     "prompt_number": 1
    },
    {
     "cell_type": "markdown",
     "metadata": {},
     "source": [
      "I only want to list the csv files so I can see what I can read in.  so I will do ls *.csv   the * is a wildcard that means everything and then .csv is only ones that end in .csv.  Today we are going to look at data from well water chemistry in Bangladesh. Specifically arsenic concentrations and if people drink the water.  We will also look at the rest of the chemistry.  We are looking at well water arsenic because drinking water with arsenic has negative long term health impacts.  The US standard for arsenic is 10 ppb or 10 ug/L.  The bangladesh standard is 50 ppb.  Lets see what we can learn!  "
     ]
    },
    {
     "cell_type": "code",
     "collapsed": false,
     "input": [
      "pwd"
     ],
     "language": "python",
     "metadata": {},
     "outputs": [
      {
       "metadata": {},
       "output_type": "pyout",
       "prompt_number": 4,
       "text": [
        "u'c:\\\\work-teaching\\\\python\\\\bigdatapython'"
       ]
      }
     ],
     "prompt_number": 4
    },
    {
     "cell_type": "code",
     "collapsed": false,
     "input": [
      "ls *.csv"
     ],
     "language": "python",
     "metadata": {},
     "outputs": [
      {
       "output_type": "stream",
       "stream": "stdout",
       "text": [
        " Volume in drive C has no label.\n",
        " Volume Serial Number is D0AD-C6E1\n",
        "\n",
        " Directory of c:\\work-teaching\\python\\bigdatapython\n",
        "\n",
        "02/24/2015  02:36 PM             1,380 Brian.csv\n",
        "01/22/2015  05:29 PM         4,093,009 central_park.csv\n",
        "02/13/2015  03:23 PM             2,180 gdp.csv\n",
        "02/12/2015  03:46 PM             4,841 GDP-Lifespan.csv\n",
        "02/24/2015  01:04 PM            37,289 mystery.csv\n",
        "02/23/2015  09:49 PM               102 twoD1.csv\n",
        "02/25/2015  08:26 PM            83,468 well_data.csv\n",
        "               7 File(s)      4,222,269 bytes\n",
        "               0 Dir(s)  28,389,294,080 bytes free\n"
       ]
      }
     ],
     "prompt_number": 5
    },
    {
     "cell_type": "markdown",
     "metadata": {},
     "source": [
      "now we read in a well_data.csv.  But I want to use pandas not and not numpy.  "
     ]
    },
    {
     "cell_type": "markdown",
     "metadata": {},
     "source": [
      "so we are using pandas.  What is pandas? http://pandas.pydata.org/index.html  and here is the documentation http://pandas.pydata.org/pandas-docs/version/0.15.2/"
     ]
    },
    {
     "cell_type": "markdown",
     "metadata": {},
     "source": [
      "But we are going to read in some data and try to analyze it.  open the well_data.csv.  It is for wells from Bangladesh. every well has an id#, a latitude and longitude, Depth, if people drink it and then some concentration data.  lets use readcsv to get read in.  In Pandas you are trying to get your data into a dataframe which is like an excel sheet.  It will have column titles and an indexed for rows.  "
     ]
    },
    {
     "cell_type": "code",
     "collapsed": false,
     "input": [
      "well_data=pd.read_csv('well_data.csv')"
     ],
     "language": "python",
     "metadata": {},
     "outputs": [],
     "prompt_number": 6
    },
    {
     "cell_type": "code",
     "collapsed": false,
     "input": [
      "well_data"
     ],
     "language": "python",
     "metadata": {},
     "outputs": [
      {
       "html": [
        "<pre>\n",
        "&lt;class 'pandas.core.frame.DataFrame'&gt;\n",
        "Int64Index: 759 entries, 0 to 758\n",
        "Data columns (total 21 columns):\n",
        "Well_ID    759  non-null values\n",
        "Lat        759  non-null values\n",
        "Lon        759  non-null values\n",
        "Depth      759  non-null values\n",
        "Drink      758  non-null values\n",
        "Si         407  non-null values\n",
        "P          407  non-null values\n",
        "S          407  non-null values\n",
        "Ca         407  non-null values\n",
        "Fe         407  non-null values\n",
        "Ba         407  non-null values\n",
        "Na         407  non-null values\n",
        "Mg         407  non-null values\n",
        "K          343  non-null values\n",
        "Mn         407  non-null values\n",
        "As         407  non-null values\n",
        "Sr         407  non-null values\n",
        "F          413  non-null values\n",
        "Cl         411  non-null values\n",
        "SO4        397  non-null values\n",
        "Br         405  non-null values\n",
        "dtypes: float64(18), int64(2), object(1)\n",
        "</pre>"
       ],
       "metadata": {},
       "output_type": "pyout",
       "prompt_number": 7,
       "text": [
        "<class 'pandas.core.frame.DataFrame'>\n",
        "Int64Index: 759 entries, 0 to 758\n",
        "Data columns (total 21 columns):\n",
        "Well_ID    759  non-null values\n",
        "Lat        759  non-null values\n",
        "Lon        759  non-null values\n",
        "Depth      759  non-null values\n",
        "Drink      758  non-null values\n",
        "Si         407  non-null values\n",
        "P          407  non-null values\n",
        "S          407  non-null values\n",
        "Ca         407  non-null values\n",
        "Fe         407  non-null values\n",
        "Ba         407  non-null values\n",
        "Na         407  non-null values\n",
        "Mg         407  non-null values\n",
        "K          343  non-null values\n",
        "Mn         407  non-null values\n",
        "As         407  non-null values\n",
        "Sr         407  non-null values\n",
        "F          413  non-null values\n",
        "Cl         411  non-null values\n",
        "SO4        397  non-null values\n",
        "Br         405  non-null values\n",
        "dtypes: float64(18), int64(2), object(1)"
       ]
      }
     ],
     "prompt_number": 7
    },
    {
     "cell_type": "markdown",
     "metadata": {},
     "source": [
      "Since we didn't set an index it just numbers each row and calls that the index.  But that doesn't help us.  I think we could set the well_id to the index.  "
     ]
    },
    {
     "cell_type": "code",
     "collapsed": false,
     "input": [
      "well_data=well_data.set_index('Well_ID')"
     ],
     "language": "python",
     "metadata": {},
     "outputs": [],
     "prompt_number": 8
    },
    {
     "cell_type": "code",
     "collapsed": false,
     "input": [
      "print well_data"
     ],
     "language": "python",
     "metadata": {},
     "outputs": [
      {
       "output_type": "stream",
       "stream": "stdout",
       "text": [
        "<class 'pandas.core.frame.DataFrame'>\n",
        "Int64Index: 759 entries, 2 to 7998\n",
        "Data columns (total 20 columns):\n",
        "Lat      759  non-null values\n",
        "Lon      759  non-null values\n",
        "Depth    759  non-null values\n",
        "Drink    758  non-null values\n",
        "Si       407  non-null values\n",
        "P        407  non-null values\n",
        "S        407  non-null values\n",
        "Ca       407  non-null values\n",
        "Fe       407  non-null values\n",
        "Ba       407  non-null values\n",
        "Na       407  non-null values\n",
        "Mg       407  non-null values\n",
        "K        343  non-null values\n",
        "Mn       407  non-null values\n",
        "As       407  non-null values\n",
        "Sr       407  non-null values\n",
        "F        413  non-null values\n",
        "Cl       411  non-null values\n",
        "SO4      397  non-null values\n",
        "Br       405  non-null values\n",
        "dtypes: float64(18), int64(1), object(1)\n"
       ]
      }
     ],
     "prompt_number": 9
    },
    {
     "cell_type": "code",
     "collapsed": false,
     "input": [
      "well_data"
     ],
     "language": "python",
     "metadata": {},
     "outputs": [
      {
       "html": [
        "<pre>\n",
        "&lt;class 'pandas.core.frame.DataFrame'&gt;\n",
        "Int64Index: 759 entries, 2 to 7998\n",
        "Data columns (total 20 columns):\n",
        "Lat      759  non-null values\n",
        "Lon      759  non-null values\n",
        "Depth    759  non-null values\n",
        "Drink    758  non-null values\n",
        "Si       407  non-null values\n",
        "P        407  non-null values\n",
        "S        407  non-null values\n",
        "Ca       407  non-null values\n",
        "Fe       407  non-null values\n",
        "Ba       407  non-null values\n",
        "Na       407  non-null values\n",
        "Mg       407  non-null values\n",
        "K        343  non-null values\n",
        "Mn       407  non-null values\n",
        "As       407  non-null values\n",
        "Sr       407  non-null values\n",
        "F        413  non-null values\n",
        "Cl       411  non-null values\n",
        "SO4      397  non-null values\n",
        "Br       405  non-null values\n",
        "dtypes: float64(18), int64(1), object(1)\n",
        "</pre>"
       ],
       "metadata": {},
       "output_type": "pyout",
       "prompt_number": 10,
       "text": [
        "<class 'pandas.core.frame.DataFrame'>\n",
        "Int64Index: 759 entries, 2 to 7998\n",
        "Data columns (total 20 columns):\n",
        "Lat      759  non-null values\n",
        "Lon      759  non-null values\n",
        "Depth    759  non-null values\n",
        "Drink    758  non-null values\n",
        "Si       407  non-null values\n",
        "P        407  non-null values\n",
        "S        407  non-null values\n",
        "Ca       407  non-null values\n",
        "Fe       407  non-null values\n",
        "Ba       407  non-null values\n",
        "Na       407  non-null values\n",
        "Mg       407  non-null values\n",
        "K        343  non-null values\n",
        "Mn       407  non-null values\n",
        "As       407  non-null values\n",
        "Sr       407  non-null values\n",
        "F        413  non-null values\n",
        "Cl       411  non-null values\n",
        "SO4      397  non-null values\n",
        "Br       405  non-null values\n",
        "dtypes: float64(18), int64(1), object(1)"
       ]
      }
     ],
     "prompt_number": 10
    },
    {
     "cell_type": "markdown",
     "metadata": {},
     "source": [
      "we can undue the index"
     ]
    },
    {
     "cell_type": "code",
     "collapsed": false,
     "input": [
      "well_data=well_data.reset_index()"
     ],
     "language": "python",
     "metadata": {},
     "outputs": [],
     "prompt_number": 11
    },
    {
     "cell_type": "code",
     "collapsed": false,
     "input": [
      "well_data"
     ],
     "language": "python",
     "metadata": {},
     "outputs": [
      {
       "html": [
        "<pre>\n",
        "&lt;class 'pandas.core.frame.DataFrame'&gt;\n",
        "Int64Index: 759 entries, 0 to 758\n",
        "Data columns (total 21 columns):\n",
        "Well_ID    759  non-null values\n",
        "Lat        759  non-null values\n",
        "Lon        759  non-null values\n",
        "Depth      759  non-null values\n",
        "Drink      758  non-null values\n",
        "Si         407  non-null values\n",
        "P          407  non-null values\n",
        "S          407  non-null values\n",
        "Ca         407  non-null values\n",
        "Fe         407  non-null values\n",
        "Ba         407  non-null values\n",
        "Na         407  non-null values\n",
        "Mg         407  non-null values\n",
        "K          343  non-null values\n",
        "Mn         407  non-null values\n",
        "As         407  non-null values\n",
        "Sr         407  non-null values\n",
        "F          413  non-null values\n",
        "Cl         411  non-null values\n",
        "SO4        397  non-null values\n",
        "Br         405  non-null values\n",
        "dtypes: float64(18), int64(2), object(1)\n",
        "</pre>"
       ],
       "metadata": {},
       "output_type": "pyout",
       "prompt_number": 12,
       "text": [
        "<class 'pandas.core.frame.DataFrame'>\n",
        "Int64Index: 759 entries, 0 to 758\n",
        "Data columns (total 21 columns):\n",
        "Well_ID    759  non-null values\n",
        "Lat        759  non-null values\n",
        "Lon        759  non-null values\n",
        "Depth      759  non-null values\n",
        "Drink      758  non-null values\n",
        "Si         407  non-null values\n",
        "P          407  non-null values\n",
        "S          407  non-null values\n",
        "Ca         407  non-null values\n",
        "Fe         407  non-null values\n",
        "Ba         407  non-null values\n",
        "Na         407  non-null values\n",
        "Mg         407  non-null values\n",
        "K          343  non-null values\n",
        "Mn         407  non-null values\n",
        "As         407  non-null values\n",
        "Sr         407  non-null values\n",
        "F          413  non-null values\n",
        "Cl         411  non-null values\n",
        "SO4        397  non-null values\n",
        "Br         405  non-null values\n",
        "dtypes: float64(18), int64(2), object(1)"
       ]
      }
     ],
     "prompt_number": 12
    },
    {
     "cell_type": "markdown",
     "metadata": {},
     "source": [
      "Or we could just read in the data with the index set.  "
     ]
    },
    {
     "cell_type": "code",
     "collapsed": false,
     "input": [
      "well_data=pd.read_csv('well_data.csv',index_col='Well_ID')"
     ],
     "language": "python",
     "metadata": {},
     "outputs": [],
     "prompt_number": 13
    },
    {
     "cell_type": "code",
     "collapsed": false,
     "input": [
      "well_data=pd.read_csv('well_data.csv',index_col=0)"
     ],
     "language": "python",
     "metadata": {},
     "outputs": [],
     "prompt_number": 14
    },
    {
     "cell_type": "markdown",
     "metadata": {},
     "source": [
      "The first great trick of pandas!"
     ]
    },
    {
     "cell_type": "code",
     "collapsed": false,
     "input": [
      "print well_data.describe()"
     ],
     "language": "python",
     "metadata": {},
     "outputs": [
      {
       "output_type": "stream",
       "stream": "stdout",
       "text": [
        "              Lat         Lon       Depth            Si           P  \\\n",
        "count  759.000000  759.000000  759.000000    407.000000  407.000000   \n",
        "mean    23.782512   90.624464   65.554677  40101.151444    0.809323   \n",
        "std      0.013105    0.018732   42.186161  10117.680290    0.902860   \n",
        "min     23.754933   90.583917    0.000000  12605.576700    0.008210   \n",
        "25%     23.772109   90.610609   45.000000  33200.310900    0.151957   \n",
        "50%     23.783783   90.626500   50.000000  40021.490000    0.507850   \n",
        "75%     23.791708   90.637400   70.000000  45369.825000    1.189271   \n",
        "max     23.808683   90.662967  523.000000  70304.057950    5.477616   \n",
        "\n",
        "                  S             Ca          Fe          Ba          Na  \\\n",
        "count    407.000000     407.000000  407.000000  407.000000  407.000000   \n",
        "mean    3407.292389   41129.291921    5.556200   89.078507   29.441511   \n",
        "std     5364.247733   20161.130827    5.153779   54.172650   17.888604   \n",
        "min      -41.390000    3577.160000   -0.003680    5.630000    4.428421   \n",
        "25%      149.635000   26996.273955    1.706806   53.423976   15.171753   \n",
        "50%     1220.877945   40166.830000    3.931310   79.674488   23.775190   \n",
        "75%     4341.695000   52976.458285    8.531585  113.711543   41.495813   \n",
        "max    45035.460000  116040.620000   30.192230  293.440000  105.318060   \n",
        "\n",
        "               Mg             K          Mn          As          Sr  \\\n",
        "count  407.000000    343.000000  407.000000  407.000000  407.000000   \n",
        "mean    20.487685   5068.337278    1.309343   89.688591  186.770328   \n",
        "std     11.359487   5566.741424    0.978969  101.530626   90.501136   \n",
        "min      2.490000     18.855854    0.000000   -0.020162   34.470000   \n",
        "25%     14.020000   2804.793027    0.545000   14.026849  119.685000   \n",
        "50%     18.250000   3563.100000    1.183136   54.400000  174.617542   \n",
        "75%     24.780000   4979.045000    1.850000  129.433314  233.535000   \n",
        "max    104.545670  44273.150000    6.271782  700.890000  681.287906   \n",
        "\n",
        "                F          Cl         SO4          Br  \n",
        "count  413.000000  411.000000  397.000000  405.000000  \n",
        "mean     0.216924   42.371061    9.300930    0.056895  \n",
        "std      0.194702   34.464444   14.287154    0.087262  \n",
        "min     -0.010200    0.226100    0.120000    0.005800  \n",
        "25%      0.113000   18.931200    0.407100    0.019300  \n",
        "50%      0.166700   31.298100    3.344400    0.032700  \n",
        "75%      0.239700   52.962050   11.973300    0.053800  \n",
        "max      1.595800  217.525000  125.317000    0.994800  \n"
       ]
      }
     ],
     "prompt_number": 16
    },
    {
     "cell_type": "markdown",
     "metadata": {},
     "source": [
      "A hint of what is to come!"
     ]
    },
    {
     "cell_type": "code",
     "collapsed": false,
     "input": [
      "well_data.boxplot()"
     ],
     "language": "python",
     "metadata": {},
     "outputs": [
      {
       "metadata": {},
       "output_type": "pyout",
       "prompt_number": 17,
       "text": [
        "{'boxes': [<matplotlib.lines.Line2D at 0xa0d5208>,\n",
        "  <matplotlib.lines.Line2D at 0xa0dd940>,\n",
        "  <matplotlib.lines.Line2D at 0xa0e3fd0>,\n",
        "  <matplotlib.lines.Line2D at 0xa1860f0>,\n",
        "  <matplotlib.lines.Line2D at 0xa18c780>,\n",
        "  <matplotlib.lines.Line2D at 0xa1960b8>,\n",
        "  <matplotlib.lines.Line2D at 0xa19c4e0>,\n",
        "  <matplotlib.lines.Line2D at 0xa0c1780>,\n",
        "  <matplotlib.lines.Line2D at 0xa1a8b70>,\n",
        "  <matplotlib.lines.Line2D at 0xa1b2240>,\n",
        "  <matplotlib.lines.Line2D at 0xa1b98d0>,\n",
        "  <matplotlib.lines.Line2D at 0xa230048>,\n",
        "  <matplotlib.lines.Line2D at 0xa237630>,\n",
        "  <matplotlib.lines.Line2D at 0xa23ecc0>,\n",
        "  <matplotlib.lines.Line2D at 0xa247390>,\n",
        "  <matplotlib.lines.Line2D at 0xa24da20>,\n",
        "  <matplotlib.lines.Line2D at 0xa2580f0>,\n",
        "  <matplotlib.lines.Line2D at 0xa25e780>,\n",
        "  <matplotlib.lines.Line2D at 0xa2670b8>],\n",
        " 'caps': [<matplotlib.lines.Line2D at 0xa0d5f98>,\n",
        "  <matplotlib.lines.Line2D at 0xa0db518>,\n",
        "  <matplotlib.lines.Line2D at 0xa0e1630>,\n",
        "  <matplotlib.lines.Line2D at 0xa0e1ba8>,\n",
        "  <matplotlib.lines.Line2D at 0xa0e7cc0>,\n",
        "  <matplotlib.lines.Line2D at 0xa182278>,\n",
        "  <matplotlib.lines.Line2D at 0xa18a390>,\n",
        "  <matplotlib.lines.Line2D at 0xa18a908>,\n",
        "  <matplotlib.lines.Line2D at 0xa18fa20>,\n",
        "  <matplotlib.lines.Line2D at 0xa18ff98>,\n",
        "  <matplotlib.lines.Line2D at 0xa19a0f0>,\n",
        "  <matplotlib.lines.Line2D at 0xa19a668>,\n",
        "  <matplotlib.lines.Line2D at 0xa1a1780>,\n",
        "  <matplotlib.lines.Line2D at 0xa1a1cf8>,\n",
        "  <matplotlib.lines.Line2D at 0xa0b7c50>,\n",
        "  <matplotlib.lines.Line2D at 0xa1a4cf8>,\n",
        "  <matplotlib.lines.Line2D at 0xa1ace10>,\n",
        "  <matplotlib.lines.Line2D at 0xa1af3c8>,\n",
        "  <matplotlib.lines.Line2D at 0xa1b54e0>,\n",
        "  <matplotlib.lines.Line2D at 0xa1b5a58>,\n",
        "  <matplotlib.lines.Line2D at 0xa1bcb70>,\n",
        "  <matplotlib.lines.Line2D at 0xa1bf128>,\n",
        "  <matplotlib.lines.Line2D at 0xa233240>,\n",
        "  <matplotlib.lines.Line2D at 0xa2337b8>,\n",
        "  <matplotlib.lines.Line2D at 0xa2398d0>,\n",
        "  <matplotlib.lines.Line2D at 0xa239e48>,\n",
        "  <matplotlib.lines.Line2D at 0xa241f60>,\n",
        "  <matplotlib.lines.Line2D at 0xa242518>,\n",
        "  <matplotlib.lines.Line2D at 0xa249630>,\n",
        "  <matplotlib.lines.Line2D at 0xa249ba8>,\n",
        "  <matplotlib.lines.Line2D at 0xa252cc0>,\n",
        "  <matplotlib.lines.Line2D at 0xa255278>,\n",
        "  <matplotlib.lines.Line2D at 0xa25b390>,\n",
        "  <matplotlib.lines.Line2D at 0xa25b908>,\n",
        "  <matplotlib.lines.Line2D at 0xa261a20>,\n",
        "  <matplotlib.lines.Line2D at 0xa261f98>,\n",
        "  <matplotlib.lines.Line2D at 0xa26c0f0>,\n",
        "  <matplotlib.lines.Line2D at 0xa26c668>],\n",
        " 'fliers': [<matplotlib.lines.Line2D at 0xa0dd048>,\n",
        "  <matplotlib.lines.Line2D at 0xa0e36d8>,\n",
        "  <matplotlib.lines.Line2D at 0xa182d68>,\n",
        "  <matplotlib.lines.Line2D at 0xa18c438>,\n",
        "  <matplotlib.lines.Line2D at 0xa193ac8>,\n",
        "  <matplotlib.lines.Line2D at 0xa19c198>,\n",
        "  <matplotlib.lines.Line2D at 0xa0c1908>,\n",
        "  <matplotlib.lines.Line2D at 0xa1a8828>,\n",
        "  <matplotlib.lines.Line2D at 0xa1afeb8>,\n",
        "  <matplotlib.lines.Line2D at 0xa1b9588>,\n",
        "  <matplotlib.lines.Line2D at 0xa1bfc18>,\n",
        "  <matplotlib.lines.Line2D at 0xa2372e8>,\n",
        "  <matplotlib.lines.Line2D at 0xa23e978>,\n",
        "  <matplotlib.lines.Line2D at 0xa247048>,\n",
        "  <matplotlib.lines.Line2D at 0xa24d6d8>,\n",
        "  <matplotlib.lines.Line2D at 0xa255d68>,\n",
        "  <matplotlib.lines.Line2D at 0xa25e438>,\n",
        "  <matplotlib.lines.Line2D at 0xa265ac8>,\n",
        "  <matplotlib.lines.Line2D at 0xa371198>],\n",
        " 'means': [],\n",
        " 'medians': [<matplotlib.lines.Line2D at 0xa0dba90>,\n",
        "  <matplotlib.lines.Line2D at 0xa0e3160>,\n",
        "  <matplotlib.lines.Line2D at 0xa1827f0>,\n",
        "  <matplotlib.lines.Line2D at 0xa18ae80>,\n",
        "  <matplotlib.lines.Line2D at 0xa193550>,\n",
        "  <matplotlib.lines.Line2D at 0xa19abe0>,\n",
        "  <matplotlib.lines.Line2D at 0xa1a42b0>,\n",
        "  <matplotlib.lines.Line2D at 0xa1a82b0>,\n",
        "  <matplotlib.lines.Line2D at 0xa1af940>,\n",
        "  <matplotlib.lines.Line2D at 0xa1b5fd0>,\n",
        "  <matplotlib.lines.Line2D at 0xa1bf6a0>,\n",
        "  <matplotlib.lines.Line2D at 0xa233d30>,\n",
        "  <matplotlib.lines.Line2D at 0xa23e400>,\n",
        "  <matplotlib.lines.Line2D at 0xa242a90>,\n",
        "  <matplotlib.lines.Line2D at 0xa24d160>,\n",
        "  <matplotlib.lines.Line2D at 0xa2557f0>,\n",
        "  <matplotlib.lines.Line2D at 0xa25be80>,\n",
        "  <matplotlib.lines.Line2D at 0xa265550>,\n",
        "  <matplotlib.lines.Line2D at 0xa26cbe0>],\n",
        " 'whiskers': [<matplotlib.lines.Line2D at 0xa0d5438>,\n",
        "  <matplotlib.lines.Line2D at 0xa0d5a20>,\n",
        "  <matplotlib.lines.Line2D at 0xa0dd9b0>,\n",
        "  <matplotlib.lines.Line2D at 0xa0e10b8>,\n",
        "  <matplotlib.lines.Line2D at 0xa0e7080>,\n",
        "  <matplotlib.lines.Line2D at 0xa0e7748>,\n",
        "  <matplotlib.lines.Line2D at 0xa1866a0>,\n",
        "  <matplotlib.lines.Line2D at 0xa186dd8>,\n",
        "  <matplotlib.lines.Line2D at 0xa18cd30>,\n",
        "  <matplotlib.lines.Line2D at 0xa18f4a8>,\n",
        "  <matplotlib.lines.Line2D at 0xa196400>,\n",
        "  <matplotlib.lines.Line2D at 0xa196b38>,\n",
        "  <matplotlib.lines.Line2D at 0xa19ca90>,\n",
        "  <matplotlib.lines.Line2D at 0xa1a1208>,\n",
        "  <matplotlib.lines.Line2D at 0xa0beb70>,\n",
        "  <matplotlib.lines.Line2D at 0xa0baeb8>,\n",
        "  <matplotlib.lines.Line2D at 0xa1ac160>,\n",
        "  <matplotlib.lines.Line2D at 0xa1ac898>,\n",
        "  <matplotlib.lines.Line2D at 0xa1b27f0>,\n",
        "  <matplotlib.lines.Line2D at 0xa1b2f28>,\n",
        "  <matplotlib.lines.Line2D at 0xa1bc048>,\n",
        "  <matplotlib.lines.Line2D at 0xa1bc5f8>,\n",
        "  <matplotlib.lines.Line2D at 0xa230550>,\n",
        "  <matplotlib.lines.Line2D at 0xa230c88>,\n",
        "  <matplotlib.lines.Line2D at 0xa237be0>,\n",
        "  <matplotlib.lines.Line2D at 0xa239358>,\n",
        "  <matplotlib.lines.Line2D at 0xa2412b0>,\n",
        "  <matplotlib.lines.Line2D at 0xa2419e8>,\n",
        "  <matplotlib.lines.Line2D at 0xa247940>,\n",
        "  <matplotlib.lines.Line2D at 0xa2490b8>,\n",
        "  <matplotlib.lines.Line2D at 0xa2520b8>,\n",
        "  <matplotlib.lines.Line2D at 0xa252748>,\n",
        "  <matplotlib.lines.Line2D at 0xa2586a0>,\n",
        "  <matplotlib.lines.Line2D at 0xa258dd8>,\n",
        "  <matplotlib.lines.Line2D at 0xa25ed30>,\n",
        "  <matplotlib.lines.Line2D at 0xa2614a8>,\n",
        "  <matplotlib.lines.Line2D at 0xa267400>,\n",
        "  <matplotlib.lines.Line2D at 0xa267b38>]}"
       ]
      },
      {
       "metadata": {},
       "output_type": "display_data",
       "png": "[encoded data removed]",
       "text": [
        "<matplotlib.figure.Figure at 0xa0b5470>"
       ]
      }
     ],
     "prompt_number": 17
    },
    {
     "cell_type": "markdown",
     "metadata": {},
     "source": [
      "We can also just get a list of our columns."
     ]
    },
    {
     "cell_type": "code",
     "collapsed": false,
     "input": [
      "well_data.columns"
     ],
     "language": "python",
     "metadata": {},
     "outputs": [
      {
       "metadata": {},
       "output_type": "pyout",
       "prompt_number": 18,
       "text": [
        "Index([u'Lat', u'Lon', u'Depth', u'Drink', u'Si', u'P', u'S', u'Ca', u'Fe', u'Ba', u'Na', u'Mg', u'K', u'Mn', u'As', u'Sr', u'F', u'Cl', u'SO4', u'Br'], dtype=object)"
       ]
      }
     ],
     "prompt_number": 18
    },
    {
     "cell_type": "markdown",
     "metadata": {},
     "source": [
      ".head shows the first five data points."
     ]
    },
    {
     "cell_type": "code",
     "collapsed": false,
     "input": [
      "print well_data.head()"
     ],
     "language": "python",
     "metadata": {},
     "outputs": [
      {
       "output_type": "stream",
       "stream": "stdout",
       "text": [
        "               Lat        Lon  Depth Drink        Si        P         S  \\\n",
        "Well_ID                                                                   \n",
        "2        23.788850  90.652767     50     N       NaN      NaN       NaN   \n",
        "14       23.787950  90.651417     60     N  30605.53  1.55612   4168.52   \n",
        "23       23.788917  90.651083     45     N  31319.48  1.16255     38.30   \n",
        "83       23.785150  90.645917     60     Y  31667.94  0.45249   4643.03   \n",
        "84       23.784400  90.645383     60     Y  25561.12  0.09057  13771.37   \n",
        "\n",
        "               Ca        Fe      Ba        Na     Mg        K    Mn      As  \\\n",
        "Well_ID                                                                       \n",
        "2             NaN       NaN     NaN       NaN    NaN      NaN   NaN     NaN   \n",
        "14       66756.16  12.79310  178.87  33.18036  25.10  4102.56  1.64  248.93   \n",
        "23       60905.16  22.41756  176.02  14.11491  21.70  3372.45  1.56  112.37   \n",
        "83       53034.03   3.67139   83.08  15.00418  21.90  3177.77  1.38   44.62   \n",
        "84       57630.63   1.49835   73.23  19.72336  33.74  3958.51  1.20   17.39   \n",
        "\n",
        "             Sr       F       Cl      SO4      Br  \n",
        "Well_ID                                            \n",
        "2           NaN     NaN      NaN      NaN     NaN  \n",
        "14       298.24  0.2361  64.4598  11.8111  0.0413  \n",
        "23       251.66  0.2567  35.4774   0.1471  0.0363  \n",
        "83       212.16     NaN      NaN      NaN     NaN  \n",
        "84       215.75     NaN      NaN      NaN     NaN  \n"
       ]
      }
     ],
     "prompt_number": 20
    },
    {
     "cell_type": "markdown",
     "metadata": {},
     "source": [
      ".tail shows the last five"
     ]
    },
    {
     "cell_type": "code",
     "collapsed": false,
     "input": [
      "print well_data.tail()"
     ],
     "language": "python",
     "metadata": {},
     "outputs": [
      {
       "output_type": "stream",
       "stream": "stdout",
       "text": [
        "               Lat        Lon  Depth Drink  Si   P   S  Ca  Fe  Ba  Na  Mg  \\\n",
        "Well_ID                                                                      \n",
        "7984     23.799367  90.645500     45     Y NaN NaN NaN NaN NaN NaN NaN NaN   \n",
        "7993     23.797817  90.647567     45     Y NaN NaN NaN NaN NaN NaN NaN NaN   \n",
        "7996     23.797550  90.646850     60     Y NaN NaN NaN NaN NaN NaN NaN NaN   \n",
        "7997     23.797800  90.647350     45     Y NaN NaN NaN NaN NaN NaN NaN NaN   \n",
        "7998     23.797967  90.647083     45     Y NaN NaN NaN NaN NaN NaN NaN NaN   \n",
        "\n",
        "          K  Mn  As  Sr       F       Cl      SO4      Br  \n",
        "Well_ID                                                    \n",
        "7984    NaN NaN NaN NaN     NaN      NaN      NaN     NaN  \n",
        "7993    NaN NaN NaN NaN     NaN      NaN      NaN     NaN  \n",
        "7996    NaN NaN NaN NaN  0.1166  110.248  34.2441  0.0313  \n",
        "7997    NaN NaN NaN NaN     NaN      NaN      NaN     NaN  \n",
        "7998    NaN NaN NaN NaN  0.0900   26.193  12.0475  0.0112  \n"
       ]
      }
     ],
     "prompt_number": 21
    },
    {
     "cell_type": "markdown",
     "metadata": {},
     "source": [
      "Remember NaN is not a number.  We are going to use this to our advantage! "
     ]
    },
    {
     "cell_type": "markdown",
     "metadata": {},
     "source": [
      "shape still gives us the shape"
     ]
    },
    {
     "cell_type": "code",
     "collapsed": false,
     "input": [
      "well_data.shape"
     ],
     "language": "python",
     "metadata": {},
     "outputs": [
      {
       "metadata": {},
       "output_type": "pyout",
       "prompt_number": 22,
       "text": [
        "(759, 20)"
       ]
      }
     ],
     "prompt_number": 22
    },
    {
     "cell_type": "code",
     "collapsed": false,
     "input": [
      "shape(well_data)"
     ],
     "language": "python",
     "metadata": {},
     "outputs": [
      {
       "metadata": {},
       "output_type": "pyout",
       "prompt_number": 23,
       "text": [
        "(759, 20)"
       ]
      }
     ],
     "prompt_number": 23
    },
    {
     "cell_type": "markdown",
     "metadata": {},
     "source": [
      "Now how do we get at our data.  How do we slice it.  There are many ways. lets go through them all.\n",
      "\n",
      ".ix\n",
      "\n",
      ".loc\n",
      "\n",
      ".iloc\n",
      "\n",
      "[]"
     ]
    },
    {
     "cell_type": "markdown",
     "metadata": {},
     "source": [
      "[] works like normal except you can only use integers on rows and names on columns.  you can't use integers on both rows and columns.   "
     ]
    },
    {
     "cell_type": "code",
     "collapsed": false,
     "input": [
      "print well_data[:]"
     ],
     "language": "python",
     "metadata": {},
     "outputs": [
      {
       "output_type": "stream",
       "stream": "stdout",
       "text": [
        "<class 'pandas.core.frame.DataFrame'>\n",
        "Int64Index: 759 entries, 2 to 7998\n",
        "Data columns (total 20 columns):\n",
        "Lat      759  non-null values\n",
        "Lon      759  non-null values\n",
        "Depth    759  non-null values\n",
        "Drink    758  non-null values\n",
        "Si       407  non-null values\n",
        "P        407  non-null values\n",
        "S        407  non-null values\n",
        "Ca       407  non-null values\n",
        "Fe       407  non-null values\n",
        "Ba       407  non-null values\n",
        "Na       407  non-null values\n",
        "Mg       407  non-null values\n",
        "K        343  non-null values\n",
        "Mn       407  non-null values\n",
        "As       407  non-null values\n",
        "Sr       407  non-null values\n",
        "F        413  non-null values\n",
        "Cl       411  non-null values\n",
        "SO4      397  non-null values\n",
        "Br       405  non-null values\n",
        "dtypes: float64(18), int64(1), object(1)\n"
       ]
      }
     ],
     "prompt_number": 153
    },
    {
     "cell_type": "code",
     "collapsed": false,
     "input": [
      "print well_data['As']"
     ],
     "language": "python",
     "metadata": {},
     "outputs": [
      {
       "output_type": "stream",
       "stream": "stdout",
       "text": [
        "Well_ID\n",
        "2             NaN\n",
        "14         248.93\n",
        "23         112.37\n",
        "83          44.62\n",
        "84          17.39\n",
        "93           0.12\n",
        "101        308.88\n",
        "107        244.00\n",
        "110         19.37\n",
        "112        111.78\n",
        "116          2.42\n",
        "130         26.98\n",
        "153          1.17\n",
        "156         19.46\n",
        "166         31.69\n",
        "...\n",
        "7888      NaN\n",
        "7949      NaN\n",
        "7953      NaN\n",
        "7954      NaN\n",
        "7959      NaN\n",
        "7960      NaN\n",
        "7968      NaN\n",
        "7973      NaN\n",
        "7974      NaN\n",
        "7979      NaN\n",
        "7984      NaN\n",
        "7993      NaN\n",
        "7996      NaN\n",
        "7997      NaN\n",
        "7998      NaN\n",
        "Name: As, Length: 759, dtype: float64\n"
       ]
      }
     ],
     "prompt_number": 154
    },
    {
     "cell_type": "code",
     "collapsed": false,
     "input": [
      "print well_data[:]['As']"
     ],
     "language": "python",
     "metadata": {},
     "outputs": [
      {
       "output_type": "stream",
       "stream": "stdout",
       "text": [
        "Well_ID\n",
        "2             NaN\n",
        "14         248.93\n",
        "23         112.37\n",
        "83          44.62\n",
        "84          17.39\n",
        "93           0.12\n",
        "101        308.88\n",
        "107        244.00\n",
        "110         19.37\n",
        "112        111.78\n",
        "116          2.42\n",
        "130         26.98\n",
        "153          1.17\n",
        "156         19.46\n",
        "166         31.69\n",
        "...\n",
        "7888      NaN\n",
        "7949      NaN\n",
        "7953      NaN\n",
        "7954      NaN\n",
        "7959      NaN\n",
        "7960      NaN\n",
        "7968      NaN\n",
        "7973      NaN\n",
        "7974      NaN\n",
        "7979      NaN\n",
        "7984      NaN\n",
        "7993      NaN\n",
        "7996      NaN\n",
        "7997      NaN\n",
        "7998      NaN\n",
        "Name: As, Length: 759, dtype: float64\n"
       ]
      }
     ],
     "prompt_number": 148
    },
    {
     "cell_type": "code",
     "collapsed": false,
     "input": [
      "print well_data[1:10]['As']"
     ],
     "language": "python",
     "metadata": {},
     "outputs": [
      {
       "output_type": "stream",
       "stream": "stdout",
       "text": [
        "Well_ID\n",
        "14         248.93\n",
        "23         112.37\n",
        "83          44.62\n",
        "84          17.39\n",
        "93           0.12\n",
        "101        308.88\n",
        "107        244.00\n",
        "110         19.37\n",
        "112        111.78\n",
        "Name: As, dtype: float64\n"
       ]
      }
     ],
     "prompt_number": 25
    },
    {
     "cell_type": "code",
     "collapsed": false,
     "input": [
      "print well_data[1:10:2]['As']"
     ],
     "language": "python",
     "metadata": {},
     "outputs": [
      {
       "output_type": "stream",
       "stream": "stdout",
       "text": [
        "Well_ID\n",
        "14         248.93\n",
        "83          44.62\n",
        "93           0.12\n",
        "107        244.00\n",
        "112        111.78\n",
        "Name: As, dtype: float64\n"
       ]
      }
     ],
     "prompt_number": 26
    },
    {
     "cell_type": "markdown",
     "metadata": {},
     "source": [
      "But you can pass a list to the columns you want!"
     ]
    },
    {
     "cell_type": "code",
     "collapsed": false,
     "input": [
      "print well_data[1:10:2][['As','Depth']]"
     ],
     "language": "python",
     "metadata": {},
     "outputs": [
      {
       "output_type": "stream",
       "stream": "stdout",
       "text": [
        "             As  Depth\n",
        "Well_ID               \n",
        "14       248.93     60\n",
        "83        44.62     60\n",
        "93         0.12    130\n",
        "107      244.00     45\n",
        "112      111.78     45\n"
       ]
      }
     ],
     "prompt_number": 35
    },
    {
     "cell_type": "markdown",
     "metadata": {},
     "source": [
      "And the order doesn't matter"
     ]
    },
    {
     "cell_type": "code",
     "collapsed": false,
     "input": [
      "print well_data[['As','Depth']][1:10:2]"
     ],
     "language": "python",
     "metadata": {},
     "outputs": [
      {
       "output_type": "stream",
       "stream": "stdout",
       "text": [
        "             As  Depth\n",
        "Well_ID               \n",
        "14       248.93     60\n",
        "83        44.62     60\n",
        "93         0.12    130\n",
        "107      244.00     45\n",
        "112      111.78     45\n"
       ]
      }
     ],
     "prompt_number": 161
    },
    {
     "cell_type": "code",
     "collapsed": false,
     "input": [
      "print well_data[['Depth','As']][1:10:2]"
     ],
     "language": "python",
     "metadata": {},
     "outputs": [
      {
       "output_type": "stream",
       "stream": "stdout",
       "text": [
        "         Depth      As\n",
        "Well_ID               \n",
        "14          60  248.93\n",
        "83          60   44.62\n",
        "93         130    0.12\n",
        "107         45  244.00\n",
        "112         45  111.78\n"
       ]
      }
     ],
     "prompt_number": 28
    },
    {
     "cell_type": "code",
     "collapsed": false,
     "input": [],
     "language": "python",
     "metadata": {},
     "outputs": [],
     "prompt_number": 156
    },
    {
     "cell_type": "markdown",
     "metadata": {},
     "source": [
      ".loc only uses names of the index and the columns. "
     ]
    },
    {
     "cell_type": "code",
     "collapsed": false,
     "input": [
      "print well_data.loc[:]  #gives us all rows with all indexes"
     ],
     "language": "python",
     "metadata": {},
     "outputs": [
      {
       "output_type": "stream",
       "stream": "stdout",
       "text": [
        "<class 'pandas.core.frame.DataFrame'>\n",
        "Int64Index: 759 entries, 2 to 7998\n",
        "Data columns (total 20 columns):\n",
        "Lat      759  non-null values\n",
        "Lon      759  non-null values\n",
        "Depth    759  non-null values\n",
        "Drink    758  non-null values\n",
        "Si       407  non-null values\n",
        "P        407  non-null values\n",
        "S        407  non-null values\n",
        "Ca       407  non-null values\n",
        "Fe       407  non-null values\n",
        "Ba       407  non-null values\n",
        "Na       407  non-null values\n",
        "Mg       407  non-null values\n",
        "K        343  non-null values\n",
        "Mn       407  non-null values\n",
        "As       407  non-null values\n",
        "Sr       407  non-null values\n",
        "F        413  non-null values\n",
        "Cl       411  non-null values\n",
        "SO4      397  non-null values\n",
        "Br       405  non-null values\n",
        "dtypes: float64(18), int64(1), object(1)\n"
       ]
      }
     ],
     "prompt_number": 29
    },
    {
     "cell_type": "code",
     "collapsed": false,
     "input": [
      "print well_data.loc[101:156]  \n",
      "#gives us all rows with all indexes but the numbers have to match an index"
     ],
     "language": "python",
     "metadata": {},
     "outputs": [
      {
       "output_type": "stream",
       "stream": "stdout",
       "text": [
        "               Lat        Lon  Depth Drink        Si        P         S  \\\n",
        "Well_ID                                                                   \n",
        "101      23.782117  90.600700     55     Y  25777.85  1.12134  12384.00   \n",
        "107      23.781250  90.600283     45     Y  27427.54  0.66829   9255.33   \n",
        "110      23.786817  90.604633     85     Y  21671.47  0.11859   5180.32   \n",
        "112      23.787683  90.606000     45     Y  25270.46  0.57758  17330.71   \n",
        "116      23.787067  90.605367    175     Y  39576.23  0.00821    553.48   \n",
        "130      23.783050  90.626567     40     Y  27751.60  0.09024   3329.08   \n",
        "153      23.784817  90.627883     47     Y  19142.28  0.01970   5103.23   \n",
        "156      23.784500  90.627700     47     Y  26424.56  0.08829   6212.73   \n",
        "\n",
        "               Ca        Fe      Ba        Na     Mg         K    Mn      As  \\\n",
        "Well_ID                                                                        \n",
        "101      65864.86  16.53784  199.21  49.44986  24.37   5524.53  2.01  308.88   \n",
        "107      41469.41   3.23187   85.54  62.48914  16.09   3962.79  0.98  244.00   \n",
        "110      38201.12   6.16851  141.10  30.21258  15.50  11442.86  1.13   19.37   \n",
        "112      49069.75  14.03652  195.24  67.73957  29.85   4598.47  2.91  111.78   \n",
        "116       9367.64   0.09201   60.68  51.28317   4.59   1226.10  0.72    2.42   \n",
        "130      16408.06   3.30719   52.23   9.16163   9.65   2679.17  1.03   26.98   \n",
        "153      16388.14   3.62523   72.59  35.10729  11.10   3459.38  0.50    1.17   \n",
        "156      22269.21   8.69919   89.21  16.83181  14.97   3424.88  0.51   19.46   \n",
        "\n",
        "             Sr       F       Cl      SO4      Br  \n",
        "Well_ID                                            \n",
        "101      367.39  0.2568  81.8160  35.8565  0.0895  \n",
        "107      199.90  0.2216  63.7562  26.7010  0.0606  \n",
        "110      152.77  0.1041  35.8111  15.0230  0.0415  \n",
        "112      181.37  0.1317  76.9407  50.6488  0.0504  \n",
        "116       82.26  0.5725  30.6349   1.6495  0.1071  \n",
        "130       76.67  0.0965  21.5095   9.8701  0.0134  \n",
        "153       69.85  0.1743  42.9746  14.7733  0.0199  \n",
        "156       85.75  0.1214  41.9085  18.5546  0.0201  \n"
       ]
      }
     ],
     "prompt_number": 30
    },
    {
     "cell_type": "code",
     "collapsed": false,
     "input": [
      "print well_data.loc[101:156:2]   # and we can skip"
     ],
     "language": "python",
     "metadata": {},
     "outputs": [
      {
       "output_type": "stream",
       "stream": "stdout",
       "text": [
        "               Lat        Lon  Depth Drink        Si        P         S  \\\n",
        "Well_ID                                                                   \n",
        "101      23.782117  90.600700     55     Y  25777.85  1.12134  12384.00   \n",
        "110      23.786817  90.604633     85     Y  21671.47  0.11859   5180.32   \n",
        "116      23.787067  90.605367    175     Y  39576.23  0.00821    553.48   \n",
        "153      23.784817  90.627883     47     Y  19142.28  0.01970   5103.23   \n",
        "\n",
        "               Ca        Fe      Ba        Na     Mg         K    Mn      As  \\\n",
        "Well_ID                                                                        \n",
        "101      65864.86  16.53784  199.21  49.44986  24.37   5524.53  2.01  308.88   \n",
        "110      38201.12   6.16851  141.10  30.21258  15.50  11442.86  1.13   19.37   \n",
        "116       9367.64   0.09201   60.68  51.28317   4.59   1226.10  0.72    2.42   \n",
        "153      16388.14   3.62523   72.59  35.10729  11.10   3459.38  0.50    1.17   \n",
        "\n",
        "             Sr       F       Cl      SO4      Br  \n",
        "Well_ID                                            \n",
        "101      367.39  0.2568  81.8160  35.8565  0.0895  \n",
        "110      152.77  0.1041  35.8111  15.0230  0.0415  \n",
        "116       82.26  0.5725  30.6349   1.6495  0.1071  \n",
        "153       69.85  0.1743  42.9746  14.7733  0.0199  \n"
       ]
      }
     ],
     "prompt_number": 31
    },
    {
     "cell_type": "code",
     "collapsed": false,
     "input": [
      "# this doesn't work. \n",
      "#print well_data.loc[101:156:2,3]"
     ],
     "language": "python",
     "metadata": {},
     "outputs": [],
     "prompt_number": 32
    },
    {
     "cell_type": "markdown",
     "metadata": {},
     "source": [
      "But we can use column names"
     ]
    },
    {
     "cell_type": "code",
     "collapsed": false,
     "input": [
      "print well_data.loc[:]['As']"
     ],
     "language": "python",
     "metadata": {},
     "outputs": [
      {
       "output_type": "stream",
       "stream": "stdout",
       "text": [
        "Well_ID\n",
        "2             NaN\n",
        "14         248.93\n",
        "23         112.37\n",
        "83          44.62\n",
        "84          17.39\n",
        "93           0.12\n",
        "101        308.88\n",
        "107        244.00\n",
        "110         19.37\n",
        "112        111.78\n",
        "116          2.42\n",
        "130         26.98\n",
        "153          1.17\n",
        "156         19.46\n",
        "166         31.69\n",
        "...\n",
        "7888      NaN\n",
        "7949      NaN\n",
        "7953      NaN\n",
        "7954      NaN\n",
        "7959      NaN\n",
        "7960      NaN\n",
        "7968      NaN\n",
        "7973      NaN\n",
        "7974      NaN\n",
        "7979      NaN\n",
        "7984      NaN\n",
        "7993      NaN\n",
        "7996      NaN\n",
        "7997      NaN\n",
        "7998      NaN\n",
        "Name: As, Length: 759, dtype: float64\n"
       ]
      }
     ],
     "prompt_number": 33
    },
    {
     "cell_type": "code",
     "collapsed": false,
     "input": [
      "print well_data.loc[:,'As']"
     ],
     "language": "python",
     "metadata": {},
     "outputs": [
      {
       "output_type": "stream",
       "stream": "stdout",
       "text": [
        "Well_ID\n",
        "2             NaN\n",
        "14         248.93\n",
        "23         112.37\n",
        "83          44.62\n",
        "84          17.39\n",
        "93           0.12\n",
        "101        308.88\n",
        "107        244.00\n",
        "110         19.37\n",
        "112        111.78\n",
        "116          2.42\n",
        "130         26.98\n",
        "153          1.17\n",
        "156         19.46\n",
        "166         31.69\n",
        "...\n",
        "7888      NaN\n",
        "7949      NaN\n",
        "7953      NaN\n",
        "7954      NaN\n",
        "7959      NaN\n",
        "7960      NaN\n",
        "7968      NaN\n",
        "7973      NaN\n",
        "7974      NaN\n",
        "7979      NaN\n",
        "7984      NaN\n",
        "7993      NaN\n",
        "7996      NaN\n",
        "7997      NaN\n",
        "7998      NaN\n",
        "Name: As, Length: 759, dtype: float64\n"
       ]
      }
     ],
     "prompt_number": 162
    },
    {
     "cell_type": "code",
     "collapsed": false,
     "input": [
      "print type(well_data.loc[:]['As'])\n",
      "print type(well_data.loc[:,'As'])"
     ],
     "language": "python",
     "metadata": {},
     "outputs": [
      {
       "output_type": "stream",
       "stream": "stdout",
       "text": [
        "<class 'pandas.core.series.Series'>\n",
        "<class 'pandas.core.series.Series'>\n"
       ]
      }
     ],
     "prompt_number": 165
    },
    {
     "cell_type": "code",
     "collapsed": false,
     "input": [
      "print well_data.loc[101:156:2]['As']"
     ],
     "language": "python",
     "metadata": {},
     "outputs": [
      {
       "output_type": "stream",
       "stream": "stdout",
       "text": [
        "Well_ID\n",
        "101        308.88\n",
        "110         19.37\n",
        "116          2.42\n",
        "153          1.17\n",
        "Name: As, dtype: float64\n"
       ]
      }
     ],
     "prompt_number": 34
    },
    {
     "cell_type": "markdown",
     "metadata": {},
     "source": [
      "We can also add a list of names"
     ]
    },
    {
     "cell_type": "code",
     "collapsed": false,
     "input": [
      "print well_data.loc[101:156:2][['As','Depth']]"
     ],
     "language": "python",
     "metadata": {},
     "outputs": [
      {
       "output_type": "stream",
       "stream": "stdout",
       "text": [
        "             As  Depth\n",
        "Well_ID               \n",
        "101      308.88     55\n",
        "110       19.37     85\n",
        "116        2.42    175\n",
        "153        1.17     47\n"
       ]
      }
     ],
     "prompt_number": 170
    },
    {
     "cell_type": "markdown",
     "metadata": {},
     "source": [
      "iloc only uses integers.  So now this is row numbers."
     ]
    },
    {
     "cell_type": "code",
     "collapsed": false,
     "input": [
      "print well_data.iloc[:]"
     ],
     "language": "python",
     "metadata": {},
     "outputs": [
      {
       "output_type": "stream",
       "stream": "stdout",
       "text": [
        "<class 'pandas.core.frame.DataFrame'>\n",
        "Int64Index: 759 entries, 2 to 7998\n",
        "Data columns (total 20 columns):\n",
        "Lat      759  non-null values\n",
        "Lon      759  non-null values\n",
        "Depth    759  non-null values\n",
        "Drink    758  non-null values\n",
        "Si       407  non-null values\n",
        "P        407  non-null values\n",
        "S        407  non-null values\n",
        "Ca       407  non-null values\n",
        "Fe       407  non-null values\n",
        "Ba       407  non-null values\n",
        "Na       407  non-null values\n",
        "Mg       407  non-null values\n",
        "K        343  non-null values\n",
        "Mn       407  non-null values\n",
        "As       407  non-null values\n",
        "Sr       407  non-null values\n",
        "F        413  non-null values\n",
        "Cl       411  non-null values\n",
        "SO4      397  non-null values\n",
        "Br       405  non-null values\n",
        "dtypes: float64(18), int64(1), object(1)\n"
       ]
      }
     ],
     "prompt_number": 157
    },
    {
     "cell_type": "code",
     "collapsed": false,
     "input": [
      "print well_data.iloc[101:110:2]"
     ],
     "language": "python",
     "metadata": {},
     "outputs": [
      {
       "output_type": "stream",
       "stream": "stdout",
       "text": [
        "               Lat        Lon  Depth Drink        Si        P       S  \\\n",
        "Well_ID                                                                 \n",
        "869      23.780183  90.642483     80     Y       NaN      NaN     NaN   \n",
        "901      23.779700  90.641167     45     N       NaN      NaN     NaN   \n",
        "922      23.780033  90.639950     45     N       NaN      NaN     NaN   \n",
        "944      23.781817  90.638283     75     N  33576.24  0.73396  208.06   \n",
        "955      23.780050  90.638250    105     N  26387.23  1.35565   16.07   \n",
        "\n",
        "               Ca        Fe      Ba        Na     Mg        K    Mn      As  \\\n",
        "Well_ID                                                                       \n",
        "869           NaN       NaN     NaN       NaN    NaN      NaN   NaN     NaN   \n",
        "901           NaN       NaN     NaN       NaN    NaN      NaN   NaN     NaN   \n",
        "922           NaN       NaN     NaN       NaN    NaN      NaN   NaN     NaN   \n",
        "944      70891.39   4.55444  109.27  14.01608  24.86  4190.81  1.87  282.00   \n",
        "955      80298.82  11.80550  176.21  20.82832  30.02  4468.95  0.37  319.19   \n",
        "\n",
        "             Sr       F       Cl     SO4      Br  \n",
        "Well_ID                                           \n",
        "869         NaN     NaN      NaN     NaN     NaN  \n",
        "901         NaN     NaN      NaN     NaN     NaN  \n",
        "922         NaN     NaN      NaN     NaN     NaN  \n",
        "944      289.16  0.2025  17.3717  0.4885  0.0172  \n",
        "955      434.86  0.1741  37.7899  0.1348  0.0381  \n"
       ]
      }
     ],
     "prompt_number": 36
    },
    {
     "cell_type": "markdown",
     "metadata": {},
     "source": [
      "and column number.  But we use a column seperator......."
     ]
    },
    {
     "cell_type": "code",
     "collapsed": false,
     "input": [
      "print well_data.iloc[101:110:2,5]"
     ],
     "language": "python",
     "metadata": {},
     "outputs": [
      {
       "output_type": "stream",
       "stream": "stdout",
       "text": [
        "Well_ID\n",
        "869            NaN\n",
        "901            NaN\n",
        "922            NaN\n",
        "944        0.73396\n",
        "955        1.35565\n",
        "dtype: float64\n"
       ]
      }
     ],
     "prompt_number": 37
    },
    {
     "cell_type": "code",
     "collapsed": false,
     "input": [
      "print well_data.iloc[101:110:2,2:5]"
     ],
     "language": "python",
     "metadata": {},
     "outputs": [
      {
       "output_type": "stream",
       "stream": "stdout",
       "text": [
        "         Depth Drink        Si\n",
        "Well_ID                       \n",
        "869         80     Y       NaN\n",
        "901         45     N       NaN\n",
        "922         45     N       NaN\n",
        "944         75     N  33576.24\n",
        "955        105     N  26387.23\n"
       ]
      }
     ],
     "prompt_number": 38
    },
    {
     "cell_type": "markdown",
     "metadata": {},
     "source": [
      "Just to boggles your bind a little....."
     ]
    },
    {
     "cell_type": "code",
     "collapsed": false,
     "input": [
      "print well_data.iloc[101:110:2,[2,5,8]]"
     ],
     "language": "python",
     "metadata": {},
     "outputs": [
      {
       "output_type": "stream",
       "stream": "stdout",
       "text": [
        "         Depth        P        Fe\n",
        "Well_ID                          \n",
        "869         80      NaN       NaN\n",
        "901         45      NaN       NaN\n",
        "922         45      NaN       NaN\n",
        "944         75  0.73396   4.55444\n",
        "955        105  1.35565  11.80550\n"
       ]
      }
     ],
     "prompt_number": 39
    },
    {
     "cell_type": "markdown",
     "metadata": {},
     "source": [
      ".ix does a mixture of .loc and .iloc"
     ]
    },
    {
     "cell_type": "code",
     "collapsed": false,
     "input": [
      "print well_data.ix[101:110:2,[2,5,8]]"
     ],
     "language": "python",
     "metadata": {},
     "outputs": [
      {
       "output_type": "stream",
       "stream": "stdout",
       "text": [
        "         Depth        P        Fe\n",
        "Well_ID                          \n",
        "101         55  1.12134  16.53784\n",
        "110         85  0.11859   6.16851\n"
       ]
      }
     ],
     "prompt_number": 40
    },
    {
     "cell_type": "code",
     "collapsed": false,
     "input": [
      "print well_data.ix[101:156:2][['As','Depth']]"
     ],
     "language": "python",
     "metadata": {},
     "outputs": [
      {
       "output_type": "stream",
       "stream": "stdout",
       "text": [
        "             As  Depth\n",
        "Well_ID               \n",
        "101      308.88     55\n",
        "110       19.37     85\n",
        "116        2.42    175\n",
        "153        1.17     47\n"
       ]
      }
     ],
     "prompt_number": 41
    },
    {
     "cell_type": "markdown",
     "metadata": {},
     "source": [
      "They say it is better to be explicit and use [],iloc, or loc."
     ]
    },
    {
     "cell_type": "markdown",
     "metadata": {},
     "source": [
      "What I didn't show you is a dot notation."
     ]
    },
    {
     "cell_type": "code",
     "collapsed": false,
     "input": [
      "well_data.As"
     ],
     "language": "python",
     "metadata": {},
     "outputs": [
      {
       "metadata": {},
       "output_type": "pyout",
       "prompt_number": 42,
       "text": [
        "Well_ID\n",
        "2             NaN\n",
        "14         248.93\n",
        "23         112.37\n",
        "83          44.62\n",
        "84          17.39\n",
        "93           0.12\n",
        "101        308.88\n",
        "107        244.00\n",
        "110         19.37\n",
        "112        111.78\n",
        "116          2.42\n",
        "130         26.98\n",
        "153          1.17\n",
        "156         19.46\n",
        "166         31.69\n",
        "...\n",
        "7888      NaN\n",
        "7949      NaN\n",
        "7953      NaN\n",
        "7954      NaN\n",
        "7959      NaN\n",
        "7960      NaN\n",
        "7968      NaN\n",
        "7973      NaN\n",
        "7974      NaN\n",
        "7979      NaN\n",
        "7984      NaN\n",
        "7993      NaN\n",
        "7996      NaN\n",
        "7997      NaN\n",
        "7998      NaN\n",
        "Name: As, Length: 759, dtype: float64"
       ]
      }
     ],
     "prompt_number": 42
    },
    {
     "cell_type": "code",
     "collapsed": false,
     "input": [
      "well_data.As[1:5]"
     ],
     "language": "python",
     "metadata": {},
     "outputs": [
      {
       "metadata": {},
       "output_type": "pyout",
       "prompt_number": 43,
       "text": [
        "Well_ID\n",
        "14         248.93\n",
        "23         112.37\n",
        "83          44.62\n",
        "84          17.39\n",
        "Name: As, dtype: float64"
       ]
      }
     ],
     "prompt_number": 43
    },
    {
     "cell_type": "markdown",
     "metadata": {},
     "source": [
      "All examples in one place so maybe we can make sense of them?"
     ]
    },
    {
     "cell_type": "code",
     "collapsed": false,
     "input": [
      "[]\n",
      "\n",
      "\n",
      "\n",
      "1.  print well_data[:]                       all data\n",
      "1.  print well_data[:]['As']                 all arsenic data\n",
      "1.  well_data.loc[:,'As']                    basically the same as above\n",
      "1.  print well_data['As']                    all arsenic data.\n",
      "1.  print well_data[1:10]['As']              arsenic data from rows 1-10 excluding 10\n",
      "1.  print well_data[1:10:2]['As']            same but skippint by two\n",
      "1.  print well_data[1:10:2][['As','Depth']]  for As and depth.  note the double brackets.\n",
      "1.  print well_data[['As','Depth']][1:10:2]  order doesn't matter\n",
      "1.  print well_data[['Depth','As']][1:10:2]  order doesn't matter.  \n",
      "1.  you can't use column numbers.  \n",
      "\n",
      "loc\n",
      "1.  print well_data.loc[:]  gives us all rows with all columns\n",
      "1.  print well_data.loc[101:156]  needs to be an index  Gives us by index number not row number.\n",
      "1.  print well_data.loc[101:156:2]  and we can skip\n",
      "1.  print well_data.loc[101:156:2]['As']  and we can do column names\n",
      "1.  print well_data.loc[:]['As']\n",
      "1.  print well_data.loc[:,'As']  is the same as above. I have bugs where one works but other doesn't\n",
      "1.  print well_data.loc[101:156:2][['As','Depth']]  we can do multiple columns\n",
      "\n",
      "\n",
      "iloc\n",
      "1.  print well_data.iloc[:]    gives it all.\n",
      "1.  print well_data.iloc[101:110:2]     does row numbers.\n",
      "1.  print well_data.iloc[101:110:2,5]    row number by column number\n",
      "1.  print well_data.iloc[101:110:2,2:5]   mulitple row multiple number\n",
      "1.  print well_data.iloc[101:110:2,[2,5,8]]  select columns\n",
      "\n",
      "\n",
      "ix - I guess we won't use this much\n",
      "1.  print well_data.ix[101:156:2][['As','Depth']]\n",
      "1.  print well_data.ix[101:110:2,[2,5,8]]\n",
      "\n",
      "\n",
      "Dot notation. This can be very nice.\n",
      "1.  well_data.As       gives all arsenic data\n",
      "1.  well_data.As[1:5]  gives rows 1-5\n"
     ],
     "language": "python",
     "metadata": {},
     "outputs": [
      {
       "ename": "SyntaxError",
       "evalue": "invalid syntax (<ipython-input-1-ee01c8720ee3>, line 5)",
       "output_type": "pyerr",
       "traceback": [
        "\u001b[1;36m  File \u001b[1;32m\"<ipython-input-1-ee01c8720ee3>\"\u001b[1;36m, line \u001b[1;32m5\u001b[0m\n\u001b[1;33m    1.  print well_data[:]                       all data\u001b[0m\n\u001b[1;37m            ^\u001b[0m\n\u001b[1;31mSyntaxError\u001b[0m\u001b[1;31m:\u001b[0m invalid syntax\n"
       ]
      }
     ],
     "prompt_number": 1
    },
    {
     "cell_type": "heading",
     "level": 3,
     "metadata": {},
     "source": [
      "You can use boolean choices to get the data you want.  For example I gave the description if people drink or don't drink from their well.  Lets count that.  "
     ]
    },
    {
     "cell_type": "code",
     "collapsed": false,
     "input": [
      "print well_data['Drink'].value_counts()"
     ],
     "language": "python",
     "metadata": {},
     "outputs": [
      {
       "output_type": "stream",
       "stream": "stdout",
       "text": [
        "Y    614\n",
        "N    144\n",
        "dtype: int64\n"
       ]
      }
     ],
     "prompt_number": 44
    },
    {
     "cell_type": "markdown",
     "metadata": {},
     "source": [
      "is the same as"
     ]
    },
    {
     "cell_type": "code",
     "collapsed": false,
     "input": [
      "print well_data.Drink.value_counts()"
     ],
     "language": "python",
     "metadata": {},
     "outputs": [
      {
       "output_type": "stream",
       "stream": "stdout",
       "text": [
        "Y    614\n",
        "N    144\n",
        "dtype: int64\n"
       ]
      }
     ],
     "prompt_number": 45
    },
    {
     "cell_type": "code",
     "collapsed": false,
     "input": [
      "print well_data.iloc[:,3].value_counts()"
     ],
     "language": "python",
     "metadata": {},
     "outputs": [
      {
       "output_type": "stream",
       "stream": "stdout",
       "text": [
        "Y    614\n",
        "N    144\n",
        "dtype: int64\n"
       ]
      }
     ],
     "prompt_number": 159
    },
    {
     "cell_type": "code",
     "collapsed": false,
     "input": [
      "print well_data.loc[:,'Drink'].value_counts()"
     ],
     "language": "python",
     "metadata": {},
     "outputs": [
      {
       "output_type": "stream",
       "stream": "stdout",
       "text": [
        "Y    614\n",
        "N    144\n",
        "dtype: int64\n"
       ]
      }
     ],
     "prompt_number": 168
    },
    {
     "cell_type": "code",
     "collapsed": false,
     "input": [
      "print well_data.ix[:,'Drink'].value_counts()"
     ],
     "language": "python",
     "metadata": {},
     "outputs": [
      {
       "output_type": "stream",
       "stream": "stdout",
       "text": [
        "Y    614\n",
        "N    144\n",
        "dtype: int64\n"
       ]
      }
     ],
     "prompt_number": 81
    },
    {
     "cell_type": "markdown",
     "metadata": {},
     "source": [
      "Now you should be able to access your data.  I always forget the semantics.  Look online or back at your cheat sheets.  That is why I made the cheat sheet above."
     ]
    },
    {
     "cell_type": "markdown",
     "metadata": {},
     "source": [
      "Now we can sub-select data very easily.  "
     ]
    },
    {
     "cell_type": "markdown",
     "metadata": {},
     "source": [
      "We can return a boolean based on results.  "
     ]
    },
    {
     "cell_type": "code",
     "collapsed": false,
     "input": [
      "print well_data['Drink']=='Y'"
     ],
     "language": "python",
     "metadata": {},
     "outputs": [
      {
       "output_type": "stream",
       "stream": "stdout",
       "text": [
        "Well_ID\n",
        "2          False\n",
        "14         False\n",
        "23         False\n",
        "83          True\n",
        "84          True\n",
        "93          True\n",
        "101         True\n",
        "107         True\n",
        "110         True\n",
        "112         True\n",
        "116         True\n",
        "130         True\n",
        "153         True\n",
        "156         True\n",
        "166         True\n",
        "...\n",
        "7888        True\n",
        "7949       False\n",
        "7953        True\n",
        "7954        True\n",
        "7959        True\n",
        "7960        True\n",
        "7968        True\n",
        "7973        True\n",
        "7974        True\n",
        "7979        True\n",
        "7984        True\n",
        "7993        True\n",
        "7996        True\n",
        "7997        True\n",
        "7998        True\n",
        "Name: Drink, Length: 759, dtype: bool\n"
       ]
      }
     ],
     "prompt_number": 82
    },
    {
     "cell_type": "markdown",
     "metadata": {},
     "source": [
      "Another way of doing it to access a column I have not shown you yet. "
     ]
    },
    {
     "cell_type": "code",
     "collapsed": false,
     "input": [
      "print well_data.Drink=='Y'"
     ],
     "language": "python",
     "metadata": {},
     "outputs": [
      {
       "output_type": "stream",
       "stream": "stdout",
       "text": [
        "Well_ID\n",
        "2          False\n",
        "14         False\n",
        "23         False\n",
        "83          True\n",
        "84          True\n",
        "93          True\n",
        "101         True\n",
        "107         True\n",
        "110         True\n",
        "112         True\n",
        "116         True\n",
        "130         True\n",
        "153         True\n",
        "156         True\n",
        "166         True\n",
        "...\n",
        "7888        True\n",
        "7949       False\n",
        "7953        True\n",
        "7954        True\n",
        "7959        True\n",
        "7960        True\n",
        "7968        True\n",
        "7973        True\n",
        "7974        True\n",
        "7979        True\n",
        "7984        True\n",
        "7993        True\n",
        "7996        True\n",
        "7997        True\n",
        "7998        True\n",
        "Name: Drink, Length: 759, dtype: bool\n"
       ]
      }
     ],
     "prompt_number": 83
    },
    {
     "cell_type": "markdown",
     "metadata": {},
     "source": [
      "What if we only wanted arsenic concentrations where people drink the water?"
     ]
    },
    {
     "cell_type": "code",
     "collapsed": false,
     "input": [
      "print well_data['As'][well_data.Drink=='Y']"
     ],
     "language": "python",
     "metadata": {},
     "outputs": [
      {
       "output_type": "stream",
       "stream": "stdout",
       "text": [
        "Well_ID\n",
        "83          44.62\n",
        "84          17.39\n",
        "93           0.12\n",
        "101        308.88\n",
        "107        244.00\n",
        "110         19.37\n",
        "112        111.78\n",
        "116          2.42\n",
        "130         26.98\n",
        "153          1.17\n",
        "156         19.46\n",
        "166         31.69\n",
        "173         21.74\n",
        "176         40.08\n",
        "205           NaN\n",
        "...\n",
        "7886      NaN\n",
        "7888      NaN\n",
        "7953      NaN\n",
        "7954      NaN\n",
        "7959      NaN\n",
        "7960      NaN\n",
        "7968      NaN\n",
        "7973      NaN\n",
        "7974      NaN\n",
        "7979      NaN\n",
        "7984      NaN\n",
        "7993      NaN\n",
        "7996      NaN\n",
        "7997      NaN\n",
        "7998      NaN\n",
        "Name: As, Length: 614, dtype: float64\n"
       ]
      }
     ],
     "prompt_number": 83
    },
    {
     "cell_type": "markdown",
     "metadata": {},
     "source": [
      "Could we ask what are the well id's for people who drink water and their arsenic is about 250 ppb.  This would be poeple with high exposure!  We would need to use an and statement.  In pandas you use a logical_and().  For example if we wanted we could then try to convinces these households to switch.  "
     ]
    },
    {
     "cell_type": "code",
     "collapsed": false,
     "input": [
      "print well_data['As'][logical_and(well_data.Drink=='Y',well_data.As>250)]"
     ],
     "language": "python",
     "metadata": {},
     "outputs": [
      {
       "output_type": "stream",
       "stream": "stdout",
       "text": [
        "Well_ID\n",
        "101        308.880000\n",
        "279        299.530000\n",
        "283        256.610000\n",
        "1688       339.300000\n",
        "2574       439.690000\n",
        "3607       422.070000\n",
        "3608       304.690000\n",
        "3624       368.900000\n",
        "3633       309.920000\n",
        "3853       700.890000\n",
        "4095       255.620635\n",
        "4412       506.750799\n",
        "4450       285.971884\n",
        "7010       270.785974\n",
        "7015       351.206317\n",
        "7129       267.553524\n",
        "7136       282.519542\n",
        "7605       271.752307\n",
        "Name: As, dtype: float64\n"
       ]
      }
     ],
     "prompt_number": 85
    },
    {
     "cell_type": "markdown",
     "metadata": {},
     "source": [
      "Can we look at who drinks from their wells and if they don't drink is it beacuse it has more arsenic?"
     ]
    },
    {
     "cell_type": "code",
     "collapsed": false,
     "input": [
      "print well_data['As'][well_data.Drink=='Y'].describe() \n",
      "print well_data['As'][well_data.Drink=='N'].describe()"
     ],
     "language": "python",
     "metadata": {},
     "outputs": [
      {
       "output_type": "stream",
       "stream": "stdout",
       "text": [
        "count    336.000000\n",
        "mean      72.484361\n",
        "std       91.571537\n",
        "min       -0.020162\n",
        "25%        9.962403\n",
        "50%       39.975000\n",
        "75%       99.294435\n",
        "max      700.890000\n",
        "dtype: float64\n",
        "count     71.000000\n",
        "mean     171.105792\n",
        "std      107.308224\n",
        "min        1.368709\n",
        "25%       81.614239\n",
        "50%      150.250000\n",
        "75%      250.245000\n",
        "max      473.340000\n",
        "dtype: float64\n"
       ]
      }
     ],
     "prompt_number": 87
    },
    {
     "cell_type": "markdown",
     "metadata": {},
     "source": [
      "Could we disply this data?  "
     ]
    },
    {
     "cell_type": "code",
     "collapsed": false,
     "input": [
      "well_data.boxplot(column='As')"
     ],
     "language": "python",
     "metadata": {},
     "outputs": [
      {
       "metadata": {},
       "output_type": "pyout",
       "prompt_number": 94,
       "text": [
        "{'boxes': [<matplotlib.lines.Line2D at 0xcd043c8>],\n",
        " 'caps': [<matplotlib.lines.Line2D at 0xcd09198>,\n",
        "  <matplotlib.lines.Line2D at 0xcd09710>],\n",
        " 'fliers': [<matplotlib.lines.Line2D at 0xcd0c208>],\n",
        " 'means': [],\n",
        " 'medians': [<matplotlib.lines.Line2D at 0xcd09c50>],\n",
        " 'whiskers': [<matplotlib.lines.Line2D at 0xcd045f8>,\n",
        "  <matplotlib.lines.Line2D at 0xcd04be0>]}"
       ]
      },
      {
       "metadata": {},
       "output_type": "display_data",
       "png": "[encoded data removed]",
       "text": [
        "<matplotlib.figure.Figure at 0xcc3edd8>"
       ]
      }
     ],
     "prompt_number": 94
    },
    {
     "cell_type": "markdown",
     "metadata": {},
     "source": [
      "But we really want two boxplots.  One for people who drink and one for people who don't drink.  I wasn't sure how to do it?  So I googles pandas boxplot.  Here are two of the links I got.  See if you can figure it out!\n",
      "\n",
      "\n",
      "http://pandas.pydata.org/pandas-docs/dev/generated/pandas.DataFrame.boxplot.html\n",
      "\n",
      "http://stackoverflow.com/questions/23232989/boxplot-stratified-by-column-in-python-pandas"
     ]
    },
    {
     "cell_type": "code",
     "collapsed": false,
     "input": [],
     "language": "python",
     "metadata": {},
     "outputs": [
      {
       "metadata": {},
       "output_type": "pyout",
       "prompt_number": 171,
       "text": [
        "<matplotlib.axes._subplots.AxesSubplot at 0x10eb5518>"
       ]
      },
      {
       "metadata": {},
       "output_type": "display_data",
       "png": "[encoded data removed]",
       "text": [
        "<matplotlib.figure.Figure at 0x1070c0f0>"
       ]
      }
     ],
     "prompt_number": 171
    },
    {
     "cell_type": "markdown",
     "metadata": {},
     "source": [
      "What difference do you notice about the arsenic concentrations of peeople drinking from their wells?"
     ]
    },
    {
     "cell_type": "markdown",
     "metadata": {},
     "source": [
      "For our final exercise. Lets put it together and get data and then see if we can plot it.  I want to know the number of people who are drinking from there wells based on the arsenic concentrations.  Can we do the reverse.  if the arsenic is <10,10-50, and >50 what is the value counts of drinking and not drinking.  I chose these numbers because 10 ppb is the EPA and WHO drinking water limit.  50 ppb is the Bangladesh drinking water limit.  We see negative health effects at 10ppb.    "
     ]
    },
    {
     "cell_type": "markdown",
     "metadata": {},
     "source": [
      "I would first just try and break the data into 3 groups and print out the results.  So use your way of selecting data and select data based on the levels of arsenic.  To do between 10 and 50 you will need to use an and statement and how to do those is different.  you need to use the logical_and() fucntion.  numpy logical_and(argument1, argument2) works by taking tow arguments and then returning what happens the same way as if you did an and.  but it works better.  \n",
      "\n",
      "1.  Print out the number of people drinking from wells with arsenic less than 10.  you can use value_counts() and your selection method."
     ]
    },
    {
     "cell_type": "code",
     "collapsed": false,
     "input": [
      "print 'people drinking with <10 \\n',well_data['Drink'][well_data.As<=10].value_counts() \n"
     ],
     "language": "python",
     "metadata": {},
     "outputs": [
      {
       "output_type": "stream",
       "stream": "stdout",
       "text": [
        "people drinking with <10 \n",
        "Y    84\n",
        "N     1\n",
        "dtype: int64\n"
       ]
      }
     ],
     "prompt_number": 112
    },
    {
     "cell_type": "markdown",
     "metadata": {},
     "source": [
      "2.  Next use determine the  people drinking from wells with arsenic more than 50. "
     ]
    },
    {
     "cell_type": "code",
     "collapsed": false,
     "input": [],
     "language": "python",
     "metadata": {},
     "outputs": [
      {
       "output_type": "stream",
       "stream": "stdout",
       "text": [
        "\n",
        "people drinking with >50 \n",
        "Y    147\n",
        "N     66\n",
        "dtype: int64\n"
       ]
      }
     ],
     "prompt_number": 113
    },
    {
     "cell_type": "markdown",
     "metadata": {},
     "source": [
      "3.  Now use your logical_and() to determine between 10 and 50.  "
     ]
    },
    {
     "cell_type": "code",
     "collapsed": false,
     "input": [],
     "language": "python",
     "metadata": {},
     "outputs": [
      {
       "output_type": "stream",
       "stream": "stdout",
       "text": [
        "\n",
        "people drinking with 10-50 \n",
        "Y    105\n",
        "N      4\n",
        "dtype: int64\n"
       ]
      }
     ],
     "prompt_number": 115
    },
    {
     "cell_type": "markdown",
     "metadata": {},
     "source": [
      "This is a bad way of looking at the data.  I would like to make bar plot.  Here is my goal.  Cand we get there?  "
     ]
    },
    {
     "cell_type": "code",
     "collapsed": false,
     "input": [],
     "language": "python",
     "metadata": {},
     "outputs": [
      {
       "metadata": {},
       "output_type": "pyout",
       "prompt_number": 145,
       "text": [
        "<matplotlib.text.Text at 0x11506128>"
       ]
      },
      {
       "metadata": {},
       "output_type": "display_data",
       "png": "[encoded data removed]",
       "text": [
        "<matplotlib.figure.Figure at 0x10b2fe48>"
       ]
      }
     ],
     "prompt_number": 145
    },
    {
     "cell_type": "markdown",
     "metadata": {},
     "source": [
      "First lets look up bar plot.  http://matplotlib.org/examples/api/barchart_demo.html  This is the example on all the web pages.   We can make sense of it.  Lets do one step at a time.  What plt.bar wants is (x,y,width).  lets do it for As<10 first.  Here is our data again.  "
     ]
    },
    {
     "cell_type": "code",
     "collapsed": false,
     "input": [
      "print 'people drinking with <10 \\n',well_data['Drink'][well_data.As<=10].value_counts() "
     ],
     "language": "python",
     "metadata": {},
     "outputs": [
      {
       "output_type": "stream",
       "stream": "stdout",
       "text": [
        "people drinking with <10 \n",
        "Y    84\n",
        "N     1\n",
        "dtype: int64\n"
       ]
      }
     ],
     "prompt_number": 122
    },
    {
     "cell_type": "markdown",
     "metadata": {},
     "source": [
      "So we want to plot 84 Drink, 1 Doesn't drink.  I will do it longhand first time."
     ]
    },
    {
     "cell_type": "code",
     "collapsed": false,
     "input": [
      "plt.bar(0,84)"
     ],
     "language": "python",
     "metadata": {},
     "outputs": [
      {
       "metadata": {},
       "output_type": "pyout",
       "prompt_number": 124,
       "text": [
        "<Container object of 1 artists>"
       ]
      },
      {
       "metadata": {},
       "output_type": "display_data",
       "png": "[encoded data removed]",
       "text": [
        "<matplotlib.figure.Figure at 0xe7c3080>"
       ]
      }
     ],
     "prompt_number": 124
    },
    {
     "cell_type": "markdown",
     "metadata": {},
     "source": [
      "The default width is 0.8 starting from 0.  Now we need to add the doesn't drink.  "
     ]
    },
    {
     "cell_type": "code",
     "collapsed": false,
     "input": [
      "plt.bar(0,84)\n",
      "plt.bar(0.8,1)"
     ],
     "language": "python",
     "metadata": {},
     "outputs": [
      {
       "metadata": {},
       "output_type": "pyout",
       "prompt_number": 125,
       "text": [
        "<Container object of 1 artists>"
       ]
      },
      {
       "metadata": {},
       "output_type": "display_data",
       "png": "[encoded data removed]",
       "text": [
        "<matplotlib.figure.Figure at 0xefd0128>"
       ]
      }
     ],
     "prompt_number": 125
    },
    {
     "cell_type": "markdown",
     "metadata": {},
     "source": [
      "Now we need to add colors and labels for a legend.  "
     ]
    },
    {
     "cell_type": "code",
     "collapsed": false,
     "input": [
      "plt.bar(0,84,color='g',label='Drink')\n",
      "plt.bar(0.8,1,color='r',label=\"Doesn't Drink\") #I did double quotes so I could print the single quote\n",
      "plt.legend(loc='best')"
     ],
     "language": "python",
     "metadata": {},
     "outputs": [
      {
       "metadata": {},
       "output_type": "pyout",
       "prompt_number": 129,
       "text": [
        "<matplotlib.legend.Legend at 0x104c0198>"
       ]
      },
      {
       "metadata": {},
       "output_type": "display_data",
       "png": "[encoded data removed]",
       "text": [
        "<matplotlib.figure.Figure at 0xe7e5518>"
       ]
      }
     ],
     "prompt_number": 129
    },
    {
     "cell_type": "markdown",
     "metadata": {},
     "source": [
      "this is a disaster.  We can't hard wire it all. We need to be better in our programming and what people call pythonic.  The first trick is setting this fig,ax=plt.subplots(1,1)   this will help us get access to all parts of the graph later on and is just telling the program to make one plot in one location. Later in the course we will do multiple subplots.  now instead of setting the x-axis to zero lets use np.arange.  Then also lets set the width. We will also make the second bar start at one width  "
     ]
    },
    {
     "cell_type": "code",
     "collapsed": false,
     "input": [
      "fig,ax=plt.subplots(1,1) \n",
      "width=0.35\n",
      "xvalues=np.arange(1)\n",
      "ax.bar(xvalues,84,width,color='g',label='Drink')\n",
      "ax.bar(xvalues+width,1,width,color='r',label=\"Doesn't Drink\") #I did double quotes so I could print the single quote\n",
      "ax.legend(loc='best')"
     ],
     "language": "python",
     "metadata": {},
     "outputs": [
      {
       "metadata": {},
       "output_type": "pyout",
       "prompt_number": 133,
       "text": [
        "<matplotlib.legend.Legend at 0x10ba0198>"
       ]
      },
      {
       "metadata": {},
       "output_type": "display_data",
       "png": "[encoded data removed]",
       "text": [
        "<matplotlib.figure.Figure at 0x10b3f978>"
       ]
      }
     ],
     "prompt_number": 133
    },
    {
     "cell_type": "markdown",
     "metadata": {},
     "source": [
      "Now we are starting to make progress.  But we need the other two sets of bars.  We will need a set of yes and no values.  so we need yes[0],yes[1],yes[2] representing our values.  I would make a nump array of zeros and then fill it in.  So to make a numpy array of zeros.  then fill in the array.  we know the length has to be three."
     ]
    },
    {
     "cell_type": "code",
     "collapsed": false,
     "input": [
      "yes=np.zeros(3)\n",
      "print yes"
     ],
     "language": "python",
     "metadata": {},
     "outputs": [
      {
       "output_type": "stream",
       "stream": "stdout",
       "text": [
        "[ 0.  0.  0.]\n"
       ]
      }
     ],
     "prompt_number": 135
    },
    {
     "cell_type": "markdown",
     "metadata": {},
     "source": [
      "Now do the same for no.  then set each one equal to the correct result that you have above where you printed out the results.  don't print the results like you did above.  set them to yes,no given the correct array spot.  At the end you should now have yes and no set for the three levels.    "
     ]
    },
    {
     "cell_type": "code",
     "collapsed": false,
     "input": [],
     "language": "python",
     "metadata": {},
     "outputs": [
      {
       "output_type": "stream",
       "stream": "stdout",
       "text": [
        "[  84.  105.  147.] [  1.   4.  66.]\n"
       ]
      }
     ],
     "prompt_number": 140
    },
    {
     "cell_type": "markdown",
     "metadata": {},
     "source": [
      "Now we can do a bar plot of yes and no.  Go copy and past your barplot code from above.  but now make the x-axis have an np.arange of 3 b/c we want 3 locations.  And don't use the hardwired number put in your new yes and no arrays you just made."
     ]
    },
    {
     "cell_type": "code",
     "collapsed": false,
     "input": [],
     "language": "python",
     "metadata": {},
     "outputs": [
      {
       "metadata": {},
       "output_type": "pyout",
       "prompt_number": 141,
       "text": [
        "<matplotlib.legend.Legend at 0x106ed908>"
       ]
      },
      {
       "metadata": {},
       "output_type": "display_data",
       "png": "[encoded data removed]",
       "text": [
        "<matplotlib.figure.Figure at 0x106ede10>"
       ]
      }
     ],
     "prompt_number": 141
    },
    {
     "cell_type": "markdown",
     "metadata": {},
     "source": [
      "Now you are looking great with a wonderful graph.  lets label everything.  We just need an x-axis labeled correctly.  Also, I would put all the code in one cell so it always works smoothly.  If we go back to our webpage with the example we can use ax.set_xticks(xvalues+width) to get us the xticks we want.  then we can add ax.set_xticklabels(('names','names','names')).  We can also use ax.set_xlabel() and ax.set_ylabel()"
     ]
    },
    {
     "cell_type": "code",
     "collapsed": false,
     "input": [],
     "language": "python",
     "metadata": {},
     "outputs": [
      {
       "metadata": {},
       "output_type": "pyout",
       "prompt_number": 144,
       "text": [
        "<matplotlib.text.Text at 0x10f052e8>"
       ]
      },
      {
       "metadata": {},
       "output_type": "display_data",
       "png": "[encoded data removed]",
       "text": [
        "<matplotlib.figure.Figure at 0x10b32da0>"
       ]
      }
     ],
     "prompt_number": 144
    },
    {
     "cell_type": "code",
     "collapsed": false,
     "input": [],
     "language": "python",
     "metadata": {},
     "outputs": []
    },
    {
     "cell_type": "code",
     "collapsed": false,
     "input": [],
     "language": "python",
     "metadata": {},
     "outputs": []
    },
    {
     "cell_type": "code",
     "collapsed": false,
     "input": [
      "m"
     ],
     "language": "python",
     "metadata": {},
     "outputs": []
    },
    {
     "cell_type": "heading",
     "level": 3,
     "metadata": {},
     "source": [
      "Answers"
     ]
    },
    {
     "cell_type": "code",
     "collapsed": false,
     "input": [
      "well_data.boxplot(column='As',by='Drink')"
     ],
     "language": "python",
     "metadata": {},
     "outputs": [
      {
       "metadata": {},
       "output_type": "pyout",
       "prompt_number": 100,
       "text": [
        "<matplotlib.axes._subplots.AxesSubplot at 0xd40ce48>"
       ]
      },
      {
       "metadata": {},
       "output_type": "display_data",
       "png": "[encoded data removed]",
       "text": [
        "<matplotlib.figure.Figure at 0xd40fcf8>"
       ]
      }
     ],
     "prompt_number": 100
    },
    {
     "cell_type": "code",
     "collapsed": false,
     "input": [
      "print 'people drinking with <10 \\n',well_data['Drink'][well_data.As<=10].value_counts() "
     ],
     "language": "python",
     "metadata": {},
     "outputs": [
      {
       "output_type": "stream",
       "stream": "stdout",
       "text": [
        "people drinking with <10 \n",
        "Y    84\n",
        "N     1\n",
        "dtype: int64\n"
       ]
      }
     ],
     "prompt_number": 117
    },
    {
     "cell_type": "code",
     "collapsed": false,
     "input": [
      "print '\\npeople drinking with >50 \\n',well_data['Drink'][well_data.As>=50].value_counts() "
     ],
     "language": "python",
     "metadata": {},
     "outputs": [
      {
       "output_type": "stream",
       "stream": "stdout",
       "text": [
        "\n",
        "people drinking with >50 \n",
        "Y    147\n",
        "N     66\n",
        "dtype: int64\n"
       ]
      }
     ],
     "prompt_number": 118
    },
    {
     "cell_type": "code",
     "collapsed": false,
     "input": [
      "print '\\npeople drinking with 10-50 \\n',well_data['Drink'][logical_and(well_data.As<=50,well_data.As>=10)].value_counts() \n"
     ],
     "language": "python",
     "metadata": {},
     "outputs": [
      {
       "output_type": "stream",
       "stream": "stdout",
       "text": [
        "\n",
        "people drinking with 10-50 \n",
        "Y    105\n",
        "N      4\n",
        "dtype: int64\n"
       ]
      }
     ],
     "prompt_number": 119
    },
    {
     "cell_type": "code",
     "collapsed": false,
     "input": [
      "yes=np.zeros(3)\n",
      "no=np.zeros(3)\n",
      "yes[0],no[0]=well_data['Drink'][well_data.As<=10].value_counts() \n",
      "yes[1],no[1]=well_data['Drink'][logical_and(well_data.As<=50,well_data.As>=10)].value_counts()\n",
      "yes[2],no[2]=well_data['Drink'][well_data.As>=50].value_counts() \n",
      "print yes,no"
     ],
     "language": "python",
     "metadata": {},
     "outputs": [
      {
       "output_type": "stream",
       "stream": "stdout",
       "text": [
        "[  84.  105.  147.] [  1.   4.  66.]\n"
       ]
      }
     ],
     "prompt_number": 172
    },
    {
     "cell_type": "code",
     "collapsed": false,
     "input": [
      "fig,ax=plt.subplots(1,1) \n",
      "width=0.35\n",
      "xvalues=np.arange(3)\n",
      "ax.bar(xvalues,yes,width,color='g',label='Drink')\n",
      "ax.bar(xvalues+width,no,width,color='r',label=\"Doesn't Drink\") #I did double quotes so I could print the single quote\n",
      "ax.legend(loc='best')"
     ],
     "language": "python",
     "metadata": {},
     "outputs": [
      {
       "metadata": {},
       "output_type": "pyout",
       "prompt_number": 173,
       "text": [
        "<matplotlib.legend.Legend at 0xea20630>"
       ]
      },
      {
       "metadata": {},
       "output_type": "display_data",
       "png": "[encoded data removed]",
       "text": [
        "<matplotlib.figure.Figure at 0x1152ef28>"
       ]
      }
     ],
     "prompt_number": 173
    },
    {
     "cell_type": "code",
     "collapsed": false,
     "input": [
      "yes=np.zeros(3)\n",
      "no=np.zeros(3)\n",
      "yes[0],no[0]=well_data['Drink'][well_data.As<=10].value_counts() \n",
      "yes[1],no[1]=well_data['Drink'][logical_and(well_data.As<=50,well_data.As>=10)].value_counts()\n",
      "yes[2],no[2]=well_data['Drink'][well_data.As>=50].value_counts() \n",
      "\n",
      "fig,ax=plt.subplots(1,1) \n",
      "width=0.35\n",
      "xvalues=np.arange(3)\n",
      "ax.bar(xvalues,yes,width,color='g',label='Drink')\n",
      "ax.bar(xvalues+width,no,width,color='r',label=\"Doesn't Drink\") #I did double quotes so I could print the single quote\n",
      "ax.legend(loc='best')\n",
      "ax.set_xticks(xvalues+width)\n",
      "ax.set_xticklabels(('<10','10-50','>50'))\n",
      "ax.set_xlabel('Arsenic Concentration ppb')\n",
      "ax.set_ylabel('Number of wells')"
     ],
     "language": "python",
     "metadata": {},
     "outputs": [
      {
       "metadata": {},
       "output_type": "pyout",
       "prompt_number": 146,
       "text": [
        "<matplotlib.text.Text at 0x1152ff28>"
       ]
      },
      {
       "metadata": {},
       "output_type": "display_data",
       "png": "[encoded data removed]",
       "text": [
        "<matplotlib.figure.Figure at 0x10b2f748>"
       ]
      }
     ],
     "prompt_number": 146
    },
    {
     "cell_type": "code",
     "collapsed": false,
     "input": [],
     "language": "python",
     "metadata": {},
     "outputs": []
    }
   ],
   "metadata": {}
  }
 ]
}