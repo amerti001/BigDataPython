{
 "cells": [
  {
   "cell_type": "code",
   "execution_count": 5,
   "metadata": {
    "collapsed": false
   },
   "outputs": [
    {
     "name": "stdout",
     "output_type": "stream",
     "text": [
      "We are going to print February Temperature Data!\n",
      "For Central Park type 1\n",
      "For Laguardia type 2\n",
      "For both on one plot type 3\n",
      "For a plot of Central Park versus LaGuardia type 4\n",
      "Please enter your number.....4\n"
     ]
    },
    {
     "data": {
      "image/png": "[encoded data removed]",
      "text/plain": [
       "<matplotlib.figure.Figure at 0x10f0fe1d0>"
      ]
     },
     "metadata": {},
     "output_type": "display_data"
    }
   ],
   "source": [
    "%matplotlib inline\n",
    "import matplotlib.pylab as plt\n",
    "import numpy as np\n",
    "KNYC=np.array([90,91,93,85,83,87,92])\n",
    "KLGA=np.array([88,88,93,84,80,84,90])\n",
    "\n",
    "print 'We are going to print February Temperature Data!'\n",
    "print 'For Central Park type 1'\n",
    "print 'For Laguardia type 2'\n",
    "print 'For both on one plot type 3'\n",
    "print 'For a plot of Central Park versus LaGuardia type 4'\n",
    "a=int(raw_input('Please enter your number.....'))\n",
    "         \n",
    "if a==1:\n",
    "    plt.plot(range(1,8),KNYC)\n",
    "    plt.xlabel('Day in February')\n",
    "    plt.ylabel('Temperature (f)')\n",
    "    plt.title('Central Park')\n",
    "elif a==2:\n",
    "    plt.plot(range(1,8),KLGA)\n",
    "    plt.xlabel('Day in February')\n",
    "    plt.ylabel('Temperature (f)')  \n",
    "    plt.title('Laguardia')\n",
    "elif a==3:\n",
    "    plt.plot(range(1,8),KLGA,label='KLGA')\n",
    "    plt.plot(range(1,8),KNYC,label='KNYC')\n",
    "    plt.xlabel('Day in February')\n",
    "    plt.ylabel('Temperature (f)')  \n",
    "    plt.title('Laguardia')  \n",
    "    plt.legend()\n",
    "elif a==4:\n",
    "    plt.scatter(KNYC,KLGA)\n",
    "    plt.xlabel('KNYC')\n",
    "    plt.ylabel('KLGA')  \n",
    "    plt.title('Central Park versus LaGuardia')\n",
    "else:\n",
    "    print 'you entered a bad number'"
   ]
  },
  {
   "cell_type": "code",
   "execution_count": null,
   "metadata": {
    "collapsed": true
   },
   "outputs": [],
   "source": []
  }
 ],
 "metadata": {
  "kernelspec": {
   "display_name": "Python 2",
   "language": "python",
   "name": "python2"
  },
  "language_info": {
   "codemirror_mode": {
    "name": "ipython",
    "version": 2
   },
   "file_extension": ".py",
   "mimetype": "text/x-python",
   "name": "python",
   "nbconvert_exporter": "python",
   "pygments_lexer": "ipython2",
   "version": "2.7.11"
  }
 },
 "nbformat": 4,
 "nbformat_minor": 0
}
