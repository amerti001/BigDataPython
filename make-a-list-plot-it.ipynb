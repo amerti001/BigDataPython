{
 "metadata": {
  "name": "make-a-list-plot-it.ipynb"
 },
 "nbformat": 3,
 "nbformat_minor": 0,
 "worksheets": [
  {
   "cells": [
    {
     "cell_type": "markdown",
     "metadata": {},
     "source": [
      "#Graphs and List\n",
      "We want to learn to make graphs with our central park monthly data.  What kind of graphs would you want to make???"
     ]
    },
    {
     "cell_type": "code",
     "collapsed": false,
     "input": [
      "# we are going to go back and get the average central park data and plot them.  \n",
      "'''\n",
      "\tPRCP\tTOBS\n",
      "month\t\t\n",
      "1\t 3.463263\t -100.220588\n",
      "2\t 3.334789\t -85.753623\n",
      "3\t 3.995651\t 1233.414286\n",
      "4\t 3.697536\t 2984.722222\n",
      "5\t 3.755582\t 5004.109589\n",
      "6\t 3.674013\t 6422.902778\n",
      "7\t 4.253052\t 7521.958333\n",
      "8\t 4.348163\t 7192.661972\n",
      "9\t 3.870993\t 5940.478873\n",
      "10\t 3.646531\t 4224.197183\n",
      "11\t 3.527670\t 2206.549296\n",
      "12\t 3.624314\t 488.833333\n",
      "'''\n",
      "#lets make a list\n",
      "monthly_precip=[3.46,3.33,3.99,3.69,3.75,3.67,4.25,4.34,3.87,3.64,3.52,3.62]\n",
      "print monthly_precip"
     ],
     "language": "python",
     "metadata": {},
     "outputs": [
      {
       "output_type": "stream",
       "stream": "stdout",
       "text": [
        "[3.46, 3.33, 3.99, 3.69, 3.75, 3.67, 4.25, 4.34, 3.87, 3.64, 3.52, 3.62]\n"
       ]
      }
     ],
     "prompt_number": 1
    },
    {
     "cell_type": "code",
     "collapsed": false,
     "input": [
      "monthly_precip[1] #lets review and go through how to access a list."
     ],
     "language": "python",
     "metadata": {},
     "outputs": [
      {
       "metadata": {},
       "output_type": "pyout",
       "prompt_number": 2,
       "text": [
        "3.33"
       ]
      }
     ],
     "prompt_number": 2
    },
    {
     "cell_type": "markdown",
     "metadata": {},
     "source": [
      "Go back to the last lecture and look at how you accessed lists.  Now practice on this list.  Can you show just the even or odd months?  Can you do it backward?  Can you just looks at one month? try them all"
     ]
    },
    {
     "cell_type": "code",
     "collapsed": false,
     "input": [],
     "language": "python",
     "metadata": {},
     "outputs": [],
     "prompt_number": 2
    },
    {
     "cell_type": "markdown",
     "metadata": {},
     "source": [
      "#Now lets do a few plots."
     ]
    },
    {
     "cell_type": "code",
     "collapsed": false,
     "input": [
      "import numpy as np\n",
      "import matplotlib.pyplot as plt\n",
      "\n",
      "plt.plot(monthly_precip)  # what is wrong with the x axis.  "
     ],
     "language": "python",
     "metadata": {},
     "outputs": [
      {
       "metadata": {},
       "output_type": "pyout",
       "prompt_number": 3,
       "text": [
        "[<matplotlib.lines.Line2D at 0x8337c50>]"
       ]
      },
      {
       "metadata": {},
       "output_type": "display_data",
       "png": "[encoded data removed]",
       "text": [
        "<matplotlib.figure.Figure at 0x81a0550>"
       ]
      }
     ],
     "prompt_number": 3
    },
    {
     "cell_type": "heading",
     "level": 2,
     "metadata": {},
     "source": [
      "What is wrong with the x-axis?  What is being plotted?"
     ]
    },
    {
     "cell_type": "code",
     "collapsed": false,
     "input": [
      "plt.bar(range(1,13),monthly_precip)"
     ],
     "language": "python",
     "metadata": {},
     "outputs": [
      {
       "metadata": {},
       "output_type": "pyout",
       "prompt_number": 4,
       "text": [
        "<Container object of 12 artists>"
       ]
      },
      {
       "metadata": {},
       "output_type": "display_data",
       "png": "[encoded data removed]",
       "text": [
        "<matplotlib.figure.Figure at 0x81afd30>"
       ]
      }
     ],
     "prompt_number": 4
    },
    {
     "cell_type": "code",
     "collapsed": false,
     "input": [
      "plt.barh(range(1,13),monthly_precip)"
     ],
     "language": "python",
     "metadata": {},
     "outputs": [
      {
       "metadata": {},
       "output_type": "pyout",
       "prompt_number": 5,
       "text": [
        "<Container object of 12 artists>"
       ]
      },
      {
       "metadata": {},
       "output_type": "display_data",
       "png": "[encoded data removed]",
       "text": [
        "<matplotlib.figure.Figure at 0x85a0f98>"
       ]
      }
     ],
     "prompt_number": 5
    },
    {
     "cell_type": "code",
     "collapsed": false,
     "input": [
      "plt.plot(range(1,13),monthly_precip)"
     ],
     "language": "python",
     "metadata": {},
     "outputs": [
      {
       "metadata": {},
       "output_type": "pyout",
       "prompt_number": 31,
       "text": [
        "[<matplotlib.lines.Line2D at 0xa5383c8>]"
       ]
      },
      {
       "metadata": {},
       "output_type": "display_data",
       "png": "[encoded data removed]",
       "text": [
        "<matplotlib.figure.Figure at 0x8640978>"
       ]
      }
     ],
     "prompt_number": 31
    },
    {
     "cell_type": "markdown",
     "metadata": {},
     "source": [
      "##What is range and what did I just do to get the axes to change?  \n",
      "Lets see if we can figure this out.  First lets look at a link for [range](https://docs.python.org/2/library/functions.html) But if we want to get fancy we could put a webpage into our ipython notebook!"
     ]
    },
    {
     "cell_type": "code",
     "collapsed": false,
     "input": [
      "from IPython.display import HTML\n",
      "HTML('<iframe src=https://docs.python.org/2/library/functions.html#range width=700 height=600></iframe>')"
     ],
     "language": "python",
     "metadata": {},
     "outputs": [
      {
       "html": [
        "<iframe src=https://docs.python.org/2/library/functions.html#range width=700 height=600></iframe>"
       ],
       "metadata": {},
       "output_type": "pyout",
       "prompt_number": 10,
       "text": [
        "<IPython.core.display.HTML at 0x85aeda0>"
       ]
      }
     ],
     "prompt_number": 10
    },
    {
     "cell_type": "markdown",
     "metadata": {},
     "source": [
      "More easilty we could get help.   Thre are 2 easy ways.  \n",
      "\n",
      "1.  type ?range or ?and the function and press shift-enter\n",
      "\n",
      "2. you start typing the function and add the first brakcet and press tab.  try both"
     ]
    },
    {
     "cell_type": "code",
     "collapsed": false,
     "input": [
      "?range"
     ],
     "language": "python",
     "metadata": {},
     "outputs": [],
     "prompt_number": 1
    },
    {
     "cell_type": "code",
     "collapsed": false,
     "input": [
      "range("
     ],
     "language": "python",
     "metadata": {},
     "outputs": []
    },
    {
     "cell_type": "markdown",
     "metadata": {},
     "source": [
      "Can you count to 20?"
     ]
    },
    {
     "cell_type": "code",
     "collapsed": false,
     "input": [
      "range(20)"
     ],
     "language": "python",
     "metadata": {},
     "outputs": [
      {
       "metadata": {},
       "output_type": "pyout",
       "prompt_number": 2,
       "text": [
        "[0, 1, 2, 3, 4, 5, 6, 7, 8, 9, 10, 11, 12, 13, 14, 15, 16, 17, 18, 19]"
       ]
      }
     ],
     "prompt_number": 2
    },
    {
     "cell_type": "markdown",
     "metadata": {},
     "source": [
      "Can You include 20?"
     ]
    },
    {
     "cell_type": "code",
     "collapsed": false,
     "input": [],
     "language": "python",
     "metadata": {},
     "outputs": []
    },
    {
     "cell_type": "markdown",
     "metadata": {},
     "source": [
      "Can you count to 20 by 2's?"
     ]
    },
    {
     "cell_type": "code",
     "collapsed": false,
     "input": [],
     "language": "python",
     "metadata": {},
     "outputs": []
    },
    {
     "cell_type": "markdown",
     "metadata": {},
     "source": [
      "Can you count down from 20 to 0 and include 0?"
     ]
    },
    {
     "cell_type": "code",
     "collapsed": false,
     "input": [],
     "language": "python",
     "metadata": {},
     "outputs": []
    },
    {
     "cell_type": "markdown",
     "metadata": {},
     "source": [
      "###That was a nice aside but back to our plots? What did I do?\n",
      "use tab help on plt.plot( and see what the first two entries are.  \n",
      "\n",
      "###can you make a plot where the x asix is from 101-112?"
     ]
    },
    {
     "cell_type": "code",
     "collapsed": false,
     "input": [
      "plt.plot("
     ],
     "language": "python",
     "metadata": {},
     "outputs": []
    },
    {
     "cell_type": "code",
     "collapsed": false,
     "input": [],
     "language": "python",
     "metadata": {},
     "outputs": [],
     "prompt_number": 16
    },
    {
     "cell_type": "markdown",
     "metadata": {},
     "source": [
      "####Now can you look up a new plot type and make it on your own?  I would do matplotlib fill between.  You can google matplotlib fill between or do tab help.  "
     ]
    },
    {
     "cell_type": "code",
     "collapsed": false,
     "input": [],
     "language": "python",
     "metadata": {},
     "outputs": [],
     "prompt_number": 21
    },
    {
     "cell_type": "code",
     "collapsed": false,
     "input": [
      "plt.fill_between("
     ],
     "language": "python",
     "metadata": {},
     "outputs": []
    },
    {
     "cell_type": "markdown",
     "metadata": {},
     "source": [
      "###Lets get fancier and add the months to the x-axis"
     ]
    },
    {
     "cell_type": "code",
     "collapsed": false,
     "input": [
      "#but we need to do better\n",
      "# we could add the months\n",
      "months=['Jan','Feb','Mar','Apr','May','June','July','Aug','Sep','Oct','Nov','Dec']\n",
      "print months"
     ],
     "language": "python",
     "metadata": {},
     "outputs": [
      {
       "output_type": "stream",
       "stream": "stdout",
       "text": [
        "['Jan', 'Feb', 'Mar', 'Apr', 'May', 'June', 'July', 'Aug', 'Sep', 'Oct', 'Nov', 'Dec']\n"
       ]
      }
     ],
     "prompt_number": 28
    },
    {
     "cell_type": "markdown",
     "metadata": {},
     "source": [
      "##List properties\n",
      "I just did a trick on you  I just showed that lists do not need to be numbers.  I made the list a set of strings.  In fact lists are muteable and can be mixed.  so lets read and play with lists some!  \n",
      "[Here is a nice overview](http://www.tutorialspoint.com/python/python_lists.htm)\n",
      "[Here is the python page](https://docs.python.org/2/tutorial/introduction.html#lists)\n",
      "[Here is the more in depth python page](https://docs.python.org/2/tutorial/datastructures.html)\n",
      "plus remember you could tab help.  so you could type months. and hit tab"
     ]
    },
    {
     "cell_type": "code",
     "collapsed": false,
     "input": [
      "months.reverse()\n",
      "print months\n",
      "months.reverse()\n",
      "print months"
     ],
     "language": "python",
     "metadata": {},
     "outputs": [
      {
       "output_type": "stream",
       "stream": "stdout",
       "text": [
        "['Dec', 'Nov', 'Oct', 'Sep', 'Aug', 'July', 'June', 'May', 'Apr', 'Mar', 'Feb', 'Jan']\n",
        "['Jan', 'Feb', 'Mar', 'Apr', 'May', 'June', 'July', 'Aug', 'Sep', 'Oct', 'Nov', 'Dec']\n"
       ]
      }
     ],
     "prompt_number": 38
    },
    {
     "cell_type": "markdown",
     "metadata": {},
     "source": [
      "Can you change the list to spell out August?"
     ]
    },
    {
     "cell_type": "code",
     "collapsed": false,
     "input": [],
     "language": "python",
     "metadata": {},
     "outputs": [],
     "prompt_number": 41
    },
    {
     "cell_type": "markdown",
     "metadata": {},
     "source": [
      "You can also call functions on lists. for example what is the length? Use"
     ]
    },
    {
     "cell_type": "code",
     "collapsed": false,
     "input": [
      "len(months)"
     ],
     "language": "python",
     "metadata": {},
     "outputs": [
      {
       "metadata": {},
       "output_type": "pyout",
       "prompt_number": 43,
       "text": [
        "12"
       ]
      }
     ],
     "prompt_number": 43
    },
    {
     "cell_type": "markdown",
     "metadata": {},
     "source": [
      "Can you set August to 8?"
     ]
    },
    {
     "cell_type": "code",
     "collapsed": false,
     "input": [],
     "language": "python",
     "metadata": {},
     "outputs": [],
     "prompt_number": 46
    },
    {
     "cell_type": "markdown",
     "metadata": {},
     "source": [
      "Lets set months[7] back to 'Aug' and see if we can make a prettier graph!"
     ]
    },
    {
     "cell_type": "code",
     "collapsed": false,
     "input": [],
     "language": "python",
     "metadata": {},
     "outputs": []
    },
    {
     "cell_type": "code",
     "collapsed": false,
     "input": [
      "#http://matplotlib.org/examples/lines_bars_and_markers/barh_demo.html\n",
      "plt.bar(range(12),monthly_precip,align='center')\n",
      "plt.xticks(range(12),months)\n",
      "plt.xlabel('month')  #added in\n",
      "plt.ylabel('Precipitation (inches)')  #added in"
     ],
     "language": "python",
     "metadata": {},
     "outputs": [
      {
       "metadata": {},
       "output_type": "pyout",
       "prompt_number": 36,
       "text": [
        "<matplotlib.text.Text at 0xacf1d30>"
       ]
      },
      {
       "metadata": {},
       "output_type": "display_data",
       "png": "[encoded data removed]",
       "text": [
        "<matplotlib.figure.Figure at 0xacfa9e8>"
       ]
      }
     ],
     "prompt_number": 36
    },
    {
     "cell_type": "markdown",
     "metadata": {},
     "source": [
      "##Now we can also do a little math!\n",
      "can we convert the list so it is a percent of annual rainfall?  "
     ]
    },
    {
     "cell_type": "code",
     "collapsed": false,
     "input": [
      "#could we plot the percent rain?\n",
      "monthly_percent=monthly_precip/sum(monthly_precip)*100\n"
     ],
     "language": "python",
     "metadata": {},
     "outputs": [],
     "prompt_number": 39
    },
    {
     "cell_type": "code",
     "collapsed": false,
     "input": [
      "#how much rain falls each year? \n",
      "sum(monthly_precip)"
     ],
     "language": "python",
     "metadata": {},
     "outputs": [
      {
       "metadata": {},
       "output_type": "pyout",
       "prompt_number": 38,
       "text": [
        "45.130000000000003"
       ]
      }
     ],
     "prompt_number": 38
    },
    {
     "cell_type": "code",
     "collapsed": false,
     "input": [
      "monthly_percent"
     ],
     "language": "python",
     "metadata": {},
     "outputs": [
      {
       "metadata": {},
       "output_type": "pyout",
       "prompt_number": 40,
       "text": [
        "array([ 7.66674053,  7.3786838 ,  8.84112564,  8.17637935,  8.30932861,\n",
        "        8.13206293,  9.41723909,  9.61666297,  8.57522712,  8.0655883 ,\n",
        "        7.79968979,  8.02127188])"
       ]
      }
     ],
     "prompt_number": 40
    },
    {
     "cell_type": "code",
     "collapsed": false,
     "input": [],
     "language": "python",
     "metadata": {},
     "outputs": []
    }
   ],
   "metadata": {}
  }
 ]
}