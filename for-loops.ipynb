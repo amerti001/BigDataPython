{
 "cells": [
  {
   "cell_type": "markdown",
   "metadata": {},
   "source": [
    "# For Loops!!!!!"
   ]
  },
  {
   "cell_type": "markdown",
   "metadata": {},
   "source": [
    "### Today we are going to learn what is a for loop and how they work.  A for loop, goes across every item in a list.  then when you have that item you can do something with it.  For example if you made a grocery list.  You could say for every item in the list I will pick it off the shelf and put it in my cart.  we will do slightly different things like math and printing but the idea is similar!  "
   ]
  },
  {
   "cell_type": "markdown",
   "metadata": {},
   "source": [
    "\n",
    "So lets make a list and then loop over it.  we will start with a small list we make ourselves."
   ]
  },
  {
   "cell_type": "code",
   "execution_count": 1,
   "metadata": {
    "collapsed": true
   },
   "outputs": [],
   "source": [
    "%matplotlib inline\n",
    "import numpy as np\n",
    "import matplotlib.pyplot as plt\n"
   ]
  },
  {
   "cell_type": "code",
   "execution_count": 2,
   "metadata": {
    "collapsed": false
   },
   "outputs": [
    {
     "data": {
      "text/plain": [
       "[50, 30, 40, 10, 100]"
      ]
     },
     "execution_count": 2,
     "metadata": {},
     "output_type": "execute_result"
    }
   ],
   "source": [
    "mylist=[50,30,40,10,100]\n",
    "mylist"
   ]
  },
  {
   "cell_type": "code",
   "execution_count": 5,
   "metadata": {
    "collapsed": false
   },
   "outputs": [
    {
     "name": "stdout",
     "output_type": "stream",
     "text": [
      "50\n",
      "30\n",
      "40\n",
      "10\n",
      "100\n"
     ]
    }
   ],
   "source": [
    "for i in mylist:\n",
    "    print i"
   ]
  },
  {
   "cell_type": "code",
   "execution_count": 6,
   "metadata": {
    "collapsed": false
   },
   "outputs": [
    {
     "name": "stdout",
     "output_type": "stream",
     "text": [
      "50 30 40 10 100\n"
     ]
    }
   ],
   "source": [
    "# A cool trick I learned recently is that if you leave an extra comma in your print statement it puts things\n",
    "# on the same line\n",
    "for i in mylist:\n",
    "    print i,"
   ]
  },
  {
   "cell_type": "code",
   "execution_count": 4,
   "metadata": {
    "collapsed": false
   },
   "outputs": [
    {
     "name": "stdout",
     "output_type": "stream",
     "text": [
      "env\n",
      "chem\n",
      "bio\n",
      "psych\n"
     ]
    }
   ],
   "source": [
    "mystrlist=['env','chem','bio','psych']\n",
    "for dept in mystrlist:\n",
    "    print dept"
   ]
  },
  {
   "cell_type": "markdown",
   "metadata": {},
   "source": [
    "Exercise 1.  Can you make a list and loop over it?  Don't forget the colon and the indent.  If you put the colon when typing ipyhton will automatically indent.  "
   ]
  },
  {
   "cell_type": "code",
   "execution_count": null,
   "metadata": {
    "collapsed": false
   },
   "outputs": [],
   "source": []
  },
  {
   "cell_type": "markdown",
   "metadata": {},
   "source": [
    "### What happens if something is not indented?  "
   ]
  },
  {
   "cell_type": "code",
   "execution_count": 5,
   "metadata": {
    "collapsed": false
   },
   "outputs": [
    {
     "name": "stdout",
     "output_type": "stream",
     "text": [
      "env\n",
      "chem\n",
      "bio\n",
      "psych\n",
      "psych\n"
     ]
    }
   ],
   "source": [
    "mystrlist=['env','chem','bio','psych']\n",
    "for dept in mystrlist:\n",
    "    print dept\n",
    "print dept"
   ]
  },
  {
   "cell_type": "markdown",
   "metadata": {},
   "source": [
    "after the indent the for loop is over!"
   ]
  },
  {
   "cell_type": "markdown",
   "metadata": {},
   "source": [
    "Exercise 2.  Go back to your list.  Inside the for loop print dept and mystrlist.  Outside the for loop print the same thing.  "
   ]
  },
  {
   "cell_type": "code",
   "execution_count": null,
   "metadata": {
    "collapsed": false
   },
   "outputs": [],
   "source": []
  },
  {
   "cell_type": "markdown",
   "metadata": {},
   "source": [
    "But lets make a loop with numbers.  What number is not in the list."
   ]
  },
  {
   "cell_type": "code",
   "execution_count": 8,
   "metadata": {
    "collapsed": false
   },
   "outputs": [
    {
     "name": "stdout",
     "output_type": "stream",
     "text": [
      "0\n",
      "1\n",
      "2\n",
      "3\n",
      "4\n",
      "5\n",
      "6\n",
      "7\n",
      "8\n",
      "9\n"
     ]
    }
   ],
   "source": [
    "for  i in np.arange(0,10):\n",
    "    print i"
   ]
  },
  {
   "cell_type": "markdown",
   "metadata": {},
   "source": [
    "Exercise 3.  What if we want 10?  Can you do that"
   ]
  },
  {
   "cell_type": "code",
   "execution_count": 10,
   "metadata": {
    "collapsed": false
   },
   "outputs": [],
   "source": []
  },
  {
   "cell_type": "markdown",
   "metadata": {},
   "source": [
    "Exercise 4.  can you do 0 to 10 by 2's?"
   ]
  },
  {
   "cell_type": "code",
   "execution_count": 11,
   "metadata": {
    "collapsed": false
   },
   "outputs": [
    {
     "name": "stdout",
     "output_type": "stream",
     "text": [
      "0\n",
      "2\n",
      "4\n",
      "6\n",
      "8\n",
      "10\n"
     ]
    }
   ],
   "source": []
  },
  {
   "cell_type": "markdown",
   "metadata": {},
   "source": [
    "### So now we have two ways to loop.  the first is to loop over a list.  The second is to loop over range of numbers.  could we loop over numbers and call a list?  We can do this but it is generally not needed in Python"
   ]
  },
  {
   "cell_type": "code",
   "execution_count": 9,
   "metadata": {
    "collapsed": false
   },
   "outputs": [
    {
     "name": "stdout",
     "output_type": "stream",
     "text": [
      "i=0  The item in mystrlist[0] is env\n",
      "i=1  The item in mystrlist[1] is chem\n",
      "i=2  The item in mystrlist[2] is bio\n",
      "i=3  The item in mystrlist[3] is psych\n"
     ]
    }
   ],
   "source": [
    "mystrlist=['env','chem','bio','psych']\n",
    "for i in range(0,4):\n",
    "    print 'i={}  The item in mystrlist[{}] is {}'.format(i,i,mystrlist[i])\n",
    "    "
   ]
  },
  {
   "cell_type": "markdown",
   "metadata": {},
   "source": [
    "Instead of knowing that the length of the list is 4 you could use the len function...."
   ]
  },
  {
   "cell_type": "code",
   "execution_count": 15,
   "metadata": {
    "collapsed": false
   },
   "outputs": [
    {
     "name": "stdout",
     "output_type": "stream",
     "text": [
      "i= 0  The item in mystrlist[ 0 ] is env\n",
      "i= 1  The item in mystrlist[ 1 ] is chem\n",
      "i= 2  The item in mystrlist[ 2 ] is bio\n",
      "i= 3  The item in mystrlist[ 3 ] is psych\n"
     ]
    }
   ],
   "source": [
    "mystrlist=['env','chem','bio','psych']\n",
    "for i in range(0,len(mystrlist)):\n",
    "    print 'i=',i,' The item in mystrlist[',i,'] is',mystrlist[i]"
   ]
  },
  {
   "cell_type": "markdown",
   "metadata": {},
   "source": [
    "Python has a simple trick to count through a list and give you the list.  It may not make sense now but it will later in the semester!  PAY ATTENTION TO THIS!"
   ]
  },
  {
   "cell_type": "code",
   "execution_count": 7,
   "metadata": {
    "collapsed": false
   },
   "outputs": [
    {
     "name": "stdout",
     "output_type": "stream",
     "text": [
      "0 env\n",
      "1 chem\n",
      "2 bio\n",
      "3 psych\n"
     ]
    }
   ],
   "source": [
    "mystrlist=['env','chem','bio','psych']\n",
    "for i,mystr in enumerate(mystrlist):\n",
    "    print i,mystr"
   ]
  },
  {
   "cell_type": "markdown",
   "metadata": {},
   "source": [
    "Exercise 5.  Can you make a list with linspace and iterate through it?  "
   ]
  },
  {
   "cell_type": "code",
   "execution_count": 15,
   "metadata": {
    "collapsed": false
   },
   "outputs": [],
   "source": []
  },
  {
   "cell_type": "markdown",
   "metadata": {},
   "source": [
    "as we are iterating we could add to a list.  Lets start with an empty list. then lets add to the list the square of the value.   "
   ]
  },
  {
   "cell_type": "code",
   "execution_count": 2,
   "metadata": {
    "collapsed": false
   },
   "outputs": [
    {
     "name": "stdout",
     "output_type": "stream",
     "text": [
      "i= 0.0  The value of mylist[ 0.0 ] is 0.0\n",
      "i= 2.5  The value of mylist[ 2.5 ] is 6.25\n",
      "i= 5.0  The value of mylist[ 5.0 ] is 25.0\n",
      "i= 7.5  The value of mylist[ 7.5 ] is 56.25\n",
      "i= 10.0  The value of mylist[ 10.0 ] is 100.0\n",
      "We are done outside of the loop and mylist is  [0.0, 6.25, 25.0, 56.25, 100.0]\n"
     ]
    }
   ],
   "source": [
    "mylist=[]\n",
    "for i in np.linspace(0,10,5):\n",
    "    mylist.append(i**2)\n",
    "    print 'i=',i,' The value of mylist[',i,'] is',i**2\n",
    "print'We are done outside of the loop and mylist is ',mylist"
   ]
  },
  {
   "cell_type": "markdown",
   "metadata": {},
   "source": [
    "### I cheated and didn't use the formatting notation.  Can we do it with that print notations?"
   ]
  },
  {
   "cell_type": "code",
   "execution_count": 5,
   "metadata": {
    "collapsed": false
   },
   "outputs": [
    {
     "name": "stdout",
     "output_type": "stream",
     "text": [
      "i=0.0 The value of mylist[0.0] is 0.0\n",
      "i=2.5 The value of mylist[2.5] is 6.25\n",
      "i=5.0 The value of mylist[5.0] is 25.0\n",
      "i=7.5 The value of mylist[7.5] is 56.25\n",
      "i=10.0 The value of mylist[10.0] is 100.0\n",
      "\n",
      "We are done outside of the loop and mylist is [0.0, 6.25, 25.0, 56.25, 100.0] \n"
     ]
    }
   ],
   "source": [
    "mylist=[]\n",
    "for i in np.linspace(0,10,5):\n",
    "    mylist.append(i**2)\n",
    "    print 'i={} The value of mylist[{}] is {}'.format(i,i,i**2)\n",
    "print'\\nWe are done outside of the loop and mylist is {} '.format(mylist)"
   ]
  },
  {
   "cell_type": "markdown",
   "metadata": {},
   "source": [
    "## Exercise 6.\n",
    "#### Can you make two lists.  The first is months.  The second is days in that month.  Now can you loop through and print \n",
    "\n",
    "##### January has 31 days.\n",
    "\n",
    "##### February has....."
   ]
  },
  {
   "cell_type": "code",
   "execution_count": 66,
   "metadata": {
    "collapsed": false
   },
   "outputs": [],
   "source": []
  },
  {
   "cell_type": "markdown",
   "metadata": {},
   "source": [
    "## Exercise 7.  \n",
    "Can you now go back to the earlier assignment of plotting a parabola and do it the long old fashioned way in a for loop?  Remember\n",
    "# $y=ax^2+bx+c$\n",
    "set an a,b,and c.\n",
    "get an x range with linspace or range \n",
    "solve for y\n",
    "plot it.  "
   ]
  },
  {
   "cell_type": "code",
   "execution_count": 34,
   "metadata": {
    "collapsed": false
   },
   "outputs": [
    {
     "data": {
      "text/plain": [
       "[<matplotlib.lines.Line2D at 0x82adeb8>]"
      ]
     },
     "execution_count": 34,
     "metadata": {},
     "output_type": "execute_result"
    },
    {
     "data": {
      "image/png": "[encoded data removed]",
      "text/plain": [
       "<matplotlib.figure.Figure at 0x8256240>"
      ]
     },
     "metadata": {},
     "output_type": "display_data"
    }
   ],
   "source": [
    "import matplotlib.pylab as plt\n",
    "a=\n",
    "b=\n",
    "c="
   ]
  },
  {
   "cell_type": "markdown",
   "metadata": {},
   "source": [
    "We can also sum up in a for loop."
   ]
  },
  {
   "cell_type": "code",
   "execution_count": 77,
   "metadata": {
    "collapsed": false
   },
   "outputs": [
    {
     "name": "stdout",
     "output_type": "stream",
     "text": [
      "the sume is= 2.5\n"
     ]
    }
   ],
   "source": [
    "sum=0\n",
    "mylist=linspace(0.2,0.3,10)\n",
    "for i in mylist:\n",
    "    sum+=i   # This is a cool trick and means sum=sum+i\n",
    "print 'the sume is=',sum\n"
   ]
  },
  {
   "cell_type": "markdown",
   "metadata": {},
   "source": [
    "Exercise 8.  Now can you determine the average or the mean using a for loop?  I would also use the len() function.  "
   ]
  },
  {
   "cell_type": "code",
   "execution_count": 76,
   "metadata": {
    "collapsed": false
   },
   "outputs": [
    {
     "name": "stdout",
     "output_type": "stream",
     "text": [
      "the sume is= 2.5\n",
      "the mean is= 0.25\n"
     ]
    }
   ],
   "source": []
  },
  {
   "cell_type": "markdown",
   "metadata": {},
   "source": [
    "go back to exercise 8 and change the number of items in your list and see if it changes the mean...."
   ]
  },
  {
   "cell_type": "code",
   "execution_count": null,
   "metadata": {
    "collapsed": true
   },
   "outputs": [],
   "source": []
  },
  {
   "cell_type": "markdown",
   "metadata": {},
   "source": [
    "# ANSWERS"
   ]
  },
  {
   "cell_type": "markdown",
   "metadata": {},
   "source": [
    "Answer Exercise 1.  Just make your own list"
   ]
  },
  {
   "cell_type": "code",
   "execution_count": 67,
   "metadata": {
    "collapsed": false
   },
   "outputs": [
    {
     "name": "stdout",
     "output_type": "stream",
     "text": [
      "Therese\n",
      "Colette\n",
      "Lisa\n",
      "Hadil\n"
     ]
    }
   ],
   "source": [
    "students=['Therese','Colette','Lisa','Hadil']\n",
    "for student in students:\n",
    "    print student"
   ]
  },
  {
   "cell_type": "markdown",
   "metadata": {},
   "source": [
    "Answer Exercise 2.  "
   ]
  },
  {
   "cell_type": "code",
   "execution_count": 68,
   "metadata": {
    "collapsed": false
   },
   "outputs": [
    {
     "name": "stdout",
     "output_type": "stream",
     "text": [
      "Therese ['Therese', 'Colette', 'Lisa', 'Hadil']\n",
      "Colette ['Therese', 'Colette', 'Lisa', 'Hadil']\n",
      "Lisa ['Therese', 'Colette', 'Lisa', 'Hadil']\n",
      "Hadil ['Therese', 'Colette', 'Lisa', 'Hadil']\n",
      "Hadil ['Therese', 'Colette', 'Lisa', 'Hadil']\n"
     ]
    }
   ],
   "source": [
    "students=['Therese','Colette','Lisa','Hadil']\n",
    "for student in students:\n",
    "    print student,students\n",
    "    \n",
    "print student,students"
   ]
  },
  {
   "cell_type": "markdown",
   "metadata": {},
   "source": [
    "Answer Exercise 3. "
   ]
  },
  {
   "cell_type": "code",
   "execution_count": 69,
   "metadata": {
    "collapsed": false
   },
   "outputs": [
    {
     "name": "stdout",
     "output_type": "stream",
     "text": [
      "0\n",
      "1\n",
      "2\n",
      "3\n",
      "4\n",
      "5\n",
      "6\n",
      "7\n",
      "8\n",
      "9\n",
      "10\n"
     ]
    }
   ],
   "source": [
    "for  i in range(11):\n",
    "    print i"
   ]
  },
  {
   "cell_type": "markdown",
   "metadata": {},
   "source": [
    "Answer Exercise 4."
   ]
  },
  {
   "cell_type": "code",
   "execution_count": 70,
   "metadata": {
    "collapsed": false
   },
   "outputs": [
    {
     "name": "stdout",
     "output_type": "stream",
     "text": [
      "0\n",
      "2\n",
      "4\n",
      "6\n",
      "8\n",
      "10\n"
     ]
    }
   ],
   "source": [
    "for  i in range(0,11,2):\n",
    "    print i"
   ]
  },
  {
   "cell_type": "markdown",
   "metadata": {},
   "source": [
    "Answer Exercise 5"
   ]
  },
  {
   "cell_type": "code",
   "execution_count": 17,
   "metadata": {
    "collapsed": false
   },
   "outputs": [
    {
     "name": "stdout",
     "output_type": "stream",
     "text": [
      "0.1\n",
      "0.105263157895\n",
      "0.110526315789\n",
      "0.115789473684\n",
      "0.121052631579\n",
      "0.126315789474\n",
      "0.131578947368\n",
      "0.136842105263\n",
      "0.142105263158\n",
      "0.147368421053\n",
      "0.152631578947\n",
      "0.157894736842\n",
      "0.163157894737\n",
      "0.168421052632\n",
      "0.173684210526\n",
      "0.178947368421\n",
      "0.184210526316\n",
      "0.189473684211\n",
      "0.194736842105\n",
      "0.2\n"
     ]
    }
   ],
   "source": [
    "new_list=np.linspace(0.1,0.2,20)\n",
    "for item in new_list:\n",
    "    print item"
   ]
  },
  {
   "cell_type": "markdown",
   "metadata": {},
   "source": [
    "Answer Exercise 6"
   ]
  },
  {
   "cell_type": "code",
   "execution_count": 12,
   "metadata": {
    "collapsed": false
   },
   "outputs": [
    {
     "name": "stdout",
     "output_type": "stream",
     "text": [
      "January  has  31  days\n",
      "February  has  28  days\n",
      "March  has  31  days\n",
      "April  has  30  days\n",
      "May  has  31  days\n",
      "June  has  30  days\n",
      "July  has  31  days\n",
      "August  has  31  days\n",
      "September  has  30  days\n",
      "October  has  31  days\n",
      "November  has  30  days\n",
      "December  has  31  days\n",
      "\n",
      "I am going to use a trick\n",
      "\n",
      "January  has  31  days\n",
      "February  has  28  days\n",
      "March  has  31  days\n",
      "April  has  30  days\n",
      "May  has  31  days\n",
      "June  has  30  days\n",
      "July  has  31  days\n",
      "August  has  31  days\n",
      "September  has  30  days\n",
      "October  has  31  days\n",
      "November  has  30  days\n",
      "December  has  31  days\n",
      "\n",
      "I am going to use a second trick\n",
      "\n",
      "January  has  31  days\n",
      "February  has  28  days\n",
      "March  has  31  days\n",
      "April  has  30  days\n",
      "May  has  31  days\n",
      "June  has  30  days\n",
      "July  has  31  days\n",
      "August  has  31  days\n",
      "September  has  30  days\n",
      "October  has  31  days\n",
      "November  has  30  days\n",
      "December  has  31  days\n",
      "\n",
      "Npw with format to make it look nice\n",
      "\n",
      "January   has 31 days\n",
      "February  has 28 days\n",
      "March     has 31 days\n",
      "April     has 30 days\n",
      "May       has 31 days\n",
      "June      has 30 days\n",
      "July      has 31 days\n",
      "August    has 31 days\n",
      "September has 30 days\n",
      "October   has 31 days\n",
      "November  has 30 days\n",
      "December  has 31 days\n"
     ]
    }
   ],
   "source": [
    "#Setting my lists\n",
    "Months=['January','February','March','April','May','June','July','August','September','October','November','December']\n",
    "Days=[31,28,31,30,31,30,31,31,30,31,30,31]\n",
    "\n",
    "#Method 1\n",
    "for i in range(12):\n",
    "    print Months[i],' has ',Days[i],' days'\n",
    "\n",
    "#Methods 2 zip\n",
    "print '\\nI am going to use a trick\\n'\n",
    "#this is a trick for going through 2 lists.  \n",
    "for i,j in zip(Months,Days):\n",
    "    print i,' has ',j,' days'\n",
    "    \n",
    "#Method 3, Enumberate\n",
    "print '\\nI am going to use a second trick\\n'\n",
    "#this is a trick for going through 2 lists.  \n",
    "for i,j in enumerate(Months):\n",
    "    print j,' has ',Days[i],' days'\n",
    "    \n",
    "#Method 3 printed nicer\n",
    "print '\\nNpw with format to make it look nice\\n'\n",
    "#this is a trick for going through 2 lists.  \n",
    "for i,j in enumerate(Months):\n",
    "    print '{:9} has {} days'.format(j,Days[i])"
   ]
  },
  {
   "cell_type": "markdown",
   "metadata": {},
   "source": [
    "Answer exercise 7"
   ]
  },
  {
   "cell_type": "code",
   "execution_count": 15,
   "metadata": {
    "collapsed": false
   },
   "outputs": [
    {
     "data": {
      "text/plain": [
       "[<matplotlib.lines.Line2D at 0x6ef0b00>]"
      ]
     },
     "execution_count": 15,
     "metadata": {},
     "output_type": "execute_result"
    },
    {
     "data": {
      "image/png": "[encoded data removed]",
      "text/plain": [
       "<matplotlib.figure.Figure at 0x6ef0c50>"
      ]
     },
     "metadata": {},
     "output_type": "display_data"
    }
   ],
   "source": [
    "import matplotlib.pylab as plt\n",
    "a=1\n",
    "b=1\n",
    "c=1\n",
    "x=np.linspace(-10,10)\n",
    "y=[]\n",
    "for i in x:\n",
    "    y.append(a*i**2+b*i+c)\n",
    "\n",
    "fig,ax=plt.subplots()\n",
    "ax.plot(x,y)\n",
    "    "
   ]
  },
  {
   "cell_type": "markdown",
   "metadata": {},
   "source": [
    "Answer Exercise 8"
   ]
  },
  {
   "cell_type": "code",
   "execution_count": 16,
   "metadata": {
    "collapsed": false
   },
   "outputs": [
    {
     "name": "stdout",
     "output_type": "stream",
     "text": [
      "the sume is= 2.5\n",
      "the mean is= 0.25\n"
     ]
    }
   ],
   "source": [
    "sum=0\n",
    "mylist=np.linspace(0.2,0.3,10)\n",
    "for i in mylist:\n",
    "    sum+=i\n",
    "print 'the sume is=',sum\n",
    "print 'the mean is=',sum/len(mylist)"
   ]
  },
  {
   "cell_type": "code",
   "execution_count": null,
   "metadata": {
    "collapsed": false
   },
   "outputs": [],
   "source": []
  }
 ],
 "metadata": {
  "kernelspec": {
   "display_name": "Python 2",
   "language": "python",
   "name": "python2"
  },
  "language_info": {
   "codemirror_mode": {
    "name": "ipython",
    "version": 2
   },
   "file_extension": ".py",
   "mimetype": "text/x-python",
   "name": "python",
   "nbconvert_exporter": "python",
   "pygments_lexer": "ipython2",
   "version": "2.7.12"
  }
 },
 "nbformat": 4,
 "nbformat_minor": 0
}
