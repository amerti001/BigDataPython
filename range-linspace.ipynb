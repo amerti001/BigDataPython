{
 "cells": [
  {
   "cell_type": "markdown",
   "metadata": {},
   "source": [
    "# Range and Linspace"
   ]
  },
  {
   "cell_type": "markdown",
   "metadata": {},
   "source": [
    "### At the end of class people were a little confused about the function range and functions in general and there interactions with lists.  So we are going to do more. "
   ]
  },
  {
   "cell_type": "markdown",
   "metadata": {},
   "source": [
    "### What was range again? It was a function that returned numbers.  lets return numbers 0-1000 by 5's.  We are going to use the numpy version which is arange"
   ]
  },
  {
   "cell_type": "code",
   "execution_count": 1,
   "metadata": {
    "collapsed": true
   },
   "outputs": [],
   "source": [
    "%matplotlib inline\n",
    "import numpy as np\n",
    "import matplotlib.pyplot as plt"
   ]
  },
  {
   "cell_type": "code",
   "execution_count": 2,
   "metadata": {
    "collapsed": false
   },
   "outputs": [
    {
     "data": {
      "text/plain": [
       "array([   0,    5,   10,   15,   20,   25,   30,   35,   40,   45,   50,\n",
       "         55,   60,   65,   70,   75,   80,   85,   90,   95,  100,  105,\n",
       "        110,  115,  120,  125,  130,  135,  140,  145,  150,  155,  160,\n",
       "        165,  170,  175,  180,  185,  190,  195,  200,  205,  210,  215,\n",
       "        220,  225,  230,  235,  240,  245,  250,  255,  260,  265,  270,\n",
       "        275,  280,  285,  290,  295,  300,  305,  310,  315,  320,  325,\n",
       "        330,  335,  340,  345,  350,  355,  360,  365,  370,  375,  380,\n",
       "        385,  390,  395,  400,  405,  410,  415,  420,  425,  430,  435,\n",
       "        440,  445,  450,  455,  460,  465,  470,  475,  480,  485,  490,\n",
       "        495,  500,  505,  510,  515,  520,  525,  530,  535,  540,  545,\n",
       "        550,  555,  560,  565,  570,  575,  580,  585,  590,  595,  600,\n",
       "        605,  610,  615,  620,  625,  630,  635,  640,  645,  650,  655,\n",
       "        660,  665,  670,  675,  680,  685,  690,  695,  700,  705,  710,\n",
       "        715,  720,  725,  730,  735,  740,  745,  750,  755,  760,  765,\n",
       "        770,  775,  780,  785,  790,  795,  800,  805,  810,  815,  820,\n",
       "        825,  830,  835,  840,  845,  850,  855,  860,  865,  870,  875,\n",
       "        880,  885,  890,  895,  900,  905,  910,  915,  920,  925,  930,\n",
       "        935,  940,  945,  950,  955,  960,  965,  970,  975,  980,  985,\n",
       "        990,  995, 1000])"
      ]
     },
     "execution_count": 2,
     "metadata": {},
     "output_type": "execute_result"
    }
   ],
   "source": [
    "np.arange(0,1001,5)"
   ]
  },
  {
   "cell_type": "markdown",
   "metadata": {},
   "source": [
    "### could we take those numbers and make them a list? Yes.  Give your list a name and then set it equal to the range from above. then print your list.  You can use an equal sign to set the arange list to a variable."
   ]
  },
  {
   "cell_type": "code",
   "execution_count": null,
   "metadata": {
    "collapsed": false
   },
   "outputs": [],
   "source": []
  },
  {
   "cell_type": "markdown",
   "metadata": {},
   "source": [
    "### lets try to learn more and do some math.  By the time you finish this packet we will be plotting.  I am going to step you through how to plot sine and cosine.   "
   ]
  },
  {
   "cell_type": "code",
   "execution_count": 19,
   "metadata": {
    "collapsed": false
   },
   "outputs": [],
   "source": [
    "?np.sin"
   ]
  },
  {
   "cell_type": "code",
   "execution_count": 20,
   "metadata": {
    "collapsed": false
   },
   "outputs": [],
   "source": [
    "?np.pi"
   ]
  },
  {
   "cell_type": "markdown",
   "metadata": {},
   "source": [
    "### np.sin, np.cos, and np.pi are all numpy functions that we are calling and that are giving us results we can use."
   ]
  },
  {
   "cell_type": "markdown",
   "metadata": {},
   "source": [
    "### Range only gives us integers.... This could be trouble. We can also use linpace.  Lets get help.  "
   ]
  },
  {
   "cell_type": "code",
   "execution_count": 22,
   "metadata": {
    "collapsed": false
   },
   "outputs": [],
   "source": [
    "?np.linspace"
   ]
  },
  {
   "cell_type": "markdown",
   "metadata": {},
   "source": [
    "### What does linspace do?  how will this help us?  Lets first start by using np.linspace to give us the number from 1 to 1000"
   ]
  },
  {
   "cell_type": "code",
   "execution_count": 10,
   "metadata": {
    "collapsed": false
   },
   "outputs": [
    {
     "data": {
      "text/plain": [
       "array([    0.        ,    20.40816327,    40.81632653,    61.2244898 ,\n",
       "          81.63265306,   102.04081633,   122.44897959,   142.85714286,\n",
       "         163.26530612,   183.67346939,   204.08163265,   224.48979592,\n",
       "         244.89795918,   265.30612245,   285.71428571,   306.12244898,\n",
       "         326.53061224,   346.93877551,   367.34693878,   387.75510204,\n",
       "         408.16326531,   428.57142857,   448.97959184,   469.3877551 ,\n",
       "         489.79591837,   510.20408163,   530.6122449 ,   551.02040816,\n",
       "         571.42857143,   591.83673469,   612.24489796,   632.65306122,\n",
       "         653.06122449,   673.46938776,   693.87755102,   714.28571429,\n",
       "         734.69387755,   755.10204082,   775.51020408,   795.91836735,\n",
       "         816.32653061,   836.73469388,   857.14285714,   877.55102041,\n",
       "         897.95918367,   918.36734694,   938.7755102 ,   959.18367347,\n",
       "         979.59183673,  1000.        ])"
      ]
     },
     "execution_count": 10,
     "metadata": {},
     "output_type": "execute_result"
    }
   ],
   "source": [
    "np.linspace(0,1000)"
   ]
  },
  {
   "cell_type": "markdown",
   "metadata": {},
   "source": [
    "### How is this different than range?  does it give us integers?   this is better for giving us a set of numbers that are not an integer.  Could you give me a set of numbers from 0 to 2*pi?   you could type in 3.14 but in python pi can just be added and it will give you the number.  As an aside which will become important later linspace is part of numpy so it gives you a numpy array which is like a super list.  We will come back to this.  "
   ]
  },
  {
   "cell_type": "code",
   "execution_count": 12,
   "metadata": {
    "collapsed": false
   },
   "outputs": [
    {
     "data": {
      "text/plain": [
       "3.141592653589793"
      ]
     },
     "execution_count": 12,
     "metadata": {},
     "output_type": "execute_result"
    }
   ],
   "source": [
    "np.pi"
   ]
  },
  {
   "cell_type": "markdown",
   "metadata": {},
   "source": [
    "#### now can you produce the set of numbers from 0 to 2*pi using linspace?"
   ]
  },
  {
   "cell_type": "code",
   "execution_count": 13,
   "metadata": {
    "collapsed": false
   },
   "outputs": [
    {
     "data": {
      "text/plain": [
       "array([ 0.        ,  0.12822827,  0.25645654,  0.38468481,  0.51291309,\n",
       "        0.64114136,  0.76936963,  0.8975979 ,  1.02582617,  1.15405444,\n",
       "        1.28228272,  1.41051099,  1.53873926,  1.66696753,  1.7951958 ,\n",
       "        1.92342407,  2.05165235,  2.17988062,  2.30810889,  2.43633716,\n",
       "        2.56456543,  2.6927937 ,  2.82102197,  2.94925025,  3.07747852,\n",
       "        3.20570679,  3.33393506,  3.46216333,  3.5903916 ,  3.71861988,\n",
       "        3.84684815,  3.97507642,  4.10330469,  4.23153296,  4.35976123,\n",
       "        4.48798951,  4.61621778,  4.74444605,  4.87267432,  5.00090259,\n",
       "        5.12913086,  5.25735913,  5.38558741,  5.51381568,  5.64204395,\n",
       "        5.77027222,  5.89850049,  6.02672876,  6.15495704,  6.28318531])"
      ]
     },
     "execution_count": 13,
     "metadata": {},
     "output_type": "execute_result"
    }
   ],
   "source": []
  },
  {
   "cell_type": "markdown",
   "metadata": {},
   "source": [
    "### I want to plot the sine from 0 to 2 pi.  How can we do this.  Lets set our x and y and then plot them.  I will show you how to do this for sine and then you can do it for cosine.  "
   ]
  },
  {
   "cell_type": "code",
   "execution_count": 3,
   "metadata": {
    "collapsed": false
   },
   "outputs": [],
   "source": [
    "x=np.linspace(0,2*np.pi)\n",
    "y=np.sin(x)"
   ]
  },
  {
   "cell_type": "code",
   "execution_count": 4,
   "metadata": {
    "collapsed": false
   },
   "outputs": [
    {
     "name": "stdout",
     "output_type": "stream",
     "text": [
      "[ 0.          0.12822827  0.25645654  0.38468481  0.51291309  0.64114136\n",
      "  0.76936963  0.8975979   1.02582617  1.15405444  1.28228272  1.41051099\n",
      "  1.53873926  1.66696753  1.7951958   1.92342407  2.05165235  2.17988062\n",
      "  2.30810889  2.43633716  2.56456543  2.6927937   2.82102197  2.94925025\n",
      "  3.07747852  3.20570679  3.33393506  3.46216333  3.5903916   3.71861988\n",
      "  3.84684815  3.97507642  4.10330469  4.23153296  4.35976123  4.48798951\n",
      "  4.61621778  4.74444605  4.87267432  5.00090259  5.12913086  5.25735913\n",
      "  5.38558741  5.51381568  5.64204395  5.77027222  5.89850049  6.02672876\n",
      "  6.15495704  6.28318531]\n",
      "[  0.00000000e+00   1.27877162e-01   2.53654584e-01   3.75267005e-01\n",
      "   4.90717552e-01   5.98110530e-01   6.95682551e-01   7.81831482e-01\n",
      "   8.55142763e-01   9.14412623e-01   9.58667853e-01   9.87181783e-01\n",
      "   9.99486216e-01   9.95379113e-01   9.74927912e-01   9.38468422e-01\n",
      "   8.86599306e-01   8.20172255e-01   7.40277997e-01   6.48228395e-01\n",
      "   5.45534901e-01   4.33883739e-01   3.15108218e-01   1.91158629e-01\n",
      "   6.40702200e-02  -6.40702200e-02  -1.91158629e-01  -3.15108218e-01\n",
      "  -4.33883739e-01  -5.45534901e-01  -6.48228395e-01  -7.40277997e-01\n",
      "  -8.20172255e-01  -8.86599306e-01  -9.38468422e-01  -9.74927912e-01\n",
      "  -9.95379113e-01  -9.99486216e-01  -9.87181783e-01  -9.58667853e-01\n",
      "  -9.14412623e-01  -8.55142763e-01  -7.81831482e-01  -6.95682551e-01\n",
      "  -5.98110530e-01  -4.90717552e-01  -3.75267005e-01  -2.53654584e-01\n",
      "  -1.27877162e-01  -2.44929360e-16]\n"
     ]
    }
   ],
   "source": [
    "print x\n",
    "print y"
   ]
  },
  {
   "cell_type": "markdown",
   "metadata": {},
   "source": [
    "Now do it for cosine"
   ]
  },
  {
   "cell_type": "code",
   "execution_count": 24,
   "metadata": {
    "collapsed": false
   },
   "outputs": [
    {
     "name": "stdout",
     "output_type": "stream",
     "text": [
      "[ 0.          0.12822827  0.25645654  0.38468481  0.51291309  0.64114136\n",
      "  0.76936963  0.8975979   1.02582617  1.15405444  1.28228272  1.41051099\n",
      "  1.53873926  1.66696753  1.7951958   1.92342407  2.05165235  2.17988062\n",
      "  2.30810889  2.43633716  2.56456543  2.6927937   2.82102197  2.94925025\n",
      "  3.07747852  3.20570679  3.33393506  3.46216333  3.5903916   3.71861988\n",
      "  3.84684815  3.97507642  4.10330469  4.23153296  4.35976123  4.48798951\n",
      "  4.61621778  4.74444605  4.87267432  5.00090259  5.12913086  5.25735913\n",
      "  5.38558741  5.51381568  5.64204395  5.77027222  5.89850049  6.02672876\n",
      "  6.15495704  6.28318531]\n",
      "[ 1.          0.99179001  0.96729486  0.92691676  0.8713187   0.80141362\n",
      "  0.71834935  0.6234898   0.51839257  0.40478334  0.28452759  0.1595999\n",
      "  0.03205158 -0.09602303 -0.22252093 -0.34536505 -0.46253829 -0.57211666\n",
      " -0.67230089 -0.76144596 -0.8380881  -0.90096887 -0.94905575 -0.98155916\n",
      " -0.99794539 -0.99794539 -0.98155916 -0.94905575 -0.90096887 -0.8380881\n",
      " -0.76144596 -0.67230089 -0.57211666 -0.46253829 -0.34536505 -0.22252093\n",
      " -0.09602303  0.03205158  0.1595999   0.28452759  0.40478334  0.51839257\n",
      "  0.6234898   0.71834935  0.80141362  0.8713187   0.92691676  0.96729486\n",
      "  0.99179001  1.        ]\n"
     ]
    }
   ],
   "source": []
  },
  {
   "cell_type": "markdown",
   "metadata": {},
   "source": [
    "### What makes these functions really nice is that they do the math on the whole list for you.  If you look it went through the list element wise and took the sine of each element.  That is really cool and makes our life really easy. Now we can plot the sine of x.  "
   ]
  },
  {
   "cell_type": "code",
   "execution_count": 5,
   "metadata": {
    "collapsed": false
   },
   "outputs": [
    {
     "data": {
      "text/plain": [
       "<matplotlib.text.Text at 0x10f118290>"
      ]
     },
     "execution_count": 5,
     "metadata": {},
     "output_type": "execute_result"
    },
    {
     "data": {
      "image/png": "[encoded data removed]",
      "text/plain": [
       "<matplotlib.figure.Figure at 0x10cd82350>"
      ]
     },
     "metadata": {},
     "output_type": "display_data"
    }
   ],
   "source": [
    "x=np.linspace(0,2*np.pi)\n",
    "y=np.sin(x)\n",
    "\n",
    "fig,ax=plt.subplots()\n",
    "ax.plot(x,y)\n",
    "ax.set_xlabel('X')  #added in\n",
    "ax.set_ylabel('Y')  #added in\n",
    "ax.set_title('Sine of X')\n"
   ]
  },
  {
   "cell_type": "markdown",
   "metadata": {},
   "source": [
    "can you make the cosine and plot it?  I will give you a hint."
   ]
  },
  {
   "cell_type": "code",
   "execution_count": 49,
   "metadata": {
    "collapsed": false
   },
   "outputs": [],
   "source": []
  },
  {
   "cell_type": "code",
   "execution_count": 49,
   "metadata": {
    "collapsed": false
   },
   "outputs": [],
   "source": []
  },
  {
   "cell_type": "markdown",
   "metadata": {},
   "source": [
    "### Now to show you some interesting plotting.  We can plot both sine and cosine on the same plot.  I won't do it for you.  But if you call plot twice in a row it will put the plots onto one figure.  So call it twice, once with your x and sin(x) list and a second time with your x and cos(x) data.  \n",
    "\n",
    "I added a legend and label.  Again this is foreshadowing."
   ]
  },
  {
   "cell_type": "code",
   "execution_count": 13,
   "metadata": {
    "collapsed": false
   },
   "outputs": [
    {
     "data": {
      "text/plain": [
       "<matplotlib.legend.Legend at 0x1105780d0>"
      ]
     },
     "execution_count": 13,
     "metadata": {},
     "output_type": "execute_result"
    },
    {
     "data": {
      "image/png": "[encoded data removed]",
      "text/plain": [
       "<matplotlib.figure.Figure at 0x10fe559d0>"
      ]
     },
     "metadata": {},
     "output_type": "display_data"
    }
   ],
   "source": []
  },
  {
   "cell_type": "code",
   "execution_count": null,
   "metadata": {
    "collapsed": false
   },
   "outputs": [],
   "source": []
  },
  {
   "cell_type": "markdown",
   "metadata": {},
   "source": [
    "## Remember\n",
    "\n",
    "### np.arange is for wanting a list of integers\n",
    "\n",
    "### np.linspace is for wanting evenly spaced numbers.\n",
    "\n",
    "#### these are all functions that are easy to call"
   ]
  },
  {
   "cell_type": "markdown",
   "metadata": {},
   "source": [
    "## Let's Make a parabola.  Remember \n",
    "# $y=ax^2+bx+c$\n",
    "- set an a,b,and c.\n",
    "- get an x with np.linspace\n",
    "- solve for y\n",
    "- plot it.  "
   ]
  },
  {
   "cell_type": "code",
   "execution_count": 46,
   "metadata": {
    "collapsed": false
   },
   "outputs": [
    {
     "data": {
      "text/plain": [
       "<matplotlib.text.Text at 0xbb71d30>"
      ]
     },
     "execution_count": 46,
     "metadata": {},
     "output_type": "execute_result"
    },
    {
     "data": {
      "image/png": "[encoded data removed]",
      "text/plain": [
       "<matplotlib.figure.Figure at 0xc009710>"
      ]
     },
     "metadata": {},
     "output_type": "display_data"
    }
   ],
   "source": []
  },
  {
   "cell_type": "markdown",
   "metadata": {},
   "source": [
    "## In class I asked if you could set part of a list and this caused confusion.  so lets play with this.  remember you can access part of a list using brackets.  so lets use the brackets to reset a number.  "
   ]
  },
  {
   "cell_type": "code",
   "execution_count": 48,
   "metadata": {
    "collapsed": false
   },
   "outputs": [
    {
     "data": {
      "text/plain": [
       "array([-100.        ,  -95.91836735,  -91.83673469,  -87.75510204,\n",
       "        -83.67346939,  -79.59183673,  -75.51020408,  -71.42857143,\n",
       "        -67.34693878,  -63.26530612,  -59.18367347,  -55.10204082,\n",
       "        -51.02040816,  -46.93877551,  -42.85714286,  -38.7755102 ,\n",
       "        -34.69387755,  -30.6122449 ,  -26.53061224,  -22.44897959,\n",
       "        -18.36734694,  -14.28571429,  -10.20408163,   -6.12244898,\n",
       "         -2.04081633,    2.04081633,    6.12244898,   10.20408163,\n",
       "         14.28571429,   18.36734694,   22.44897959,   26.53061224,\n",
       "         30.6122449 ,   34.69387755,   38.7755102 ,   42.85714286,\n",
       "         46.93877551,   51.02040816,   55.10204082,   59.18367347,\n",
       "         63.26530612,   67.34693878,   71.42857143,   75.51020408,\n",
       "         79.59183673,   83.67346939,   87.75510204,   91.83673469,\n",
       "         95.91836735,  100.        ])"
      ]
     },
     "execution_count": 48,
     "metadata": {},
     "output_type": "execute_result"
    }
   ],
   "source": [
    "#here is our list\n",
    "x"
   ]
  },
  {
   "cell_type": "code",
   "execution_count": 49,
   "metadata": {
    "collapsed": false
   },
   "outputs": [
    {
     "data": {
      "text/plain": [
       "array([   0.        ,  -95.91836735,  -91.83673469,  -87.75510204,\n",
       "        -83.67346939,  -79.59183673,  -75.51020408,  -71.42857143,\n",
       "        -67.34693878,  -63.26530612,  -59.18367347,  -55.10204082,\n",
       "        -51.02040816,  -46.93877551,  -42.85714286,  -38.7755102 ,\n",
       "        -34.69387755,  -30.6122449 ,  -26.53061224,  -22.44897959,\n",
       "        -18.36734694,  -14.28571429,  -10.20408163,   -6.12244898,\n",
       "         -2.04081633,    2.04081633,    6.12244898,   10.20408163,\n",
       "         14.28571429,   18.36734694,   22.44897959,   26.53061224,\n",
       "         30.6122449 ,   34.69387755,   38.7755102 ,   42.85714286,\n",
       "         46.93877551,   51.02040816,   55.10204082,   59.18367347,\n",
       "         63.26530612,   67.34693878,   71.42857143,   75.51020408,\n",
       "         79.59183673,   83.67346939,   87.75510204,   91.83673469,\n",
       "         95.91836735,  100.        ])"
      ]
     },
     "execution_count": 49,
     "metadata": {},
     "output_type": "execute_result"
    }
   ],
   "source": [
    "x[0]=0\n",
    "x"
   ]
  },
  {
   "cell_type": "markdown",
   "metadata": {},
   "source": [
    "### I just changed the zeroth cell to zero. I could have changed it to anything."
   ]
  },
  {
   "cell_type": "code",
   "execution_count": 51,
   "metadata": {
    "collapsed": false
   },
   "outputs": [
    {
     "data": {
      "text/plain": [
       "array([ -21.        ,  -95.91836735,  -91.83673469,  -87.75510204,\n",
       "        -83.67346939,  -79.59183673,  -75.51020408,  -71.42857143,\n",
       "        -67.34693878,  -63.26530612,  -59.18367347,  -55.10204082,\n",
       "        -51.02040816,  -46.93877551,  -42.85714286,  -38.7755102 ,\n",
       "        -34.69387755,  -30.6122449 ,  -26.53061224,  -22.44897959,\n",
       "        -18.36734694,  -14.28571429,  -10.20408163,   -6.12244898,\n",
       "         -2.04081633,    2.04081633,    6.12244898,   10.20408163,\n",
       "         14.28571429,   18.36734694,   22.44897959,   26.53061224,\n",
       "         30.6122449 ,   34.69387755,   38.7755102 ,   42.85714286,\n",
       "         46.93877551,   51.02040816,   55.10204082,   59.18367347,\n",
       "         63.26530612,   67.34693878,   71.42857143,   75.51020408,\n",
       "         79.59183673,   83.67346939,   87.75510204,   91.83673469,\n",
       "         95.91836735,  100.        ])"
      ]
     },
     "execution_count": 51,
     "metadata": {},
     "output_type": "execute_result"
    }
   ],
   "source": [
    "x[0]=-21\n",
    "x"
   ]
  },
  {
   "cell_type": "markdown",
   "metadata": {},
   "source": [
    "### So I set 0 cell to -21.  You can set and reset how you would like because lists are [mutable](https://www.google.com/webhp?sourceid=chrome-instant&ion=1&espv=2&ie=UTF-8#q=definition+mutable)this compares to strings which are [immutable](https://www.google.com/webhp?sourceid=chrome-instant&ion=1&espv=2&ie=UTF-8#q=definition+immutable)"
   ]
  },
  {
   "cell_type": "code",
   "execution_count": 52,
   "metadata": {
    "collapsed": false
   },
   "outputs": [
    {
     "data": {
      "text/plain": [
       "array([-100., -100., -100., -100., -100., -100., -100., -100., -100.,\n",
       "       -100., -100., -100., -100., -100., -100., -100., -100., -100.,\n",
       "       -100., -100., -100., -100., -100., -100., -100., -100., -100.,\n",
       "       -100., -100., -100., -100., -100., -100., -100., -100., -100.,\n",
       "       -100., -100., -100., -100., -100., -100., -100., -100., -100.,\n",
       "       -100., -100., -100., -100., -100.])"
      ]
     },
     "execution_count": 52,
     "metadata": {},
     "output_type": "execute_result"
    }
   ],
   "source": [
    "x[:]=-100\n",
    "x"
   ]
  },
  {
   "cell_type": "code",
   "execution_count": 53,
   "metadata": {
    "collapsed": false
   },
   "outputs": [
    {
     "data": {
      "text/plain": [
       "array([  40., -100., -100.,   40., -100., -100.,   40., -100., -100.,\n",
       "         40., -100., -100.,   40., -100., -100.,   40., -100., -100.,\n",
       "         40., -100., -100.,   40., -100., -100.,   40., -100., -100.,\n",
       "         40., -100., -100.,   40., -100., -100.,   40., -100., -100.,\n",
       "         40., -100., -100.,   40., -100., -100.,   40., -100., -100.,\n",
       "         40., -100., -100.,   40., -100.])"
      ]
     },
     "execution_count": 53,
     "metadata": {},
     "output_type": "execute_result"
    }
   ],
   "source": [
    "x[::3]=40\n",
    "x"
   ]
  },
  {
   "cell_type": "markdown",
   "metadata": {},
   "source": [
    "### Can you change the array in some fun way?"
   ]
  },
  {
   "cell_type": "code",
   "execution_count": null,
   "metadata": {
    "collapsed": false
   },
   "outputs": [],
   "source": []
  },
  {
   "cell_type": "markdown",
   "metadata": {},
   "source": [
    "## Answers"
   ]
  },
  {
   "cell_type": "code",
   "execution_count": 14,
   "metadata": {
    "collapsed": false
   },
   "outputs": [
    {
     "data": {
      "text/plain": [
       "<matplotlib.legend.Legend at 0x10fcd79d0>"
      ]
     },
     "execution_count": 14,
     "metadata": {},
     "output_type": "execute_result"
    },
    {
     "data": {
      "image/png": "[encoded data removed]",
      "text/plain": [
       "<matplotlib.figure.Figure at 0x110366650>"
      ]
     },
     "metadata": {},
     "output_type": "display_data"
    }
   ],
   "source": [
    "x=np.linspace(0,2*np.pi)\n",
    "\n",
    "fig,ax=plt.subplots()\n",
    "ax.plot(x,np.sin(x),label='Sine')\n",
    "ax.plot(x,np.cos(x),label='CoSine')\n",
    "ax.set_xlabel('X')  #added in\n",
    "ax.set_ylabel('Y')  #added in\n",
    "ax.set_title('Sine and Cosine of X')\n",
    "plt.legend(loc='best')"
   ]
  },
  {
   "cell_type": "markdown",
   "metadata": {},
   "source": [
    "### We could also have done it all right in plt.plot   I find this harder to read and so it can be nice to set the list parameters.  Especially as our code gets longer"
   ]
  },
  {
   "cell_type": "code",
   "execution_count": 12,
   "metadata": {
    "collapsed": false
   },
   "outputs": [
    {
     "data": {
      "text/plain": [
       "<matplotlib.legend.Legend at 0x110235b10>"
      ]
     },
     "execution_count": 12,
     "metadata": {},
     "output_type": "execute_result"
    },
    {
     "data": {
      "image/png": "[encoded data removed]",
      "text/plain": [
       "<matplotlib.figure.Figure at 0x10fdffd50>"
      ]
     },
     "metadata": {},
     "output_type": "display_data"
    }
   ],
   "source": [
    "fig,ax=plt.subplots()\n",
    "ax.plot(np.linspace(0,2*np.pi),np.sin(np.linspace(0,2*np.pi)),label='Sine')\n",
    "ax.plot(np.linspace(0,2*np.pi),np.cos(np.linspace(0,2*np.pi)),label='CoSine')\n",
    "ax.set_xlabel('X')  #added in\n",
    "ax.set_ylabel('Y')  #added in\n",
    "ax.set_title('Sine and Cosine of X')\n",
    "plt.legend(loc='best')"
   ]
  },
  {
   "cell_type": "markdown",
   "metadata": {},
   "source": [
    "Parabola Answer"
   ]
  },
  {
   "cell_type": "code",
   "execution_count": 47,
   "metadata": {
    "collapsed": false
   },
   "outputs": [
    {
     "data": {
      "text/plain": [
       "<matplotlib.text.Text at 0xd1c8ac8>"
      ]
     },
     "execution_count": 47,
     "metadata": {},
     "output_type": "execute_result"
    },
    {
     "data": {
      "image/png": "[encoded data removed]",
      "text/plain": [
       "<matplotlib.figure.Figure at 0xbefe4e0>"
      ]
     },
     "metadata": {},
     "output_type": "display_data"
    }
   ],
   "source": [
    "a=-3\n",
    "b=-4\n",
    "c=1.3\n",
    "x=np.linspace(-100,100)\n",
    "y=a*x**2+b*x+c\n",
    "\n",
    "fig,ax=plt.subplots()\n",
    "ax.plot(x,y)\n",
    "ax.set_xlabel('X')  #added in\n",
    "ax.set_ylabel('Y')  #added in\n",
    "ax.set_title('A parabola with the equation y={}$x^2$+{}x+{}'.format(a,b,c))"
   ]
  },
  {
   "cell_type": "code",
   "execution_count": null,
   "metadata": {
    "collapsed": true
   },
   "outputs": [],
   "source": []
  }
 ],
 "metadata": {
  "kernelspec": {
   "display_name": "Python 2",
   "language": "python",
   "name": "python2"
  },
  "language_info": {
   "codemirror_mode": {
    "name": "ipython",
    "version": 2
   },
   "file_extension": ".py",
   "mimetype": "text/x-python",
   "name": "python",
   "nbconvert_exporter": "python",
   "pygments_lexer": "ipython2",
   "version": "2.7.12"
  }
 },
 "nbformat": 4,
 "nbformat_minor": 0
}
