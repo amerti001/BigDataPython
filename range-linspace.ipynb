{
 "metadata": {
  "name": "range-linspace.ipynb"
 },
 "nbformat": 3,
 "nbformat_minor": 0,
 "worksheets": [
  {
   "cells": [
    {
     "cell_type": "heading",
     "level": 1,
     "metadata": {},
     "source": [
      "Range and Linspace"
     ]
    },
    {
     "cell_type": "heading",
     "level": 3,
     "metadata": {},
     "source": [
      "At the end of class people were a little confused about the function range and functions in general and there interactions with lists.  So we are going to do more. "
     ]
    },
    {
     "cell_type": "heading",
     "level": 3,
     "metadata": {},
     "source": [
      "What was range again? It was a function that returned numbers.  lets return numbers 0-1000 by 5's."
     ]
    },
    {
     "cell_type": "code",
     "collapsed": false,
     "input": [
      "range(0,1001,5)"
     ],
     "language": "python",
     "metadata": {},
     "outputs": [
      {
       "metadata": {},
       "output_type": "pyout",
       "prompt_number": 1,
       "text": [
        "[0,\n",
        " 5,\n",
        " 10,\n",
        " 15,\n",
        " 20,\n",
        " 25,\n",
        " 30,\n",
        " 35,\n",
        " 40,\n",
        " 45,\n",
        " 50,\n",
        " 55,\n",
        " 60,\n",
        " 65,\n",
        " 70,\n",
        " 75,\n",
        " 80,\n",
        " 85,\n",
        " 90,\n",
        " 95,\n",
        " 100,\n",
        " 105,\n",
        " 110,\n",
        " 115,\n",
        " 120,\n",
        " 125,\n",
        " 130,\n",
        " 135,\n",
        " 140,\n",
        " 145,\n",
        " 150,\n",
        " 155,\n",
        " 160,\n",
        " 165,\n",
        " 170,\n",
        " 175,\n",
        " 180,\n",
        " 185,\n",
        " 190,\n",
        " 195,\n",
        " 200,\n",
        " 205,\n",
        " 210,\n",
        " 215,\n",
        " 220,\n",
        " 225,\n",
        " 230,\n",
        " 235,\n",
        " 240,\n",
        " 245,\n",
        " 250,\n",
        " 255,\n",
        " 260,\n",
        " 265,\n",
        " 270,\n",
        " 275,\n",
        " 280,\n",
        " 285,\n",
        " 290,\n",
        " 295,\n",
        " 300,\n",
        " 305,\n",
        " 310,\n",
        " 315,\n",
        " 320,\n",
        " 325,\n",
        " 330,\n",
        " 335,\n",
        " 340,\n",
        " 345,\n",
        " 350,\n",
        " 355,\n",
        " 360,\n",
        " 365,\n",
        " 370,\n",
        " 375,\n",
        " 380,\n",
        " 385,\n",
        " 390,\n",
        " 395,\n",
        " 400,\n",
        " 405,\n",
        " 410,\n",
        " 415,\n",
        " 420,\n",
        " 425,\n",
        " 430,\n",
        " 435,\n",
        " 440,\n",
        " 445,\n",
        " 450,\n",
        " 455,\n",
        " 460,\n",
        " 465,\n",
        " 470,\n",
        " 475,\n",
        " 480,\n",
        " 485,\n",
        " 490,\n",
        " 495,\n",
        " 500,\n",
        " 505,\n",
        " 510,\n",
        " 515,\n",
        " 520,\n",
        " 525,\n",
        " 530,\n",
        " 535,\n",
        " 540,\n",
        " 545,\n",
        " 550,\n",
        " 555,\n",
        " 560,\n",
        " 565,\n",
        " 570,\n",
        " 575,\n",
        " 580,\n",
        " 585,\n",
        " 590,\n",
        " 595,\n",
        " 600,\n",
        " 605,\n",
        " 610,\n",
        " 615,\n",
        " 620,\n",
        " 625,\n",
        " 630,\n",
        " 635,\n",
        " 640,\n",
        " 645,\n",
        " 650,\n",
        " 655,\n",
        " 660,\n",
        " 665,\n",
        " 670,\n",
        " 675,\n",
        " 680,\n",
        " 685,\n",
        " 690,\n",
        " 695,\n",
        " 700,\n",
        " 705,\n",
        " 710,\n",
        " 715,\n",
        " 720,\n",
        " 725,\n",
        " 730,\n",
        " 735,\n",
        " 740,\n",
        " 745,\n",
        " 750,\n",
        " 755,\n",
        " 760,\n",
        " 765,\n",
        " 770,\n",
        " 775,\n",
        " 780,\n",
        " 785,\n",
        " 790,\n",
        " 795,\n",
        " 800,\n",
        " 805,\n",
        " 810,\n",
        " 815,\n",
        " 820,\n",
        " 825,\n",
        " 830,\n",
        " 835,\n",
        " 840,\n",
        " 845,\n",
        " 850,\n",
        " 855,\n",
        " 860,\n",
        " 865,\n",
        " 870,\n",
        " 875,\n",
        " 880,\n",
        " 885,\n",
        " 890,\n",
        " 895,\n",
        " 900,\n",
        " 905,\n",
        " 910,\n",
        " 915,\n",
        " 920,\n",
        " 925,\n",
        " 930,\n",
        " 935,\n",
        " 940,\n",
        " 945,\n",
        " 950,\n",
        " 955,\n",
        " 960,\n",
        " 965,\n",
        " 970,\n",
        " 975,\n",
        " 980,\n",
        " 985,\n",
        " 990,\n",
        " 995,\n",
        " 1000]"
       ]
      }
     ],
     "prompt_number": 1
    },
    {
     "cell_type": "heading",
     "level": 3,
     "metadata": {},
     "source": [
      "could we take those numbers and make them a list? Yes.  Give your list a name and then set it equal to the range from above. then print your list"
     ]
    },
    {
     "cell_type": "code",
     "collapsed": false,
     "input": [],
     "language": "python",
     "metadata": {},
     "outputs": [],
     "prompt_number": 46
    },
    {
     "cell_type": "heading",
     "level": 3,
     "metadata": {},
     "source": [
      "lets try to learn more and do some math.  Can we plot the sine of something?"
     ]
    },
    {
     "cell_type": "code",
     "collapsed": false,
     "input": [
      "?sin"
     ],
     "language": "python",
     "metadata": {},
     "outputs": [],
     "prompt_number": 29
    },
    {
     "cell_type": "code",
     "collapsed": false,
     "input": [
      "?pi"
     ],
     "language": "python",
     "metadata": {},
     "outputs": [],
     "prompt_number": 6
    },
    {
     "cell_type": "heading",
     "level": 3,
     "metadata": {},
     "source": [
      "Range only gives us integers.... This could be trouble. We can also use linpace.  Lets get help.  "
     ]
    },
    {
     "cell_type": "code",
     "collapsed": false,
     "input": [
      "?linspace"
     ],
     "language": "python",
     "metadata": {},
     "outputs": [],
     "prompt_number": 9
    },
    {
     "cell_type": "heading",
     "level": 3,
     "metadata": {},
     "source": [
      "What does linspace do?  how will this help us?  Lets first start by using linspace to give us the number from 1 to 1000"
     ]
    },
    {
     "cell_type": "code",
     "collapsed": false,
     "input": [
      "linspace(0,1000)"
     ],
     "language": "python",
     "metadata": {},
     "outputs": [
      {
       "metadata": {},
       "output_type": "pyout",
       "prompt_number": 47,
       "text": [
        "array([    0.        ,    20.40816327,    40.81632653,    61.2244898 ,\n",
        "          81.63265306,   102.04081633,   122.44897959,   142.85714286,\n",
        "         163.26530612,   183.67346939,   204.08163265,   224.48979592,\n",
        "         244.89795918,   265.30612245,   285.71428571,   306.12244898,\n",
        "         326.53061224,   346.93877551,   367.34693878,   387.75510204,\n",
        "         408.16326531,   428.57142857,   448.97959184,   469.3877551 ,\n",
        "         489.79591837,   510.20408163,   530.6122449 ,   551.02040816,\n",
        "         571.42857143,   591.83673469,   612.24489796,   632.65306122,\n",
        "         653.06122449,   673.46938776,   693.87755102,   714.28571429,\n",
        "         734.69387755,   755.10204082,   775.51020408,   795.91836735,\n",
        "         816.32653061,   836.73469388,   857.14285714,   877.55102041,\n",
        "         897.95918367,   918.36734694,   938.7755102 ,   959.18367347,\n",
        "         979.59183673,  1000.        ])"
       ]
      }
     ],
     "prompt_number": 47
    },
    {
     "cell_type": "heading",
     "level": 3,
     "metadata": {},
     "source": [
      "How is this different than range?  does it give us integers?   this is better for giving us a set of numbers that are not an integer.  Could you give me a set of numbers from 0 to 2*pi?   you could type in 3.14 but in python pi can just be added and it will give you the number"
     ]
    },
    {
     "cell_type": "code",
     "collapsed": false,
     "input": [
      "pi"
     ],
     "language": "python",
     "metadata": {},
     "outputs": [
      {
       "metadata": {},
       "output_type": "pyout",
       "prompt_number": 48,
       "text": [
        "3.141592653589793"
       ]
      }
     ],
     "prompt_number": 48
    },
    {
     "cell_type": "heading",
     "level": 4,
     "metadata": {},
     "source": [
      "now can you produce the set of numbers from 0 to 2*pi using linspace?"
     ]
    },
    {
     "cell_type": "code",
     "collapsed": false,
     "input": [],
     "language": "python",
     "metadata": {},
     "outputs": [],
     "prompt_number": 49
    },
    {
     "cell_type": "heading",
     "level": 3,
     "metadata": {},
     "source": [
      "I want to plot the sine from 0 to 2 pi.  How can we do this.  Lets set our x and y and then plot them.  I will show you how to do this for sine and then you can do it for cosine.  "
     ]
    },
    {
     "cell_type": "code",
     "collapsed": false,
     "input": [
      "x=linspace(0,2*pi)\n",
      "y=sin(x)"
     ],
     "language": "python",
     "metadata": {},
     "outputs": [],
     "prompt_number": 11
    },
    {
     "cell_type": "code",
     "collapsed": false,
     "input": [
      "print x\n",
      "print y"
     ],
     "language": "python",
     "metadata": {},
     "outputs": [
      {
       "output_type": "stream",
       "stream": "stdout",
       "text": [
        "[ 0.          0.12822827  0.25645654  0.38468481  0.51291309  0.64114136\n",
        "  0.76936963  0.8975979   1.02582617  1.15405444  1.28228272  1.41051099\n",
        "  1.53873926  1.66696753  1.7951958   1.92342407  2.05165235  2.17988062\n",
        "  2.30810889  2.43633716  2.56456543  2.6927937   2.82102197  2.94925025\n",
        "  3.07747852  3.20570679  3.33393506  3.46216333  3.5903916   3.71861988\n",
        "  3.84684815  3.97507642  4.10330469  4.23153296  4.35976123  4.48798951\n",
        "  4.61621778  4.74444605  4.87267432  5.00090259  5.12913086  5.25735913\n",
        "  5.38558741  5.51381568  5.64204395  5.77027222  5.89850049  6.02672876\n",
        "  6.15495704  6.28318531]\n",
        "[  0.00000000e+00   1.27877162e-01   2.53654584e-01   3.75267005e-01\n",
        "   4.90717552e-01   5.98110530e-01   6.95682551e-01   7.81831482e-01\n",
        "   8.55142763e-01   9.14412623e-01   9.58667853e-01   9.87181783e-01\n",
        "   9.99486216e-01   9.95379113e-01   9.74927912e-01   9.38468422e-01\n",
        "   8.86599306e-01   8.20172255e-01   7.40277997e-01   6.48228395e-01\n",
        "   5.45534901e-01   4.33883739e-01   3.15108218e-01   1.91158629e-01\n",
        "   6.40702200e-02  -6.40702200e-02  -1.91158629e-01  -3.15108218e-01\n",
        "  -4.33883739e-01  -5.45534901e-01  -6.48228395e-01  -7.40277997e-01\n",
        "  -8.20172255e-01  -8.86599306e-01  -9.38468422e-01  -9.74927912e-01\n",
        "  -9.95379113e-01  -9.99486216e-01  -9.87181783e-01  -9.58667853e-01\n",
        "  -9.14412623e-01  -8.55142763e-01  -7.81831482e-01  -6.95682551e-01\n",
        "  -5.98110530e-01  -4.90717552e-01  -3.75267005e-01  -2.53654584e-01\n",
        "  -1.27877162e-01  -2.44929360e-16]\n"
       ]
      }
     ],
     "prompt_number": 12
    },
    {
     "cell_type": "heading",
     "level": 3,
     "metadata": {},
     "source": [
      "What makes these functions really nice is that they do the math on the whole list for you.  If you look it went through the list element wise and took the sine of each element.  That is really cool and makes our life really easy. Now we can plot the sine of x.  "
     ]
    },
    {
     "cell_type": "code",
     "collapsed": false,
     "input": [
      "import matplotlib.pyplot as plt\n",
      "plt.plot(x,y)"
     ],
     "language": "python",
     "metadata": {},
     "outputs": [
      {
       "metadata": {},
       "output_type": "pyout",
       "prompt_number": 30,
       "text": [
        "[<matplotlib.lines.Line2D at 0xa835940>]"
       ]
      },
      {
       "metadata": {},
       "output_type": "display_data",
       "png": "[encoded data removed]",
       "text": [
        "<matplotlib.figure.Figure at 0xa281320>"
       ]
      }
     ],
     "prompt_number": 30
    },
    {
     "cell_type": "markdown",
     "metadata": {},
     "source": [
      "can you make the cosine and plot it?  I will give you a hint. the function is cos()"
     ]
    },
    {
     "cell_type": "code",
     "collapsed": false,
     "input": [],
     "language": "python",
     "metadata": {},
     "outputs": [],
     "prompt_number": 49
    },
    {
     "cell_type": "code",
     "collapsed": false,
     "input": [],
     "language": "python",
     "metadata": {},
     "outputs": [],
     "prompt_number": 49
    },
    {
     "cell_type": "code",
     "collapsed": false,
     "input": [
      "plt.plot"
     ],
     "language": "python",
     "metadata": {},
     "outputs": [
      {
       "metadata": {},
       "output_type": "pyout",
       "prompt_number": 50,
       "text": [
        "<function matplotlib.pyplot.plot>"
       ]
      }
     ],
     "prompt_number": 50
    },
    {
     "cell_type": "heading",
     "level": 3,
     "metadata": {},
     "source": [
      "Now to show you some interesting plotting.  We can plot both sine and cosine on the same plot.  I won't do it for you.  But if you call plt.plot twice in a row it will put the plots onto one figure.  So call it twice with your once with your x and sin(x) list and a second time with your x and cos(x) data.  "
     ]
    },
    {
     "cell_type": "code",
     "collapsed": false,
     "input": [
      "plt.plot() #fill in the correct x and y's and see if you get the same plot.  \n",
      "plt.plot()"
     ],
     "language": "python",
     "metadata": {},
     "outputs": [
      {
       "metadata": {},
       "output_type": "pyout",
       "prompt_number": 31,
       "text": [
        "[<matplotlib.lines.Line2D at 0xa2b79e8>]"
       ]
      },
      {
       "metadata": {},
       "output_type": "display_data",
       "png": "[encoded data removed]",
       "text": [
        "<matplotlib.figure.Figure at 0xa2b7198>"
       ]
      }
     ],
     "prompt_number": 31
    },
    {
     "cell_type": "heading",
     "level": 3,
     "metadata": {},
     "source": [
      "We could also have done it all right in plt.plot   I find this harder to read and so it can be nice to set the list parameters.  Especially as our code gets longer"
     ]
    },
    {
     "cell_type": "code",
     "collapsed": false,
     "input": [
      "plt.plot(linspace(0,2*pi),sin(linspace(0,2*pi)))\n",
      "plt.plot(linspace(0,2*pi),cos(linspace(0,2*pi)))"
     ],
     "language": "python",
     "metadata": {},
     "outputs": [
      {
       "metadata": {},
       "output_type": "pyout",
       "prompt_number": 32,
       "text": [
        "[<matplotlib.lines.Line2D at 0xa841748>]"
       ]
      },
      {
       "metadata": {},
       "output_type": "display_data",
       "png": "[encoded data removed]",
       "text": [
        "<matplotlib.figure.Figure at 0xa83e9b0>"
       ]
      }
     ],
     "prompt_number": 32
    },
    {
     "cell_type": "heading",
     "level": 3,
     "metadata": {},
     "source": [
      "I like doing it the long way.  I think it is easier to read.  "
     ]
    },
    {
     "cell_type": "markdown",
     "metadata": {},
     "source": [
      "##Remember\n",
      "\n",
      "###range is for wanting a list of integers\n",
      "\n",
      "###linspace is for wanting evenly spaced numbers.\n",
      "\n",
      "####these are all functions that are easy to call"
     ]
    },
    {
     "cell_type": "markdown",
     "metadata": {},
     "source": [
      "##Let's Make a parabola.  Remember \n",
      "#$y=ax^2+bx+c$\n",
      "set an a,b,and c.\n",
      "get an x range with linspace\n",
      "solve for y\n",
      "plot it.  "
     ]
    },
    {
     "cell_type": "code",
     "collapsed": false,
     "input": [
      "a="
     ],
     "language": "python",
     "metadata": {},
     "outputs": [
      {
       "ename": "SyntaxError",
       "evalue": "invalid syntax (<ipython-input-51-2113895a2776>, line 1)",
       "output_type": "pyerr",
       "traceback": [
        "\u001b[1;36m  File \u001b[1;32m\"<ipython-input-51-2113895a2776>\"\u001b[1;36m, line \u001b[1;32m1\u001b[0m\n\u001b[1;33m    a=\u001b[0m\n\u001b[1;37m      ^\u001b[0m\n\u001b[1;31mSyntaxError\u001b[0m\u001b[1;31m:\u001b[0m invalid syntax\n"
       ]
      }
     ],
     "prompt_number": 51
    },
    {
     "cell_type": "heading",
     "level": 2,
     "metadata": {},
     "source": [
      "In class I asked if you could set part of a list and this caused confusion.  so lets play with this.  remember you can access part of a list using brackets.  so lets use the brackets to reset a number.  "
     ]
    },
    {
     "cell_type": "code",
     "collapsed": false,
     "input": [
      "#here is our list\n",
      "x"
     ],
     "language": "python",
     "metadata": {},
     "outputs": [
      {
       "metadata": {},
       "output_type": "pyout",
       "prompt_number": 39,
       "text": [
        "array([-10.        ,  -9.59183673,  -9.18367347,  -8.7755102 ,\n",
        "        -8.36734694,  -7.95918367,  -7.55102041,  -7.14285714,\n",
        "        -6.73469388,  -6.32653061,  -5.91836735,  -5.51020408,\n",
        "        -5.10204082,  -4.69387755,  -4.28571429,  -3.87755102,\n",
        "        -3.46938776,  -3.06122449,  -2.65306122,  -2.24489796,\n",
        "        -1.83673469,  -1.42857143,  -1.02040816,  -0.6122449 ,\n",
        "        -0.20408163,   0.20408163,   0.6122449 ,   1.02040816,\n",
        "         1.42857143,   1.83673469,   2.24489796,   2.65306122,\n",
        "         3.06122449,   3.46938776,   3.87755102,   4.28571429,\n",
        "         4.69387755,   5.10204082,   5.51020408,   5.91836735,\n",
        "         6.32653061,   6.73469388,   7.14285714,   7.55102041,\n",
        "         7.95918367,   8.36734694,   8.7755102 ,   9.18367347,\n",
        "         9.59183673,  10.        ])"
       ]
      }
     ],
     "prompt_number": 39
    },
    {
     "cell_type": "code",
     "collapsed": false,
     "input": [
      "x[0]=0\n",
      "x"
     ],
     "language": "python",
     "metadata": {},
     "outputs": [
      {
       "metadata": {},
       "output_type": "pyout",
       "prompt_number": 41,
       "text": [
        "array([  0.        ,  -9.59183673,  -9.18367347,  -8.7755102 ,\n",
        "        -8.36734694,  -7.95918367,  -7.55102041,  -7.14285714,\n",
        "        -6.73469388,  -6.32653061,  -5.91836735,  -5.51020408,\n",
        "        -5.10204082,  -4.69387755,  -4.28571429,  -3.87755102,\n",
        "        -3.46938776,  -3.06122449,  -2.65306122,  -2.24489796,\n",
        "        -1.83673469,  -1.42857143,  -1.02040816,  -0.6122449 ,\n",
        "        -0.20408163,   0.20408163,   0.6122449 ,   1.02040816,\n",
        "         1.42857143,   1.83673469,   2.24489796,   2.65306122,\n",
        "         3.06122449,   3.46938776,   3.87755102,   4.28571429,\n",
        "         4.69387755,   5.10204082,   5.51020408,   5.91836735,\n",
        "         6.32653061,   6.73469388,   7.14285714,   7.55102041,\n",
        "         7.95918367,   8.36734694,   8.7755102 ,   9.18367347,\n",
        "         9.59183673,  10.        ])"
       ]
      }
     ],
     "prompt_number": 41
    },
    {
     "cell_type": "heading",
     "level": 3,
     "metadata": {},
     "source": [
      "I just changed the zeroth cell to zero. I could have changed it to anything."
     ]
    },
    {
     "cell_type": "code",
     "collapsed": false,
     "input": [
      "x[0]=-100\n",
      "x"
     ],
     "language": "python",
     "metadata": {},
     "outputs": [
      {
       "metadata": {},
       "output_type": "pyout",
       "prompt_number": 42,
       "text": [
        "array([-100.        ,   -9.59183673,   -9.18367347,   -8.7755102 ,\n",
        "         -8.36734694,   -7.95918367,   -7.55102041,   -7.14285714,\n",
        "         -6.73469388,   -6.32653061,   -5.91836735,   -5.51020408,\n",
        "         -5.10204082,   -4.69387755,   -4.28571429,   -3.87755102,\n",
        "         -3.46938776,   -3.06122449,   -2.65306122,   -2.24489796,\n",
        "         -1.83673469,   -1.42857143,   -1.02040816,   -0.6122449 ,\n",
        "         -0.20408163,    0.20408163,    0.6122449 ,    1.02040816,\n",
        "          1.42857143,    1.83673469,    2.24489796,    2.65306122,\n",
        "          3.06122449,    3.46938776,    3.87755102,    4.28571429,\n",
        "          4.69387755,    5.10204082,    5.51020408,    5.91836735,\n",
        "          6.32653061,    6.73469388,    7.14285714,    7.55102041,\n",
        "          7.95918367,    8.36734694,    8.7755102 ,    9.18367347,\n",
        "          9.59183673,   10.        ])"
       ]
      }
     ],
     "prompt_number": 42
    },
    {
     "cell_type": "heading",
     "level": 3,
     "metadata": {},
     "source": [
      "So I set 0 cell to -100.  You can set and reset how you would like because lists are [mutable](https://www.google.com/webhp?sourceid=chrome-instant&ion=1&espv=2&ie=UTF-8#q=definition+mutable)this compares to\n",
      "strings which are [immutable](https://www.google.com/webhp?sourceid=chrome-instant&ion=1&espv=2&ie=UTF-8#q=definition+immutable)"
     ]
    },
    {
     "cell_type": "code",
     "collapsed": false,
     "input": [
      "x[:]=-100\n",
      "x"
     ],
     "language": "python",
     "metadata": {},
     "outputs": [
      {
       "metadata": {},
       "output_type": "pyout",
       "prompt_number": 45,
       "text": [
        "array([-100., -100., -100., -100., -100., -100., -100., -100., -100.,\n",
        "       -100., -100., -100., -100., -100., -100., -100., -100., -100.,\n",
        "       -100., -100., -100., -100., -100., -100., -100., -100., -100.,\n",
        "       -100., -100., -100., -100., -100., -100., -100., -100., -100.,\n",
        "       -100., -100., -100., -100., -100., -100., -100., -100., -100.,\n",
        "       -100., -100., -100., -100., -100.])"
       ]
      }
     ],
     "prompt_number": 45
    },
    {
     "cell_type": "code",
     "collapsed": false,
     "input": [
      "x[::3]=40\n",
      "x"
     ],
     "language": "python",
     "metadata": {},
     "outputs": [
      {
       "metadata": {},
       "output_type": "pyout",
       "prompt_number": 46,
       "text": [
        "array([  40., -100., -100.,   40., -100., -100.,   40., -100., -100.,\n",
        "         40., -100., -100.,   40., -100., -100.,   40., -100., -100.,\n",
        "         40., -100., -100.,   40., -100., -100.,   40., -100., -100.,\n",
        "         40., -100., -100.,   40., -100., -100.,   40., -100., -100.,\n",
        "         40., -100., -100.,   40., -100., -100.,   40., -100., -100.,\n",
        "         40., -100., -100.,   40., -100.])"
       ]
      }
     ],
     "prompt_number": 46
    },
    {
     "cell_type": "heading",
     "level": 3,
     "metadata": {},
     "source": [
      "Can you change the array in some fun way?"
     ]
    },
    {
     "cell_type": "code",
     "collapsed": false,
     "input": [],
     "language": "python",
     "metadata": {},
     "outputs": []
    }
   ],
   "metadata": {}
  }
 ]
}