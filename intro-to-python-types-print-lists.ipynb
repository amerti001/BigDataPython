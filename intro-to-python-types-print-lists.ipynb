{
 "metadata": {
  "name": "intro-to-python-types-print-lists.ipynb"
 },
 "nbformat": 3,
 "nbformat_minor": 0,
 "worksheets": [
  {
   "cells": [
    {
     "cell_type": "code",
     "collapsed": false,
     "input": [
      "cd /work-teaching/python/basic-python/"
     ],
     "language": "python",
     "metadata": {},
     "outputs": [
      {
       "output_type": "stream",
       "stream": "stdout",
       "text": [
        "C:\\work-teaching\\python\\basic-python\n"
       ]
      }
     ],
     "prompt_number": 6
    },
    {
     "cell_type": "code",
     "collapsed": false,
     "input": [
      "ls"
     ],
     "language": "python",
     "metadata": {},
     "outputs": [
      {
       "output_type": "stream",
       "stream": "stdout",
       "text": [
        " Volume in drive C has no label.\n",
        " Volume Serial Number is D0AD-C6E1\n",
        "\n",
        " Directory of C:\\work-teaching\\python\\basic-python\n",
        "\n",
        "11/13/2014  04:21 PM    <DIR>          .\n",
        "11/13/2014  04:21 PM    <DIR>          ..\n",
        "               0 File(s)              0 bytes\n",
        "               2 Dir(s)  51,379,834,880 bytes free\n"
       ]
      }
     ],
     "prompt_number": 7
    },
    {
     "cell_type": "markdown",
     "metadata": {},
     "source": [
      "We are using Markdown which is great for making notes and can be used to do math notation also.\n",
      "#This is H1\n",
      "##this is H2\n",
      "<h3>this is h3</h3>\n",
      "#$c=\\sqrt{a^2+b^2}$\n",
      "$\n",
      "## the equations are from Latex which is a text editor.  Here is a nice Latex link http://www.krisyu.org/blog/posts/2013/06/markdown-and-latex-reference/#latex \n",
      "#$$\\verb=IPython is cool!=$$\n",
      "# here is a link to a cheat sheet. https://github.com/adam-p/markdown-here/wiki/Markdown-Cheatsheet\n",
      "## [I can also make the link inline](https://github.com/adam-p/markdown-here/wiki/Markdown-Cheatsheet)\n"
     ]
    },
    {
     "cell_type": "code",
     "collapsed": false,
     "input": [
      "#we can do some math\n",
      "2+2"
     ],
     "language": "python",
     "metadata": {},
     "outputs": [
      {
       "metadata": {},
       "output_type": "pyout",
       "prompt_number": 8,
       "text": [
        "4"
       ]
      }
     ],
     "prompt_number": 8
    },
    {
     "cell_type": "code",
     "collapsed": false,
     "input": [
      "#we can do more\n",
      "3*4\n"
     ],
     "language": "python",
     "metadata": {},
     "outputs": [
      {
       "metadata": {},
       "output_type": "pyout",
       "prompt_number": 1,
       "text": [
        "12"
       ]
      }
     ],
     "prompt_number": 1
    },
    {
     "cell_type": "code",
     "collapsed": false,
     "input": [
      "6/4"
     ],
     "language": "python",
     "metadata": {},
     "outputs": [
      {
       "metadata": {},
       "output_type": "pyout",
       "prompt_number": 10,
       "text": [
        "1"
       ]
      }
     ],
     "prompt_number": 10
    },
    {
     "cell_type": "code",
     "collapsed": false,
     "input": [
      "#this is the common first mistake in python that type matters. That is integer versus float\n",
      "type(6)"
     ],
     "language": "python",
     "metadata": {},
     "outputs": [
      {
       "metadata": {},
       "output_type": "pyout",
       "prompt_number": 12,
       "text": [
        "int"
       ]
      }
     ],
     "prompt_number": 12
    },
    {
     "cell_type": "code",
     "collapsed": false,
     "input": [
      "#but what if we have a decimal?\n",
      "type(6.0)"
     ],
     "language": "python",
     "metadata": {},
     "outputs": [
      {
       "metadata": {},
       "output_type": "pyout",
       "prompt_number": 13,
       "text": [
        "float"
       ]
      }
     ],
     "prompt_number": 13
    },
    {
     "cell_type": "code",
     "collapsed": false,
     "input": [
      "#now \n",
      "6.0/4"
     ],
     "language": "python",
     "metadata": {},
     "outputs": [
      {
       "metadata": {},
       "output_type": "pyout",
       "prompt_number": 14,
       "text": [
        "1.5"
       ]
      }
     ],
     "prompt_number": 14
    },
    {
     "cell_type": "markdown",
     "metadata": {},
     "source": [
      "I realize many of you haven't thought about floats and ints.  Here is a [tutorial](http://blog.stillaslife.com/code/tutorials/python-tutorial-3-integers-and-floats/)  and integers take less [memory](http://www.dummies.com/how-to/content/the-real-difference-between-integers-and-floatingp.html) and are also good for looping and counting."
     ]
    },
    {
     "cell_type": "code",
     "collapsed": false,
     "input": [
      "#but that is if we don't have a calculator.  We can use parameters in programming  \n",
      "#this will move us towards something more powerful\n",
      "a=6\n",
      "b=4\n",
      "a/b"
     ],
     "language": "python",
     "metadata": {},
     "outputs": [
      {
       "metadata": {},
       "output_type": "pyout",
       "prompt_number": 11,
       "text": [
        "1"
       ]
      }
     ],
     "prompt_number": 11
    },
    {
     "cell_type": "code",
     "collapsed": false,
     "input": [
      "b=4.\n",
      "a/b"
     ],
     "language": "python",
     "metadata": {},
     "outputs": [
      {
       "metadata": {},
       "output_type": "pyout",
       "prompt_number": 16,
       "text": [
        "1.5"
       ]
      }
     ],
     "prompt_number": 16
    },
    {
     "cell_type": "code",
     "collapsed": false,
     "input": [
      "a%b #$this is call mod"
     ],
     "language": "python",
     "metadata": {},
     "outputs": [
      {
       "metadata": {},
       "output_type": "pyout",
       "prompt_number": 19,
       "text": [
        "2.0"
       ]
      }
     ],
     "prompt_number": 19
    },
    {
     "cell_type": "code",
     "collapsed": false,
     "input": [
      "print 'The result of a/b=',a/b"
     ],
     "language": "python",
     "metadata": {},
     "outputs": [
      {
       "output_type": "stream",
       "stream": "stdout",
       "text": [
        "The result of a/b= 1.5\n"
       ]
      }
     ],
     "prompt_number": 20
    },
    {
     "cell_type": "code",
     "collapsed": false,
     "input": [
      "print 'we can get fancier \\na=',a,'\\nb=',b,'\\na/b=',a/b  #the \\n is a new line.  you can also to \\t"
     ],
     "language": "python",
     "metadata": {},
     "outputs": [
      {
       "output_type": "stream",
       "stream": "stdout",
       "text": [
        "we can get fancier \n",
        "a= 6 \n",
        "b= 4.0 \n",
        "a/b= 1.5\n"
       ]
      }
     ],
     "prompt_number": 21
    },
    {
     "cell_type": "code",
     "collapsed": false,
     "input": [
      "output='we can get fancier\\na='   #I just set the parameter output to the writing\n",
      "# and then called it later on.\n",
      "print output,a"
     ],
     "language": "python",
     "metadata": {},
     "outputs": [
      {
       "output_type": "stream",
       "stream": "stdout",
       "text": [
        "we can get fancier\n",
        "a= 6\n"
       ]
      }
     ],
     "prompt_number": 22
    },
    {
     "cell_type": "code",
     "collapsed": false,
     "input": [
      "output[0]"
     ],
     "language": "python",
     "metadata": {},
     "outputs": [
      {
       "metadata": {},
       "output_type": "pyout",
       "prompt_number": 23,
       "text": [
        "'w'"
       ]
      }
     ],
     "prompt_number": 23
    },
    {
     "cell_type": "code",
     "collapsed": false,
     "input": [
      "output='we can get fancier\\na='\n",
      "print output,float(a) # we just cast a to a float"
     ],
     "language": "python",
     "metadata": {},
     "outputs": [
      {
       "output_type": "stream",
       "stream": "stdout",
       "text": [
        "we can get fancier\n",
        "a= 6.0\n"
       ]
      }
     ],
     "prompt_number": 24
    },
    {
     "cell_type": "code",
     "collapsed": false,
     "input": [
      "output"
     ],
     "language": "python",
     "metadata": {},
     "outputs": [
      {
       "metadata": {},
       "output_type": "pyout",
       "prompt_number": 25,
       "text": [
        "'we can get fancier\\na='"
       ]
      }
     ],
     "prompt_number": 25
    },
    {
     "cell_type": "code",
     "collapsed": false,
     "input": [
      "str(output)"
     ],
     "language": "python",
     "metadata": {},
     "outputs": [
      {
       "metadata": {},
       "output_type": "pyout",
       "prompt_number": 26,
       "text": [
        "'we can get fancier\\na='"
       ]
      }
     ],
     "prompt_number": 26
    },
    {
     "cell_type": "markdown",
     "metadata": {},
     "source": [
      "The next set of calls shows you the formal way of formatting all your values.  Plus I added the \"\\\" to do a line break.  Play with all the settings.  The format is an object oriented function you are calling to set the the formating.  This [link](https://docs.python.org/2/tutorial/inputoutput.html) goes through some sting stuff and this [link](https://docs.python.org/2/library/string.html#formatstrings)gets into the nitty-gritty detail of how to do the formatting.  You can set widths, spacing, decimals,and centering.  Go through and do some of your own!"
     ]
    },
    {
     "cell_type": "code",
     "collapsed": false,
     "input": [
      "#fancy formatting.  \n",
      "print 'A)the value of b is {0:*^14.3f}'.format(b),'the value of a is{0:3d}'.format(a)  \n",
      "#The 0 represents the first item in the list. The star represents the fill.  \n",
      "# the carrort says center it.  \n",
      "# The 14 represents the spaces. \n",
      "# The 3 repesents the decimals. the f is a float \n",
      "\n",
      "print 'B)the value of b is {} and the value of a is {}'.format(b,a)\n",
      "print 'C)the value of b is {0} and the value of a is {1}'.format(b,a)\n",
      "# you can force a float to an integer and an integer to a float\n",
      "print 'D)the value of b is {:3d} and the value of a is {:.3f}'.format(int(b),float(a))\n",
      "# or you can just not print the decimals for a float\n"
     ],
     "language": "python",
     "metadata": {},
     "outputs": [
      {
       "output_type": "stream",
       "stream": "stdout",
       "text": [
        "A)the value of b is ****4.000***** the value of a is  6\n",
        "B)the value of b is 4 and the value of a is 6\n",
        "C)the value of b is 4 and the value of a is 6\n",
        "D)the value of b is   4 and the value of a is 6.000\n"
       ]
      }
     ],
     "prompt_number": 21
    },
    {
     "cell_type": "code",
     "collapsed": false,
     "input": [
      "#I almost forgot exponents\n",
      "a**2"
     ],
     "language": "python",
     "metadata": {},
     "outputs": [
      {
       "metadata": {},
       "output_type": "pyout",
       "prompt_number": 66,
       "text": [
        "36"
       ]
      }
     ],
     "prompt_number": 66
    },
    {
     "cell_type": "code",
     "collapsed": false,
     "input": [
      "a**0.5"
     ],
     "language": "python",
     "metadata": {},
     "outputs": [
      {
       "metadata": {},
       "output_type": "pyout",
       "prompt_number": 67,
       "text": [
        "2.449489742783178"
       ]
      }
     ],
     "prompt_number": 67
    },
    {
     "cell_type": "code",
     "collapsed": false,
     "input": [
      "format?"
     ],
     "language": "python",
     "metadata": {},
     "outputs": [],
     "prompt_number": 68
    },
    {
     "cell_type": "code",
     "collapsed": false,
     "input": [
      "help(format)"
     ],
     "language": "python",
     "metadata": {},
     "outputs": [
      {
       "output_type": "stream",
       "stream": "stdout",
       "text": [
        "Help on built-in function format in module __builtin__:\n",
        "\n",
        "format(...)\n",
        "    format(value[, format_spec]) -> string\n",
        "    \n",
        "    Returns value.__format__(format_spec)\n",
        "    format_spec defaults to \"\"\n",
        "\n"
       ]
      }
     ],
     "prompt_number": 69
    },
    {
     "cell_type": "code",
     "collapsed": false,
     "input": [
      "#This website does more than you ever need to know about format\n",
      "format(b,'15.3f')\n",
      "#why this works both ways is because python is object oriented...."
     ],
     "language": "python",
     "metadata": {},
     "outputs": [
      {
       "metadata": {},
       "output_type": "pyout",
       "prompt_number": 78,
       "text": [
        "'          4.000'"
       ]
      }
     ],
     "prompt_number": 78
    },
    {
     "cell_type": "code",
     "collapsed": false,
     "input": [
      "#lets do more fomatting.  If you want 2  #the slash allows us to split up a long line\n",
      "print 'we are going to divide {} by {}'.format(a,b)\n",
      "print 'we could turn {} into a float {:.3f}'.format(a,a)\n",
      "print 'we could turn {} into a float with 10 decimal places \\\n",
      "and 15 spots and a sign with stars and centeerd {:*^+15.10f}'.format(a,a)"
     ],
     "language": "python",
     "metadata": {},
     "outputs": [
      {
       "output_type": "stream",
       "stream": "stdout",
       "text": [
        "we are going to divide 6 by 4\n",
        "we could turn 6 into a float 6.000\n",
        "we could turn 6 into a float with 10 decimal places and 15 spots and a sign with stars and centeerd *+6.0000000000*\n"
       ]
      }
     ],
     "prompt_number": 22
    },
    {
     "cell_type": "code",
     "collapsed": false,
     "input": [
      "# But before we go on remember PEMDAS\n",
      "2+2**2"
     ],
     "language": "python",
     "metadata": {},
     "outputs": [
      {
       "metadata": {},
       "output_type": "pyout",
       "prompt_number": 101,
       "text": [
        "6"
       ]
      }
     ],
     "prompt_number": 101
    },
    {
     "cell_type": "code",
     "collapsed": false,
     "input": [
      "(2+2)**2"
     ],
     "language": "python",
     "metadata": {},
     "outputs": [
      {
       "metadata": {},
       "output_type": "pyout",
       "prompt_number": 102,
       "text": [
        "16"
       ]
      }
     ],
     "prompt_number": 102
    },
    {
     "cell_type": "code",
     "collapsed": false,
     "input": [
      "c=(2+2)**2"
     ],
     "language": "python",
     "metadata": {},
     "outputs": [],
     "prompt_number": 103
    },
    {
     "cell_type": "code",
     "collapsed": false,
     "input": [
      "c"
     ],
     "language": "python",
     "metadata": {},
     "outputs": [
      {
       "metadata": {},
       "output_type": "pyout",
       "prompt_number": 104,
       "text": [
        "16"
       ]
      }
     ],
     "prompt_number": 104
    },
    {
     "cell_type": "markdown",
     "metadata": {},
     "source": [
      "Write down your answer to\n",
      "#$7 + (6 \u00d7 5^2 + 3)$\n",
      "then try it!"
     ]
    },
    {
     "cell_type": "code",
     "collapsed": false,
     "input": [],
     "language": "python",
     "metadata": {},
     "outputs": []
    },
    {
     "cell_type": "code",
     "collapsed": false,
     "input": [
      "#some string stuff\n",
      "output1=\"output 1\"\n"
     ],
     "language": "python",
     "metadata": {},
     "outputs": [],
     "prompt_number": 107
    },
    {
     "cell_type": "code",
     "collapsed": false,
     "input": [
      "output1"
     ],
     "language": "python",
     "metadata": {},
     "outputs": [
      {
       "metadata": {},
       "output_type": "pyout",
       "prompt_number": 108,
       "text": [
        "'output 1'"
       ]
      }
     ],
     "prompt_number": 108
    },
    {
     "cell_type": "code",
     "collapsed": false,
     "input": [
      "output2=output1+output1\n",
      "output2"
     ],
     "language": "python",
     "metadata": {},
     "outputs": [
      {
       "metadata": {},
       "output_type": "pyout",
       "prompt_number": 109,
       "text": [
        "'output 1output 1'"
       ]
      }
     ],
     "prompt_number": 109
    },
    {
     "cell_type": "code",
     "collapsed": false,
     "input": [
      "output2=output2-output1"
     ],
     "language": "python",
     "metadata": {},
     "outputs": [
      {
       "ename": "TypeError",
       "evalue": "unsupported operand type(s) for -: 'str' and 'str'",
       "output_type": "pyerr",
       "traceback": [
        "\u001b[1;31m---------------------------------------------------------------------------\u001b[0m\n\u001b[1;31mTypeError\u001b[0m                                 Traceback (most recent call last)",
        "\u001b[1;32m<ipython-input-110-c8413cab73a7>\u001b[0m in \u001b[0;36m<module>\u001b[1;34m()\u001b[0m\n\u001b[1;32m----> 1\u001b[1;33m \u001b[0moutput2\u001b[0m\u001b[1;33m=\u001b[0m\u001b[0moutput2\u001b[0m\u001b[1;33m-\u001b[0m\u001b[0moutput1\u001b[0m\u001b[1;33m\u001b[0m\u001b[0m\n\u001b[0m",
        "\u001b[1;31mTypeError\u001b[0m: unsupported operand type(s) for -: 'str' and 'str'"
       ]
      }
     ],
     "prompt_number": 110
    },
    {
     "cell_type": "code",
     "collapsed": false,
     "input": [
      "len(output1)"
     ],
     "language": "python",
     "metadata": {},
     "outputs": [
      {
       "metadata": {},
       "output_type": "pyout",
       "prompt_number": 111,
       "text": [
        "8"
       ]
      }
     ],
     "prompt_number": 111
    },
    {
     "cell_type": "code",
     "collapsed": false,
     "input": [
      "# now lets do lists\n",
      "FirstList=[2,5,10,15,20]"
     ],
     "language": "python",
     "metadata": {},
     "outputs": [],
     "prompt_number": 2
    },
    {
     "cell_type": "code",
     "collapsed": false,
     "input": [
      "FirstList"
     ],
     "language": "python",
     "metadata": {},
     "outputs": [
      {
       "metadata": {},
       "output_type": "pyout",
       "prompt_number": 3,
       "text": [
        "[2, 5, 10, 15, 20]"
       ]
      }
     ],
     "prompt_number": 3
    },
    {
     "cell_type": "code",
     "collapsed": false,
     "input": [
      "FirstList[0]"
     ],
     "language": "python",
     "metadata": {},
     "outputs": [
      {
       "metadata": {},
       "output_type": "pyout",
       "prompt_number": 4,
       "text": [
        "2"
       ]
      }
     ],
     "prompt_number": 4
    },
    {
     "cell_type": "code",
     "collapsed": false,
     "input": [
      "FirstList[4]"
     ],
     "language": "python",
     "metadata": {},
     "outputs": [
      {
       "metadata": {},
       "output_type": "pyout",
       "prompt_number": 5,
       "text": [
        "20"
       ]
      }
     ],
     "prompt_number": 5
    },
    {
     "cell_type": "markdown",
     "metadata": {},
     "source": [
      "I just inserted one of the most critical programming issues in on you.  this idea of indexing.  Where are things stored in lists and strings.  This can be confusing when you first begin! So lets stop and talk about bins and numbering.   A lot is written about strings and lists. Here is a google [link](https://developers.google.com/edu/python/strings)  \n"
     ]
    },
    {
     "cell_type": "code",
     "collapsed": false,
     "input": [
      "from IPython.display import Image\n",
      "Image('https://developers.google.com/edu/python/images/hello.png')"
     ],
     "language": "python",
     "metadata": {},
     "outputs": [
      {
       "metadata": {},
       "output_type": "pyout",
       "png": "[encoded data removed]",
       "prompt_number": 24,
       "text": [
        "<IPython.core.display.Image at 0x814d6a0>"
       ]
      }
     ],
     "prompt_number": 24
    },
    {
     "cell_type": "code",
     "collapsed": false,
     "input": [
      "#now lets trying indexing\n",
      "# FirstList[] gives an error\n",
      "print FirstList[:]  #this lists them all\n",
      "print FirstList[:0] #this lists from start to place 0\n",
      "print FirstList[:2] #this lists from start up to an not including spot 2\n",
      "print FirstList[0:] # this is 0 to end\n",
      "print FirstList[1:] #this is 1 to end\n",
      "print FirstList[0:5:2] #this is 0 to 5 by 2's\n",
      "print FirstList[::2] #this is beginning to end by 2's\n",
      "print FirstList[0:5:3] #this is 0 to 5 by 3's\n",
      "print FirstList[0:5:-1] #this is beginning to end by -1 and won't work\n",
      "print FirstList[5:0:-1] #this is end to beginning but stops before 0\n",
      "print FirstList[::-1] # a better way to go in reverse\n",
      "print FirstList[-1] #one in from the end\n",
      "print FirstList[5:0] # doesn't know to go in reverse\n",
      "print FirstList[-2]\n",
      "print FirstList[-2:] #-2 to the end"
     ],
     "language": "python",
     "metadata": {},
     "outputs": [
      {
       "output_type": "stream",
       "stream": "stdout",
       "text": [
        "[2, 5, 10, 15, 20]\n",
        "[]\n",
        "[2, 5]\n",
        "[2, 5, 10, 15, 20]\n",
        "[5, 10, 15, 20]\n",
        "[2, 10, 20]\n",
        "[2, 10, 20]\n",
        "[2, 15]\n",
        "[]\n",
        "[20, 15, 10, 5]\n",
        "[20, 15, 10, 5, 2]\n",
        "20\n",
        "[]\n",
        "15\n",
        "[15, 20]\n"
       ]
      }
     ],
     "prompt_number": 13
    },
    {
     "cell_type": "markdown",
     "metadata": {},
     "source": [
      "a change to test sourcetree"
     ]
    },
    {
     "cell_type": "code",
     "collapsed": false,
     "input": [
      " "
     ],
     "language": "python",
     "metadata": {},
     "outputs": []
    }
   ],
   "metadata": {}
  }
 ]
}