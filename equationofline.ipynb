{
 "metadata": {
  "name": "equationofline.ipynb"
 },
 "nbformat": 3,
 "nbformat_minor": 0,
 "worksheets": [
  {
   "cells": [
    {
     "cell_type": "heading",
     "level": 1,
     "metadata": {},
     "source": [
      "Lets plot two data points and fit a line to them"
     ]
    },
    {
     "cell_type": "markdown",
     "metadata": {},
     "source": [
      "For this everyone needs to make their own plot but before you begin work in groups of about 4 people to figure it out.  \n",
      "\n",
      "When you have data you usually plot the data as points on a graph and then you plot the best fit line to that data.  We are going to do something simple and plot two points and then fit the straight line.  \n",
      "Rember that the equation of a line is \n",
      "y=mx+b\n",
      "\n",
      "If you have two points they would be stored in a list.  I call this list x_data and y_data.  the first point on the graph is x[0],y[0] the second point is x[1],y[1]\n",
      "\n",
      "We could solve the equation now since we have two equations and two unknowns.  you would get\n",
      "\n",
      "y[0]=m*x[0]+b\n",
      "\n",
      "y[1]=m*x[1]+b\n",
      "\n",
      "With these two equations and two unknowns you can solve for m and b.\n",
      "\n",
      "Now that you have m and b you can then calculate the fit.  I call these x_fit and y_fit.  \n",
      "\n",
      "What function can we use to generate the x_fit numbers?\n",
      "\n",
      "Then we plot the data.  I use\n",
      "\n",
      "plt.scatter() for the data as this shows just points.  If you add the keyword argument label='' then it gives a label to that part of the plot that can later show up in a legend.\n",
      "\n",
      "I used plt.plot() like usual to plot the line.  But I added the label='' keyword.\n",
      "\n",
      "I label the axes.  \n",
      "\n",
      "I turn on the legend with plt.legend()\n",
      "\n",
      "When I get fancy I can add a title that includes the equation of the line.  We can do this by making a string with the format notation.  The format notation is nice to control the number of decimal places.  "
     ]
    },
    {
     "cell_type": "code",
     "collapsed": false,
     "input": [
      "import matplotlib.pyplot as plt\n",
      "#This is my data\n",
      "x_data=[1.1,6]\n",
      "y_data=[4,8]\n",
      "\n",
      "#this is my solution to the line\n",
      "m=\n",
      "b=\n",
      "\n",
      "#This is the best fit line\n",
      "x_fit=\n",
      "y_fit=\n",
      "\n",
      "#this is plotting the data\n",
      "plot_title=''.format(m,b)\n",
      "plt.scatter()   #this plots points without a line\n",
      "plt.plot()       #this will plot a line without points.  \n",
      "plt.xlabel()\n",
      "plt.ylabel()\n",
      "plt.title()\n",
      "plt.legend()"
     ],
     "language": "python",
     "metadata": {},
     "outputs": []
    },
    {
     "cell_type": "code",
     "collapsed": false,
     "input": [
      "import matplotlib.pyplot as plt\n",
      "#This is my data\n",
      "x_data=[1.1,6]\n",
      "y_data=[4,8]\n",
      "\n",
      "#this is my solution to the line\n",
      "m=(y_data[1]-y_data[0])/(x_data[1]-x_data[0])\n",
      "b=y_data[0]-x_data[0]*m\n",
      "\n",
      "#This is the best fit line\n",
      "x_fit=linspace(-10,10)\n",
      "y_fit=m*x_line+b\n",
      "\n",
      "#this is plotting the data\n",
      "plot_title='Best fit line with slope of {:.2f} and intercept of {:.2f}\\n'.format(m,b)\n",
      "plt.scatter(x_data,y_data,label='Data')   #this plots points without a line\n",
      "plt.plot(x_fit,y_fit,label='Fit')       #this will plot a line without points.  \n",
      "plt.xlabel('x axis')\n",
      "plt.ylabel('y axis')\n",
      "plt.title(plot_title)\n",
      "plt.legend()\n"
     ],
     "language": "python",
     "metadata": {},
     "outputs": [
      {
       "metadata": {},
       "output_type": "pyout",
       "prompt_number": 24,
       "text": [
        "<matplotlib.legend.Legend at 0xbb53358>"
       ]
      },
      {
       "metadata": {},
       "output_type": "display_data",
       "png": "[encoded data removed]",
       "text": [
        "<matplotlib.figure.Figure at 0xbe85be0>"
       ]
      }
     ],
     "prompt_number": 24
    },
    {
     "cell_type": "code",
     "collapsed": false,
     "input": [],
     "language": "python",
     "metadata": {},
     "outputs": []
    }
   ],
   "metadata": {}
  }
 ]
}