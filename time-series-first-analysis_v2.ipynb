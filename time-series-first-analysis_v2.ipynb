{
 "cells": [
  {
   "cell_type": "markdown",
   "metadata": {},
   "source": [
    "# Welcome to Big Data!!!"
   ]
  },
  {
   "cell_type": "markdown",
   "metadata": {},
   "source": [
    "## Today we are going to analyze Rainfall data from central Park to get you started"
   ]
  },
  {
   "cell_type": "markdown",
   "metadata": {},
   "source": [
    "### We are going to do this all in a Jupyer notebook which was formerly called iPython.  This will take some getting used to. You actually do your programming in a window in a web browser or in a program.  But you are not online.  You are running off of your own coputer.  But we will teach you all you need to do.  Make sure to type everything you see correctly. All syntax matters including capital letters and punctuation. "
   ]
  },
  {
   "cell_type": "markdown",
   "metadata": {},
   "source": [
    "Ok, Lets get you started.  But make sure you read the syllabus and get a binder to keep the handouts.  You need to do the code.org also!"
   ]
  },
  {
   "cell_type": "markdown",
   "metadata": {},
   "source": [
    "We are going to use [Anaconda python](http://continuum.io/).    We have used [Enthought Canopy](https://www.enthought.com/products/canopy/) but anaconda seems to work better.  "
   ]
  },
  {
   "cell_type": "markdown",
   "metadata": {},
   "source": [
    "Look on the course site for directions to open Anaconda and then you can move around directories.  Remember nothing gets saved on the school computers. so whatever you save each day you need to email to yourself or save some home\n",
    "\n",
    "Open Jupyter notebook like in the video"
   ]
  },
  {
   "cell_type": "markdown",
   "metadata": {},
   "source": [
    "Now we are in iPython!!!! "
   ]
  },
  {
   "cell_type": "markdown",
   "metadata": {},
   "source": [
    "You see that I am using Markdown to add these notes. You make markdown by choosing Markdown above you can change from code to Markdown.  Notes are essential to understanding everything.  Please make a new cell and add some notes!  We will do more of this later.  If you download the notebook from Courseworks under syllabus you can double click on the notes and see how I added links!  I will show you how to add equations and images later!  "
   ]
  },
  {
   "cell_type": "markdown",
   "metadata": {},
   "source": [
    "But we wanted to analyze precipitation data from Central Park. What questions could we ask and answer?  I have downloaded the data from 1876 onward!  I want to know the precipiation in the month I was born?  I want to know the annual average precipiation in Central Park and I also want to know what monthly Precipitation looks like.   Lets see if we can figure that out today.  We are going to dive in really deep the first class and show you the power of programming.  Then over the course of the semester I will teach you how to do this on your own.  So enjoy the first analysis, see what we can do and then work on learning it yourself during the semester."
   ]
  },
  {
   "cell_type": "markdown",
   "metadata": {},
   "source": [
    "The first thing we will do is import the python libraries that we will use.  When programming you don't use the whole Python programming language.  You have a basic part of Python that is always turned-on but also you import or turn on the parts of the language that you will use for your analysis.  You will learn about different libraries as the semester progresses.  \n",
    "\n",
    "Type in what you see below.  Then to execute the code hit shift-enter.  The little circle will fill in on the top right as the computer computes code.  It needs to be exact, uppercase, lowercase etc.   TYPE EXACTLY!"
   ]
  },
  {
   "cell_type": "code",
   "execution_count": 1,
   "metadata": {},
   "outputs": [],
   "source": [
    "%matplotlib inline\n",
    "import pandas as pd\n",
    "import numpy as np\n",
    "import matplotlib # for plot data\n",
    "import matplotlib.pylab as plt\n"
   ]
  },
  {
   "cell_type": "markdown",
   "metadata": {},
   "source": [
    "Now we need to get our data.  I will use github a lot this semester. It is a website that allows you to update and share code and to keep track of it.  It is like Dropbox on steroids.  The information for this class is at this webside. \n",
    "\n",
    "https://github.com/bmaillou/BigDataPython\n",
    "\n",
    "follow the link to central park csv file. Then click on it and look at the raw data.  csv files are a great way of getting data. csv means commas seperated variables.  It is just a text file with data seperated by commas.  now copy the link so we can add it below.  The link goes to the url. Then we are using the pandas reader to get the data.  We are then indexing by Date to organize. In pandas data is usually called \"df\" for dataframes.  It is almost like a monster excel sheet."
   ]
  },
  {
   "cell_type": "code",
   "execution_count": 2,
   "metadata": {},
   "outputs": [],
   "source": [
    "url='https://raw.githubusercontent.com/bmaillou/BigDataPython/master/central_park.csv'\n",
    "\n",
    "df = pd.read_csv(url,index_col='DATE',parse_dates=['DATE']) #This is central park data"
   ]
  },
  {
   "cell_type": "markdown",
   "metadata": {},
   "source": [
    "Now the data is in the computer as df.  You could just type df to see it. I typed df.head() to see the first 5 rows.  Type df.tail() to see the last 5. "
   ]
  },
  {
   "cell_type": "code",
   "execution_count": 3,
   "metadata": {},
   "outputs": [
    {
     "data": {
      "text/html": [
       "<div>\n",
       "<style scoped>\n",
       "    .dataframe tbody tr th:only-of-type {\n",
       "        vertical-align: middle;\n",
       "    }\n",
       "\n",
       "    .dataframe tbody tr th {\n",
       "        vertical-align: top;\n",
       "    }\n",
       "\n",
       "    .dataframe thead th {\n",
       "        text-align: right;\n",
       "    }\n",
       "</style>\n",
       "<table border=\"1\" class=\"dataframe\">\n",
       "  <thead>\n",
       "    <tr style=\"text-align: right;\">\n",
       "      <th></th>\n",
       "      <th>STATION</th>\n",
       "      <th>STATION_NAME</th>\n",
       "      <th>PRCP</th>\n",
       "      <th>TOBS</th>\n",
       "    </tr>\n",
       "    <tr>\n",
       "      <th>DATE</th>\n",
       "      <th></th>\n",
       "      <th></th>\n",
       "      <th></th>\n",
       "      <th></th>\n",
       "    </tr>\n",
       "  </thead>\n",
       "  <tbody>\n",
       "    <tr>\n",
       "      <th>2014-11-06</th>\n",
       "      <td>GHCND:USW00094728</td>\n",
       "      <td>NEW YORK CENTRAL PARK OBS BELVEDERE TOWER NY US</td>\n",
       "      <td>94.0</td>\n",
       "      <td>NaN</td>\n",
       "    </tr>\n",
       "    <tr>\n",
       "      <th>2014-11-07</th>\n",
       "      <td>GHCND:USW00094728</td>\n",
       "      <td>NEW YORK CENTRAL PARK OBS BELVEDERE TOWER NY US</td>\n",
       "      <td>0.0</td>\n",
       "      <td>NaN</td>\n",
       "    </tr>\n",
       "    <tr>\n",
       "      <th>2014-11-08</th>\n",
       "      <td>GHCND:USW00094728</td>\n",
       "      <td>NEW YORK CENTRAL PARK OBS BELVEDERE TOWER NY US</td>\n",
       "      <td>0.0</td>\n",
       "      <td>NaN</td>\n",
       "    </tr>\n",
       "    <tr>\n",
       "      <th>2014-11-09</th>\n",
       "      <td>GHCND:USW00094728</td>\n",
       "      <td>NEW YORK CENTRAL PARK OBS BELVEDERE TOWER NY US</td>\n",
       "      <td>0.0</td>\n",
       "      <td>NaN</td>\n",
       "    </tr>\n",
       "    <tr>\n",
       "      <th>2014-11-10</th>\n",
       "      <td>GHCND:USW00094728</td>\n",
       "      <td>NEW YORK CENTRAL PARK OBS BELVEDERE TOWER NY US</td>\n",
       "      <td>0.0</td>\n",
       "      <td>NaN</td>\n",
       "    </tr>\n",
       "  </tbody>\n",
       "</table>\n",
       "</div>"
      ],
      "text/plain": [
       "                      STATION  \\\n",
       "DATE                            \n",
       "2014-11-06  GHCND:USW00094728   \n",
       "2014-11-07  GHCND:USW00094728   \n",
       "2014-11-08  GHCND:USW00094728   \n",
       "2014-11-09  GHCND:USW00094728   \n",
       "2014-11-10  GHCND:USW00094728   \n",
       "\n",
       "                                               STATION_NAME  PRCP  TOBS  \n",
       "DATE                                                                     \n",
       "2014-11-06  NEW YORK CENTRAL PARK OBS BELVEDERE TOWER NY US  94.0   NaN  \n",
       "2014-11-07  NEW YORK CENTRAL PARK OBS BELVEDERE TOWER NY US   0.0   NaN  \n",
       "2014-11-08  NEW YORK CENTRAL PARK OBS BELVEDERE TOWER NY US   0.0   NaN  \n",
       "2014-11-09  NEW YORK CENTRAL PARK OBS BELVEDERE TOWER NY US   0.0   NaN  \n",
       "2014-11-10  NEW YORK CENTRAL PARK OBS BELVEDERE TOWER NY US   0.0   NaN  "
      ]
     },
     "execution_count": 3,
     "metadata": {},
     "output_type": "execute_result"
    }
   ],
   "source": [
    "df.tail()"
   ]
  },
  {
   "cell_type": "markdown",
   "metadata": {},
   "source": [
    "You can do a lot with the data.  For some quick ideas type df. with the period and hit tab. The list of functions comes up."
   ]
  },
  {
   "cell_type": "code",
   "execution_count": null,
   "metadata": {},
   "outputs": [],
   "source": []
  },
  {
   "cell_type": "markdown",
   "metadata": {},
   "source": [
    "But lets make a quick and dirty plot.  To plot all the data you type df.plot() and then to show the plot you type plt.show()"
   ]
  },
  {
   "cell_type": "code",
   "execution_count": 4,
   "metadata": {},
   "outputs": [
    {
     "data": {
      "image/png": "[encoded data removed]",
      "text/plain": [
       "<Figure size 432x288 with 1 Axes>"
      ]
     },
     "metadata": {
      "needs_background": "light"
     },
     "output_type": "display_data"
    }
   ],
   "source": [
    "df.plot()\n",
    "plt.show()"
   ]
  },
  {
   "cell_type": "markdown",
   "metadata": {},
   "source": [
    "I want to know what type of data I have.  So i need to check the data type,  show how to type data1.  Hit tab and then see what we can do.  "
   ]
  },
  {
   "cell_type": "code",
   "execution_count": 5,
   "metadata": {},
   "outputs": [
    {
     "data": {
      "text/plain": [
       "STATION          object\n",
       "STATION_NAME     object\n",
       "PRCP            float64\n",
       "TOBS            float64\n",
       "dtype: object"
      ]
     },
     "execution_count": 5,
     "metadata": {},
     "output_type": "execute_result"
    }
   ],
   "source": [
    "df.dtypes"
   ]
  },
  {
   "cell_type": "markdown",
   "metadata": {},
   "source": [
    "But pandas has better built in functions.  try df.info() to learn more about your data"
   ]
  },
  {
   "cell_type": "code",
   "execution_count": 6,
   "metadata": {},
   "outputs": [
    {
     "name": "stdout",
     "output_type": "stream",
     "text": [
      "<class 'pandas.core.frame.DataFrame'>\n",
      "DatetimeIndex: 50699 entries, 1876-01-01 to 2014-11-10\n",
      "Data columns (total 4 columns):\n",
      " #   Column        Non-Null Count  Dtype  \n",
      "---  ------        --------------  -----  \n",
      " 0   STATION       50699 non-null  object \n",
      " 1   STATION_NAME  50699 non-null  object \n",
      " 2   PRCP          50596 non-null  float64\n",
      " 3   TOBS          25882 non-null  float64\n",
      "dtypes: float64(2), object(2)\n",
      "memory usage: 1.9+ MB\n"
     ]
    }
   ],
   "source": [
    "df.info()"
   ]
  },
  {
   "cell_type": "markdown",
   "metadata": {},
   "source": [
    "We are only interested in precipitation today.  So lets just plot it. We can subchoose just that column.  "
   ]
  },
  {
   "cell_type": "code",
   "execution_count": 7,
   "metadata": {},
   "outputs": [
    {
     "data": {
      "text/plain": [
       "<matplotlib.axes._subplots.AxesSubplot at 0x214ae465668>"
      ]
     },
     "execution_count": 7,
     "metadata": {},
     "output_type": "execute_result"
    },
    {
     "data": {
      "image/png": "[encoded data removed]",
      "text/plain": [
       "<Figure size 432x288 with 1 Axes>"
      ]
     },
     "metadata": {
      "needs_background": "light"
     },
     "output_type": "display_data"
    }
   ],
   "source": [
    "df['PRCP'].plot()"
   ]
  },
  {
   "cell_type": "markdown",
   "metadata": {},
   "source": [
    "We can use describe to look at the description of the data."
   ]
  },
  {
   "cell_type": "code",
   "execution_count": 8,
   "metadata": {},
   "outputs": [
    {
     "data": {
      "text/html": [
       "<div>\n",
       "<style scoped>\n",
       "    .dataframe tbody tr th:only-of-type {\n",
       "        vertical-align: middle;\n",
       "    }\n",
       "\n",
       "    .dataframe tbody tr th {\n",
       "        vertical-align: top;\n",
       "    }\n",
       "\n",
       "    .dataframe thead th {\n",
       "        text-align: right;\n",
       "    }\n",
       "</style>\n",
       "<table border=\"1\" class=\"dataframe\">\n",
       "  <thead>\n",
       "    <tr style=\"text-align: right;\">\n",
       "      <th></th>\n",
       "      <th>PRCP</th>\n",
       "      <th>TOBS</th>\n",
       "    </tr>\n",
       "  </thead>\n",
       "  <tbody>\n",
       "    <tr>\n",
       "      <th>count</th>\n",
       "      <td>50596.000000</td>\n",
       "      <td>25882.000000</td>\n",
       "    </tr>\n",
       "    <tr>\n",
       "      <th>mean</th>\n",
       "      <td>31.572773</td>\n",
       "      <td>119.081562</td>\n",
       "    </tr>\n",
       "    <tr>\n",
       "      <th>std</th>\n",
       "      <td>89.699235</td>\n",
       "      <td>98.968277</td>\n",
       "    </tr>\n",
       "    <tr>\n",
       "      <th>min</th>\n",
       "      <td>0.000000</td>\n",
       "      <td>-211.000000</td>\n",
       "    </tr>\n",
       "    <tr>\n",
       "      <th>25%</th>\n",
       "      <td>0.000000</td>\n",
       "      <td>39.000000</td>\n",
       "    </tr>\n",
       "    <tr>\n",
       "      <th>50%</th>\n",
       "      <td>0.000000</td>\n",
       "      <td>122.000000</td>\n",
       "    </tr>\n",
       "    <tr>\n",
       "      <th>75%</th>\n",
       "      <td>13.000000</td>\n",
       "      <td>206.000000</td>\n",
       "    </tr>\n",
       "    <tr>\n",
       "      <th>max</th>\n",
       "      <td>2103.000000</td>\n",
       "      <td>339.000000</td>\n",
       "    </tr>\n",
       "  </tbody>\n",
       "</table>\n",
       "</div>"
      ],
      "text/plain": [
       "               PRCP          TOBS\n",
       "count  50596.000000  25882.000000\n",
       "mean      31.572773    119.081562\n",
       "std       89.699235     98.968277\n",
       "min        0.000000   -211.000000\n",
       "25%        0.000000     39.000000\n",
       "50%        0.000000    122.000000\n",
       "75%       13.000000    206.000000\n",
       "max     2103.000000    339.000000"
      ]
     },
     "execution_count": 8,
     "metadata": {},
     "output_type": "execute_result"
    }
   ],
   "source": [
    "df.describe()"
   ]
  },
  {
   "cell_type": "markdown",
   "metadata": {},
   "source": [
    "Stop and think for a second.  What do the results mean above?  They say we have over 50,000 precipitation values!  We know something about them and we have done this really quickly!"
   ]
  },
  {
   "cell_type": "markdown",
   "metadata": {},
   "source": [
    "Can you just show the describe for Precitation?  Use what you learned above"
   ]
  },
  {
   "cell_type": "code",
   "execution_count": 25,
   "metadata": {},
   "outputs": [
    {
     "data": {
      "text/plain": [
       "count    50596.000000\n",
       "mean        31.572773\n",
       "std         89.699235\n",
       "min          0.000000\n",
       "25%          0.000000\n",
       "50%          0.000000\n",
       "75%         13.000000\n",
       "max       2103.000000\n",
       "Name: PRCP, dtype: float64"
      ]
     },
     "execution_count": 25,
     "metadata": {},
     "output_type": "execute_result"
    }
   ],
   "source": []
  },
  {
   "cell_type": "markdown",
   "metadata": {},
   "source": [
    "what are the units?  \n",
    "we can plot in inches\n",
    "I looked it up and the data is in  10 mm.  \n",
    "1mm =.0393 inches\n",
    "\n",
    "Plus I am changing how I call the PRCP column. I am using the . notation.  \n",
    "\n",
    "Plus look how I put a great comment in the code using #"
   ]
  },
  {
   "cell_type": "code",
   "execution_count": 9,
   "metadata": {},
   "outputs": [
    {
     "data": {
      "text/plain": [
       "<matplotlib.axes._subplots.AxesSubplot at 0x214ae3e5a58>"
      ]
     },
     "execution_count": 9,
     "metadata": {},
     "output_type": "execute_result"
    },
    {
     "data": {
      "image/png": "[encoded data removed]",
      "text/plain": [
       "<Figure size 432x288 with 1 Axes>"
      ]
     },
     "metadata": {
      "needs_background": "light"
     },
     "output_type": "display_data"
    }
   ],
   "source": [
    "(df.PRCP/10.0*.0393).plot()  #we are doing the math and plotting at the same time!"
   ]
  },
  {
   "cell_type": "markdown",
   "metadata": {},
   "source": [
    "Again, stop and think about the data?  What are the biggest rainstorms we have gotten?  How does this compare to some hurricanes you hear about on the news?? or some other big storm near you?"
   ]
  },
  {
   "cell_type": "markdown",
   "metadata": {},
   "source": [
    "lets convert to inches so we can save it forever!"
   ]
  },
  {
   "cell_type": "code",
   "execution_count": 10,
   "metadata": {},
   "outputs": [],
   "source": [
    "df.PRCP=(df.PRCP/10.0*.0393)"
   ]
  },
  {
   "cell_type": "markdown",
   "metadata": {},
   "source": [
    "Check and make sure it worked using describe. Does the data make sense? \n",
    "\n",
    "Make sure not to convert twice above.  Everytime you convert is saves it.  Your numbers will keep getting smaller and smaller.....\n",
    "\n",
    "If you convert more than once you have to go up and re-read in the data"
   ]
  },
  {
   "cell_type": "code",
   "execution_count": 11,
   "metadata": {},
   "outputs": [
    {
     "data": {
      "text/plain": [
       "count    50596.000000\n",
       "mean         0.124081\n",
       "std          0.352518\n",
       "min          0.000000\n",
       "25%          0.000000\n",
       "50%          0.000000\n",
       "75%          0.051090\n",
       "max          8.264790\n",
       "Name: PRCP, dtype: float64"
      ]
     },
     "execution_count": 11,
     "metadata": {},
     "output_type": "execute_result"
    }
   ],
   "source": []
  },
  {
   "cell_type": "markdown",
   "metadata": {},
   "source": [
    "can we just get yearly rainfall?  We can resample the data and sum all the rainfall for each year!  Plus look and I am adding a comment to the code below!"
   ]
  },
  {
   "cell_type": "code",
   "execution_count": 12,
   "metadata": {},
   "outputs": [
    {
     "data": {
      "text/plain": [
       "DATE\n",
       "1876-12-31    41.71695\n",
       "1877-12-31    40.14888\n",
       "1878-12-31    48.60231\n",
       "1879-12-31    39.00132\n",
       "1880-12-31    36.59616\n",
       "                ...   \n",
       "2010-12-31    49.30971\n",
       "2011-12-31    72.71679\n",
       "2012-12-31    38.47470\n",
       "2013-12-31    46.26789\n",
       "2014-12-31    43.89417\n",
       "Freq: A-DEC, Name: PRCP, Length: 139, dtype: float64"
      ]
     },
     "execution_count": 12,
     "metadata": {},
     "output_type": "execute_result"
    }
   ],
   "source": [
    "df['PRCP'].resample('A').sum()  #This just gave us yearly rainfall!"
   ]
  },
  {
   "cell_type": "markdown",
   "metadata": {},
   "source": [
    "Now we could plot the yearly data!"
   ]
  },
  {
   "cell_type": "code",
   "execution_count": 13,
   "metadata": {},
   "outputs": [
    {
     "data": {
      "text/plain": [
       "<matplotlib.axes._subplots.AxesSubplot at 0x214ae77c8d0>"
      ]
     },
     "execution_count": 13,
     "metadata": {},
     "output_type": "execute_result"
    },
    {
     "data": {
      "image/png": "[encoded data removed]",
      "text/plain": [
       "<Figure size 432x288 with 1 Axes>"
      ]
     },
     "metadata": {
      "needs_background": "light"
     },
     "output_type": "display_data"
    }
   ],
   "source": [
    "df['PRCP'].resample('A').sum().plot()"
   ]
  },
  {
   "cell_type": "markdown",
   "metadata": {},
   "source": [
    "We could also make it a scatter plot with points and no line.  This is the power of plotting with matplotlib. You can change anything! \n",
    "\n",
    "go to http://matplotlib.org/1.3.1/examples/pylab_examples/filledmarker_demo.html\n",
    "and choose your own color and style.  if you want to turn the line off do linestyle='none'"
   ]
  },
  {
   "cell_type": "code",
   "execution_count": 14,
   "metadata": {},
   "outputs": [
    {
     "data": {
      "text/plain": [
       "<matplotlib.axes._subplots.AxesSubplot at 0x214ae825400>"
      ]
     },
     "execution_count": 14,
     "metadata": {},
     "output_type": "execute_result"
    },
    {
     "data": {
      "image/png": "[encoded data removed]",
      "text/plain": [
       "<Figure size 432x288 with 1 Axes>"
      ]
     },
     "metadata": {
      "needs_background": "light"
     },
     "output_type": "display_data"
    }
   ],
   "source": [
    "df['PRCP'].resample('A').sum().plot(marker='8',color='g',fillstyle='top',linestyle='none')"
   ]
  },
  {
   "cell_type": "markdown",
   "metadata": {},
   "source": [
    "Can you use describe to give statistics on the annual data? How much rain fell on the wettest year?"
   ]
  },
  {
   "cell_type": "code",
   "execution_count": 32,
   "metadata": {},
   "outputs": [
    {
     "data": {
      "text/plain": [
       "count    139.000000\n",
       "mean      45.165483\n",
       "std        8.389918\n",
       "min       26.075550\n",
       "25%       39.144765\n",
       "50%       43.945260\n",
       "75%       48.735930\n",
       "max       80.423520\n",
       "Name: PRCP, dtype: float64"
      ]
     },
     "execution_count": 32,
     "metadata": {},
     "output_type": "execute_result"
    }
   ],
   "source": []
  },
  {
   "cell_type": "markdown",
   "metadata": {},
   "source": [
    "What if we only want to plot some of the data?  Lets plot from 1900 to 1920..."
   ]
  },
  {
   "cell_type": "code",
   "execution_count": 15,
   "metadata": {},
   "outputs": [
    {
     "data": {
      "text/plain": [
       "<matplotlib.axes._subplots.AxesSubplot at 0x214ae4a1940>"
      ]
     },
     "execution_count": 15,
     "metadata": {},
     "output_type": "execute_result"
    },
    {
     "data": {
      "image/png": "[encoded data removed]",
      "text/plain": [
       "<Figure size 432x288 with 1 Axes>"
      ]
     },
     "metadata": {
      "needs_background": "light"
     },
     "output_type": "display_data"
    }
   ],
   "source": [
    "df.PRCP['1900':'1920'].plot()"
   ]
  },
  {
   "cell_type": "markdown",
   "metadata": {},
   "source": [
    "or for just one year\n"
   ]
  },
  {
   "cell_type": "code",
   "execution_count": 16,
   "metadata": {},
   "outputs": [
    {
     "data": {
      "text/plain": [
       "<matplotlib.axes._subplots.AxesSubplot at 0x214aec6f908>"
      ]
     },
     "execution_count": 16,
     "metadata": {},
     "output_type": "execute_result"
    },
    {
     "data": {
      "image/png": "[encoded data removed]",
      "text/plain": [
       "<Figure size 432x288 with 1 Axes>"
      ]
     },
     "metadata": {
      "needs_background": "light"
     },
     "output_type": "display_data"
    }
   ],
   "source": [
    "df.PRCP['1972'].plot()"
   ]
  },
  {
   "cell_type": "markdown",
   "metadata": {},
   "source": [
    "or one month!"
   ]
  },
  {
   "cell_type": "code",
   "execution_count": 17,
   "metadata": {},
   "outputs": [
    {
     "data": {
      "text/plain": [
       "<matplotlib.axes._subplots.AxesSubplot at 0x214b007c9e8>"
      ]
     },
     "execution_count": 17,
     "metadata": {},
     "output_type": "execute_result"
    },
    {
     "data": {
      "image/png": "[encoded data removed]",
      "text/plain": [
       "<Figure size 432x288 with 1 Axes>"
      ]
     },
     "metadata": {
      "needs_background": "light"
     },
     "output_type": "display_data"
    }
   ],
   "source": [
    "df.PRCP['02/01/1972':'03/01/1972'].plot()"
   ]
  },
  {
   "cell_type": "markdown",
   "metadata": {},
   "source": [
    "Can you plot for the month and or year you were born?"
   ]
  },
  {
   "cell_type": "code",
   "execution_count": null,
   "metadata": {},
   "outputs": [],
   "source": []
  },
  {
   "cell_type": "markdown",
   "metadata": {},
   "source": [
    "Now we are going to do some big changes. (I am also showing you here that you can do bullets in the Markdown)\n",
    "### My end point is to look at the monthly data in boxplots. \n",
    "- But to get there we need to resample to monthly. \n",
    "- Then we need to make a new column that lists the months. \n",
    "- Then we can make a boxplot!   \n",
    "\n",
    "So lets start by making a new dataframe which is the data resampled by summing the monthly data. \n",
    "\n"
   ]
  },
  {
   "cell_type": "code",
   "execution_count": 18,
   "metadata": {},
   "outputs": [],
   "source": [
    "df_month=df.resample('M').sum()"
   ]
  },
  {
   "cell_type": "markdown",
   "metadata": {},
   "source": [
    "Now we can describe the data"
   ]
  },
  {
   "cell_type": "code",
   "execution_count": 19,
   "metadata": {},
   "outputs": [
    {
     "data": {
      "text/html": [
       "<div>\n",
       "<style scoped>\n",
       "    .dataframe tbody tr th:only-of-type {\n",
       "        vertical-align: middle;\n",
       "    }\n",
       "\n",
       "    .dataframe tbody tr th {\n",
       "        vertical-align: top;\n",
       "    }\n",
       "\n",
       "    .dataframe thead th {\n",
       "        text-align: right;\n",
       "    }\n",
       "</style>\n",
       "<table border=\"1\" class=\"dataframe\">\n",
       "  <thead>\n",
       "    <tr style=\"text-align: right;\">\n",
       "      <th></th>\n",
       "      <th>PRCP</th>\n",
       "      <th>TOBS</th>\n",
       "    </tr>\n",
       "  </thead>\n",
       "  <tbody>\n",
       "    <tr>\n",
       "      <th>count</th>\n",
       "      <td>1667.000000</td>\n",
       "      <td>1667.000000</td>\n",
       "    </tr>\n",
       "    <tr>\n",
       "      <th>mean</th>\n",
       "      <td>3.766048</td>\n",
       "      <td>1848.871626</td>\n",
       "    </tr>\n",
       "    <tr>\n",
       "      <th>std</th>\n",
       "      <td>2.141284</td>\n",
       "      <td>2683.204705</td>\n",
       "    </tr>\n",
       "    <tr>\n",
       "      <th>min</th>\n",
       "      <td>0.023580</td>\n",
       "      <td>-1886.000000</td>\n",
       "    </tr>\n",
       "    <tr>\n",
       "      <th>25%</th>\n",
       "      <td>2.295120</td>\n",
       "      <td>0.000000</td>\n",
       "    </tr>\n",
       "    <tr>\n",
       "      <th>50%</th>\n",
       "      <td>3.411240</td>\n",
       "      <td>0.000000</td>\n",
       "    </tr>\n",
       "    <tr>\n",
       "      <th>75%</th>\n",
       "      <td>4.782810</td>\n",
       "      <td>3861.500000</td>\n",
       "    </tr>\n",
       "    <tr>\n",
       "      <th>max</th>\n",
       "      <td>18.915090</td>\n",
       "      <td>8259.000000</td>\n",
       "    </tr>\n",
       "  </tbody>\n",
       "</table>\n",
       "</div>"
      ],
      "text/plain": [
       "              PRCP         TOBS\n",
       "count  1667.000000  1667.000000\n",
       "mean      3.766048  1848.871626\n",
       "std       2.141284  2683.204705\n",
       "min       0.023580 -1886.000000\n",
       "25%       2.295120     0.000000\n",
       "50%       3.411240     0.000000\n",
       "75%       4.782810  3861.500000\n",
       "max      18.915090  8259.000000"
      ]
     },
     "execution_count": 19,
     "metadata": {},
     "output_type": "execute_result"
    }
   ],
   "source": [
    "df_month.describe()"
   ]
  },
  {
   "cell_type": "markdown",
   "metadata": {},
   "source": [
    "So things appear to be working.  What does our data look like?"
   ]
  },
  {
   "cell_type": "code",
   "execution_count": 20,
   "metadata": {},
   "outputs": [
    {
     "name": "stdout",
     "output_type": "stream",
     "text": [
      "               PRCP    TOBS\n",
      "DATE                       \n",
      "1876-01-31  0.94320   780.0\n",
      "1876-02-29  4.80246    72.0\n",
      "1876-03-31  8.77569   499.0\n",
      "1876-04-30  3.05754  2578.0\n",
      "1876-05-31  3.02217  4889.0\n",
      "...             ...     ...\n",
      "2014-07-31  5.58060     0.0\n",
      "2014-08-31  2.24796     0.0\n",
      "2014-09-30  1.20651     0.0\n",
      "2014-10-31  5.76531     0.0\n",
      "2014-11-30  0.71919     0.0\n",
      "\n",
      "[1667 rows x 2 columns]\n"
     ]
    }
   ],
   "source": [
    "print (df_month) # a big difference between python 2 and 3 is you need parentheses on the print"
   ]
  },
  {
   "cell_type": "markdown",
   "metadata": {},
   "source": [
    "To make our plotting work we will need a new column that tells us just the month. So we are going to look at the index date and pull out the month and put it into a new column. "
   ]
  },
  {
   "cell_type": "code",
   "execution_count": 21,
   "metadata": {},
   "outputs": [],
   "source": [
    "df_month['month']=df_month.index.month"
   ]
  },
  {
   "cell_type": "markdown",
   "metadata": {},
   "source": [
    "lets just look at 5 rows and see if it worked.  "
   ]
  },
  {
   "cell_type": "code",
   "execution_count": 22,
   "metadata": {},
   "outputs": [
    {
     "data": {
      "text/html": [
       "<div>\n",
       "<style scoped>\n",
       "    .dataframe tbody tr th:only-of-type {\n",
       "        vertical-align: middle;\n",
       "    }\n",
       "\n",
       "    .dataframe tbody tr th {\n",
       "        vertical-align: top;\n",
       "    }\n",
       "\n",
       "    .dataframe thead th {\n",
       "        text-align: right;\n",
       "    }\n",
       "</style>\n",
       "<table border=\"1\" class=\"dataframe\">\n",
       "  <thead>\n",
       "    <tr style=\"text-align: right;\">\n",
       "      <th></th>\n",
       "      <th>PRCP</th>\n",
       "      <th>TOBS</th>\n",
       "      <th>month</th>\n",
       "    </tr>\n",
       "    <tr>\n",
       "      <th>DATE</th>\n",
       "      <th></th>\n",
       "      <th></th>\n",
       "      <th></th>\n",
       "    </tr>\n",
       "  </thead>\n",
       "  <tbody>\n",
       "    <tr>\n",
       "      <th>1876-01-31</th>\n",
       "      <td>0.94320</td>\n",
       "      <td>780.0</td>\n",
       "      <td>1</td>\n",
       "    </tr>\n",
       "    <tr>\n",
       "      <th>1876-02-29</th>\n",
       "      <td>4.80246</td>\n",
       "      <td>72.0</td>\n",
       "      <td>2</td>\n",
       "    </tr>\n",
       "    <tr>\n",
       "      <th>1876-03-31</th>\n",
       "      <td>8.77569</td>\n",
       "      <td>499.0</td>\n",
       "      <td>3</td>\n",
       "    </tr>\n",
       "    <tr>\n",
       "      <th>1876-04-30</th>\n",
       "      <td>3.05754</td>\n",
       "      <td>2578.0</td>\n",
       "      <td>4</td>\n",
       "    </tr>\n",
       "    <tr>\n",
       "      <th>1876-05-31</th>\n",
       "      <td>3.02217</td>\n",
       "      <td>4889.0</td>\n",
       "      <td>5</td>\n",
       "    </tr>\n",
       "  </tbody>\n",
       "</table>\n",
       "</div>"
      ],
      "text/plain": [
       "               PRCP    TOBS  month\n",
       "DATE                              \n",
       "1876-01-31  0.94320   780.0      1\n",
       "1876-02-29  4.80246    72.0      2\n",
       "1876-03-31  8.77569   499.0      3\n",
       "1876-04-30  3.05754  2578.0      4\n",
       "1876-05-31  3.02217  4889.0      5"
      ]
     },
     "execution_count": 22,
     "metadata": {},
     "output_type": "execute_result"
    }
   ],
   "source": [
    "df_month.head()  #head just gives you the first 5"
   ]
  },
  {
   "cell_type": "markdown",
   "metadata": {},
   "source": [
    "Now lets make our boxplot!  you can google pandas boxplot to see how.  http://pandas.pydata.org/pandas-docs/stable/visualization.html  \n",
    "\n",
    "\n",
    "### Foreshadowing.  I am going to ask you to use this by notation in a future class!  \n",
    "this is a big hint.  remember column and by.  I AM GOING TO ASK THIS AGAIN!\n",
    "\n",
    "Also, to make it look fancy I am showing the mean values and making it have a notch.  You can make both options False or just delete them.  They are extra arguments in the function."
   ]
  },
  {
   "cell_type": "code",
   "execution_count": 23,
   "metadata": {},
   "outputs": [
    {
     "data": {
      "text/plain": [
       "<matplotlib.axes._subplots.AxesSubplot at 0x214b0114908>"
      ]
     },
     "execution_count": 23,
     "metadata": {},
     "output_type": "execute_result"
    },
    {
     "data": {
      "image/png": "[encoded data removed]",
      "text/plain": [
       "<Figure size 432x288 with 1 Axes>"
      ]
     },
     "metadata": {
      "needs_background": "light"
     },
     "output_type": "display_data"
    }
   ],
   "source": [
    "df_month.boxplot(column=['PRCP'],by='month',showmeans=True,notch=True)"
   ]
  },
  {
   "cell_type": "markdown",
   "metadata": {},
   "source": [
    "the great thing about python is you can make a professional looking graph and save it and have it ready to use.  So lets do it.\n",
    "*  First we turn on fancy graphs.  We do fig,ax=plt.subplots()  this lets us control all parts of the graph in terms of the axes and the overall figure.  \n",
    "*  First we remove the title and suptitle by making them nothing.  ax.set_title('')   fig.suptitle('')   You could add titles if you wanted.\n",
    "*  We label our y-axis.  Always label axes. ax.set_ylabel('Precipitation (inches)')\n",
    "*  We make the x-axis nicer.\n",
    "*  We make the label fonts bigger\n",
    "*  We save the file.  I added some keywords to make the file nice.  the dpi is dots per inch so it has better resolution and the bbox makes sure nothing is cut off. \n",
    "*  You can decide if you want to turn off gridlines.  add grid=False\n",
    "*  for a hard one we could add month of year instead of 1-12.  I used ax.set_xticklabels(['Jan','Feb','Mar','Apr','May','Jun','Jul','Aug','Sep','Oct','Nov','Dec'])\n",
    "\n",
    "I think that is a sharp graph!  You should be able to find it on your computer and mail it to yourself."
   ]
  },
  {
   "cell_type": "code",
   "execution_count": 24,
   "metadata": {},
   "outputs": [
    {
     "data": {
      "image/png": "[encoded data removed]",
      "text/plain": [
       "<Figure size 432x288 with 1 Axes>"
      ]
     },
     "metadata": {
      "needs_background": "light"
     },
     "output_type": "display_data"
    }
   ],
   "source": [
    "fig,ax=plt.subplots()\n",
    "df_month.boxplot(column=['PRCP'],by='month',showmeans=True,notch=True,ax=ax,grid=False)\n",
    "ax.set_title('')\n",
    "fig.suptitle('')\n",
    "ax.set_ylabel('Precipitation (inches)',fontsize=14)\n",
    "ax.set_xlabel('Month of Year',fontsize=14)\n",
    "ax.set_xticklabels(['Jan','Feb','Mar','Apr','May','Jun','Jul','Aug','Sep','Oct','Nov','Dec'])\n",
    "fig.savefig('Central-Park-Monthly-Precip.jpg',dpi=600,bbox_inches='tight')"
   ]
  },
  {
   "cell_type": "markdown",
   "metadata": {},
   "source": [
    "I talk about making figure captions in the homework.  So lets make one here. Here is the definition of a [boxplot](https://pandas.pydata.org/pandas-docs/stable/reference/api/pandas.DataFrame.boxplot.html#:~:text=A%20box%20plot%20is%20a,the%20range%20of%20the%20data)\n",
    "\n",
    "Figure 1.  Boxplot of monthly precipitation Central Park, New York City from 1876 to 2015.  The indent is the mediat, the triangle is the mean, the box goes from Q1 to Q3 with the whiskers showing the range of the data and circles are outliers larger than 1.5 times the interquartile range.\n"
   ]
  },
  {
   "cell_type": "markdown",
   "metadata": {},
   "source": [
    "We will also need to learn about how to talk about results.  We can see from the figure that precipitation does not systematically vary by month in Central Park and that the mean monthly precipitation is fairly uniform.  "
   ]
  },
  {
   "cell_type": "markdown",
   "metadata": {},
   "source": [
    "to get the monthly data we can groupby month and the describe the data.  or just look at the mean. We will also only look at prcp.  As you can see rain is pretty uniform by month in NYC!"
   ]
  },
  {
   "cell_type": "code",
   "execution_count": 25,
   "metadata": {},
   "outputs": [
    {
     "data": {
      "text/plain": [
       "month\n",
       "1     3.463263\n",
       "2     3.334789\n",
       "3     3.995651\n",
       "4     3.697536\n",
       "5     3.755582\n",
       "6     3.674013\n",
       "7     4.253052\n",
       "8     4.348163\n",
       "9     3.870993\n",
       "10    3.646531\n",
       "11    3.527670\n",
       "12    3.624314\n",
       "Name: PRCP, dtype: float64"
      ]
     },
     "execution_count": 25,
     "metadata": {},
     "output_type": "execute_result"
    }
   ],
   "source": [
    "df_month.groupby('month').PRCP.mean()\n"
   ]
  },
  {
   "cell_type": "markdown",
   "metadata": {},
   "source": [
    "I hope you got some of these to work and are excited about what we can do.  You just analyzed 50,000 precipitation data points on your first day!  We are ready to begin learning data analysis and Python! But for next class we have to go back to the basics!"
   ]
  },
  {
   "cell_type": "code",
   "execution_count": null,
   "metadata": {
    "collapsed": true
   },
   "outputs": [],
   "source": []
  }
 ],
 "metadata": {
  "kernelspec": {
   "display_name": "Python 3",
   "language": "python",
   "name": "python3"
  },
  "language_info": {
   "codemirror_mode": {
    "name": "ipython",
    "version": 3
   },
   "file_extension": ".py",
   "mimetype": "text/x-python",
   "name": "python",
   "nbconvert_exporter": "python",
   "pygments_lexer": "ipython3",
   "version": "3.6.6"
  }
 },
 "nbformat": 4,
 "nbformat_minor": 1
}
