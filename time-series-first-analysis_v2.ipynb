{
 "cells": [
  {
   "cell_type": "markdown",
   "metadata": {},
   "source": [
    "# Welcome to Big Data!!!"
   ]
  },
  {
   "cell_type": "markdown",
   "metadata": {},
   "source": [
    "## Today we are going to analyze Rainfall data from central Park to get you started"
   ]
  },
  {
   "cell_type": "markdown",
   "metadata": {},
   "source": [
    "### We are going to do this all in iPython.  This will take some getting used to. You actually do your programming in a window in a web browser or in a program.  But we will teach you all you need to do.  Make sure to type everything you see correctly. All syntax matters including capital letters and punctuation. "
   ]
  },
  {
   "cell_type": "markdown",
   "metadata": {},
   "source": [
    "Ok, Lets get you started.  But make sure you read the syllabus and get a binder to keep the handouts.  You need to do the code.org for next class!"
   ]
  },
  {
   "cell_type": "markdown",
   "metadata": {},
   "source": [
    "We are going to use [Anaconda python](http://continuum.io/).    We might also use [Enthought Canopy](https://www.enthought.com/products/canopy/). they are both good.  "
   ]
  },
  {
   "cell_type": "markdown",
   "metadata": {},
   "source": [
    "Look on the course site for directions to open Anaconda and then you can move around directories.  Remember nothing gets saved on these computers. so whatever you save each day you need to email to yourself or save some home"
   ]
  },
  {
   "cell_type": "markdown",
   "metadata": {},
   "source": [
    "Now we are in iPython!!!! "
   ]
  },
  {
   "cell_type": "markdown",
   "metadata": {},
   "source": [
    "You see that I am using Markdown to add these notes. You make markdown by choosing Markdown above you can change from code to Markdown.  Notes are essential to understanding everything.  Please make a new cell and add some notes!  We will do more of this later.  If you downloard the notebook from Courseworks under syllabus you can double click on the notes and see how I added links!  I will show you how to add equations and images later!  "
   ]
  },
  {
   "cell_type": "markdown",
   "metadata": {},
   "source": [
    "But we wanted to analyze precipitation data from Central Park. What questions could we ask and answer?  I have downloaded the data from 1876 onward!  I want to know the was precipiation in the month I was born?  I want to know the annual average precipiation in Central Park and I also want to know what monthly Precipitation looks like.   Lets see if we can figure that out today.  We are going to dive in really deep the first class and show you the power of programming.  Then over the course of the semester I will teach you how to do this on your own.  So enjoy the first analysis, see what we can do and then work on learning it yourself during the semester."
   ]
  },
  {
   "cell_type": "markdown",
   "metadata": {},
   "source": [
    "The first thing we will do is import tha python libraries that we will use.  When programming you don't use the whole Python programming language.  You have a basic part of Python that is always turned-on but also you import or turn on the parts of the language that you will use for your analysis.  You will learn about different libraries as the semester progresses.  \n",
    "\n",
    "Type in what you see below.  Then to execute the code hit shift-enter.  The little circle will fill in on the top right as the computer computes code.  "
   ]
  },
  {
   "cell_type": "code",
   "execution_count": 1,
   "metadata": {
    "collapsed": false
   },
   "outputs": [],
   "source": [
    "%matplotlib inline\n",
    "import pandas as pd\n",
    "import numpy as np\n",
    "import matplotlib # for plot data\n",
    "import matplotlib.pylab as plt\n"
   ]
  },
  {
   "cell_type": "markdown",
   "metadata": {
    "collapsed": false
   },
   "source": [
    "Now we need to get our data.  I will use github a lot this semester. It is a website that allows you to update and share code and to keep track of it.  It is like Dropbox on steroids.  The information for this class is at this webside. \n",
    "\n",
    "https://github.com/bmaillou/BigDataPython\n",
    "\n",
    "follow the link to central park csv file. Then click on it and look at the raw data.  csv files are a great way of getting data. csv means commas seperated variables.  It is just a text file with data seperated by commas.  now copy the link so we can add it below.  The link goes to the url. Then we are using the pandas reader to get the data.  We are then indexing by Date to organize."
   ]
  },
  {
   "cell_type": "code",
   "execution_count": 2,
   "metadata": {
    "collapsed": false
   },
   "outputs": [],
   "source": [
    "url='https://raw.githubusercontent.com/bmaillou/BigDataPython/master/central_park.csv'\n",
    "\n",
    "data1 = pd.read_csv(url,index_col='DATE',parse_dates=['DATE']) #This is central park data"
   ]
  },
  {
   "cell_type": "markdown",
   "metadata": {},
   "source": [
    "Now the data is in the computer as Data1.  You could just type Data1 to see it. I typed data1.head() to see the first 5 rows."
   ]
  },
  {
   "cell_type": "code",
   "execution_count": 3,
   "metadata": {
    "collapsed": false
   },
   "outputs": [
    {
     "data": {
      "text/html": [
       "<div>\n",
       "<table border=\"1\" class=\"dataframe\">\n",
       "  <thead>\n",
       "    <tr style=\"text-align: right;\">\n",
       "      <th></th>\n",
       "      <th>STATION</th>\n",
       "      <th>STATION_NAME</th>\n",
       "      <th>PRCP</th>\n",
       "      <th>TOBS</th>\n",
       "    </tr>\n",
       "    <tr>\n",
       "      <th>DATE</th>\n",
       "      <th></th>\n",
       "      <th></th>\n",
       "      <th></th>\n",
       "      <th></th>\n",
       "    </tr>\n",
       "  </thead>\n",
       "  <tbody>\n",
       "    <tr>\n",
       "      <th>1876-01-01 00:00:00</th>\n",
       "      <td>GHCND:USW00094728</td>\n",
       "      <td>NEW YORK CENTRAL PARK OBS BELVEDERE TOWER NY US</td>\n",
       "      <td>0</td>\n",
       "      <td>106</td>\n",
       "    </tr>\n",
       "    <tr>\n",
       "      <th>1876-01-02 00:00:00</th>\n",
       "      <td>GHCND:USW00094728</td>\n",
       "      <td>NEW YORK CENTRAL PARK OBS BELVEDERE TOWER NY US</td>\n",
       "      <td>18</td>\n",
       "      <td>139</td>\n",
       "    </tr>\n",
       "    <tr>\n",
       "      <th>1876-01-03 00:00:00</th>\n",
       "      <td>GHCND:USW00094728</td>\n",
       "      <td>NEW YORK CENTRAL PARK OBS BELVEDERE TOWER NY US</td>\n",
       "      <td>0</td>\n",
       "      <td>100</td>\n",
       "    </tr>\n",
       "    <tr>\n",
       "      <th>1876-01-04 00:00:00</th>\n",
       "      <td>GHCND:USW00094728</td>\n",
       "      <td>NEW YORK CENTRAL PARK OBS BELVEDERE TOWER NY US</td>\n",
       "      <td>0</td>\n",
       "      <td>6</td>\n",
       "    </tr>\n",
       "    <tr>\n",
       "      <th>1876-01-05 00:00:00</th>\n",
       "      <td>GHCND:USW00094728</td>\n",
       "      <td>NEW YORK CENTRAL PARK OBS BELVEDERE TOWER NY US</td>\n",
       "      <td>0</td>\n",
       "      <td>6</td>\n",
       "    </tr>\n",
       "  </tbody>\n",
       "</table>\n",
       "</div>"
      ],
      "text/plain": [
       "                               STATION  \\\n",
       "DATE                                     \n",
       "1876-01-01 00:00:00  GHCND:USW00094728   \n",
       "1876-01-02 00:00:00  GHCND:USW00094728   \n",
       "1876-01-03 00:00:00  GHCND:USW00094728   \n",
       "1876-01-04 00:00:00  GHCND:USW00094728   \n",
       "1876-01-05 00:00:00  GHCND:USW00094728   \n",
       "\n",
       "                                                        STATION_NAME  PRCP  \\\n",
       "DATE                                                                         \n",
       "1876-01-01 00:00:00  NEW YORK CENTRAL PARK OBS BELVEDERE TOWER NY US     0   \n",
       "1876-01-02 00:00:00  NEW YORK CENTRAL PARK OBS BELVEDERE TOWER NY US    18   \n",
       "1876-01-03 00:00:00  NEW YORK CENTRAL PARK OBS BELVEDERE TOWER NY US     0   \n",
       "1876-01-04 00:00:00  NEW YORK CENTRAL PARK OBS BELVEDERE TOWER NY US     0   \n",
       "1876-01-05 00:00:00  NEW YORK CENTRAL PARK OBS BELVEDERE TOWER NY US     0   \n",
       "\n",
       "                     TOBS  \n",
       "DATE                       \n",
       "1876-01-01 00:00:00   106  \n",
       "1876-01-02 00:00:00   139  \n",
       "1876-01-03 00:00:00   100  \n",
       "1876-01-04 00:00:00     6  \n",
       "1876-01-05 00:00:00     6  "
      ]
     },
     "execution_count": 3,
     "metadata": {},
     "output_type": "execute_result"
    }
   ],
   "source": [
    "data1.head()"
   ]
  },
  {
   "cell_type": "markdown",
   "metadata": {},
   "source": [
    "You can do a lot with the data.  For some quick ideas type data1. with the period and hit tab. The list of functions comes up."
   ]
  },
  {
   "cell_type": "code",
   "execution_count": null,
   "metadata": {
    "collapsed": true
   },
   "outputs": [],
   "source": []
  },
  {
   "cell_type": "markdown",
   "metadata": {},
   "source": [
    "But lets make a quick and dirty plot.  To plot all the data you type data1.plot() and then to show the plot you type plt.show()"
   ]
  },
  {
   "cell_type": "code",
   "execution_count": 4,
   "metadata": {
    "collapsed": false
   },
   "outputs": [
    {
     "data": {
      "image/png": "[encoded data removed]",
      "text/plain": [
       "<matplotlib.figure.Figure at 0x1070080d0>"
      ]
     },
     "metadata": {},
     "output_type": "display_data"
    }
   ],
   "source": [
    "data1.plot()\n",
    "plt.show()"
   ]
  },
  {
   "cell_type": "markdown",
   "metadata": {},
   "source": [
    "I want to know what type of data I have.  So i need to check the data type,  show how to type data1.  Hit tab and then see what we can do.  "
   ]
  },
  {
   "cell_type": "code",
   "execution_count": 5,
   "metadata": {
    "collapsed": false
   },
   "outputs": [
    {
     "data": {
      "text/plain": [
       "STATION          object\n",
       "STATION_NAME     object\n",
       "PRCP            float64\n",
       "TOBS            float64\n",
       "dtype: object"
      ]
     },
     "execution_count": 5,
     "metadata": {},
     "output_type": "execute_result"
    }
   ],
   "source": [
    "data1.dtypes"
   ]
  },
  {
   "cell_type": "markdown",
   "metadata": {},
   "source": [
    "We are only interested in precipitation today.  So lets just plot it. We can subchoose just that column.  "
   ]
  },
  {
   "cell_type": "code",
   "execution_count": 6,
   "metadata": {
    "collapsed": false
   },
   "outputs": [
    {
     "data": {
      "text/plain": [
       "<matplotlib.axes._subplots.AxesSubplot at 0x107008210>"
      ]
     },
     "execution_count": 6,
     "metadata": {},
     "output_type": "execute_result"
    },
    {
     "data": {
      "image/png": "[encoded data removed]",
      "text/plain": [
       "<matplotlib.figure.Figure at 0x107008290>"
      ]
     },
     "metadata": {},
     "output_type": "display_data"
    }
   ],
   "source": [
    "data1['PRCP'].plot()"
   ]
  },
  {
   "cell_type": "markdown",
   "metadata": {},
   "source": [
    "We can use describe to look at the description of the data."
   ]
  },
  {
   "cell_type": "code",
   "execution_count": 7,
   "metadata": {
    "collapsed": false
   },
   "outputs": [
    {
     "data": {
      "text/html": [
       "<div>\n",
       "<table border=\"1\" class=\"dataframe\">\n",
       "  <thead>\n",
       "    <tr style=\"text-align: right;\">\n",
       "      <th></th>\n",
       "      <th>PRCP</th>\n",
       "      <th>TOBS</th>\n",
       "    </tr>\n",
       "  </thead>\n",
       "  <tbody>\n",
       "    <tr>\n",
       "      <th>count</th>\n",
       "      <td>50596.000000</td>\n",
       "      <td>25882.000000</td>\n",
       "    </tr>\n",
       "    <tr>\n",
       "      <th>mean</th>\n",
       "      <td>31.572773</td>\n",
       "      <td>119.081562</td>\n",
       "    </tr>\n",
       "    <tr>\n",
       "      <th>std</th>\n",
       "      <td>89.699235</td>\n",
       "      <td>98.968277</td>\n",
       "    </tr>\n",
       "    <tr>\n",
       "      <th>min</th>\n",
       "      <td>0.000000</td>\n",
       "      <td>-211.000000</td>\n",
       "    </tr>\n",
       "    <tr>\n",
       "      <th>25%</th>\n",
       "      <td>0.000000</td>\n",
       "      <td>39.000000</td>\n",
       "    </tr>\n",
       "    <tr>\n",
       "      <th>50%</th>\n",
       "      <td>0.000000</td>\n",
       "      <td>122.000000</td>\n",
       "    </tr>\n",
       "    <tr>\n",
       "      <th>75%</th>\n",
       "      <td>13.000000</td>\n",
       "      <td>206.000000</td>\n",
       "    </tr>\n",
       "    <tr>\n",
       "      <th>max</th>\n",
       "      <td>2103.000000</td>\n",
       "      <td>339.000000</td>\n",
       "    </tr>\n",
       "  </tbody>\n",
       "</table>\n",
       "</div>"
      ],
      "text/plain": [
       "               PRCP          TOBS\n",
       "count  50596.000000  25882.000000\n",
       "mean      31.572773    119.081562\n",
       "std       89.699235     98.968277\n",
       "min        0.000000   -211.000000\n",
       "25%        0.000000     39.000000\n",
       "50%        0.000000    122.000000\n",
       "75%       13.000000    206.000000\n",
       "max     2103.000000    339.000000"
      ]
     },
     "execution_count": 7,
     "metadata": {},
     "output_type": "execute_result"
    }
   ],
   "source": [
    "data1.describe()"
   ]
  },
  {
   "cell_type": "markdown",
   "metadata": {},
   "source": [
    "Can you just show the describe for Precitation?"
   ]
  },
  {
   "cell_type": "code",
   "execution_count": 25,
   "metadata": {
    "collapsed": false
   },
   "outputs": [
    {
     "data": {
      "text/plain": [
       "count    50596.000000\n",
       "mean        31.572773\n",
       "std         89.699235\n",
       "min          0.000000\n",
       "25%          0.000000\n",
       "50%          0.000000\n",
       "75%         13.000000\n",
       "max       2103.000000\n",
       "Name: PRCP, dtype: float64"
      ]
     },
     "execution_count": 25,
     "metadata": {},
     "output_type": "execute_result"
    }
   ],
   "source": []
  },
  {
   "cell_type": "markdown",
   "metadata": {},
   "source": [
    "what are the units?  \n",
    "we can plot in inches\n",
    "I looked it up and the data is in  10 mm.  \n",
    "1mm =.0393 inches\n",
    "\n",
    "Plus I am changing how I call the PRCP column. I am using the . notation.  "
   ]
  },
  {
   "cell_type": "code",
   "execution_count": 8,
   "metadata": {
    "collapsed": false
   },
   "outputs": [
    {
     "data": {
      "text/plain": [
       "<matplotlib.axes._subplots.AxesSubplot at 0x11d0944d0>"
      ]
     },
     "execution_count": 8,
     "metadata": {},
     "output_type": "execute_result"
    },
    {
     "data": {
      "image/png": "[encoded data removed]",
      "text/plain": [
       "<matplotlib.figure.Figure at 0x11d094c90>"
      ]
     },
     "metadata": {},
     "output_type": "display_data"
    }
   ],
   "source": [
    "(data1.PRCP/10.0*.0393).plot()  #we are doing the math and plotting at the same time!"
   ]
  },
  {
   "cell_type": "markdown",
   "metadata": {},
   "source": [
    "lets convert to inches so we can save it forever!"
   ]
  },
  {
   "cell_type": "code",
   "execution_count": 9,
   "metadata": {
    "collapsed": false
   },
   "outputs": [],
   "source": [
    "data1.PRCP=(data1.PRCP/10.0*.0393)"
   ]
  },
  {
   "cell_type": "markdown",
   "metadata": {},
   "source": [
    "Check and make sure it worked using describe. Does the data make sense? "
   ]
  },
  {
   "cell_type": "code",
   "execution_count": 28,
   "metadata": {
    "collapsed": false
   },
   "outputs": [
    {
     "data": {
      "text/plain": [
       "count    50596.000000\n",
       "mean         0.124081\n",
       "std          0.352518\n",
       "min          0.000000\n",
       "25%          0.000000\n",
       "50%          0.000000\n",
       "75%          0.051090\n",
       "max          8.264790\n",
       "Name: PRCP, dtype: float64"
      ]
     },
     "execution_count": 28,
     "metadata": {},
     "output_type": "execute_result"
    }
   ],
   "source": []
  },
  {
   "cell_type": "markdown",
   "metadata": {},
   "source": [
    "can we just get yearly rainfall?  We can resample the data and sum all the rainfall for each year! "
   ]
  },
  {
   "cell_type": "code",
   "execution_count": 10,
   "metadata": {
    "collapsed": false
   },
   "outputs": [
    {
     "data": {
      "text/plain": [
       "DATE\n",
       "1876-12-31 00:00:00    41.71695\n",
       "1877-12-31 00:00:00    40.14888\n",
       "1878-12-31 00:00:00    48.60231\n",
       "1879-12-31 00:00:00    39.00132\n",
       "1880-12-31 00:00:00    36.59616\n",
       "1881-12-31 00:00:00    35.53506\n",
       "1882-12-31 00:00:00    45.24216\n",
       "1883-12-31 00:00:00    35.73156\n",
       "1884-12-31 00:00:00    51.98211\n",
       "1885-12-31 00:00:00    35.35428\n",
       "1886-12-31 00:00:00    39.32751\n",
       "1887-12-31 00:00:00    43.94526\n",
       "1888-12-31 00:00:00    53.23971\n",
       "1889-12-31 00:00:00    58.10112\n",
       "1890-12-31 00:00:00    45.59586\n",
       "1891-12-31 00:00:00    39.50043\n",
       "1892-12-31 00:00:00    35.39358\n",
       "1893-12-31 00:00:00    48.18966\n",
       "1894-12-31 00:00:00    40.37682\n",
       "1895-12-31 00:00:00    35.32677\n",
       "1896-12-31 00:00:00    41.90952\n",
       "1897-12-31 00:00:00    44.47581\n",
       "1898-12-31 00:00:00    47.85954\n",
       "1899-12-31 00:00:00    38.52972\n",
       "1900-12-31             41.13924\n",
       "1901-12-31             47.85954\n",
       "1902-12-31             52.69344\n",
       "1903-12-31             57.96357\n",
       "1904-12-31             41.58726\n",
       "1905-12-31             37.40574\n",
       "                         ...   \n",
       "1985-12-31             38.77338\n",
       "1986-12-31             42.91167\n",
       "1987-12-31             46.37793\n",
       "1988-12-31             44.62122\n",
       "1989-12-31             65.00613\n",
       "1990-12-31             60.82854\n",
       "1991-12-31             45.11247\n",
       "1992-12-31             43.28895\n",
       "1993-12-31             44.20857\n",
       "1994-12-31             47.30541\n",
       "1995-12-31             40.36503\n",
       "1996-12-31             56.12433\n",
       "1997-12-31             43.91382\n",
       "1998-12-31             48.62982\n",
       "1999-12-31             41.46150\n",
       "2000-12-31             45.38757\n",
       "2001-12-31             35.60187\n",
       "2002-12-31             45.16749\n",
       "2003-12-31             58.34871\n",
       "2004-12-31             51.84456\n",
       "2005-12-31             55.88853\n",
       "2006-12-31             59.79495\n",
       "2007-12-31             61.61847\n",
       "2008-12-31             53.54232\n",
       "2009-12-31             53.54232\n",
       "2010-12-31             49.30971\n",
       "2011-12-31             72.71679\n",
       "2012-12-31             38.47470\n",
       "2013-12-31             46.26789\n",
       "2014-12-31             43.89417\n",
       "Freq: A-DEC, Name: PRCP, dtype: float64"
      ]
     },
     "execution_count": 10,
     "metadata": {},
     "output_type": "execute_result"
    }
   ],
   "source": [
    "data1['PRCP'].resample('A',how='sum')  #This just gave us yearly rainfall!"
   ]
  },
  {
   "cell_type": "markdown",
   "metadata": {
    "collapsed": false
   },
   "source": [
    "Now we could plot the yearly data!"
   ]
  },
  {
   "cell_type": "code",
   "execution_count": 11,
   "metadata": {
    "collapsed": false
   },
   "outputs": [
    {
     "data": {
      "text/plain": [
       "<matplotlib.axes._subplots.AxesSubplot at 0x117d29590>"
      ]
     },
     "execution_count": 11,
     "metadata": {},
     "output_type": "execute_result"
    },
    {
     "data": {
      "image/png": "[encoded data removed]",
      "text/plain": [
       "<matplotlib.figure.Figure at 0x107008310>"
      ]
     },
     "metadata": {},
     "output_type": "display_data"
    }
   ],
   "source": [
    "data1['PRCP'].resample('A',how='sum').plot()"
   ]
  },
  {
   "cell_type": "markdown",
   "metadata": {},
   "source": [
    "We could also make it a scatter plot with points and no line.  This is the power of plotting with matplotlib. You can change anything! \n",
    "\n",
    "go to http://matplotlib.org/1.3.1/examples/pylab_examples/filledmarker_demo.html\n",
    "and choose your own color and style.  if you want to turn the line off do linestyle='none'"
   ]
  },
  {
   "cell_type": "code",
   "execution_count": 12,
   "metadata": {
    "collapsed": false
   },
   "outputs": [
    {
     "data": {
      "text/plain": [
       "<matplotlib.axes._subplots.AxesSubplot at 0x117d29450>"
      ]
     },
     "execution_count": 12,
     "metadata": {},
     "output_type": "execute_result"
    },
    {
     "data": {
      "image/png": "[encoded data removed]",
      "text/plain": [
       "<matplotlib.figure.Figure at 0x1191b1750>"
      ]
     },
     "metadata": {},
     "output_type": "display_data"
    }
   ],
   "source": [
    "data1['PRCP'].resample('A',how='sum').plot(marker='8',color='g',linestyle='none')"
   ]
  },
  {
   "cell_type": "markdown",
   "metadata": {},
   "source": [
    "Can you use describe to give statistics on the annual data? How much rain fell on the wettest year?"
   ]
  },
  {
   "cell_type": "code",
   "execution_count": 32,
   "metadata": {
    "collapsed": false
   },
   "outputs": [
    {
     "data": {
      "text/plain": [
       "count    139.000000\n",
       "mean      45.165483\n",
       "std        8.389918\n",
       "min       26.075550\n",
       "25%       39.144765\n",
       "50%       43.945260\n",
       "75%       48.735930\n",
       "max       80.423520\n",
       "Name: PRCP, dtype: float64"
      ]
     },
     "execution_count": 32,
     "metadata": {},
     "output_type": "execute_result"
    }
   ],
   "source": []
  },
  {
   "cell_type": "markdown",
   "metadata": {},
   "source": [
    "What if we only want to plot some of the data?  Lets plot from 1900 to 1920..."
   ]
  },
  {
   "cell_type": "code",
   "execution_count": 13,
   "metadata": {
    "collapsed": false
   },
   "outputs": [
    {
     "data": {
      "text/plain": [
       "<matplotlib.axes._subplots.AxesSubplot at 0x1187ec450>"
      ]
     },
     "execution_count": 13,
     "metadata": {},
     "output_type": "execute_result"
    },
    {
     "data": {
      "image/png": "[encoded data removed]",
      "text/plain": [
       "<matplotlib.figure.Figure at 0x1187ec550>"
      ]
     },
     "metadata": {},
     "output_type": "display_data"
    }
   ],
   "source": [
    "data1.PRCP['1900':'1920'].plot()"
   ]
  },
  {
   "cell_type": "markdown",
   "metadata": {
    "collapsed": false
   },
   "source": [
    "or for just one year\n"
   ]
  },
  {
   "cell_type": "code",
   "execution_count": 14,
   "metadata": {
    "collapsed": false
   },
   "outputs": [
    {
     "data": {
      "text/plain": [
       "<matplotlib.axes._subplots.AxesSubplot at 0x1151c3f90>"
      ]
     },
     "execution_count": 14,
     "metadata": {},
     "output_type": "execute_result"
    },
    {
     "data": {
      "image/png": "[encoded data removed]",
      "text/plain": [
       "<matplotlib.figure.Figure at 0x11d094b90>"
      ]
     },
     "metadata": {},
     "output_type": "display_data"
    }
   ],
   "source": [
    "data1.PRCP['1972'].plot()"
   ]
  },
  {
   "cell_type": "markdown",
   "metadata": {},
   "source": [
    "or one month!"
   ]
  },
  {
   "cell_type": "code",
   "execution_count": 15,
   "metadata": {
    "collapsed": false
   },
   "outputs": [
    {
     "data": {
      "text/plain": [
       "<matplotlib.axes._subplots.AxesSubplot at 0x1189adbd0>"
      ]
     },
     "execution_count": 15,
     "metadata": {},
     "output_type": "execute_result"
    },
    {
     "data": {
      "image/png": "[encoded data removed]",
      "text/plain": [
       "<matplotlib.figure.Figure at 0x1189adb90>"
      ]
     },
     "metadata": {},
     "output_type": "display_data"
    }
   ],
   "source": [
    "data1.PRCP['02/01/1972':'03/01/1972'].plot()"
   ]
  },
  {
   "cell_type": "markdown",
   "metadata": {},
   "source": [
    "Can you plot for the month and or year you were born?"
   ]
  },
  {
   "cell_type": "code",
   "execution_count": null,
   "metadata": {
    "collapsed": true
   },
   "outputs": [],
   "source": []
  },
  {
   "cell_type": "markdown",
   "metadata": {},
   "source": [
    "Now we are going to do some big changes. (I am also showing you here that you can do bullets in the Markdown)\n",
    "### My end point is to look at the monthly data in boxplots. \n",
    "- But to get there we need to resample to monthly. \n",
    "- Then we need to make a new column that lists the months. \n",
    "- Then we can make a boxplot!   \n",
    "\n",
    "So lets start by making a new dataframe which is the data resampled by summing the monthly data. \n",
    "\n"
   ]
  },
  {
   "cell_type": "code",
   "execution_count": 16,
   "metadata": {
    "collapsed": false
   },
   "outputs": [],
   "source": [
    "data_month=data1.resample('M',how='sum')"
   ]
  },
  {
   "cell_type": "markdown",
   "metadata": {
    "collapsed": false
   },
   "source": [
    "Now we can describe the data"
   ]
  },
  {
   "cell_type": "code",
   "execution_count": 17,
   "metadata": {
    "collapsed": false
   },
   "outputs": [
    {
     "data": {
      "text/html": [
       "<div>\n",
       "<table border=\"1\" class=\"dataframe\">\n",
       "  <thead>\n",
       "    <tr style=\"text-align: right;\">\n",
       "      <th></th>\n",
       "      <th>PRCP</th>\n",
       "      <th>TOBS</th>\n",
       "    </tr>\n",
       "  </thead>\n",
       "  <tbody>\n",
       "    <tr>\n",
       "      <th>count</th>\n",
       "      <td>1667.000000</td>\n",
       "      <td>852.000000</td>\n",
       "    </tr>\n",
       "    <tr>\n",
       "      <th>mean</th>\n",
       "      <td>3.766048</td>\n",
       "      <td>3617.451878</td>\n",
       "    </tr>\n",
       "    <tr>\n",
       "      <th>std</th>\n",
       "      <td>2.141284</td>\n",
       "      <td>2772.965507</td>\n",
       "    </tr>\n",
       "    <tr>\n",
       "      <th>min</th>\n",
       "      <td>0.023580</td>\n",
       "      <td>-1886.000000</td>\n",
       "    </tr>\n",
       "    <tr>\n",
       "      <th>25%</th>\n",
       "      <td>2.295120</td>\n",
       "      <td>986.500000</td>\n",
       "    </tr>\n",
       "    <tr>\n",
       "      <th>50%</th>\n",
       "      <td>3.411240</td>\n",
       "      <td>3652.000000</td>\n",
       "    </tr>\n",
       "    <tr>\n",
       "      <th>75%</th>\n",
       "      <td>4.782810</td>\n",
       "      <td>6263.000000</td>\n",
       "    </tr>\n",
       "    <tr>\n",
       "      <th>max</th>\n",
       "      <td>18.915090</td>\n",
       "      <td>8259.000000</td>\n",
       "    </tr>\n",
       "  </tbody>\n",
       "</table>\n",
       "</div>"
      ],
      "text/plain": [
       "              PRCP         TOBS\n",
       "count  1667.000000   852.000000\n",
       "mean      3.766048  3617.451878\n",
       "std       2.141284  2772.965507\n",
       "min       0.023580 -1886.000000\n",
       "25%       2.295120   986.500000\n",
       "50%       3.411240  3652.000000\n",
       "75%       4.782810  6263.000000\n",
       "max      18.915090  8259.000000"
      ]
     },
     "execution_count": 17,
     "metadata": {},
     "output_type": "execute_result"
    }
   ],
   "source": [
    "data_month.describe()"
   ]
  },
  {
   "cell_type": "markdown",
   "metadata": {},
   "source": [
    "So things appear to be working.  What does our data look like?"
   ]
  },
  {
   "cell_type": "code",
   "execution_count": 18,
   "metadata": {
    "collapsed": false
   },
   "outputs": [
    {
     "name": "stdout",
     "output_type": "stream",
     "text": [
      "                         PRCP  TOBS\n",
      "DATE                               \n",
      "1876-01-31 00:00:00   0.94320   780\n",
      "1876-02-29 00:00:00   4.80246    72\n",
      "1876-03-31 00:00:00   8.77569   499\n",
      "1876-04-30 00:00:00   3.05754  2578\n",
      "1876-05-31 00:00:00   3.02217  4889\n",
      "1876-06-30 00:00:00   2.65668  6989\n",
      "1876-07-31 00:00:00   3.64311  8172\n",
      "1876-08-31 00:00:00   2.27547  7495\n",
      "1876-09-30 00:00:00   5.27013  5348\n",
      "1876-10-31 00:00:00   1.41873  3289\n",
      "1876-11-30 00:00:00   3.31299  2222\n",
      "1876-12-31 00:00:00   2.53878 -1159\n",
      "1877-01-31 00:00:00   2.61738  -707\n",
      "1877-02-28 00:00:00   1.24188   813\n",
      "1877-03-31 00:00:00   5.56488   740\n",
      "1877-04-30 00:00:00   2.72742  2700\n",
      "1877-05-31 00:00:00   0.95106  4779\n",
      "1877-06-30 00:00:00   2.79816  6396\n",
      "1877-07-31 00:00:00   5.72208  7473\n",
      "1877-08-31 00:00:00   2.76672  7516\n",
      "1877-09-30 00:00:00   1.32834  5880\n",
      "1877-10-31 00:00:00   8.13117  4163\n",
      "1877-11-30 00:00:00   5.61990  2048\n",
      "1877-12-31 00:00:00   0.67989   987\n",
      "1878-01-31 00:00:00   4.46055  -315\n",
      "1878-02-28 00:00:00   3.74529    94\n",
      "1878-03-31 00:00:00   3.26976  2149\n",
      "1878-04-30 00:00:00   1.97286  3650\n",
      "1878-05-31 00:00:00   3.18330  4727\n",
      "1878-06-30 00:00:00   3.07326  5973\n",
      "...                       ...   ...\n",
      "2012-06-30            2.97108   NaN\n",
      "2012-07-31            4.20117   NaN\n",
      "2012-08-31            2.91213   NaN\n",
      "2012-09-30            4.38588   NaN\n",
      "2012-10-31            2.92392   NaN\n",
      "2012-11-30            1.80780   NaN\n",
      "2012-12-31            4.79460   NaN\n",
      "2013-01-31            2.75493   NaN\n",
      "2013-02-28            4.24440   NaN\n",
      "2013-03-31            2.88855   NaN\n",
      "2013-04-30            1.30869   NaN\n",
      "2013-05-31            7.98969   NaN\n",
      "2013-06-30           10.09224   NaN\n",
      "2013-07-31            2.83746   NaN\n",
      "2013-08-31            2.84925   NaN\n",
      "2013-09-30            2.94750   NaN\n",
      "2013-10-31            0.36156   NaN\n",
      "2013-11-30            3.15186   NaN\n",
      "2013-12-31            4.84176   NaN\n",
      "2014-01-31            2.79030   NaN\n",
      "2014-02-28            5.47056   NaN\n",
      "2014-03-31            3.66669   NaN\n",
      "2014-04-30            7.83642   NaN\n",
      "2014-05-31            4.36230   NaN\n",
      "2014-06-30            4.24833   NaN\n",
      "2014-07-31            5.58060   NaN\n",
      "2014-08-31            2.24796   NaN\n",
      "2014-09-30            1.20651   NaN\n",
      "2014-10-31            5.76531   NaN\n",
      "2014-11-30            0.71919   NaN\n",
      "\n",
      "[1667 rows x 2 columns]\n"
     ]
    }
   ],
   "source": [
    "print data_month"
   ]
  },
  {
   "cell_type": "markdown",
   "metadata": {},
   "source": [
    "To make our plotting work we will need a new column that tells us just the month. So we are going to look at the index date and pull out the month and put it into a new column. "
   ]
  },
  {
   "cell_type": "code",
   "execution_count": 19,
   "metadata": {
    "collapsed": false
   },
   "outputs": [],
   "source": [
    "data_month['month']=data_month.index.month"
   ]
  },
  {
   "cell_type": "markdown",
   "metadata": {},
   "source": [
    "lets just look at 5 rows and see if it worked.  "
   ]
  },
  {
   "cell_type": "code",
   "execution_count": 21,
   "metadata": {
    "collapsed": false
   },
   "outputs": [
    {
     "data": {
      "text/html": [
       "<div>\n",
       "<table border=\"1\" class=\"dataframe\">\n",
       "  <thead>\n",
       "    <tr style=\"text-align: right;\">\n",
       "      <th></th>\n",
       "      <th>PRCP</th>\n",
       "      <th>TOBS</th>\n",
       "      <th>month</th>\n",
       "    </tr>\n",
       "    <tr>\n",
       "      <th>DATE</th>\n",
       "      <th></th>\n",
       "      <th></th>\n",
       "      <th></th>\n",
       "    </tr>\n",
       "  </thead>\n",
       "  <tbody>\n",
       "    <tr>\n",
       "      <th>1876-01-31 00:00:00</th>\n",
       "      <td>0.94320</td>\n",
       "      <td>780</td>\n",
       "      <td>1</td>\n",
       "    </tr>\n",
       "    <tr>\n",
       "      <th>1876-02-29 00:00:00</th>\n",
       "      <td>4.80246</td>\n",
       "      <td>72</td>\n",
       "      <td>2</td>\n",
       "    </tr>\n",
       "    <tr>\n",
       "      <th>1876-03-31 00:00:00</th>\n",
       "      <td>8.77569</td>\n",
       "      <td>499</td>\n",
       "      <td>3</td>\n",
       "    </tr>\n",
       "    <tr>\n",
       "      <th>1876-04-30 00:00:00</th>\n",
       "      <td>3.05754</td>\n",
       "      <td>2578</td>\n",
       "      <td>4</td>\n",
       "    </tr>\n",
       "    <tr>\n",
       "      <th>1876-05-31 00:00:00</th>\n",
       "      <td>3.02217</td>\n",
       "      <td>4889</td>\n",
       "      <td>5</td>\n",
       "    </tr>\n",
       "  </tbody>\n",
       "</table>\n",
       "</div>"
      ],
      "text/plain": [
       "                        PRCP  TOBS  month\n",
       "DATE                                     \n",
       "1876-01-31 00:00:00  0.94320   780      1\n",
       "1876-02-29 00:00:00  4.80246    72      2\n",
       "1876-03-31 00:00:00  8.77569   499      3\n",
       "1876-04-30 00:00:00  3.05754  2578      4\n",
       "1876-05-31 00:00:00  3.02217  4889      5"
      ]
     },
     "execution_count": 21,
     "metadata": {},
     "output_type": "execute_result"
    }
   ],
   "source": [
    "data_month.head()  #head just gives you the first 5"
   ]
  },
  {
   "cell_type": "markdown",
   "metadata": {
    "collapsed": false
   },
   "source": [
    "Now lets make our boxplot!  you can google pandas boxplot to see how.  http://pandas.pydata.org/pandas-docs/stable/visualization.html  "
   ]
  },
  {
   "cell_type": "code",
   "execution_count": 22,
   "metadata": {
    "collapsed": false
   },
   "outputs": [
    {
     "data": {
      "text/plain": [
       "<matplotlib.axes._subplots.AxesSubplot at 0x11beb9c10>"
      ]
     },
     "execution_count": 22,
     "metadata": {},
     "output_type": "execute_result"
    },
    {
     "data": {
      "image/png": "[encoded data removed]",
      "text/plain": [
       "<matplotlib.figure.Figure at 0x1189ad850>"
      ]
     },
     "metadata": {},
     "output_type": "display_data"
    }
   ],
   "source": [
    "data_month.boxplot(column=['PRCP'],by='month')"
   ]
  },
  {
   "cell_type": "markdown",
   "metadata": {
    "collapsed": false
   },
   "source": [
    "I talk about making figure captions in the homework.  So lets make one here.\n",
    "\n",
    "Figure 1.  Boxplot of monthly precipitation Central Park, New York City from 1876 to 2015.  \n"
   ]
  },
  {
   "cell_type": "markdown",
   "metadata": {},
   "source": [
    "We will also need to learn about how to talk about results.  We can see from the figure that precipitation does not systematically vary by month in Central Park and that the mean monthly precipitation is fairly uniform.  "
   ]
  },
  {
   "cell_type": "markdown",
   "metadata": {},
   "source": [
    "to get the monthly data we can groupby month and the describe the data.  or just look at the mean. We will also only look at prcp.  As you can see rain is pretty uniform by month in NYC!"
   ]
  },
  {
   "cell_type": "code",
   "execution_count": 23,
   "metadata": {
    "collapsed": false
   },
   "outputs": [
    {
     "data": {
      "text/plain": [
       "month\n",
       "1     3.463263\n",
       "2     3.334789\n",
       "3     3.995651\n",
       "4     3.697536\n",
       "5     3.755582\n",
       "6     3.674013\n",
       "7     4.253052\n",
       "8     4.348163\n",
       "9     3.870993\n",
       "10    3.646531\n",
       "11    3.527670\n",
       "12    3.624314\n",
       "Name: PRCP, dtype: float64"
      ]
     },
     "execution_count": 23,
     "metadata": {},
     "output_type": "execute_result"
    }
   ],
   "source": [
    "data_month.groupby('month').PRCP.mean()\n"
   ]
  },
  {
   "cell_type": "markdown",
   "metadata": {
    "collapsed": false
   },
   "source": [
    "I hope you got some of these to work and are excited about what we can do.  You just analyzed 50,000 precipitation data points on your first day!  We are ready to begin learning data analysis and Python!"
   ]
  },
  {
   "cell_type": "code",
   "execution_count": null,
   "metadata": {
    "collapsed": true
   },
   "outputs": [],
   "source": []
  }
 ],
 "metadata": {
  "kernelspec": {
   "display_name": "Python 2",
   "language": "python",
   "name": "python2"
  },
  "language_info": {
   "codemirror_mode": {
    "name": "ipython",
    "version": 2
   },
   "file_extension": ".py",
   "mimetype": "text/x-python",
   "name": "python",
   "nbconvert_exporter": "python",
   "pygments_lexer": "ipython2",
   "version": "2.7.11"
  }
 },
 "nbformat": 4,
 "nbformat_minor": 0
}
