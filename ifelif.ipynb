{
 "metadata": {
  "name": "ifelif.ipynb"
 },
 "nbformat": 3,
 "nbformat_minor": 0,
 "worksheets": [
  {
   "cells": [
    {
     "cell_type": "heading",
     "level": 1,
     "metadata": {},
     "source": [
      "If  elif  else"
     ]
    },
    {
     "cell_type": "heading",
     "level": 3,
     "metadata": {},
     "source": [
      "Today we will learn about using if statements to control code and what boolean is.  "
     ]
    },
    {
     "cell_type": "markdown",
     "metadata": {},
     "source": [
      "A boolean tells if something is true or false.  True is usually set to 1 and False to 0.\n",
      "lets try a few things."
     ]
    },
    {
     "cell_type": "code",
     "collapsed": false,
     "input": [
      "a=1\n",
      "b=1\n",
      "a==b"
     ],
     "language": "python",
     "metadata": {},
     "outputs": [
      {
       "metadata": {},
       "output_type": "pyout",
       "prompt_number": 9,
       "text": [
        "True"
       ]
      }
     ],
     "prompt_number": 9
    },
    {
     "cell_type": "code",
     "collapsed": false,
     "input": [
      "a=1\n",
      "b=2\n",
      "a==b"
     ],
     "language": "python",
     "metadata": {},
     "outputs": [
      {
       "metadata": {},
       "output_type": "pyout",
       "prompt_number": 10,
       "text": [
        "False"
       ]
      }
     ],
     "prompt_number": 10
    },
    {
     "cell_type": "markdown",
     "metadata": {},
     "source": [
      "I just set a and b then asked the computer to tell me if they were equal. That is the double equal signs.  Now we need to add \"and\" and \"or\".   \"and\" requires both things to be true.  \"or\" only requires 1.  Go through all the next code.  Guess the answer.  Uncomment the code.  Run it and see if you are correct.  "
     ]
    },
    {
     "cell_type": "code",
     "collapsed": false,
     "input": [
      "#a==1 and b==2\n"
     ],
     "language": "python",
     "metadata": {},
     "outputs": [],
     "prompt_number": 64
    },
    {
     "cell_type": "code",
     "collapsed": false,
     "input": [
      "#a==1 and b==1"
     ],
     "language": "python",
     "metadata": {},
     "outputs": [],
     "prompt_number": 65
    },
    {
     "cell_type": "code",
     "collapsed": false,
     "input": [
      "#a==1 or b==1"
     ],
     "language": "python",
     "metadata": {},
     "outputs": [],
     "prompt_number": 66
    },
    {
     "cell_type": "code",
     "collapsed": false,
     "input": [
      "#a==2 or b==1"
     ],
     "language": "python",
     "metadata": {},
     "outputs": [],
     "prompt_number": 67
    },
    {
     "cell_type": "markdown",
     "metadata": {},
     "source": [
      "You can also use not to say the opposite... Again try to guess then uncomment the code and see if you get it correct.  write down your guess first!"
     ]
    },
    {
     "cell_type": "code",
     "collapsed": false,
     "input": [
      "#a==1 and not b==1"
     ],
     "language": "python",
     "metadata": {},
     "outputs": [],
     "prompt_number": 68
    },
    {
     "cell_type": "code",
     "collapsed": false,
     "input": [
      "#not a==2 or b==1"
     ],
     "language": "python",
     "metadata": {},
     "outputs": [],
     "prompt_number": 1
    },
    {
     "cell_type": "code",
     "collapsed": false,
     "input": [
      "#not (a==1 or b==1)"
     ],
     "language": "python",
     "metadata": {},
     "outputs": [],
     "prompt_number": 2
    },
    {
     "cell_type": "markdown",
     "metadata": {},
     "source": [
      "You have more options\n",
      "\n",
      "==  Checks if equal\n",
      "\n",
      "!= checks if not equal\n",
      "\n",
      "<> checks if not equal(this is being phased out)\n",
      "\n",
      "\\> checks if greater than\n",
      "\n",
      "< checks if less than\n",
      "\n",
      "\\>= checks if greater than or equal\n",
      "\n",
      "<= checks if less than or equal\n"
     ]
    },
    {
     "cell_type": "markdown",
     "metadata": {},
     "source": [
      "Again try to guess the answer then go through and check!"
     ]
    },
    {
     "cell_type": "code",
     "collapsed": false,
     "input": [
      "#a>b"
     ],
     "language": "python",
     "metadata": {},
     "outputs": [],
     "prompt_number": 3
    },
    {
     "cell_type": "code",
     "collapsed": false,
     "input": [
      "#a<b"
     ],
     "language": "python",
     "metadata": {},
     "outputs": [],
     "prompt_number": 4
    },
    {
     "cell_type": "code",
     "collapsed": false,
     "input": [
      "#a!=b"
     ],
     "language": "python",
     "metadata": {},
     "outputs": [],
     "prompt_number": 5
    },
    {
     "cell_type": "code",
     "collapsed": false,
     "input": [
      "#a<>b"
     ],
     "language": "python",
     "metadata": {},
     "outputs": [],
     "prompt_number": 6
    },
    {
     "cell_type": "code",
     "collapsed": false,
     "input": [
      "#a not = b"
     ],
     "language": "python",
     "metadata": {},
     "outputs": [],
     "prompt_number": 7
    },
    {
     "cell_type": "code",
     "collapsed": false,
     "input": [
      "#(a==b) or (a!=b)"
     ],
     "language": "python",
     "metadata": {},
     "outputs": [],
     "prompt_number": 11
    },
    {
     "cell_type": "code",
     "collapsed": false,
     "input": [
      "#not ((a==b) or not (a!=b))"
     ],
     "language": "python",
     "metadata": {},
     "outputs": [],
     "prompt_number": 12
    },
    {
     "cell_type": "heading",
     "level": 1,
     "metadata": {},
     "source": [
      "Now you should be a boolean expert!!!!  remember for long statements do the parentheses first."
     ]
    },
    {
     "cell_type": "markdown",
     "metadata": {},
     "source": [
      "Now lets try an if statement"
     ]
    },
    {
     "cell_type": "code",
     "collapsed": false,
     "input": [
      "if a==1:\n",
      "    print 'We did our first if statement'"
     ],
     "language": "python",
     "metadata": {},
     "outputs": [
      {
       "output_type": "stream",
       "stream": "stdout",
       "text": [
        "We did our first if statement\n"
       ]
      }
     ],
     "prompt_number": 27
    },
    {
     "cell_type": "raw",
     "metadata": {},
     "source": [
      "Some common errors"
     ]
    },
    {
     "cell_type": "code",
     "collapsed": false,
     "input": [
      "If a==1:   #it is lower case if!"
     ],
     "language": "python",
     "metadata": {},
     "outputs": [
      {
       "ename": "SyntaxError",
       "evalue": "invalid syntax (<ipython-input-28-fb78c0caa1db>, line 1)",
       "output_type": "pyerr",
       "traceback": [
        "\u001b[1;36m  File \u001b[1;32m\"<ipython-input-28-fb78c0caa1db>\"\u001b[1;36m, line \u001b[1;32m1\u001b[0m\n\u001b[1;33m    If a==1:\u001b[0m\n\u001b[1;37m       ^\u001b[0m\n\u001b[1;31mSyntaxError\u001b[0m\u001b[1;31m:\u001b[0m invalid syntax\n"
       ]
      }
     ],
     "prompt_number": 28
    },
    {
     "cell_type": "code",
     "collapsed": false,
     "input": [
      "if a=1:  # you need the double ==, remember boolean!"
     ],
     "language": "python",
     "metadata": {},
     "outputs": [
      {
       "ename": "SyntaxError",
       "evalue": "invalid syntax (<ipython-input-29-e944d3dfe829>, line 1)",
       "output_type": "pyerr",
       "traceback": [
        "\u001b[1;36m  File \u001b[1;32m\"<ipython-input-29-e944d3dfe829>\"\u001b[1;36m, line \u001b[1;32m1\u001b[0m\n\u001b[1;33m    if a=1:\u001b[0m\n\u001b[1;37m        ^\u001b[0m\n\u001b[1;31mSyntaxError\u001b[0m\u001b[1;31m:\u001b[0m invalid syntax\n"
       ]
      }
     ],
     "prompt_number": 29
    },
    {
     "cell_type": "code",
     "collapsed": false,
     "input": [
      "if a==1  #you need the :"
     ],
     "language": "python",
     "metadata": {},
     "outputs": [
      {
       "ename": "SyntaxError",
       "evalue": "invalid syntax (<ipython-input-14-f500c5b9a12b>, line 1)",
       "output_type": "pyerr",
       "traceback": [
        "\u001b[1;36m  File \u001b[1;32m\"<ipython-input-14-f500c5b9a12b>\"\u001b[1;36m, line \u001b[1;32m1\u001b[0m\n\u001b[1;33m    if a==1  #you need the :\u001b[0m\n\u001b[1;37m                            ^\u001b[0m\n\u001b[1;31mSyntaxError\u001b[0m\u001b[1;31m:\u001b[0m invalid syntax\n"
       ]
      }
     ],
     "prompt_number": 14
    },
    {
     "cell_type": "markdown",
     "metadata": {},
     "source": [
      "now we can make the statement more complicated"
     ]
    },
    {
     "cell_type": "code",
     "collapsed": false,
     "input": [
      "if a==1 and b==2:\n",
      "    print 'my second if'"
     ],
     "language": "python",
     "metadata": {},
     "outputs": [
      {
       "output_type": "stream",
       "stream": "stdout",
       "text": [
        "my second if\n"
       ]
      }
     ],
     "prompt_number": 31
    },
    {
     "cell_type": "markdown",
     "metadata": {},
     "source": [
      "But what if you want multiple options?  You use elif"
     ]
    },
    {
     "cell_type": "code",
     "collapsed": false,
     "input": [
      "a=2\n",
      "if a==1:\n",
      "    print 'Yeah a=1'\n",
      "elif a==2:\n",
      "    print 'oh no a=2'"
     ],
     "language": "python",
     "metadata": {},
     "outputs": [
      {
       "output_type": "stream",
       "stream": "stdout",
       "text": [
        "oh no a=2\n"
       ]
      }
     ],
     "prompt_number": 33
    },
    {
     "cell_type": "markdown",
     "metadata": {},
     "source": [
      "What if you only want to know if it is different?"
     ]
    },
    {
     "cell_type": "code",
     "collapsed": false,
     "input": [
      "a=3\n",
      "if a==1:\n",
      "    print 'Yeah a=1'\n",
      "elif a==2:\n",
      "    print 'oh no a=2'\n",
      "else:\n",
      "    print 'wow a 3'"
     ],
     "language": "python",
     "metadata": {},
     "outputs": [
      {
       "output_type": "stream",
       "stream": "stdout",
       "text": [
        "wow a 3\n"
       ]
      }
     ],
     "prompt_number": 36
    },
    {
     "cell_type": "markdown",
     "metadata": {},
     "source": [
      "Could we ask for user input to get a?  Look at this link that goes into detail about the function [input](http://anh.cs.luc.edu/python/hands-on/3.1/handsonHtml/io.html)"
     ]
    },
    {
     "cell_type": "code",
     "collapsed": false,
     "input": [
      "a=input('Please input a number')\n",
      "if a==1:\n",
      "    print 'Yeah a=1'\n",
      "elif a==2:\n",
      "    print 'oh no a=2'\n",
      "else:\n",
      "    print 'wow a larger number'\n",
      "print 'this print is outside the if statements!'"
     ],
     "language": "python",
     "metadata": {},
     "outputs": [
      {
       "name": "stdout",
       "output_type": "stream",
       "stream": "stdout",
       "text": [
        "Please input a number2\n"
       ]
      },
      {
       "output_type": "stream",
       "stream": "stdout",
       "text": [
        "oh no a=2\n",
        "this print is outside the if statements!\n"
       ]
      }
     ],
     "prompt_number": 16
    },
    {
     "cell_type": "markdown",
     "metadata": {},
     "source": [
      "run the program but type in a letter.  Could we put in an error control?  How could you use the function type() to fix the problem?"
     ]
    },
    {
     "cell_type": "code",
     "collapsed": false,
     "input": [],
     "language": "python",
     "metadata": {},
     "outputs": [],
     "prompt_number": 45
    },
    {
     "cell_type": "markdown",
     "metadata": {},
     "source": [
      "What if we want to input and check a string?"
     ]
    },
    {
     "cell_type": "code",
     "collapsed": false,
     "input": [
      "a=input(\"Please enter hello\")\n",
      "if a=='hello':\n",
      "    print 'Yeah you did it'\n",
      "else:\n",
      "    print 'sorry'\n"
     ],
     "language": "python",
     "metadata": {},
     "outputs": [
      {
       "name": "stdout",
       "output_type": "stream",
       "stream": "stdout",
       "text": [
        "Please enter hello'hello'\n"
       ]
      },
      {
       "output_type": "stream",
       "stream": "stdout",
       "text": [
        "Yeah you did it\n"
       ]
      }
     ],
     "prompt_number": 61
    },
    {
     "cell_type": "markdown",
     "metadata": {},
     "source": [
      "if you just type hello you get an error and you need to type 'hello'.  Go back and type 'hello'"
     ]
    },
    {
     "cell_type": "markdown",
     "metadata": {},
     "source": [
      "You could try using raw_input"
     ]
    },
    {
     "cell_type": "code",
     "collapsed": false,
     "input": [
      "a=raw_input(\"Please enter hello\")\n",
      "if a=='hello':\n",
      "    print 'Yeah you did it'\n",
      "else:\n",
      "    print 'sorry'"
     ],
     "language": "python",
     "metadata": {},
     "outputs": [
      {
       "name": "stdout",
       "output_type": "stream",
       "stream": "stdout",
       "text": [
        "Please enter hellohello\n"
       ]
      },
      {
       "output_type": "stream",
       "stream": "stdout",
       "text": [
        "Yeah you did it\n"
       ]
      }
     ],
     "prompt_number": 62
    },
    {
     "cell_type": "markdown",
     "metadata": {},
     "source": [
      "Can you use raw_input to get numbers.  If you enter an int what do you get? Could you cast the string to an int?  "
     ]
    },
    {
     "cell_type": "code",
     "collapsed": false,
     "input": [
      "a=int(raw_input(\"Please enter the number 1 \"))\n",
      "if a==1:\n",
      "    print 'Yeah you did it'\n",
      "else:\n",
      "    print 'sorry'"
     ],
     "language": "python",
     "metadata": {},
     "outputs": [
      {
       "name": "stdout",
       "output_type": "stream",
       "stream": "stdout",
       "text": [
        "Please enter the number 1 1\n"
       ]
      },
      {
       "output_type": "stream",
       "stream": "stdout",
       "text": [
        "Yeah you did it\n"
       ]
      }
     ],
     "prompt_number": 63
    },
    {
     "cell_type": "heading",
     "level": 2,
     "metadata": {},
     "source": [
      "Plot February Temperature Data!"
     ]
    },
    {
     "cell_type": "markdown",
     "metadata": {},
     "source": [
      "This is a long assignment but is interesting.  I went to weather underground and got the high temperatures from Central Park (Staion id KNYC) and LaGuardia (station id KLGA) for the first seven days of February.  They are listed below.  We want to use input and if statements to ask the user what data they want plotted.  We could plot \n",
      "\n",
      "1.  KNYC verus day in February.\n",
      "2.  KLGA versus day in February.\n",
      "3.  Both KNYC and KLGA versus day in February.\n",
      "4.  KNYC versus KLGA to see if they are correlated.  \n",
      "\n",
      "The high temperatures in February at Central Park and Laguardia are \n",
      "\n",
      "Day   KNYC  KLGA\n",
      "\n",
      "1      36    36\n",
      "\n",
      "2      34    33\n",
      "\n",
      "3      26    28\n",
      "\n",
      "4      43    41 \n",
      "\n",
      "5      42    40\n",
      "\n",
      "6      27    27\n",
      "\n",
      "7      32    30\n",
      "\n",
      "You can go look at my answer and see what I did but you have to do your own.  Here is how I would attack it.\n",
      "\n",
      "1.  I would make my lists of temperatures\n",
      "2.  I would then use print statements to describe what you are doing and what should be inputted for choices.\n",
      "3.  Then use input to get the number input.  \n",
      "3.  I would add the if statements with the plotting in each if statement.  You are going to need to also use elif and else.  \n",
      "4.  I would make sure to label my graphs well.  \n",
      "5.  I would remember how we have done plots in the past.  what do we need to import?  Our lists start at 0.  How do we do the x-axis?  Do we need a legend on the one with two lines?\n",
      "6.  For comparing KNYC and KLGA you will see that you don't want a line.  I would do plt.scatter()  It works just like plt.plot()\n",
      "7.  Work with your neighbor if you get stuck! "
     ]
    },
    {
     "cell_type": "code",
     "collapsed": false,
     "input": [
      "#Put in your program here"
     ],
     "language": "python",
     "metadata": {},
     "outputs": [],
     "prompt_number": 8
    },
    {
     "cell_type": "heading",
     "level": 2,
     "metadata": {},
     "source": [
      "My answer"
     ]
    },
    {
     "cell_type": "code",
     "collapsed": false,
     "input": [
      "import matplotlib.pylab as plt\n",
      "KNYC=[36,34,26,43,42,27,32]\n",
      "KLGA=[36,33,28,41,40,27,30]\n",
      "\n",
      "print 'We are going to print February Temperature Data!'\n",
      "print 'For Central Park type 1'\n",
      "print 'For Laguardia type 2'\n",
      "print 'For both on one plot type 3'\n",
      "print 'For a plot of Central Park versus LaGuardia type 4'\n",
      "a=input('Please enter your number.....')\n",
      "         \n",
      "if a==1:\n",
      "    plt.plot(range(1,8),KNYC)\n",
      "    plt.xlabel('Day in February')\n",
      "    plt.ylabel('Temperature (f)')\n",
      "    plt.title('Central Park')\n",
      "elif a==2:\n",
      "    plt.plot(range(1,8),KLGA)\n",
      "    plt.xlabel('Day in February')\n",
      "    plt.ylabel('Temperature (f)')  \n",
      "    plt.title('Laguardia')\n",
      "elif a==3:\n",
      "    plt.plot(range(1,8),KLGA,label='KLGA')\n",
      "    plt.plot(range(1,8),KNYC,label='KNYC')\n",
      "    plt.xlabel('Day in February')\n",
      "    plt.ylabel('Temperature (f)')  \n",
      "    plt.title('Laguardia')  \n",
      "    plt.legend()\n",
      "elif a==4:\n",
      "    plt.scatter(KNYC,KLGA)\n",
      "    plt.xlabel('KNYC')\n",
      "    plt.ylabel('KLGA')  \n",
      "    plt.title('Central Park versus LaGuardia')\n",
      "else:\n",
      "    print 'you entered a bad number'"
     ],
     "language": "python",
     "metadata": {},
     "outputs": [
      {
       "output_type": "stream",
       "stream": "stdout",
       "text": [
        "We are going to print February Temperature Data!\n",
        "For Central Park type 1\n",
        "For Laguardia type 2\n",
        "For both on one plot type 3\n",
        "For a plot of Central Park versus LaGuardia type 4\n"
       ]
      },
      {
       "name": "stdout",
       "output_type": "stream",
       "stream": "stdout",
       "text": [
        "Please enter your number.....3\n"
       ]
      },
      {
       "metadata": {},
       "output_type": "display_data",
       "png": "[encoded data removed]",
       "text": [
        "<matplotlib.figure.Figure at 0x8747a58>"
       ]
      }
     ],
     "prompt_number": 9
    },
    {
     "cell_type": "code",
     "collapsed": false,
     "input": [],
     "language": "python",
     "metadata": {},
     "outputs": []
    }
   ],
   "metadata": {}
  }
 ]
}