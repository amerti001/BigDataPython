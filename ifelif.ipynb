{
 "cells": [
  {
   "cell_type": "markdown",
   "metadata": {},
   "source": [
    "# If  elif  else"
   ]
  },
  {
   "cell_type": "markdown",
   "metadata": {},
   "source": [
    "### Today we will learn about using if statements to control code and what boolean is.  "
   ]
  },
  {
   "cell_type": "markdown",
   "metadata": {},
   "source": [
    "A boolean tells if something is true or false.  True is usually set to 1 and False to 0.\n",
    "lets try a few things."
   ]
  },
  {
   "cell_type": "code",
   "execution_count": 9,
   "metadata": {
    "collapsed": false
   },
   "outputs": [
    {
     "data": {
      "text/plain": [
       "True"
      ]
     },
     "execution_count": 9,
     "metadata": {},
     "output_type": "execute_result"
    }
   ],
   "source": [
    "a=1\n",
    "b=1\n",
    "a==b"
   ]
  },
  {
   "cell_type": "code",
   "execution_count": 10,
   "metadata": {
    "collapsed": false
   },
   "outputs": [
    {
     "data": {
      "text/plain": [
       "False"
      ]
     },
     "execution_count": 10,
     "metadata": {},
     "output_type": "execute_result"
    }
   ],
   "source": [
    "a=1\n",
    "b=2\n",
    "a==b"
   ]
  },
  {
   "cell_type": "markdown",
   "metadata": {},
   "source": [
    "I just set a and b then asked the computer to tell me if they were equal. That is the double equal signs.  Now we need to add \"and\" and \"or\".   \"and\" requires both things to be true.  \"or\" only requires 1.  Go through all the next code.  Guess the answer.  Uncomment the code.  Run it and see if you are correct.  "
   ]
  },
  {
   "cell_type": "code",
   "execution_count": 64,
   "metadata": {
    "collapsed": false
   },
   "outputs": [],
   "source": [
    "#a==1 and b==2\n"
   ]
  },
  {
   "cell_type": "code",
   "execution_count": 65,
   "metadata": {
    "collapsed": false
   },
   "outputs": [],
   "source": [
    "#a==1 and b==1"
   ]
  },
  {
   "cell_type": "code",
   "execution_count": 66,
   "metadata": {
    "collapsed": false
   },
   "outputs": [],
   "source": [
    "#a==1 or b==1"
   ]
  },
  {
   "cell_type": "code",
   "execution_count": 67,
   "metadata": {
    "collapsed": false
   },
   "outputs": [],
   "source": [
    "#a==2 or b==1"
   ]
  },
  {
   "cell_type": "markdown",
   "metadata": {},
   "source": [
    "You can also use not to say the opposite... Again try to guess then uncomment the code and see if you get it correct.  write down your guess first!"
   ]
  },
  {
   "cell_type": "code",
   "execution_count": 68,
   "metadata": {
    "collapsed": false
   },
   "outputs": [],
   "source": [
    "#a==1 and not b==1"
   ]
  },
  {
   "cell_type": "code",
   "execution_count": 1,
   "metadata": {
    "collapsed": false
   },
   "outputs": [],
   "source": [
    "#not a==2 or b==1"
   ]
  },
  {
   "cell_type": "code",
   "execution_count": 2,
   "metadata": {
    "collapsed": false
   },
   "outputs": [],
   "source": [
    "#not (a==1 or b==1)"
   ]
  },
  {
   "cell_type": "markdown",
   "metadata": {},
   "source": [
    "You have more options\n",
    "\n",
    "==  Checks if equal\n",
    "\n",
    "!= checks if not equal\n",
    "\n",
    "<> checks if not equal(this is being phased out)\n",
    "\n",
    "\\> checks if greater than\n",
    "\n",
    "< checks if less than\n",
    "\n",
    "\\>= checks if greater than or equal\n",
    "\n",
    "<= checks if less than or equal\n"
   ]
  },
  {
   "cell_type": "markdown",
   "metadata": {},
   "source": [
    "Again try to guess the answer then go through and check!"
   ]
  },
  {
   "cell_type": "code",
   "execution_count": 3,
   "metadata": {
    "collapsed": false
   },
   "outputs": [],
   "source": [
    "#a>b"
   ]
  },
  {
   "cell_type": "code",
   "execution_count": 4,
   "metadata": {
    "collapsed": false
   },
   "outputs": [],
   "source": [
    "#a<b"
   ]
  },
  {
   "cell_type": "code",
   "execution_count": 5,
   "metadata": {
    "collapsed": false
   },
   "outputs": [],
   "source": [
    "#a!=b"
   ]
  },
  {
   "cell_type": "code",
   "execution_count": 6,
   "metadata": {
    "collapsed": false
   },
   "outputs": [],
   "source": [
    "#a<>b"
   ]
  },
  {
   "cell_type": "code",
   "execution_count": 7,
   "metadata": {
    "collapsed": false
   },
   "outputs": [],
   "source": [
    "#a not = b"
   ]
  },
  {
   "cell_type": "code",
   "execution_count": 11,
   "metadata": {
    "collapsed": false
   },
   "outputs": [],
   "source": [
    "#(a==b) or (a!=b)"
   ]
  },
  {
   "cell_type": "code",
   "execution_count": 12,
   "metadata": {
    "collapsed": false
   },
   "outputs": [],
   "source": [
    "#not ((a==b) or not (a!=b))"
   ]
  },
  {
   "cell_type": "markdown",
   "metadata": {},
   "source": [
    "# Now you should be a boolean expert!!!!  remember for long statements do the parentheses first."
   ]
  },
  {
   "cell_type": "markdown",
   "metadata": {},
   "source": [
    "Now lets try an if statement"
   ]
  },
  {
   "cell_type": "code",
   "execution_count": 27,
   "metadata": {
    "collapsed": false
   },
   "outputs": [
    {
     "name": "stdout",
     "output_type": "stream",
     "text": [
      "We did our first if statement\n"
     ]
    }
   ],
   "source": [
    "if a==1:\n",
    "    print 'We did our first if statement'"
   ]
  },
  {
   "cell_type": "raw",
   "metadata": {},
   "source": [
    "Some common errors"
   ]
  },
  {
   "cell_type": "code",
   "execution_count": 28,
   "metadata": {
    "collapsed": false
   },
   "outputs": [
    {
     "ename": "SyntaxError",
     "evalue": "invalid syntax (<ipython-input-28-fb78c0caa1db>, line 1)",
     "output_type": "error",
     "traceback": [
      "\u001b[1;36m  File \u001b[1;32m\"<ipython-input-28-fb78c0caa1db>\"\u001b[1;36m, line \u001b[1;32m1\u001b[0m\n\u001b[1;33m    If a==1:\u001b[0m\n\u001b[1;37m       ^\u001b[0m\n\u001b[1;31mSyntaxError\u001b[0m\u001b[1;31m:\u001b[0m invalid syntax\n"
     ]
    }
   ],
   "source": [
    "If a==1:   #it is lower case if!"
   ]
  },
  {
   "cell_type": "code",
   "execution_count": 29,
   "metadata": {
    "collapsed": false
   },
   "outputs": [
    {
     "ename": "SyntaxError",
     "evalue": "invalid syntax (<ipython-input-29-e944d3dfe829>, line 1)",
     "output_type": "error",
     "traceback": [
      "\u001b[1;36m  File \u001b[1;32m\"<ipython-input-29-e944d3dfe829>\"\u001b[1;36m, line \u001b[1;32m1\u001b[0m\n\u001b[1;33m    if a=1:\u001b[0m\n\u001b[1;37m        ^\u001b[0m\n\u001b[1;31mSyntaxError\u001b[0m\u001b[1;31m:\u001b[0m invalid syntax\n"
     ]
    }
   ],
   "source": [
    "if a=1:  # you need the double ==, remember boolean!"
   ]
  },
  {
   "cell_type": "code",
   "execution_count": 14,
   "metadata": {
    "collapsed": false
   },
   "outputs": [
    {
     "ename": "SyntaxError",
     "evalue": "invalid syntax (<ipython-input-14-f500c5b9a12b>, line 1)",
     "output_type": "error",
     "traceback": [
      "\u001b[1;36m  File \u001b[1;32m\"<ipython-input-14-f500c5b9a12b>\"\u001b[1;36m, line \u001b[1;32m1\u001b[0m\n\u001b[1;33m    if a==1  #you need the :\u001b[0m\n\u001b[1;37m                            ^\u001b[0m\n\u001b[1;31mSyntaxError\u001b[0m\u001b[1;31m:\u001b[0m invalid syntax\n"
     ]
    }
   ],
   "source": [
    "if a==1  #you need the :"
   ]
  },
  {
   "cell_type": "markdown",
   "metadata": {},
   "source": [
    "now we can make the statement more complicated"
   ]
  },
  {
   "cell_type": "code",
   "execution_count": 31,
   "metadata": {
    "collapsed": false
   },
   "outputs": [
    {
     "name": "stdout",
     "output_type": "stream",
     "text": [
      "my second if\n"
     ]
    }
   ],
   "source": [
    "if a==1 and b==2:\n",
    "    print 'my second if'"
   ]
  },
  {
   "cell_type": "markdown",
   "metadata": {},
   "source": [
    "But what if you want multiple options?  You use elif"
   ]
  },
  {
   "cell_type": "code",
   "execution_count": 33,
   "metadata": {
    "collapsed": false
   },
   "outputs": [
    {
     "name": "stdout",
     "output_type": "stream",
     "text": [
      "oh no a=2\n"
     ]
    }
   ],
   "source": [
    "a=2\n",
    "if a==1:\n",
    "    print 'Yeah a=1'\n",
    "elif a==2:\n",
    "    print 'oh no a=2'"
   ]
  },
  {
   "cell_type": "markdown",
   "metadata": {},
   "source": [
    "What if you only want to know if it is different?"
   ]
  },
  {
   "cell_type": "code",
   "execution_count": 36,
   "metadata": {
    "collapsed": false
   },
   "outputs": [
    {
     "name": "stdout",
     "output_type": "stream",
     "text": [
      "wow a 3\n"
     ]
    }
   ],
   "source": [
    "a=3\n",
    "if a==1:\n",
    "    print 'Yeah a=1'\n",
    "elif a==2:\n",
    "    print 'oh no a=2'\n",
    "else:\n",
    "    print 'wow a 3, do we really know it is 3?'"
   ]
  },
  {
   "cell_type": "markdown",
   "metadata": {},
   "source": [
    "Could we ask for user input to get a?  Look at this link that goes into detail about the function [input](http://anh.cs.luc.edu/python/hands-on/3.1/handsonHtml/io.html)"
   ]
  },
  {
   "cell_type": "code",
   "execution_count": 6,
   "metadata": {
    "collapsed": false
   },
   "outputs": [
    {
     "name": "stdout",
     "output_type": "stream",
     "text": [
      "Please input a number2\n",
      "oh no a=2\n",
      "this print is outside the if statements!\n"
     ]
    }
   ],
   "source": [
    "a=input('Please input a number')\n",
    "if a==1:\n",
    "    print 'Yeah a=1'\n",
    "elif a==2:\n",
    "    print 'oh no a=2'\n",
    "else:\n",
    "    print 'wow a larger number'\n",
    "print 'this print is outside the if statements!'"
   ]
  },
  {
   "cell_type": "markdown",
   "metadata": {},
   "source": [
    "run the program but type in a letter.  Could we put in an error control?  How could you use the function type() to fix the problem?"
   ]
  },
  {
   "cell_type": "code",
   "execution_count": 45,
   "metadata": {
    "collapsed": false
   },
   "outputs": [],
   "source": []
  },
  {
   "cell_type": "markdown",
   "metadata": {},
   "source": [
    "What if we want to input and check a string?"
   ]
  },
  {
   "cell_type": "code",
   "execution_count": 4,
   "metadata": {
    "collapsed": false
   },
   "outputs": [
    {
     "name": "stdout",
     "output_type": "stream",
     "text": [
      "Please enter hellohello\n",
      "Yeah you did it\n"
     ]
    }
   ],
   "source": [
    "a=raw_input(\"Please enter hello\")\n",
    "if a=='hello':\n",
    "    print 'Yeah you did it'\n",
    "else:\n",
    "    print 'sorry'\n"
   ]
  },
  {
   "cell_type": "markdown",
   "metadata": {},
   "source": [
    "if you just type hello you get an error and you need to type 'hello'.  Go back and type 'hello'"
   ]
  },
  {
   "cell_type": "markdown",
   "metadata": {},
   "source": [
    "You could try using raw_input"
   ]
  },
  {
   "cell_type": "code",
   "execution_count": 62,
   "metadata": {
    "collapsed": false
   },
   "outputs": [
    {
     "name": "stdout",
     "output_type": "stream",
     "text": [
      "Please enter hellohello\n",
      "Yeah you did it\n"
     ]
    }
   ],
   "source": [
    "a=raw_input(\"Please enter hello\")\n",
    "if a=='hello':\n",
    "    print 'Yeah you did it'\n",
    "else:\n",
    "    print 'sorry'"
   ]
  },
  {
   "cell_type": "markdown",
   "metadata": {},
   "source": [
    "Can you use raw_input to get numbers.  If you enter an int what do you get? Could you cast the string to an int?  "
   ]
  },
  {
   "cell_type": "code",
   "execution_count": 8,
   "metadata": {
    "collapsed": false
   },
   "outputs": [
    {
     "name": "stdout",
     "output_type": "stream",
     "text": [
      "Please enter the number 1 3\n",
      "sorry\n"
     ]
    }
   ],
   "source": [
    "a=int(raw_input(\"Please enter the number 1 \"))\n",
    "if a==1:\n",
    "    print 'Yeah you did it'\n",
    "else:\n",
    "    print 'sorry'"
   ]
  },
  {
   "cell_type": "markdown",
   "metadata": {},
   "source": [
    "## Plot February Temperature Data!"
   ]
  },
  {
   "cell_type": "markdown",
   "metadata": {},
   "source": [
    "This is a long assignment but is interesting.  I went to weather underground and got the high temperatures from Central Park (Staion id KNYC) and LaGuardia (station id KLGA) for the first seven days of September.  They are listed below.  We want to use input and if statements to ask the user what data they want plotted.  We could plot \n",
    "\n",
    "1.  KNYC verus day in February.\n",
    "2.  KLGA versus day in February.\n",
    "3.  Both KNYC and KLGA versus day in February.\n",
    "4.  KNYC versus KLGA to see if they are correlated.  \n",
    "\n",
    "The high temperatures in February at Central Park and Laguardia are \n",
    "\n",
    "|Day |  KNYC|  KLGA|\n",
    "|----|------|-------|\n",
    "|1|      90|    88|\n",
    "|2|      91|    88|\n",
    "|3|      93|    93|\n",
    "|4|      85|    84| \n",
    "|5|      83|    80|\n",
    "|6|      87|    84|\n",
    "|7|      92|    90|\n",
    "\n",
    "You can go look at my answer and see what I did but you have to do your own.  Here is how I would attack it.\n",
    "\n",
    "1.  I would make my lists of temperatures.  You can make a list or use np.array([])\n",
    "2.  I would then use print statements to describe what you are doing and what should be inputted for choices.\n",
    "3.  Then use input to get the number input.  \n",
    "3.  I would add the if statements with the plotting in each if statement.  You are going to need to also use elif and else.  \n",
    "4.  I would make sure to label my graphs well.  \n",
    "5.  I would remember how we have done plots in the past.  what do we need to import?  Our lists start at 0.  How do we do the x-axis?  Do we need a legend on the one with two lines?\n",
    "6.  For comparing KNYC and KLGA you will see that you don't want a line.  I would do plt.scatter()  It works just like plt.plot()\n",
    "7.  Work with your neighbor if you get stuck! "
   ]
  },
  {
   "cell_type": "code",
   "execution_count": 8,
   "metadata": {
    "collapsed": false
   },
   "outputs": [],
   "source": [
    "#Put in your program here"
   ]
  },
  {
   "cell_type": "markdown",
   "metadata": {},
   "source": []
  },
  {
   "cell_type": "code",
   "execution_count": null,
   "metadata": {
    "collapsed": false
   },
   "outputs": [],
   "source": []
  },
  {
   "cell_type": "code",
   "execution_count": null,
   "metadata": {
    "collapsed": false
   },
   "outputs": [],
   "source": []
  }
 ],
 "metadata": {
  "kernelspec": {
   "display_name": "Python 2",
   "language": "python",
   "name": "python2"
  },
  "language_info": {
   "codemirror_mode": {
    "name": "ipython",
    "version": 2
   },
   "file_extension": ".py",
   "mimetype": "text/x-python",
   "name": "python",
   "nbconvert_exporter": "python",
   "pygments_lexer": "ipython2",
   "version": "2.7.10"
  }
 },
 "nbformat": 4,
 "nbformat_minor": 0
}
