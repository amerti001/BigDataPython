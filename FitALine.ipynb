{
 "cells": [
  {
   "cell_type": "markdown",
   "metadata": {},
   "source": [
    "# Best Fit Line"
   ]
  },
  {
   "cell_type": "markdown",
   "metadata": {},
   "source": [
    "today we are going to write our own code for fitting a line and then compare it to differnt functions in python.  We are going to take our math form Daniel C. Harris, Quantitative Chemical Analysis pages 66 and 67.  Python can fit a line for you.  But it is good to do a few of these functions by hand to see how they work.  "
   ]
  },
  {
   "cell_type": "markdown",
   "metadata": {},
   "source": [
    "To begin we are going to cheat and make our lives easier and use the numpy package.  This package lets us do some array operations really easily and we won't have to do for loops.  I was thinking of being mean and using all for loops.  But lets take advantage of python.  First lets import numpy and see what we can do.  "
   ]
  },
  {
   "cell_type": "code",
   "execution_count": 2,
   "metadata": {},
   "outputs": [],
   "source": [
    "%matplotlib inline  \n",
    "import numpy as np\n",
    "import matplotlib.pyplot as plt\n",
    "from scipy import stats"
   ]
  },
  {
   "cell_type": "code",
   "execution_count": 47,
   "metadata": {},
   "outputs": [
    {
     "name": "stdout",
     "output_type": "stream",
     "text": [
      "[1. 3. 4. 6.]\n"
     ]
    },
    {
     "data": {
      "text/plain": [
       "numpy.ndarray"
      ]
     },
     "execution_count": 47,
     "metadata": {},
     "output_type": "execute_result"
    }
   ],
   "source": [
    "x=np.array([1.,3,4,6])\n",
    "print (x)\n",
    "type(x)"
   ]
  },
  {
   "cell_type": "markdown",
   "metadata": {},
   "source": [
    "So we could enter a list but instead of calling it a list we call it a numpy array.  This is like a supercharged list.  "
   ]
  },
  {
   "cell_type": "markdown",
   "metadata": {},
   "source": [
    "Now we can make the y"
   ]
  },
  {
   "cell_type": "code",
   "execution_count": 48,
   "metadata": {},
   "outputs": [],
   "source": [
    "y=np.array([2,3,4,5])"
   ]
  },
  {
   "cell_type": "markdown",
   "metadata": {},
   "source": [
    "Now this is where numpy gets really cool.  you can multiply and add your lists.  This is different than array math if you have taken linear algebra.  But we will be able to do that also.  "
   ]
  },
  {
   "cell_type": "code",
   "execution_count": 6,
   "metadata": {},
   "outputs": [
    {
     "name": "stdout",
     "output_type": "stream",
     "text": [
      "[ 2.  9. 16. 30.]\n"
     ]
    }
   ],
   "source": [
    "print (x*y)"
   ]
  },
  {
   "cell_type": "markdown",
   "metadata": {},
   "source": [
    "do you see what it just did?  It multiplied elementwise!"
   ]
  },
  {
   "cell_type": "code",
   "execution_count": 7,
   "metadata": {},
   "outputs": [
    {
     "name": "stdout",
     "output_type": "stream",
     "text": [
      "[ 3.  6.  8. 11.]\n"
     ]
    }
   ],
   "source": [
    "print (x+y)"
   ]
  },
  {
   "cell_type": "code",
   "execution_count": 8,
   "metadata": {},
   "outputs": [
    {
     "name": "stdout",
     "output_type": "stream",
     "text": [
      "[-1.  0.  0.  1.]\n"
     ]
    }
   ],
   "source": [
    "print (x-y)"
   ]
  },
  {
   "cell_type": "code",
   "execution_count": 9,
   "metadata": {},
   "outputs": [
    {
     "name": "stdout",
     "output_type": "stream",
     "text": [
      "[0.5 1.  1.  1.2]\n"
     ]
    }
   ],
   "source": [
    "print (x/y)"
   ]
  },
  {
   "cell_type": "code",
   "execution_count": 10,
   "metadata": {},
   "outputs": [
    {
     "name": "stdout",
     "output_type": "stream",
     "text": [
      "[1. 0. 0. 1.]\n"
     ]
    }
   ],
   "source": [
    "print (x%y)"
   ]
  },
  {
   "cell_type": "markdown",
   "metadata": {},
   "source": [
    "If you are doing linear algebra there are methods to do true matrix multiplication.   For example the dot product. "
   ]
  },
  {
   "cell_type": "code",
   "execution_count": 11,
   "metadata": {},
   "outputs": [
    {
     "name": "stdout",
     "output_type": "stream",
     "text": [
      "57.0\n"
     ]
    }
   ],
   "source": [
    "print (np.dot(x,y))"
   ]
  },
  {
   "cell_type": "code",
   "execution_count": 12,
   "metadata": {},
   "outputs": [
    {
     "name": "stdout",
     "output_type": "stream",
     "text": [
      "14.0\n"
     ]
    }
   ],
   "source": [
    "print (np.sum(x))"
   ]
  },
  {
   "cell_type": "code",
   "execution_count": 13,
   "metadata": {},
   "outputs": [
    {
     "name": "stdout",
     "output_type": "stream",
     "text": [
      "4\n"
     ]
    }
   ],
   "source": [
    "print (len(x))"
   ]
  },
  {
   "cell_type": "markdown",
   "metadata": {},
   "source": [
    "remember that tab is your friend. if you type np. and hit tab you will see a ton of functions we can call"
   ]
  },
  {
   "cell_type": "code",
   "execution_count": null,
   "metadata": {},
   "outputs": [],
   "source": [
    "np."
   ]
  },
  {
   "cell_type": "markdown",
   "metadata": {},
   "source": [
    "### Now we can fit a line!!!!"
   ]
  },
  {
   "cell_type": "markdown",
   "metadata": {},
   "source": [
    "I have now given you all the tools you need to figure out the best fit equation of a line.  Remember the best fit equation of the line is y=mx+b where m is the slope and b is the intercept. We fit 2 points last time which define a line.  When you have many points you have to find the best fit.  We can do that!  To do the fit when you have multiple points you get the equations "
   ]
  },
  {
   "cell_type": "markdown",
   "metadata": {},
   "source": [
    "# $m=\\frac{(n\\Sigma x_i y_i - \\Sigma x_i \\Sigma y_i)}{(n\\Sigma (x_i^2)  - (\\Sigma x_i)^2)}  $\n",
    "\n",
    "# $b=\\frac{\\Sigma(x_i^2) \\Sigma y_i - (\\Sigma x_i y_i)\\Sigma x_i)}{n\\Sigma (x_i^2) - (\\Sigma x_i)^2}$\n",
    "\n",
    "remember $x_i$ means for each element in the list of x. \n",
    "\n",
    "so in our case $x_0 = 1, x_1=3, x_2=4,x_3=6$ \n",
    "\n",
    "if we sum up all of one list that is $\\Sigma x_i=1+3+4+6=14$  \n",
    "\n",
    "n is the length of our list\n",
    "\n",
    "So lets plot our x and y data, look at it and then fit it.  "
   ]
  },
  {
   "cell_type": "markdown",
   "metadata": {},
   "source": [
    "So go ahead and figure out your m and b and then plot the line on the graph.  "
   ]
  },
  {
   "cell_type": "code",
   "execution_count": 33,
   "metadata": {},
   "outputs": [
    {
     "data": {
      "text/plain": [
       "<matplotlib.text.Text at 0x10bff9290>"
      ]
     },
     "execution_count": 33,
     "metadata": {},
     "output_type": "execute_result"
    },
    {
     "data": {
      "image/png": "[encoded data removed]",
      "text/plain": [
       "<matplotlib.figure.Figure at 0x10bfd4b10>"
      ]
     },
     "metadata": {},
     "output_type": "display_data"
    }
   ],
   "source": []
  },
  {
   "cell_type": "markdown",
   "metadata": {},
   "source": [
    "### Now lets use Python to fit the line. \n",
    "### Two functions\n",
    "### 1.  linregress\n",
    "### 2.  Polyfit"
   ]
  },
  {
   "cell_type": "markdown",
   "metadata": {},
   "source": [
    "### Linregress (short for linear regression)\n",
    "\n",
    "I like linregress from scipy for my basic line fitting.  the strength it has over polyfit is that it returns a p-value and an r which you can convert into r$^2$ along with the slope and intercept.  Lets learn about it!"
   ]
  },
  {
   "cell_type": "code",
   "execution_count": 12,
   "metadata": {},
   "outputs": [],
   "source": [
    "?stats.linregress"
   ]
  },
  {
   "cell_type": "markdown",
   "metadata": {},
   "source": [
    "The key is we give it an x and y and then it returns\n",
    "Returns\n",
    "-------\n",
    "slope : float\n",
    "    slope of the regression line\n",
    "    \n",
    "intercept : float\n",
    "    intercept of the regression line\n",
    "\n",
    "r-value : float\n",
    "    correlation coefficient\n",
    "\n",
    "p-value : float\n",
    "    two-sided p-value for a hypothesis test whose null hypothesis is\n",
    "    that the slope is zero.\n",
    "\n",
    "stderr : float\n",
    "    Standard error of the estimate"
   ]
  },
  {
   "cell_type": "markdown",
   "metadata": {},
   "source": [
    "We have talked about this some. But I want to say more explicitly here. In python when you call a function it can return many things. It doesn't have to return one number. It can return an array or multiple values.  For linregress it returns 5 values.  We can names these or put them in an array (I use array and list semi-interchangeably, I apologize and I will try to fix this). **HOW PYTHON CAN RETURN MANY THINGS ON THE LEFT SIDE OF AN EQUAL SIGN IS WEIRD**. Get used to it!"
   ]
  },
  {
   "cell_type": "code",
   "execution_count": 14,
   "metadata": {},
   "outputs": [
    {
     "data": {
      "text/plain": [
       "LinregressResult(slope=0.6153846153846154, intercept=1.3461538461538458, rvalue=0.9922778767136677, pvalue=0.007722123286332257, stderr=0.05439282932204183)"
      ]
     },
     "execution_count": 14,
     "metadata": {},
     "output_type": "execute_result"
    }
   ],
   "source": [
    "stats.linregress(x,y)"
   ]
  },
  {
   "cell_type": "markdown",
   "metadata": {},
   "source": [
    "Why do I like stats.linregress?  Becuase it gives us the r-value (square it and you have the r-squared) and the p-value.   How do these results compare against yours that you calculated?"
   ]
  },
  {
   "cell_type": "markdown",
   "metadata": {},
   "source": [
    "But if you want to use your stats results set it equal to something, it will make a list and then you can access it.  Or you can set each item.  so the two ways are.\n",
    "\n",
    "### First way. Set results equal to a list"
   ]
  },
  {
   "cell_type": "code",
   "execution_count": 51,
   "metadata": {},
   "outputs": [],
   "source": [
    "stats_out=stats.linregress(x,y)"
   ]
  },
  {
   "cell_type": "code",
   "execution_count": 16,
   "metadata": {},
   "outputs": [
    {
     "data": {
      "text/plain": [
       "0.6153846153846154"
      ]
     },
     "execution_count": 16,
     "metadata": {},
     "output_type": "execute_result"
    }
   ],
   "source": [
    "stats_out[0]"
   ]
  },
  {
   "cell_type": "code",
   "execution_count": 17,
   "metadata": {},
   "outputs": [
    {
     "data": {
      "text/plain": [
       "LinregressResult(slope=0.6153846153846154, intercept=1.3461538461538458, rvalue=0.9922778767136677, pvalue=0.007722123286332257, stderr=0.05439282932204183)"
      ]
     },
     "execution_count": 17,
     "metadata": {},
     "output_type": "execute_result"
    }
   ],
   "source": [
    "stats_out"
   ]
  },
  {
   "cell_type": "markdown",
   "metadata": {},
   "source": [
    "### We can give the output meaningful names!"
   ]
  },
  {
   "cell_type": "code",
   "execution_count": 53,
   "metadata": {},
   "outputs": [],
   "source": [
    "slope, intercept, r_value,p_value,stderr= stats.linregress(x,y)"
   ]
  },
  {
   "cell_type": "code",
   "execution_count": 19,
   "metadata": {},
   "outputs": [
    {
     "data": {
      "text/plain": [
       "0.6153846153846154"
      ]
     },
     "execution_count": 19,
     "metadata": {},
     "output_type": "execute_result"
    }
   ],
   "source": [
    "slope"
   ]
  },
  {
   "cell_type": "code",
   "execution_count": 20,
   "metadata": {},
   "outputs": [
    {
     "data": {
      "text/plain": [
       "1.3461538461538458"
      ]
     },
     "execution_count": 20,
     "metadata": {},
     "output_type": "execute_result"
    }
   ],
   "source": [
    "intercept"
   ]
  },
  {
   "cell_type": "markdown",
   "metadata": {},
   "source": [
    "We can give the output nonsensical names.  Remember we control the computer and we are naming them!"
   ]
  },
  {
   "cell_type": "code",
   "execution_count": 21,
   "metadata": {},
   "outputs": [],
   "source": [
    "phineas, ferb, perry,candace,isabelle= stats.linregress(x,y)"
   ]
  },
  {
   "cell_type": "code",
   "execution_count": 23,
   "metadata": {},
   "outputs": [
    {
     "name": "stdout",
     "output_type": "stream",
     "text": [
      "1.3461538461538458\n"
     ]
    }
   ],
   "source": [
    "print (ferb)"
   ]
  },
  {
   "cell_type": "markdown",
   "metadata": {},
   "source": [
    "so it is up to you on how you want to get to the data from a function like stats.linregress()"
   ]
  },
  {
   "cell_type": "markdown",
   "metadata": {},
   "source": [
    "I just learned a cool trick that I like.  You can also use dot notation with your linregress output!  This is nice!"
   ]
  },
  {
   "cell_type": "code",
   "execution_count": 24,
   "metadata": {},
   "outputs": [
    {
     "name": "stdout",
     "output_type": "stream",
     "text": [
      "LinregressResult(slope=0.6153846153846154, intercept=1.3461538461538458, rvalue=0.9922778767136677, pvalue=0.007722123286332257, stderr=0.05439282932204183)\n"
     ]
    }
   ],
   "source": [
    "stats_out=stats.linregress(x,y)\n",
    "print (stats_out)"
   ]
  },
  {
   "cell_type": "markdown",
   "metadata": {},
   "source": [
    "But now you can use the names to get the results."
   ]
  },
  {
   "cell_type": "code",
   "execution_count": 25,
   "metadata": {},
   "outputs": [
    {
     "name": "stdout",
     "output_type": "stream",
     "text": [
      "0.6153846153846154\n"
     ]
    }
   ],
   "source": [
    "print (stats_out.slope)"
   ]
  },
  {
   "cell_type": "code",
   "execution_count": 26,
   "metadata": {},
   "outputs": [
    {
     "name": "stdout",
     "output_type": "stream",
     "text": [
      "1.3461538461538458\n"
     ]
    }
   ],
   "source": [
    "print (stats_out.intercept)"
   ]
  },
  {
   "cell_type": "markdown",
   "metadata": {},
   "source": [
    "I think this might be easier than using the array number or the names!  "
   ]
  },
  {
   "cell_type": "markdown",
   "metadata": {},
   "source": [
    "One thing I have problems with is long lines I want on multiple lines.  For example sometimes I like to define a long string and then use that string as a title.  To have it go over multiple lines you can use brackets.  here is an example of a long string I made for a title.   You can see me accessing the results both ways.  Plus I added a \\n to break lines and python let me break up the code on multiple lines since I was in a parantheses.  Sometimes you can also add a \\ to break the lines to get a line continuation.  see https://stackoverflow.com/questions/4172448/is-it-possible-to-break-a-long-line-to-multiple-lines-in-python"
   ]
  },
  {
   "cell_type": "code",
   "execution_count": 27,
   "metadata": {},
   "outputs": [
    {
     "name": "stdout",
     "output_type": "stream",
     "text": [
      "The best fit line as a slope m=0.615 and intercept b=1.346\n",
      "best fit line linregress slope m=0.615 and intercept b=1.346 \n"
     ]
    }
   ],
   "source": [
    "title=('The best fit line as a slope m={:.3f} and intercept b={:.3f}'.format(stats_out[0],stats_out[1])+\n",
    "       '\\nbest fit line linregress slope m={:.3f} and intercept b={:.3f} '.format(slope,intercept))\n",
    "print (title)\n"
   ]
  },
  {
   "cell_type": "markdown",
   "metadata": {},
   "source": [
    "### Now lets fix up our graph!\n",
    "We can put the title back on.\n"
   ]
  },
  {
   "cell_type": "code",
   "execution_count": 54,
   "metadata": {},
   "outputs": [
    {
     "data": {
      "text/plain": [
       "Text(0.5,1,'The best fit line as a slope m=0.615 and intercept b=1.346\\nbest fit line linregress slope m=0.615 and intercept b=1.346 ')"
      ]
     },
     "execution_count": 54,
     "metadata": {},
     "output_type": "execute_result"
    },
    {
     "data": {
      "image/png": "[encoded data removed]",
      "text/plain": [
       "<Figure size 432x432 with 1 Axes>"
      ]
     },
     "metadata": {
      "needs_background": "light"
     },
     "output_type": "display_data"
    }
   ],
   "source": [
    "fig,ax=plt.subplots()\n",
    "fig.set_size_inches(6,6)  # I made a square graph\n",
    "ax.scatter(x,y)\n",
    "\n",
    "#find the stats\n",
    "\n",
    "#plot the best fit line\n",
    "x_fit=np.linspace(np.min(x),np.max(x))\n",
    "ax.plot(x_fit,x_fit*stats_out[0]+stats_out[1])\n",
    "\n",
    "ax.set_xlabel('x')\n",
    "ax.set_ylabel('y')\n",
    "title=('The best fit line as a slope m={:.3f} and intercept b={:.3f}'.format(stats_out[0],stats_out[1])+\n",
    "       '\\nbest fit line linregress slope m={:.3f} and intercept b={:.3f} '.format(slope,intercept))\n",
    "ax.set_title(title)"
   ]
  },
  {
   "cell_type": "markdown",
   "metadata": {},
   "source": [
    "#### But I think adding a textbox to the graph makes it look more professional\n",
    "\n",
    "Sometimes when making a graph, instead of putting in a title it looks better to put in a text box with just the details.  It is a three step process to make a nice box. Scroll down this link and you can see where I got the recipe from. http://matplotlib.org/users/recipes.html  It is at the bottom\n",
    "\n",
    "1.  First you define the box by making a dictionary of the box properties.  We ususally call it props for the properties of the box.\n",
    "\n",
    "2.  Then you make the text string you want in the box.  for a linear equation you usually want slope, interecept, r$^2$, and p-value\n",
    "\n",
    "3.  You then say where you want the information.  This is within the ax properties since we will put it into the graph.  You tell it the relative location, Then you give it the text, somemore information, and then the props\n",
    "\n",
    "4.  Also add the linregress to this cell to do everything in one place to make it clean"
   ]
  },
  {
   "cell_type": "code",
   "execution_count": 56,
   "metadata": {},
   "outputs": [
    {
     "data": {
      "text/plain": [
       "Text(0.05,0.95,'m=0.615\\nb=1.346\\n$r^2$=0.985\\np=0.008')"
      ]
     },
     "execution_count": 56,
     "metadata": {},
     "output_type": "execute_result"
    },
    {
     "data": {
      "image/png": "[encoded data removed]",
      "text/plain": [
       "<Figure size 432x432 with 1 Axes>"
      ]
     },
     "metadata": {
      "needs_background": "light"
     },
     "output_type": "display_data"
    }
   ],
   "source": [
    "fig,ax=plt.subplots()\n",
    "fig.set_size_inches(6,6)  # I made a square graph\n",
    "ax.scatter(x,y)\n",
    "\n",
    "#Stats on the data\n",
    "slope, intercept, r_value,p_value,stderr= stats.linregress(x,y)\n",
    "\n",
    "#plot the best fit line\n",
    "x_fit=np.linspace(np.min(x),np.max(x))\n",
    "ax.plot(x_fit,x_fit*stats_out[0]+stats_out[1])\n",
    "\n",
    "ax.set_xlabel('x')\n",
    "ax.set_ylabel('y')\n",
    "\n",
    "# This is the code I added to get the box below with the normal graphing\n",
    "props=dict(boxstyle='round',facecolor='wheat',alpha=0.5)\n",
    "textstr='m={:.3f}\\nb={:.3f}\\n$r^2$={:.3f}\\np={:.3f}'.format(slope,intercept,r_value**2, p_value)\n",
    "ax.text(0.05,0.95,textstr,transform=ax.transAxes,fontsize=10,verticalalignment='top',bbox=props)"
   ]
  },
  {
   "cell_type": "code",
   "execution_count": null,
   "metadata": {},
   "outputs": [],
   "source": []
  },
  {
   "cell_type": "markdown",
   "metadata": {},
   "source": [
    "## Class Assignment\n",
    "### Fit a line to the KNYC and KLGA data and plot it\n",
    "Now can you go back and get the KNYC and KLGA weather data and see if they are correlated?  I would use your program and then compare to linregress.  Remember to use np.array([]) to enter the data as a numpy array.  Also remember you need at least one float in your list to make it all floats.  I like the second graph with the box!"
   ]
  },
  {
   "cell_type": "code",
   "execution_count": 3,
   "metadata": {},
   "outputs": [
    {
     "data": {
      "text/plain": [
       "<matplotlib.text.Text at 0x15614fd0>"
      ]
     },
     "execution_count": 3,
     "metadata": {},
     "output_type": "execute_result"
    },
    {
     "data": {
      "image/png": "[encoded data removed]",
      "text/plain": [
       "<matplotlib.figure.Figure at 0x155882b0>"
      ]
     },
     "metadata": {},
     "output_type": "display_data"
    }
   ],
   "source": []
  },
  {
   "cell_type": "code",
   "execution_count": 29,
   "metadata": {},
   "outputs": [
    {
     "data": {
      "text/plain": [
       "<matplotlib.text.Text at 0x9d05cf8>"
      ]
     },
     "execution_count": 29,
     "metadata": {},
     "output_type": "execute_result"
    },
    {
     "data": {
      "image/png": "[encoded data removed]",
      "text/plain": [
       "<matplotlib.figure.Figure at 0xa364dd8>"
      ]
     },
     "metadata": {},
     "output_type": "display_data"
    }
   ],
   "source": []
  },
  {
   "cell_type": "markdown",
   "metadata": {},
   "source": [
    "## What is a p-value?\n",
    "Statisticians argue about p-values and what they exactly mean.  We are going to do an exercise to help you understand.\n",
    "\n",
    "In my simplistic world I think of a p-value as the chance of the result happening by chance.\n",
    "\n",
    "a p-value of 0.05 means that result could happen by chance 5% of the time.  It sort of but not quite means that the result is real 95% of the time.  \n",
    "\n",
    "a p-value of 0.01 means that result could happen by chance 5% of the time.  It sort of but not quite means that the result is real 99% of the time.   \n",
    "\n",
    "you usually see people writing p<0.05 when they want to show the relationship is siginificant.  We say it is significant because only 5% of the time it happens randomly.\n",
    "\n",
    "This means if we randomly create data.  5% of the time we would get a p-value<0.05.  95% of the time our results would look like junk.  so lets do it!"
   ]
  },
  {
   "cell_type": "markdown",
   "metadata": {},
   "source": [
    "Use the nump function random to get random numbers from 0 to 1.  it is np.random.random(size) and you give how many. lets do 50.  "
   ]
  },
  {
   "cell_type": "code",
   "execution_count": 4,
   "metadata": {},
   "outputs": [
    {
     "data": {
      "text/plain": [
       "array([0.83924864, 0.79017578, 0.65959108, 0.65493248, 0.26227369,\n",
       "       0.97488535, 0.55652452, 0.40290776, 0.8037825 , 0.23097904,\n",
       "       0.44336226, 0.8544463 , 0.77370308, 0.56201098, 0.45682328,\n",
       "       0.12989659, 0.44410035, 0.2606173 , 0.47432478, 0.89688662,\n",
       "       0.11907394, 0.62043156, 0.73203913, 0.04067598, 0.5437891 ,\n",
       "       0.75197172, 0.59099608, 0.64096812, 0.10874743, 0.47744603,\n",
       "       0.3948359 , 0.82404172, 0.19022027, 0.38173085, 0.58328224,\n",
       "       0.40495029, 0.90123607, 0.56029927, 0.17619404, 0.890663  ,\n",
       "       0.37656378, 0.77656197, 0.72716391, 0.69396718, 0.77096736,\n",
       "       0.2226724 , 0.83908425, 0.2410332 , 0.31662569, 0.26617482])"
      ]
     },
     "execution_count": 4,
     "metadata": {},
     "output_type": "execute_result"
    }
   ],
   "source": [
    "np.random.random(50)"
   ]
  },
  {
   "cell_type": "markdown",
   "metadata": {},
   "source": [
    "Now make your x and y data each with 50 numbers"
   ]
  },
  {
   "cell_type": "code",
   "execution_count": 5,
   "metadata": {},
   "outputs": [],
   "source": [
    "x=np.random.random(50)\n",
    "y=np.random.random(50)"
   ]
  },
  {
   "cell_type": "markdown",
   "metadata": {},
   "source": [
    "Now plot the data.  Every time you run it your data will change."
   ]
  },
  {
   "cell_type": "code",
   "execution_count": 7,
   "metadata": {},
   "outputs": [
    {
     "data": {
      "text/plain": [
       "<matplotlib.collections.PathCollection at 0x2e036668748>"
      ]
     },
     "execution_count": 7,
     "metadata": {},
     "output_type": "execute_result"
    },
    {
     "data": {
      "image/png": "[encoded data removed]",
      "text/plain": [
       "<Figure size 432x432 with 1 Axes>"
      ]
     },
     "metadata": {
      "needs_background": "light"
     },
     "output_type": "display_data"
    }
   ],
   "source": [
    "x=np.random.random(50)\n",
    "y=np.random.random(50)\n",
    "\n",
    "fig,ax=plt.subplots()\n",
    "fig.set_size_inches(6,6)  # I made a square graph\n",
    "ax.scatter(x,y)\n",
    "\n",
    "slope, intercept, r_value,p_value,stderr= stats.linregress(x,y)"
   ]
  },
  {
   "cell_type": "markdown",
   "metadata": {},
   "source": [
    "Now add the best fit line"
   ]
  },
  {
   "cell_type": "code",
   "execution_count": 36,
   "metadata": {},
   "outputs": [
    {
     "data": {
      "text/plain": [
       "Text(0.05,0.95,'m=0.298\\nb=0.405\\n$r^2$=0.090\\np=0.034')"
      ]
     },
     "execution_count": 36,
     "metadata": {},
     "output_type": "execute_result"
    },
    {
     "data": {
      "image/png": "[encoded data removed]",
      "text/plain": [
       "<Figure size 432x432 with 1 Axes>"
      ]
     },
     "metadata": {
      "needs_background": "light"
     },
     "output_type": "display_data"
    }
   ],
   "source": [
    "x=np.random.random(50)\n",
    "y=np.random.random(50)\n",
    "\n",
    "fig,ax=plt.subplots()\n",
    "fig.set_size_inches(6,6)  # I made a square graph\n",
    "ax.scatter(x,y)\n",
    "\n",
    "#calculate the best fit line\n",
    "slope, intercept, r_value,p_value,stderr= stats.linregress(x,y)\n",
    "\n",
    "#plot the best fit line\n",
    "x_fit=np.linspace(np.min(x),np.max(x))\n",
    "ax.plot(x_fit,x_fit*slope+intercept)\n",
    "\n",
    "ax.set_xlabel('x')\n",
    "ax.set_ylabel('y')\n",
    "\n",
    "# This is the code I added to get the box below with the normal graphing\n",
    "props=dict(boxstyle='round',facecolor='wheat',alpha=0.5)\n",
    "textstr='m={:.3f}\\nb={:.3f}\\n$r^2$={:.3f}\\np={:.3f}'.format(slope,intercept,r_value**2,p_value)\n",
    "ax.text(0.05,0.95,textstr,transform=ax.transAxes,fontsize=10,verticalalignment='top',bbox=props)"
   ]
  },
  {
   "cell_type": "markdown",
   "metadata": {},
   "source": [
    "Now rerun the cell and count how many times it takes you to get a p-value less than 0.05.  Then go write your number on the board.  It took me 27."
   ]
  },
  {
   "cell_type": "markdown",
   "metadata": {},
   "source": [
    "Now lets get rid of the graph and run the regression 1000 times and count how many times we get a significant result"
   ]
  },
  {
   "cell_type": "code",
   "execution_count": 45,
   "metadata": {},
   "outputs": [
    {
     "name": "stdout",
     "output_type": "stream",
     "text": [
      "Loop Number 13 with a p_value of 0.022558052361586943\n",
      "Loop Number 31 with a p_value of 0.017982253466347905\n",
      "Loop Number 32 with a p_value of 0.0014324475492942493\n",
      "Loop Number 39 with a p_value of 0.01691601607524046\n",
      "Loop Number 82 with a p_value of 0.045168330500549136\n",
      "Loop Number 85 with a p_value of 0.0029123597362012174\n",
      "Loop Number 93 with a p_value of 0.021765294203463854\n",
      "Loop Number 108 with a p_value of 0.0011460005385161387\n",
      "Loop Number 152 with a p_value of 0.005411299568326778\n",
      "Loop Number 160 with a p_value of 0.04896205201087827\n",
      "Loop Number 173 with a p_value of 0.02711874281399136\n",
      "Loop Number 189 with a p_value of 0.009017089019986968\n",
      "Loop Number 237 with a p_value of 0.012344069540655395\n",
      "Loop Number 269 with a p_value of 0.04134184945766088\n",
      "Loop Number 272 with a p_value of 0.0066966488489467214\n",
      "Loop Number 278 with a p_value of 0.046569456627002015\n",
      "Loop Number 284 with a p_value of 0.02871370918155745\n",
      "Loop Number 295 with a p_value of 0.041743775465741935\n",
      "Loop Number 341 with a p_value of 0.029868724920940365\n",
      "Loop Number 351 with a p_value of 0.017805023664058447\n",
      "Loop Number 373 with a p_value of 0.001154139329045337\n",
      "Loop Number 383 with a p_value of 0.006113831399726536\n",
      "Loop Number 392 with a p_value of 0.03297353021780232\n",
      "Loop Number 400 with a p_value of 0.04130067015759674\n",
      "Loop Number 413 with a p_value of 0.044685393595583656\n",
      "Loop Number 446 with a p_value of 0.002867223686763904\n",
      "Loop Number 459 with a p_value of 0.02848871163003011\n",
      "Loop Number 465 with a p_value of 0.01611939341918752\n",
      "Loop Number 479 with a p_value of 0.014317517821215393\n",
      "Loop Number 480 with a p_value of 0.024828940215177182\n",
      "Loop Number 506 with a p_value of 0.03670890969784694\n",
      "Loop Number 510 with a p_value of 0.0036394836423720408\n",
      "Loop Number 517 with a p_value of 0.029501130071907574\n",
      "Loop Number 543 with a p_value of 0.045681109626103306\n",
      "Loop Number 569 with a p_value of 0.0072394964213638845\n",
      "Loop Number 577 with a p_value of 0.002074424507190898\n",
      "Loop Number 606 with a p_value of 0.015119255918550989\n",
      "Loop Number 643 with a p_value of 0.006904610486154301\n",
      "Loop Number 669 with a p_value of 0.006645234318081556\n",
      "Loop Number 672 with a p_value of 0.034134862036897175\n",
      "Loop Number 679 with a p_value of 0.03245209247680455\n",
      "Loop Number 686 with a p_value of 0.036639627260160366\n",
      "Loop Number 696 with a p_value of 0.0021619697322975587\n",
      "Loop Number 698 with a p_value of 0.028486813140211426\n",
      "Loop Number 701 with a p_value of 0.045334000881180614\n",
      "Loop Number 721 with a p_value of 0.010973794870896695\n",
      "Loop Number 732 with a p_value of 0.02791272152165971\n",
      "Loop Number 737 with a p_value of 0.021057673977081366\n",
      "Loop Number 765 with a p_value of 0.023449306940830195\n",
      "Loop Number 779 with a p_value of 0.0029129238875886692\n",
      "Loop Number 805 with a p_value of 0.011564529406579878\n",
      "Loop Number 847 with a p_value of 0.017917801613274997\n",
      "Loop Number 873 with a p_value of 0.032119660972761276\n",
      "Loop Number 881 with a p_value of 0.008500337120411086\n",
      "Loop Number 887 with a p_value of 0.04643167098373678\n",
      "Loop Number 913 with a p_value of 0.01095041995152082\n",
      "Loop Number 937 with a p_value of 0.030627513977587305\n",
      "Loop Number 938 with a p_value of 0.017425098815041586\n",
      "Loop Number 940 with a p_value of 0.018023262815993084\n",
      "Loop Number 996 with a p_value of 0.04536128870795962\n",
      "I ran the for loop 1000 times and the p_value was less than 0.05 60 times\n"
     ]
    }
   ],
   "source": [
    "num_sig=0\n",
    "\n",
    "for i in np.arange(1000):\n",
    "    x=np.random.random(50)\n",
    "    y=np.random.random(50)\n",
    "\n",
    "    #calculate the best fit line\n",
    "    slope, intercept, r_value,p_value,stderr= stats.linregress(x,y)\n",
    "    if p_value<0.05:\n",
    "        num_sig+=1\n",
    "        print('Loop Number {} with a p_value of {}'.format(i,p_value))\n",
    "\n",
    "print('I ran the for loop 1000 times and the p_value was less than 0.05 {} times'.format(num_sig))\n"
   ]
  },
  {
   "cell_type": "markdown",
   "metadata": {},
   "source": [
    "So hopefully this helps you with a p-values.  the p-value tells you how often the result may happen randomly.  So the lower the p-value the lower the probability of the result happening randomly.  Therefore you can \"trust\" the result more.  But really you report the p-value so people know how you are making your choice on the significance of the results.  A lot of methods report a p-value so you will be seeing this!"
   ]
  },
  {
   "cell_type": "code",
   "execution_count": null,
   "metadata": {},
   "outputs": [],
   "source": []
  },
  {
   "cell_type": "markdown",
   "metadata": {},
   "source": [
    "### Foreshadowing.  \n",
    "If you are done early keep going and learn about polyfit.  If not we will come back to this"
   ]
  },
  {
   "cell_type": "markdown",
   "metadata": {},
   "source": [
    "Polyfit is from numpy.  "
   ]
  },
  {
   "cell_type": "code",
   "execution_count": 30,
   "metadata": {},
   "outputs": [],
   "source": [
    "?np.polyfit"
   ]
  },
  {
   "cell_type": "markdown",
   "metadata": {},
   "source": [
    "Polyfit will return us the m and b.  The strength of polyfit is two fold.  First you can do higher order by changing the third parameter and also it makes it easy to fit your data.  "
   ]
  },
  {
   "cell_type": "code",
   "execution_count": 31,
   "metadata": {},
   "outputs": [
    {
     "data": {
      "text/plain": [
       "array([0.61538462, 1.34615385])"
      ]
     },
     "execution_count": 31,
     "metadata": {},
     "output_type": "execute_result"
    }
   ],
   "source": [
    "np.polyfit(x,y,1)"
   ]
  },
  {
   "cell_type": "markdown",
   "metadata": {},
   "source": [
    "So you could do second order.  where you get the best fit y=a$x^2$+bx+c"
   ]
  },
  {
   "cell_type": "code",
   "execution_count": 32,
   "metadata": {},
   "outputs": [
    {
     "data": {
      "text/plain": [
       "array([1.77953990e-16, 6.15384615e-01, 1.34615385e+00])"
      ]
     },
     "execution_count": 32,
     "metadata": {},
     "output_type": "execute_result"
    }
   ],
   "source": [
    "np.polyfit(x,y,2)"
   ]
  },
  {
   "cell_type": "markdown",
   "metadata": {},
   "source": [
    "Now how can we get the fit?"
   ]
  },
  {
   "cell_type": "code",
   "execution_count": 33,
   "metadata": {},
   "outputs": [
    {
     "name": "stdout",
     "output_type": "stream",
     "text": [
      "[1.77953990e-16 6.15384615e-01 1.34615385e+00]\n"
     ]
    }
   ],
   "source": [
    "fit=np.polyfit(x,y,2)\n",
    "print (fit)"
   ]
  },
  {
   "cell_type": "markdown",
   "metadata": {},
   "source": [
    "This is a cool polyfit function.  Remember this as it can come in useful"
   ]
  },
  {
   "cell_type": "code",
   "execution_count": 34,
   "metadata": {},
   "outputs": [],
   "source": [
    "eqn=np.poly1d(fit)"
   ]
  },
  {
   "cell_type": "code",
   "execution_count": 35,
   "metadata": {},
   "outputs": [
    {
     "name": "stdout",
     "output_type": "stream",
     "text": [
      "          2\n",
      "1.78e-16 x + 0.6154 x + 1.346\n"
     ]
    }
   ],
   "source": [
    "print (eqn)"
   ]
  },
  {
   "cell_type": "markdown",
   "metadata": {},
   "source": [
    "Now lets pass a value to eqn"
   ]
  },
  {
   "cell_type": "code",
   "execution_count": 36,
   "metadata": {},
   "outputs": [
    {
     "data": {
      "text/plain": [
       "7.500000000000015"
      ]
     },
     "execution_count": 36,
     "metadata": {},
     "output_type": "execute_result"
    }
   ],
   "source": [
    "eqn(10)"
   ]
  },
  {
   "cell_type": "code",
   "execution_count": 37,
   "metadata": {},
   "outputs": [
    {
     "data": {
      "text/plain": [
       "array([-4.80769231, -4.55651491, -4.30533752, -4.05416013, -3.80298273,\n",
       "       -3.55180534, -3.30062794, -3.04945055, -2.79827316, -2.54709576,\n",
       "       -2.29591837, -2.04474097, -1.79356358, -1.54238619, -1.29120879,\n",
       "       -1.0400314 , -0.788854  , -0.53767661, -0.28649922, -0.03532182,\n",
       "        0.21585557,  0.46703297,  0.71821036,  0.96938776,  1.22056515,\n",
       "        1.47174254,  1.72291994,  1.97409733,  2.22527473,  2.47645212,\n",
       "        2.72762951,  2.97880691,  3.2299843 ,  3.4811617 ,  3.73233909,\n",
       "        3.98351648,  4.23469388,  4.48587127,  4.73704867,  4.98822606,\n",
       "        5.23940345,  5.49058085,  5.74175824,  5.99293564,  6.24411303,\n",
       "        6.49529042,  6.74646782,  6.99764521,  7.24882261,  7.5       ])"
      ]
     },
     "execution_count": 37,
     "metadata": {},
     "output_type": "execute_result"
    }
   ],
   "source": [
    "eqn(np.linspace(-10,10))"
   ]
  },
  {
   "cell_type": "markdown",
   "metadata": {},
   "source": [
    "Poly1d doesn't do everything we want.  But if you need to fit a higher order equation and print the equation it is really nice"
   ]
  },
  {
   "cell_type": "markdown",
   "metadata": {},
   "source": [
    "# Answer\n",
    "I posted the answers in a seperate notebook. Don't cheat and look. Work through it."
   ]
  },
  {
   "cell_type": "code",
   "execution_count": null,
   "metadata": {},
   "outputs": [],
   "source": []
  },
  {
   "cell_type": "code",
   "execution_count": null,
   "metadata": {
    "collapsed": true
   },
   "outputs": [],
   "source": []
  }
 ],
 "metadata": {
  "kernelspec": {
   "display_name": "Python 3",
   "language": "python",
   "name": "python3"
  },
  "language_info": {
   "codemirror_mode": {
    "name": "ipython",
    "version": 3
   },
   "file_extension": ".py",
   "mimetype": "text/x-python",
   "name": "python",
   "nbconvert_exporter": "python",
   "pygments_lexer": "ipython3",
   "version": "3.6.6"
  }
 },
 "nbformat": 4,
 "nbformat_minor": 1
}
