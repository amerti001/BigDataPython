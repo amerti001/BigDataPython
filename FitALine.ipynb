{
 "cells": [
  {
   "cell_type": "markdown",
   "metadata": {},
   "source": [
    "# Best Fit Line"
   ]
  },
  {
   "cell_type": "markdown",
   "metadata": {},
   "source": [
    "today we are going to write our own code for fitting a line and then comparing it to differnt functions in python.  We are going to take our math form Daniel C. Harris, Quantitative Chemical Analysis pages 66 and 67.  "
   ]
  },
  {
   "cell_type": "markdown",
   "metadata": {},
   "source": [
    "To begin we are going to cheat and make our lives easier and use the numpy package.  This package lets us do some array operations really easily and we won't have to do for loops.  I was thinking of being mean and using all for loops.  But lets take advantage of python.  First lets import numpy and see what we can do.  "
   ]
  },
  {
   "cell_type": "code",
   "execution_count": 1,
   "metadata": {
    "collapsed": true
   },
   "outputs": [],
   "source": [
    "%matplotlib inline  \n",
    "import numpy as np\n",
    "import matplotlib.pyplot as plt\n",
    "from scipy import stats"
   ]
  },
  {
   "cell_type": "code",
   "execution_count": 2,
   "metadata": {
    "collapsed": false
   },
   "outputs": [
    {
     "name": "stdout",
     "output_type": "stream",
     "text": [
      "[ 1.  3.  4.  6.]\n"
     ]
    },
    {
     "data": {
      "text/plain": [
       "numpy.ndarray"
      ]
     },
     "execution_count": 2,
     "metadata": {},
     "output_type": "execute_result"
    }
   ],
   "source": [
    "import numpy as np\n",
    "x=np.array([1.,3,4,6])\n",
    "print x\n",
    "type(x)"
   ]
  },
  {
   "cell_type": "markdown",
   "metadata": {},
   "source": [
    "So we could enter a list but instead of calling it a list we call it a numpy array.  This is like a supercharged list.  "
   ]
  },
  {
   "cell_type": "markdown",
   "metadata": {},
   "source": [
    "Now we can make the y"
   ]
  },
  {
   "cell_type": "code",
   "execution_count": 3,
   "metadata": {
    "collapsed": false
   },
   "outputs": [],
   "source": [
    "y=np.array([2,3,4,5])"
   ]
  },
  {
   "cell_type": "markdown",
   "metadata": {},
   "source": [
    "Now this is where numpy gets really cool.  you can multiply and add your lists.  This is different than array math if you have taken linear algebra.  But we will be able to do that also.  "
   ]
  },
  {
   "cell_type": "code",
   "execution_count": 4,
   "metadata": {
    "collapsed": false
   },
   "outputs": [
    {
     "name": "stdout",
     "output_type": "stream",
     "text": [
      "[  2.   9.  16.  30.]\n"
     ]
    }
   ],
   "source": [
    "print x*y"
   ]
  },
  {
   "cell_type": "code",
   "execution_count": 5,
   "metadata": {
    "collapsed": false
   },
   "outputs": [
    {
     "name": "stdout",
     "output_type": "stream",
     "text": [
      "[  3.   6.   8.  11.]\n"
     ]
    }
   ],
   "source": [
    "print x+y"
   ]
  },
  {
   "cell_type": "code",
   "execution_count": 6,
   "metadata": {
    "collapsed": false
   },
   "outputs": [
    {
     "name": "stdout",
     "output_type": "stream",
     "text": [
      "[-1.  0.  0.  1.]\n"
     ]
    }
   ],
   "source": [
    "print x-y"
   ]
  },
  {
   "cell_type": "code",
   "execution_count": 7,
   "metadata": {
    "collapsed": false
   },
   "outputs": [
    {
     "name": "stdout",
     "output_type": "stream",
     "text": [
      "[ 0.5  1.   1.   1.2]\n"
     ]
    }
   ],
   "source": [
    "print x/y"
   ]
  },
  {
   "cell_type": "code",
   "execution_count": 8,
   "metadata": {
    "collapsed": false
   },
   "outputs": [
    {
     "name": "stdout",
     "output_type": "stream",
     "text": [
      "[ 1.  0.  0.  1.]\n"
     ]
    }
   ],
   "source": [
    "print x%y"
   ]
  },
  {
   "cell_type": "markdown",
   "metadata": {},
   "source": [
    "If you are doing linear algebra there are methods to do true matrix multiplication.   For example the dot product. "
   ]
  },
  {
   "cell_type": "code",
   "execution_count": 9,
   "metadata": {
    "collapsed": false
   },
   "outputs": [
    {
     "name": "stdout",
     "output_type": "stream",
     "text": [
      "57.0\n"
     ]
    }
   ],
   "source": [
    "print np.dot(x,y)"
   ]
  },
  {
   "cell_type": "code",
   "execution_count": 10,
   "metadata": {
    "collapsed": false
   },
   "outputs": [
    {
     "name": "stdout",
     "output_type": "stream",
     "text": [
      "14.0\n"
     ]
    }
   ],
   "source": [
    "print np.sum(x)"
   ]
  },
  {
   "cell_type": "code",
   "execution_count": 11,
   "metadata": {
    "collapsed": false
   },
   "outputs": [
    {
     "name": "stdout",
     "output_type": "stream",
     "text": [
      "4\n"
     ]
    }
   ],
   "source": [
    "print len(x)"
   ]
  },
  {
   "cell_type": "code",
   "execution_count": 12,
   "metadata": {
    "collapsed": false
   },
   "outputs": [
    {
     "ename": "SyntaxError",
     "evalue": "invalid syntax (<ipython-input-12-a58a88215da2>, line 1)",
     "output_type": "error",
     "traceback": [
      "\u001b[1;36m  File \u001b[1;32m\"<ipython-input-12-a58a88215da2>\"\u001b[1;36m, line \u001b[1;32m1\u001b[0m\n\u001b[1;33m    np.\u001b[0m\n\u001b[1;37m       ^\u001b[0m\n\u001b[1;31mSyntaxError\u001b[0m\u001b[1;31m:\u001b[0m invalid syntax\n"
     ]
    }
   ],
   "source": [
    "np."
   ]
  },
  {
   "cell_type": "markdown",
   "metadata": {},
   "source": [
    "I have now given you all the tools you need to figure out the best fit equation of a line.  Remember the best fit equation of the line is y=mx+b where m is the slope and b is the intercept. To do the fit when you have multiple points you get the equations "
   ]
  },
  {
   "cell_type": "markdown",
   "metadata": {},
   "source": [
    "$m=\\frac{(n\\Sigma x_i y_i - \\Sigma x_i \\Sigma y_i)}{(n\\Sigma (x_i^2)  - (\\Sigma x_i)^2)}  $\n",
    "\n",
    "$b=\\frac{\\Sigma(x_i^2) \\Sigma y_i - (\\Sigma x_i y_i)\\Sigma x_i)}{n\\Sigma (x_i^2) - (\\Sigma x_i)^2}$\n",
    "\n",
    "remember $x_i$ means for each element in the list of x. so in our case $x_0 = 1, x_1=3, x_2=4,x_3=6$ and if we sum up all of one list that is $\\Sigma x_i=1+3+4+6=14$  \n",
    "\n",
    "So lets plot our x and y data, look at it and then fit it.  "
   ]
  },
  {
   "cell_type": "code",
   "execution_count": 4,
   "metadata": {
    "collapsed": false
   },
   "outputs": [
    {
     "data": {
      "text/plain": [
       "<matplotlib.text.Text at 0xa8c59b0>"
      ]
     },
     "execution_count": 4,
     "metadata": {},
     "output_type": "execute_result"
    },
    {
     "data": {
      "image/png": "[encoded data removed]",
      "text/plain": [
       "<matplotlib.figure.Figure at 0x3ddbb70>"
      ]
     },
     "metadata": {},
     "output_type": "display_data"
    }
   ],
   "source": [
    "% matplotlib inline\n",
    "import matplotlib.pylab as plt\n",
    "\n",
    "fig,ax=plt.subplots()\n",
    "fig.set_size_inches(6,6)\n",
    "ax.scatter(x,y)\n",
    "ax.set_xlabel('x')\n",
    "ax.set_ylabel('y')"
   ]
  },
  {
   "cell_type": "markdown",
   "metadata": {},
   "source": [
    "So go ahead and figure out your m and b and then plot the line on the graph.  "
   ]
  },
  {
   "cell_type": "code",
   "execution_count": 33,
   "metadata": {
    "collapsed": false
   },
   "outputs": [
    {
     "data": {
      "text/plain": [
       "<matplotlib.text.Text at 0x10bff9290>"
      ]
     },
     "execution_count": 33,
     "metadata": {},
     "output_type": "execute_result"
    },
    {
     "data": {
      "image/png": "[encoded data removed]",
      "text/plain": [
       "<matplotlib.figure.Figure at 0x10bfd4b10>"
      ]
     },
     "metadata": {},
     "output_type": "display_data"
    }
   ],
   "source": []
  },
  {
   "cell_type": "markdown",
   "metadata": {},
   "source": [
    "Lets compare our answer to two ways to figure out a line in python.  They are polyfit and linregress.  There are more.  But lets start with those.  So we will start by getting help on polyfit.   Polyfit is from numpy.  "
   ]
  },
  {
   "cell_type": "code",
   "execution_count": 14,
   "metadata": {
    "collapsed": false
   },
   "outputs": [],
   "source": [
    "?np.polyfit"
   ]
  },
  {
   "cell_type": "markdown",
   "metadata": {},
   "source": [
    "Polyfit will return us the m and b.  The strength of polyfit is two fold.  First you can do higher order by changing the third parameter and also it makes it easy to fit your data.  "
   ]
  },
  {
   "cell_type": "code",
   "execution_count": 16,
   "metadata": {
    "collapsed": false
   },
   "outputs": [
    {
     "data": {
      "text/plain": [
       "array([ 0.61538462,  1.34615385])"
      ]
     },
     "execution_count": 16,
     "metadata": {},
     "output_type": "execute_result"
    }
   ],
   "source": [
    "np.polyfit(x,y,1)"
   ]
  },
  {
   "cell_type": "markdown",
   "metadata": {},
   "source": [
    "So you could do second order.  where you get the best fit y=a$x^2$+bx+c"
   ]
  },
  {
   "cell_type": "code",
   "execution_count": 17,
   "metadata": {
    "collapsed": false
   },
   "outputs": [
    {
     "data": {
      "text/plain": [
       "array([  8.89769948e-17,   6.15384615e-01,   1.34615385e+00])"
      ]
     },
     "execution_count": 17,
     "metadata": {},
     "output_type": "execute_result"
    }
   ],
   "source": [
    "np.polyfit(x,y,2)"
   ]
  },
  {
   "cell_type": "markdown",
   "metadata": {},
   "source": [
    "Now how can we get the fit?"
   ]
  },
  {
   "cell_type": "code",
   "execution_count": 19,
   "metadata": {
    "collapsed": false
   },
   "outputs": [
    {
     "name": "stdout",
     "output_type": "stream",
     "text": [
      "[  8.89769948e-17   6.15384615e-01   1.34615385e+00]\n"
     ]
    }
   ],
   "source": [
    "fit=np.polyfit(x,y,2)\n",
    "print fit"
   ]
  },
  {
   "cell_type": "code",
   "execution_count": 20,
   "metadata": {
    "collapsed": true
   },
   "outputs": [],
   "source": [
    "eqn=np.poly1d(fit)"
   ]
  },
  {
   "cell_type": "code",
   "execution_count": 21,
   "metadata": {
    "collapsed": false
   },
   "outputs": [
    {
     "name": "stdout",
     "output_type": "stream",
     "text": [
      "           2\n",
      "8.898e-17 x + 0.6154 x + 1.346\n"
     ]
    }
   ],
   "source": [
    "print eqn"
   ]
  },
  {
   "cell_type": "markdown",
   "metadata": {},
   "source": [
    "Now lets pass a value to eqn"
   ]
  },
  {
   "cell_type": "code",
   "execution_count": 23,
   "metadata": {
    "collapsed": false
   },
   "outputs": [
    {
     "data": {
      "text/plain": [
       "7.5000000000000071"
      ]
     },
     "execution_count": 23,
     "metadata": {},
     "output_type": "execute_result"
    }
   ],
   "source": [
    "eqn(10)"
   ]
  },
  {
   "cell_type": "code",
   "execution_count": 24,
   "metadata": {
    "collapsed": false
   },
   "outputs": [
    {
     "data": {
      "text/plain": [
       "array([-4.80769231, -4.55651491, -4.30533752, -4.05416013, -3.80298273,\n",
       "       -3.55180534, -3.30062794, -3.04945055, -2.79827316, -2.54709576,\n",
       "       -2.29591837, -2.04474097, -1.79356358, -1.54238619, -1.29120879,\n",
       "       -1.0400314 , -0.788854  , -0.53767661, -0.28649922, -0.03532182,\n",
       "        0.21585557,  0.46703297,  0.71821036,  0.96938776,  1.22056515,\n",
       "        1.47174254,  1.72291994,  1.97409733,  2.22527473,  2.47645212,\n",
       "        2.72762951,  2.97880691,  3.2299843 ,  3.4811617 ,  3.73233909,\n",
       "        3.98351648,  4.23469388,  4.48587127,  4.73704867,  4.98822606,\n",
       "        5.23940345,  5.49058085,  5.74175824,  5.99293564,  6.24411303,\n",
       "        6.49529042,  6.74646782,  6.99764521,  7.24882261,  7.5       ])"
      ]
     },
     "execution_count": 24,
     "metadata": {},
     "output_type": "execute_result"
    }
   ],
   "source": [
    "eqn(np.linspace(-10,10))"
   ]
  },
  {
   "cell_type": "markdown",
   "metadata": {},
   "source": [
    "Poly1d doesn't do everything we want.  But if you need to fit a higher order equation and print the equation it is really nice"
   ]
  },
  {
   "cell_type": "markdown",
   "metadata": {},
   "source": [
    "I like linregress from scipy for my basic line fitting.  the strength it has over polyfit is that it returns a p-value and an r$^2$ along with the slope and intercept.  Lets learn about it!"
   ]
  },
  {
   "cell_type": "code",
   "execution_count": 25,
   "metadata": {
    "collapsed": false
   },
   "outputs": [],
   "source": []
  },
  {
   "cell_type": "code",
   "execution_count": 27,
   "metadata": {
    "collapsed": false
   },
   "outputs": [],
   "source": [
    "?stats.linregress"
   ]
  },
  {
   "cell_type": "markdown",
   "metadata": {},
   "source": [
    "The key is we give it an x and y and then it returns\n",
    "Returns\n",
    "-------\n",
    "slope : float\n",
    "    slope of the regression line\n",
    "intercept : float\n",
    "    intercept of the regression line\n",
    "r-value : float\n",
    "    correlation coefficient\n",
    "p-value : float\n",
    "    two-sided p-value for a hypothesis test whose null hypothesis is\n",
    "    that the slope is zero.\n",
    "stderr : float\n",
    "    Standard error of the estimate"
   ]
  },
  {
   "cell_type": "code",
   "execution_count": 28,
   "metadata": {
    "collapsed": false
   },
   "outputs": [
    {
     "data": {
      "text/plain": [
       "(0.61538461538461542,\n",
       " 1.3461538461538458,\n",
       " 0.99227787671366774,\n",
       " 0.0077221232863322574,\n",
       " 0.054392829322041827)"
      ]
     },
     "execution_count": 28,
     "metadata": {},
     "output_type": "execute_result"
    }
   ],
   "source": [
    "stats.linregress(x,y)"
   ]
  },
  {
   "cell_type": "markdown",
   "metadata": {},
   "source": [
    "Why do I like stats.linregress?  Becuase it gives us the r-value (square it and you have the r-squared) and the p-value.   How do these results compare against yours that you calculated?"
   ]
  },
  {
   "cell_type": "markdown",
   "metadata": {},
   "source": [
    "But if you want to use your stats results set it equal to something, it will make a list and then you can access it.  Or you can set each item.  so the two ways are.."
   ]
  },
  {
   "cell_type": "code",
   "execution_count": 29,
   "metadata": {
    "collapsed": false
   },
   "outputs": [],
   "source": [
    "stats_out=stats.linregress(x,y)"
   ]
  },
  {
   "cell_type": "code",
   "execution_count": 30,
   "metadata": {
    "collapsed": false
   },
   "outputs": [
    {
     "data": {
      "text/plain": [
       "0.61538461538461542"
      ]
     },
     "execution_count": 30,
     "metadata": {},
     "output_type": "execute_result"
    }
   ],
   "source": [
    "stats_out[0]"
   ]
  },
  {
   "cell_type": "code",
   "execution_count": 31,
   "metadata": {
    "collapsed": false
   },
   "outputs": [
    {
     "data": {
      "text/plain": [
       "(0.61538461538461542,\n",
       " 1.3461538461538458,\n",
       " 0.99227787671366774,\n",
       " 0.0077221232863322574,\n",
       " 0.054392829322041827)"
      ]
     },
     "execution_count": 31,
     "metadata": {},
     "output_type": "execute_result"
    }
   ],
   "source": [
    "stats_out"
   ]
  },
  {
   "cell_type": "code",
   "execution_count": 32,
   "metadata": {
    "collapsed": false
   },
   "outputs": [],
   "source": [
    "slope, intercept, r_value,p_value,stderr= stats.linregress(x,y)"
   ]
  },
  {
   "cell_type": "code",
   "execution_count": 33,
   "metadata": {
    "collapsed": false
   },
   "outputs": [
    {
     "data": {
      "text/plain": [
       "0.61538461538461542"
      ]
     },
     "execution_count": 33,
     "metadata": {},
     "output_type": "execute_result"
    }
   ],
   "source": [
    "slope"
   ]
  },
  {
   "cell_type": "code",
   "execution_count": 34,
   "metadata": {
    "collapsed": false
   },
   "outputs": [
    {
     "data": {
      "text/plain": [
       "1.3461538461538458"
      ]
     },
     "execution_count": 34,
     "metadata": {},
     "output_type": "execute_result"
    }
   ],
   "source": [
    "intercept"
   ]
  },
  {
   "cell_type": "markdown",
   "metadata": {},
   "source": [
    "so it is up to you on how you want to get to the data from a function like stats.linregress()"
   ]
  },
  {
   "cell_type": "markdown",
   "metadata": {},
   "source": [
    "One thing I have problems with is long lines I want on multiple lines.  For example sometimes I like to define a long string and then use that string as a title.  To have it go over multiple lines you can use brackets.  here is an example of a long string I made for a title.   You can see me accessing the results both ways.  "
   ]
  },
  {
   "cell_type": "code",
   "execution_count": 35,
   "metadata": {
    "collapsed": false
   },
   "outputs": [
    {
     "name": "stdout",
     "output_type": "stream",
     "text": [
      "The best fit line as a slope m=0.615 and intercept b=1.346\n",
      "best fit line linregress slope m=0.615 and intercept b=1.346 \n"
     ]
    }
   ],
   "source": [
    "title=('The best fit line as a slope m={:.3f} and intercept b={:.3f}'.format(stats_out[0],stats_out[1])+\n",
    "       '\\nbest fit line linregress slope m={:.3f} and intercept b={:.3f} '.format(slope,intercept))\n",
    "print title\n"
   ]
  },
  {
   "cell_type": "markdown",
   "metadata": {},
   "source": [
    "Now can you go back and get the KNYC and KLGA weather data and see if they are correlated?  I would use your program and then compare to linregress.  Remember to use np.array([]) to enter the data as a numpy array.  Also remember you need at least one float in your list to make it all floats.  "
   ]
  },
  {
   "cell_type": "code",
   "execution_count": 42,
   "metadata": {
    "collapsed": false
   },
   "outputs": [
    {
     "data": {
      "text/plain": [
       "<matplotlib.text.Text at 0xb553320>"
      ]
     },
     "execution_count": 42,
     "metadata": {},
     "output_type": "execute_result"
    },
    {
     "data": {
      "image/png": "[encoded data removed]",
      "text/plain": [
       "<matplotlib.figure.Figure at 0xb4fa668>"
      ]
     },
     "metadata": {},
     "output_type": "display_data"
    }
   ],
   "source": []
  },
  {
   "cell_type": "markdown",
   "metadata": {},
   "source": [
    "Sometimes when making a graph, instead of putting in a title it looks better to put in a text box with just the details.  It is a three step process to make a nice box.\n",
    "\n",
    "1.  First you define the box by making a dictionary of the box properties.  We ususally call it props for the properties of the box.\n",
    "\n",
    "2.  Then you make the text string you want in the box.  for a linear equation you usually won't slope, interecept, r$^2$, and p-value\n",
    "\n",
    "3.  You then say where you want the information.  This is within the ax properties since we will put it into the graph.  You tell it the relative location, Then you give it the text, somemore information, and then the props"
   ]
  },
  {
   "cell_type": "code",
   "execution_count": 14,
   "metadata": {
    "collapsed": false
   },
   "outputs": [
    {
     "data": {
      "text/plain": [
       "<matplotlib.text.Text at 0x15a56f98>"
      ]
     },
     "execution_count": 14,
     "metadata": {},
     "output_type": "execute_result"
    },
    {
     "data": {
      "image/png": "[encoded data removed]",
      "text/plain": [
       "<matplotlib.figure.Figure at 0x158f8d30>"
      ]
     },
     "metadata": {},
     "output_type": "display_data"
    }
   ],
   "source": [
    "props=dict(boxstyle='round',facecolor='white',alpha=0.5)\n",
    "textstr='m={:.3f}\\nb={:.3f}\\n$r^2$={:.3f}\\np={:.3f}'.format(results[0],results[1],results[2]**2,results[3])\n",
    "ax.text(0.05,0.95,textstr,transform=ax.transAxes,fontsize=10,verticalalignment='top',bbox=props)"
   ]
  },
  {
   "cell_type": "markdown",
   "metadata": {},
   "source": [
    "# Answer\n",
    "See notebook when posted.  It will show you how to make a prettier figure....."
   ]
  },
  {
   "cell_type": "code",
   "execution_count": null,
   "metadata": {
    "collapsed": false
   },
   "outputs": [],
   "source": []
  },
  {
   "cell_type": "code",
   "execution_count": null,
   "metadata": {
    "collapsed": true
   },
   "outputs": [],
   "source": []
  }
 ],
 "metadata": {
  "kernelspec": {
   "display_name": "Python 2",
   "language": "python",
   "name": "python2"
  },
  "language_info": {
   "codemirror_mode": {
    "name": "ipython",
    "version": 2
   },
   "file_extension": ".py",
   "mimetype": "text/x-python",
   "name": "python",
   "nbconvert_exporter": "python",
   "pygments_lexer": "ipython2",
   "version": "2.7.10"
  }
 },
 "nbformat": 4,
 "nbformat_minor": 0
}
