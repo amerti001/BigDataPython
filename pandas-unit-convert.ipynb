{
 "cells": [
  {
   "cell_type": "markdown",
   "metadata": {},
   "source": [
    "We may also want to do math on pandas data.  So to do this I thought we could convert our units.  "
   ]
  },
  {
   "cell_type": "code",
   "execution_count": 26,
   "metadata": {
    "collapsed": false
   },
   "outputs": [],
   "source": [
    "%matplotlib inline\n",
    "import pandas as pd\n",
    "import numpy as np\n",
    "import matplotlib.pylab as plt\n",
    "from scipy import stats\n",
    "from matplotlib.backends.backend_pdf import PdfPages"
   ]
  },
  {
   "cell_type": "code",
   "execution_count": null,
   "metadata": {
    "collapsed": false
   },
   "outputs": [],
   "source": []
  },
  {
   "cell_type": "code",
   "execution_count": 2,
   "metadata": {
    "collapsed": false
   },
   "outputs": [],
   "source": [
    "well_data=pd.read_csv('well_data.csv')"
   ]
  },
  {
   "cell_type": "markdown",
   "metadata": {},
   "source": [
    "I did not talk about units except for Arsenic.  But we have the following elements and their units.  "
   ]
  },
  {
   "cell_type": "markdown",
   "metadata": {},
   "source": [
    "    'Si':ppb,\n",
    "    'P':ppm,\n",
    "    'S':ppb,\n",
    "    'Ca':ppb,\n",
    "    'Fe':ppm,\n",
    "    'Ba':ppb,\n",
    "    'Na':ppm,\n",
    "    'Mg':ppb,\n",
    "    'K':ppb,\n",
    "    'Mn':ppm,\n",
    "    'As':ppb,\n",
    "    'Sr':ppb,\n",
    "    'F':ppm,\n",
    "    'Cl':ppm,\n",
    "    'SO4':ppm,\n",
    "    'Br':ppm"
   ]
  },
  {
   "cell_type": "markdown",
   "metadata": {},
   "source": [
    "Remember back to chemistry........ \n",
    "\n",
    "ppm=parts per million = milligrams per liter = mg/l\n",
    "\n",
    "ppb=parts per billions = micrograms per liter = ug/l\n",
    "\n",
    "we can convert between these two.  1000 ppb = 1 ppm  or \n",
    "to convert \n",
    "\n",
    "##$1 \\frac{mg}{l} * \\frac{1000 u}{m}= 1000 \\frac{ug}{l}$\n",
    "\n",
    "\n",
    "\n",
    " "
   ]
  },
  {
   "cell_type": "markdown",
   "metadata": {},
   "source": [
    "So lets convert As to ppm.  It is now ppb.  We could just print it first"
   ]
  },
  {
   "cell_type": "code",
   "execution_count": 3,
   "metadata": {
    "collapsed": false
   },
   "outputs": [
    {
     "name": "stdout",
     "output_type": "stream",
     "text": [
      "0           NaN\n",
      "1           NaN\n",
      "2           NaN\n",
      "3      0.078977\n",
      "4           NaN\n",
      "5           NaN\n",
      "6      0.028071\n",
      "7           NaN\n",
      "8      0.096886\n",
      "9      0.080627\n",
      "10          NaN\n",
      "11     0.077007\n",
      "12     0.039250\n",
      "13     0.131249\n",
      "14     0.000177\n",
      "15          NaN\n",
      "16          NaN\n",
      "17     0.147639\n",
      "18          NaN\n",
      "19     0.052427\n",
      "20          NaN\n",
      "21          NaN\n",
      "22          NaN\n",
      "23          NaN\n",
      "24     0.005365\n",
      "25          NaN\n",
      "26          NaN\n",
      "27          NaN\n",
      "28     0.053098\n",
      "29          NaN\n",
      "         ...   \n",
      "729    0.165760\n",
      "730         NaN\n",
      "731    0.000180\n",
      "732    0.093650\n",
      "733    0.101430\n",
      "734         NaN\n",
      "735         NaN\n",
      "736    0.087900\n",
      "737         NaN\n",
      "738    0.001170\n",
      "739    0.085260\n",
      "740    0.055750\n",
      "741    0.026960\n",
      "742         NaN\n",
      "743         NaN\n",
      "744         NaN\n",
      "745         NaN\n",
      "746         NaN\n",
      "747         NaN\n",
      "748    0.000120\n",
      "749    0.031690\n",
      "750    0.009150\n",
      "751    0.026980\n",
      "752    0.021740\n",
      "753    0.117820\n",
      "754    0.000130\n",
      "755    0.017390\n",
      "756    0.112370\n",
      "757    0.248930\n",
      "758         NaN\n",
      "Name: As, dtype: float64\n"
     ]
    }
   ],
   "source": [
    "print well_data.As/1000"
   ]
  },
  {
   "cell_type": "markdown",
   "metadata": {},
   "source": [
    "that didn't change it.  We could set a new column."
   ]
  },
  {
   "cell_type": "code",
   "execution_count": 4,
   "metadata": {
    "collapsed": false
   },
   "outputs": [],
   "source": [
    "well_data['As-ppm']=well_data.As/1000"
   ]
  },
  {
   "cell_type": "code",
   "execution_count": 5,
   "metadata": {
    "collapsed": false
   },
   "outputs": [
    {
     "name": "stdout",
     "output_type": "stream",
     "text": [
      "             Well_ID         Lat         Lon       Depth            Si  \\\n",
      "count     759.000000  759.000000  759.000000  759.000000    407.000000   \n",
      "mean     6417.088274   23.789249   90.641199   65.554677  40101.151444   \n",
      "std      6695.778189    0.578493    0.578800   42.186161  10117.680290   \n",
      "min         2.000000   22.780000   89.610000    0.000000  12605.576700   \n",
      "25%      4116.000000   23.285000   90.155000   45.000000  33200.310900   \n",
      "50%      5928.000000   23.790000   90.650000   50.000000  40021.490000   \n",
      "75%      8134.500000   24.300000   91.130000   70.000000  45369.825000   \n",
      "max    141499.000000   24.770000   91.650000  523.000000  70304.057950   \n",
      "\n",
      "                P             S             Ca          Fe          Ba  \\\n",
      "count  407.000000    407.000000     407.000000  407.000000  407.000000   \n",
      "mean     0.809323   3407.292389   41129.291921    5.556200   89.078507   \n",
      "std      0.902860   5364.247733   20161.130827    5.153779   54.172650   \n",
      "min      0.008210    -41.390000    3577.160000   -0.003680    5.630000   \n",
      "25%      0.151957    149.635000   26996.273955    1.706806   53.423976   \n",
      "50%      0.507850   1220.877945   40166.830000    3.931310   79.674488   \n",
      "75%      1.189271   4341.695000   52976.458285    8.531585  113.711543   \n",
      "max      5.477616  45035.460000  116040.620000   30.192230  293.440000   \n",
      "\n",
      "          ...              Mg             K          Mn          As  \\\n",
      "count     ...      407.000000    343.000000  407.000000  407.000000   \n",
      "mean      ...       20.487685   5068.337278    1.309343   89.688641   \n",
      "std       ...       11.359487   5566.741424    0.978969  101.530582   \n",
      "min       ...        2.490000     18.855854    0.000000    0.000000   \n",
      "25%       ...       14.020000   2804.793027    0.545000   14.026849   \n",
      "50%       ...       18.250000   3563.100000    1.183136   54.400000   \n",
      "75%       ...       24.780000   4979.045000    1.850000  129.433314   \n",
      "max       ...      104.545670  44273.150000    6.271782  700.890000   \n",
      "\n",
      "               Sr           F          Cl         SO4          Br      As-ppm  \n",
      "count  407.000000  413.000000  411.000000  397.000000  405.000000  407.000000  \n",
      "mean   186.770328    0.216924   42.371061    9.300930    0.056895    0.089689  \n",
      "std     90.501136    0.194702   34.464444   14.287154    0.087262    0.101531  \n",
      "min     34.470000   -0.010200    0.226100    0.120000    0.005800    0.000000  \n",
      "25%    119.685000    0.113000   18.931200    0.407100    0.019300    0.014027  \n",
      "50%    174.617542    0.166700   31.298100    3.344400    0.032700    0.054400  \n",
      "75%    233.535000    0.239700   52.962050   11.973300    0.053800    0.129433  \n",
      "max    681.287906    1.595800  217.525000  125.317000    0.994800    0.700890  \n",
      "\n",
      "[8 rows x 21 columns]\n"
     ]
    }
   ],
   "source": [
    "print well_data.describe()"
   ]
  },
  {
   "cell_type": "markdown",
   "metadata": {},
   "source": [
    "or we could have just looked at column titles"
   ]
  },
  {
   "cell_type": "code",
   "execution_count": 6,
   "metadata": {
    "collapsed": false
   },
   "outputs": [
    {
     "data": {
      "text/plain": [
       "Index([u'Well_ID', u'Lat', u'Lon', u'Depth', u'Drink', u'Si', u'P', u'S',\n",
       "       u'Ca', u'Fe', u'Ba', u'Na', u'Mg', u'K', u'Mn', u'As', u'Sr', u'F',\n",
       "       u'Cl', u'SO4', u'Br', u'As-ppm'],\n",
       "      dtype='object')"
      ]
     },
     "execution_count": 6,
     "metadata": {},
     "output_type": "execute_result"
    }
   ],
   "source": [
    "well_data.columns"
   ]
  },
  {
   "cell_type": "markdown",
   "metadata": {},
   "source": [
    "We could delete our new column now"
   ]
  },
  {
   "cell_type": "code",
   "execution_count": 7,
   "metadata": {
    "collapsed": false
   },
   "outputs": [],
   "source": [
    "del well_data['As-ppm']"
   ]
  },
  {
   "cell_type": "markdown",
   "metadata": {},
   "source": [
    "We could also just convert the As column itself.  "
   ]
  },
  {
   "cell_type": "code",
   "execution_count": 8,
   "metadata": {
    "collapsed": false
   },
   "outputs": [],
   "source": [
    "well_data.As/=1000"
   ]
  },
  {
   "cell_type": "code",
   "execution_count": 9,
   "metadata": {
    "collapsed": false
   },
   "outputs": [
    {
     "name": "stdout",
     "output_type": "stream",
     "text": [
      "count    407.000000\n",
      "mean       0.089689\n",
      "std        0.101531\n",
      "min        0.000000\n",
      "25%        0.014027\n",
      "50%        0.054400\n",
      "75%        0.129433\n",
      "max        0.700890\n",
      "Name: As, dtype: float64\n"
     ]
    }
   ],
   "source": [
    "print well_data.As.describe()"
   ]
  },
  {
   "cell_type": "markdown",
   "metadata": {},
   "source": [
    "It worked wonderfully.  "
   ]
  },
  {
   "cell_type": "markdown",
   "metadata": {},
   "source": [
    "We sometimes want molar concentrations.  I can't cross out the math on the screen but we can use the elemental weights to convert \n",
    "\n",
    "from parts per billion to micromolar\n",
    "\n",
    "from parts per million to millimolar. \n",
    "\n",
    "for example\n",
    "\n",
    "##$\\frac{mg}{l}*\\frac{1 Mole}{grams in one mole}=\\frac{mM}{l}=mM$\n",
    "\n",
    "The average arsenic is 0.0897 mg/l\n",
    "\n",
    "##$0.0897\\frac{mg}{l}*\\frac{M}{74.921}=0.001197mM$\n",
    "\n",
    "Now lets try on our data.  \n"
   ]
  },
  {
   "cell_type": "code",
   "execution_count": 10,
   "metadata": {
    "collapsed": false
   },
   "outputs": [
    {
     "name": "stdout",
     "output_type": "stream",
     "text": [
      "count    407.000000\n",
      "mean       0.001197\n",
      "std        0.001355\n",
      "min        0.000000\n",
      "25%        0.000187\n",
      "50%        0.000726\n",
      "75%        0.001728\n",
      "max        0.009355\n",
      "Name: As, dtype: float64\n"
     ]
    }
   ],
   "source": [
    "well_data.As/=74.921\n",
    "print well_data.As.describe()"
   ]
  },
  {
   "cell_type": "markdown",
   "metadata": {},
   "source": [
    "It worked beautifully.  But that number is too small.  So I will convert to micromolar by multibplying by 1000. "
   ]
  },
  {
   "cell_type": "code",
   "execution_count": 26,
   "metadata": {
    "collapsed": false
   },
   "outputs": [
    {
     "name": "stdout",
     "output_type": "stream",
     "text": [
      "count    407.000000\n",
      "mean       1.197109\n",
      "std        1.355169\n",
      "min        0.000000\n",
      "25%        0.187222\n",
      "50%        0.726098\n",
      "75%        1.727597\n",
      "max        9.355054\n",
      "dtype: float64\n"
     ]
    }
   ],
   "source": [
    "well_data.As*=1000\n",
    "print well_data.As.describe()"
   ]
  },
  {
   "cell_type": "markdown",
   "metadata": {},
   "source": [
    "But we have up to 16 elements we may want to convert.  Could we convert them all ot once.  Before Code Academeny I didn't know how to do this.  But then I remember dictionary's that we learned about in code academy.  I usually don't use them much.  But now I can see their usefullness.  I made a a dictionary with the formula weights for all the elements we have using this website.  http://www.ptable.com/"
   ]
  },
  {
   "cell_type": "code",
   "execution_count": 13,
   "metadata": {
    "collapsed": false
   },
   "outputs": [],
   "source": [
    "FW={\n",
    "    'Si':28.1,\n",
    "    'P':30.97,\n",
    "    'S':32.06,\n",
    "    'Ca':40.078,\n",
    "    'Fe':55.845,\n",
    "    'Ba':137.326,\n",
    "    'Na':22.989,\n",
    "    'Mg':24.305,\n",
    "    'K':29.0983,\n",
    "    'Mn':54.938,\n",
    "    'As':74.921,\n",
    "    'Sr':87.62,\n",
    "    'F':18.998,\n",
    "    'Cl':35.45,\n",
    "    'SO4':32.06+4*15.99,\n",
    "    'Br':79.904\n",
    "}"
   ]
  },
  {
   "cell_type": "code",
   "execution_count": 14,
   "metadata": {
    "collapsed": false
   },
   "outputs": [],
   "source": [
    "#I am just re-reading in the data to start fresh.\n",
    "well_data=pd.read_csv('well_data.csv')"
   ]
  },
  {
   "cell_type": "markdown",
   "metadata": {},
   "source": [
    "Unfortantely I couldn't just multiply the two.  But we could first try this. "
   ]
  },
  {
   "cell_type": "code",
   "execution_count": 15,
   "metadata": {
    "collapsed": false
   },
   "outputs": [
    {
     "ename": "KeyError",
     "evalue": "'Well_ID'",
     "output_type": "error",
     "traceback": [
      "\u001b[1;31m---------------------------------------------------------------------------\u001b[0m",
      "\u001b[1;31mKeyError\u001b[0m                                  Traceback (most recent call last)",
      "\u001b[1;32m<ipython-input-15-8c3099b8665f>\u001b[0m in \u001b[0;36m<module>\u001b[1;34m()\u001b[0m\n\u001b[0;32m      1\u001b[0m \u001b[1;32mfor\u001b[0m \u001b[0mi\u001b[0m \u001b[1;32min\u001b[0m \u001b[0mwell_data\u001b[0m\u001b[1;33m:\u001b[0m\u001b[1;33m\u001b[0m\u001b[0m\n\u001b[1;32m----> 2\u001b[1;33m     \u001b[0mwell_data\u001b[0m\u001b[1;33m[\u001b[0m\u001b[0mi\u001b[0m\u001b[1;33m]\u001b[0m\u001b[1;33m=\u001b[0m\u001b[0mwell_data\u001b[0m\u001b[1;33m[\u001b[0m\u001b[0mi\u001b[0m\u001b[1;33m]\u001b[0m\u001b[1;33m*\u001b[0m\u001b[0mFW\u001b[0m\u001b[1;33m[\u001b[0m\u001b[0mi\u001b[0m\u001b[1;33m]\u001b[0m\u001b[1;33m\u001b[0m\u001b[0m\n\u001b[0m",
      "\u001b[1;31mKeyError\u001b[0m: 'Well_ID'"
     ]
    }
   ],
   "source": [
    "for i in well_data:\n",
    "    well_data[i]=well_data[i]*FW[i]"
   ]
  },
  {
   "cell_type": "markdown",
   "metadata": {},
   "source": [
    "The trouble is well_id doesn't work.......  So we need to first make sure that i is both in FW and well_data"
   ]
  },
  {
   "cell_type": "code",
   "execution_count": 17,
   "metadata": {
    "collapsed": false
   },
   "outputs": [],
   "source": [
    "for i in well_data:\n",
    "    if i in FW:\n",
    "        well_data[i]=well_data[i]/FW[i]"
   ]
  },
  {
   "cell_type": "code",
   "execution_count": 18,
   "metadata": {
    "collapsed": false
   },
   "outputs": [
    {
     "name": "stdout",
     "output_type": "stream",
     "text": [
      "             Well_ID         Lat         Lon       Depth          Si  \\\n",
      "count     759.000000  759.000000  759.000000  759.000000  407.000000   \n",
      "mean     6417.088274   23.789249   90.641199   65.554677   50.786023   \n",
      "std      6695.778189    0.578493    0.578800   42.186161   12.813516   \n",
      "min         2.000000   22.780000   89.610000    0.000000   15.964307   \n",
      "25%      4116.000000   23.285000   90.155000   45.000000   42.046467   \n",
      "50%      5928.000000   23.790000   90.650000   50.000000   50.685136   \n",
      "75%      8134.500000   24.300000   91.130000   70.000000   57.458524   \n",
      "max    141499.000000   24.770000   91.650000  523.000000   89.036433   \n",
      "\n",
      "                P           S          Ca          Fe          Ba          Na  \\\n",
      "count  407.000000  407.000000  407.000000  407.000000  407.000000  407.000000   \n",
      "mean     0.000844    3.314991   25.605847    0.001782    0.004724    0.055708   \n",
      "std      0.000941    5.218934   12.551707    0.001653    0.002873    0.033848   \n",
      "min      0.000009   -0.040269    2.227031   -0.000001    0.000299    0.008379   \n",
      "25%      0.000158    0.145581   16.807060    0.000547    0.002833    0.028708   \n",
      "50%      0.000529    1.187805   25.006648    0.001261    0.004225    0.044987   \n",
      "75%      0.001240    4.224081   32.981533    0.002736    0.006030    0.078517   \n",
      "max      0.005711   43.815479   72.243364    0.009681    0.015560    0.199280   \n",
      "\n",
      "               Mg           K          Mn          As          Sr           F  \\\n",
      "count  407.000000  343.000000  407.000000  407.000000  407.000000  413.000000   \n",
      "mean     0.034682    5.985911    0.000434    0.015978    0.024328    0.000601   \n",
      "std      0.019229    6.574547    0.000324    0.018088    0.011788    0.000539   \n",
      "min      0.004215    0.022270    0.000000    0.000000    0.004490   -0.000028   \n",
      "25%      0.023733    3.312574    0.000181    0.002499    0.015590    0.000313   \n",
      "50%      0.030894    4.208165    0.000392    0.009692    0.022745    0.000462   \n",
      "75%      0.041948    5.880453    0.000613    0.023059    0.030419    0.000664   \n",
      "max      0.176976   52.288380    0.002078    0.124866    0.088741    0.004421   \n",
      "\n",
      "               Cl         SO4            Br  \n",
      "count  411.000000  397.000000  4.050000e+02  \n",
      "mean     0.033716    0.001009  8.911228e-06  \n",
      "std      0.027425    0.001550  1.366741e-05  \n",
      "min      0.000180    0.000013  9.084289e-07  \n",
      "25%      0.015064    0.000044  3.022876e-06  \n",
      "50%      0.024905    0.000363  5.121660e-06  \n",
      "75%      0.042144    0.001299  8.426461e-06  \n",
      "max      0.173092    0.013592  1.558112e-04  \n"
     ]
    }
   ],
   "source": [
    "print well_data.describe()"
   ]
  },
  {
   "cell_type": "markdown",
   "metadata": {},
   "source": [
    "done.  easy-peasy math! "
   ]
  },
  {
   "cell_type": "markdown",
   "metadata": {},
   "source": [
    "I got thinking more about dictionary's.  Could we use them to also make awesome looking Axis names given the short names?"
   ]
  },
  {
   "cell_type": "markdown",
   "metadata": {},
   "source": [
    "I got yelled at b/c I didn't have units on our graph from last time. But there is no good way to know all the units.......  So I figured I could make a dictionary of what I want each axis to be.  Here is a page that describes it all!  I am going to do a few examples! http://matplotlib.org/users/mathtext.html"
   ]
  },
  {
   "cell_type": "code",
   "execution_count": 64,
   "metadata": {
    "collapsed": false
   },
   "outputs": [],
   "source": [
    "units={\n",
    "    'Si':'Si (ppb)',\n",
    "    'P':'Phosphourous (ppm)',\n",
    "    'S':r'Sulfur $\\left(\\frac{\\mu g}{L} \\right)$',\n",
    "    'Ca':'pbb',\n",
    "    'Fe':'Fe (mgL$^-1$)',\n",
    "    'Ba':'ppb',\n",
    "    'Na':'Sodium is boring',\n",
    "    'Mg':'ppm',\n",
    "    'K':'ppb',\n",
    "    'Mn':'ppm',\n",
    "    'As':'Arsenic (ppb)',\n",
    "    'Sr':'ppb',\n",
    "    'F':'ppm',\n",
    "    'Cl':'ppm',\n",
    "    'SO4':'ppm',\n",
    "    'Br':'ppm'\n",
    "}"
   ]
  },
  {
   "cell_type": "code",
   "execution_count": 56,
   "metadata": {
    "collapsed": false
   },
   "outputs": [
    {
     "name": "stdout",
     "output_type": "stream",
     "text": [
      "Si (ppb)\n",
      "Phosphourous (ppm)\n",
      "Sulfur $\\left \\frac{\\mu g}{L} \\right$\n",
      "pbb\n",
      "ppm\n",
      "ppb\n",
      "ppm\n",
      "ppm\n",
      "ppb\n",
      "ppm\n",
      "ppb\n",
      "ppb\n",
      "ppm\n",
      "ppm\n",
      "ppm\n",
      "ppm\n"
     ]
    }
   ],
   "source": [
    "for i in well_data:\n",
    "    if i in units:\n",
    "        print units[i]"
   ]
  },
  {
   "cell_type": "markdown",
   "metadata": {},
   "source": [
    "So lets go back and grab our graph and try it! But reread your data since you unit converted the 10,50 are wrong"
   ]
  },
  {
   "cell_type": "code",
   "execution_count": 65,
   "metadata": {
    "collapsed": false
   },
   "outputs": [
    {
     "data": {
      "text/plain": [
       "<matplotlib.text.Text at 0x21801518>"
      ]
     },
     "execution_count": 65,
     "metadata": {},
     "output_type": "execute_result"
    },
    {
     "data": {
      "image/png": "[encoded data removed]",
      "text/plain": [
       "<matplotlib.figure.Figure at 0x215dfe80>"
      ]
     },
     "metadata": {},
     "output_type": "display_data"
    }
   ],
   "source": [
    "well_data=pd.read_csv('well_data.csv')\n",
    "elems=['As','Fe','S','P','Na']\n",
    "f, ax = plt.subplots(1, len(elems), sharey=True)\n",
    "f.set_size_inches(10,5)\n",
    "\n",
    "for i,elem in enumerate(elems):\n",
    "    ax[i].scatter(well_data[elem][well_data.As<10],well_data.Depth[well_data.As<10],edgecolors='b',label='<10',facecolor='none')\n",
    "    ax[i].scatter(well_data[elem][np.logical_and(well_data.As>=10,well_data.As<=50)],well_data.Depth[np.logical_and(well_data.As>=10,well_data.As<=50)],edgecolors='g',label='10-50',facecolor='none')\n",
    "    ax[i].scatter(well_data[elem][well_data.As>50],well_data.Depth[well_data.As>50],edgecolors='r',label='>50',facecolor='none')\n",
    "\n",
    "    ax[i].set_xlabel(units[elem])\n",
    "\n",
    "    ax[i].set_xlim([0,well_data[elem].max()])\n",
    "    ax[i].xaxis.major.locator.set_params(nbins=4) \n",
    "\n",
    "ax[0].set_ylim([250,0])\n",
    "ax[0].set_ylabel('Depth ft')"
   ]
  },
  {
   "cell_type": "code",
   "execution_count": null,
   "metadata": {
    "collapsed": false
   },
   "outputs": [],
   "source": []
  }
 ],
 "metadata": {
  "kernelspec": {
   "display_name": "Python 2",
   "language": "python",
   "name": "python2"
  },
  "language_info": {
   "codemirror_mode": {
    "name": "ipython",
    "version": 2
   },
   "file_extension": ".py",
   "mimetype": "text/x-python",
   "name": "python",
   "nbconvert_exporter": "python",
   "pygments_lexer": "ipython2",
   "version": "2.7.10"
  }
 },
 "nbformat": 4,
 "nbformat_minor": 0
}
