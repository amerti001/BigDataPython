{
 "metadata": {
  "name": "pandas-unit-convert.ipynb"
 },
 "nbformat": 3,
 "nbformat_minor": 0,
 "worksheets": [
  {
   "cells": [
    {
     "cell_type": "markdown",
     "metadata": {},
     "source": [
      "We may also want to do math on pandas data.  So to do this I thought we could convert our units.  "
     ]
    },
    {
     "cell_type": "code",
     "collapsed": false,
     "input": [
      "import pandas as pd\n",
      "import numpy as np\n",
      "import matplotlib.pylab as plt\n",
      "from scipy import stats\n",
      "from matplotlib.backends.backend_pdf import PdfPages"
     ],
     "language": "python",
     "metadata": {},
     "outputs": [],
     "prompt_number": 2
    },
    {
     "cell_type": "code",
     "collapsed": false,
     "input": [
      "pwd"
     ],
     "language": "python",
     "metadata": {},
     "outputs": [
      {
       "metadata": {},
       "output_type": "pyout",
       "prompt_number": 13,
       "text": [
        "u'c:\\\\work-teaching\\\\python\\\\bigdatapython'"
       ]
      }
     ],
     "prompt_number": 13
    },
    {
     "cell_type": "code",
     "collapsed": false,
     "input": [
      "well_data=pd.read_csv('well_data.csv')"
     ],
     "language": "python",
     "metadata": {},
     "outputs": [],
     "prompt_number": 17
    },
    {
     "cell_type": "markdown",
     "metadata": {},
     "source": [
      "I did not talk about units except for Arsenic.  But we have the following elements and their units.  "
     ]
    },
    {
     "cell_type": "markdown",
     "metadata": {},
     "source": [
      "    'Si':ppb,\n",
      "    'P':ppm,\n",
      "    'S':ppb,\n",
      "    'Ca':ppb,\n",
      "    'Fe':ppm,\n",
      "    'Ba':ppb,\n",
      "    'Na':ppm,\n",
      "    'Mg':ppb,\n",
      "    'K':ppb,\n",
      "    'Mn':ppm,\n",
      "    'As':ppb,\n",
      "    'Sr':ppb,\n",
      "    'F':ppm,\n",
      "    'Cl':ppm,\n",
      "    'SO4':ppm,\n",
      "    'Br':ppm"
     ]
    },
    {
     "cell_type": "markdown",
     "metadata": {},
     "source": [
      "Remember back to chemistry........ \n",
      "\n",
      "ppm=parts per million = milligrams per liter = mg/l\n",
      "\n",
      "ppb=parts per billions = micrograms per liter = ug/l\n",
      "\n",
      "we can convert between these two.  1000 ppb = 1 ppm  or \n",
      "to convert \n",
      "\n",
      "##$1 \\frac{mg}{l} * \\frac{1000 u}{m}= 1000 \\frac{ug}{l}$\n",
      "\n",
      "\n",
      "\n",
      " "
     ]
    },
    {
     "cell_type": "markdown",
     "metadata": {},
     "source": [
      "So lets convert As to ppm.  It is now ppb.  We could just print it first"
     ]
    },
    {
     "cell_type": "code",
     "collapsed": false,
     "input": [
      "print well_data.As/1000"
     ],
     "language": "python",
     "metadata": {},
     "outputs": [
      {
       "output_type": "stream",
       "stream": "stdout",
       "text": [
        "0         NaN\n",
        "1     0.24893\n",
        "2     0.11237\n",
        "3     0.04462\n",
        "4     0.01739\n",
        "5     0.00012\n",
        "6     0.30888\n",
        "7     0.24400\n",
        "8     0.01937\n",
        "9     0.11178\n",
        "10    0.00242\n",
        "11    0.02698\n",
        "12    0.00117\n",
        "13    0.01946\n",
        "14    0.03169\n",
        "...\n",
        "744   NaN\n",
        "745   NaN\n",
        "746   NaN\n",
        "747   NaN\n",
        "748   NaN\n",
        "749   NaN\n",
        "750   NaN\n",
        "751   NaN\n",
        "752   NaN\n",
        "753   NaN\n",
        "754   NaN\n",
        "755   NaN\n",
        "756   NaN\n",
        "757   NaN\n",
        "758   NaN\n",
        "Name: As, Length: 759, dtype: float64\n"
       ]
      }
     ],
     "prompt_number": 18
    },
    {
     "cell_type": "markdown",
     "metadata": {},
     "source": [
      "that didn't change it.  We could set a new column."
     ]
    },
    {
     "cell_type": "code",
     "collapsed": false,
     "input": [
      "well_data['As-ppm']=well_data.As/1000"
     ],
     "language": "python",
     "metadata": {},
     "outputs": [],
     "prompt_number": 19
    },
    {
     "cell_type": "code",
     "collapsed": false,
     "input": [
      "print well_data.describe()"
     ],
     "language": "python",
     "metadata": {},
     "outputs": [
      {
       "output_type": "stream",
       "stream": "stdout",
       "text": [
        "<class 'pandas.core.frame.DataFrame'>\n",
        "Index: 8 entries, count to max\n",
        "Data columns (total 21 columns):\n",
        "Well_ID    8  non-null values\n",
        "Lat        8  non-null values\n",
        "Lon        8  non-null values\n",
        "Depth      8  non-null values\n",
        "Si         8  non-null values\n",
        "P          8  non-null values\n",
        "S          8  non-null values\n",
        "Ca         8  non-null values\n",
        "Fe         8  non-null values\n",
        "Ba         8  non-null values\n",
        "Na         8  non-null values\n",
        "Mg         8  non-null values\n",
        "K          8  non-null values\n",
        "Mn         8  non-null values\n",
        "As         8  non-null values\n",
        "Sr         8  non-null values\n",
        "F          8  non-null values\n",
        "Cl         8  non-null values\n",
        "SO4        8  non-null values\n",
        "Br         8  non-null values\n",
        "As-ppm     8  non-null values\n",
        "dtypes: float64(21)\n"
       ]
      }
     ],
     "prompt_number": 20
    },
    {
     "cell_type": "markdown",
     "metadata": {},
     "source": [
      "or we could have just looked at column titles"
     ]
    },
    {
     "cell_type": "code",
     "collapsed": false,
     "input": [
      "well_data.columns"
     ],
     "language": "python",
     "metadata": {},
     "outputs": [
      {
       "metadata": {},
       "output_type": "pyout",
       "prompt_number": 21,
       "text": [
        "Index([u'Well_ID', u'Lat', u'Lon', u'Depth', u'Drink', u'Si', u'P', u'S', u'Ca', u'Fe', u'Ba', u'Na', u'Mg', u'K', u'Mn', u'As', u'Sr', u'F', u'Cl', u'SO4', u'Br', u'As-ppm'], dtype=object)"
       ]
      }
     ],
     "prompt_number": 21
    },
    {
     "cell_type": "markdown",
     "metadata": {},
     "source": [
      "We could delete our new column now"
     ]
    },
    {
     "cell_type": "code",
     "collapsed": false,
     "input": [
      "del well_data['As-ppm']"
     ],
     "language": "python",
     "metadata": {},
     "outputs": [],
     "prompt_number": 22
    },
    {
     "cell_type": "markdown",
     "metadata": {},
     "source": [
      "We could also just convert the As column itself.  "
     ]
    },
    {
     "cell_type": "code",
     "collapsed": false,
     "input": [
      "well_data.As/=1000"
     ],
     "language": "python",
     "metadata": {},
     "outputs": [],
     "prompt_number": 23
    },
    {
     "cell_type": "code",
     "collapsed": false,
     "input": [
      "print well_data.As.describe()"
     ],
     "language": "python",
     "metadata": {},
     "outputs": [
      {
       "output_type": "stream",
       "stream": "stdout",
       "text": [
        "count    407.000000\n",
        "mean       0.089689\n",
        "std        0.101531\n",
        "min        0.000000\n",
        "25%        0.014027\n",
        "50%        0.054400\n",
        "75%        0.129433\n",
        "max        0.700890\n",
        "dtype: float64\n"
       ]
      }
     ],
     "prompt_number": 24
    },
    {
     "cell_type": "markdown",
     "metadata": {},
     "source": [
      "It worked wonderfully.  "
     ]
    },
    {
     "cell_type": "markdown",
     "metadata": {},
     "source": [
      "We sometimes want molar concentrations.  I can't cross out the math on the screen but we can use the elemental weights to convert \n",
      "\n",
      "from parts per billion to micromolar\n",
      "\n",
      "from parts per million to millimolar. \n",
      "\n",
      "for example\n",
      "\n",
      "##$\\frac{mg}{l}*\\frac{1 Mole}{grams in one mole}=\\frac{mM}{l}=mM$\n",
      "\n",
      "The average arsenic is 0.0897 mg/l\n",
      "\n",
      "##$0.0897\\frac{mg}{l}*\\frac{M}{74.921}=0.001197mM$\n",
      "\n",
      "Now lets try on our data.  \n"
     ]
    },
    {
     "cell_type": "code",
     "collapsed": false,
     "input": [
      "well_data.As/=74.921\n",
      "print well_data.As.describe()"
     ],
     "language": "python",
     "metadata": {},
     "outputs": [
      {
       "output_type": "stream",
       "stream": "stdout",
       "text": [
        "count    407.000000\n",
        "mean       0.001197\n",
        "std        0.001355\n",
        "min        0.000000\n",
        "25%        0.000187\n",
        "50%        0.000726\n",
        "75%        0.001728\n",
        "max        0.009355\n",
        "dtype: float64\n"
       ]
      }
     ],
     "prompt_number": 25
    },
    {
     "cell_type": "markdown",
     "metadata": {},
     "source": [
      "It worked beautifully.  But that number is too small.  So I will convert to micromolar by multibplying by 1000. "
     ]
    },
    {
     "cell_type": "code",
     "collapsed": false,
     "input": [
      "well_data.As*=1000\n",
      "print well_data.As.describe()"
     ],
     "language": "python",
     "metadata": {},
     "outputs": [
      {
       "output_type": "stream",
       "stream": "stdout",
       "text": [
        "count    407.000000\n",
        "mean       1.197109\n",
        "std        1.355169\n",
        "min        0.000000\n",
        "25%        0.187222\n",
        "50%        0.726098\n",
        "75%        1.727597\n",
        "max        9.355054\n",
        "dtype: float64\n"
       ]
      }
     ],
     "prompt_number": 26
    },
    {
     "cell_type": "markdown",
     "metadata": {},
     "source": [
      "But we have up to 16 elements we may want to convert.  Could we convert them all ot once.  A week ago I didn't know how to do this.  But then I remember dictionary's that we learned about in code academy.  I usually don't use them much.  But now I can see their usefullness.  I made a a dictionary with the formula weights for all the elements we have using this website.  http://www.ptable.com/"
     ]
    },
    {
     "cell_type": "code",
     "collapsed": false,
     "input": [
      "FW={\n",
      "    'Si':28.1,\n",
      "    'P':30.97,\n",
      "    'S':32.06,\n",
      "    'Ca':40.078,\n",
      "    'Fe':55.845,\n",
      "    'Ba':137.326,\n",
      "    'Na':22.989,\n",
      "    'Mg':24.305,\n",
      "    'K':29.0983,\n",
      "    'Mn':54.938,\n",
      "    'As':74.921,\n",
      "    'Sr':87.62,\n",
      "    'F':18.998,\n",
      "    'Cl':35.45,\n",
      "    'SO4':32.06+4*15.99,\n",
      "    'Br':79.904\n",
      "}"
     ],
     "language": "python",
     "metadata": {},
     "outputs": [],
     "prompt_number": 27
    },
    {
     "cell_type": "code",
     "collapsed": false,
     "input": [
      "#I am just re-reading in the data to start fresh.\n",
      "well_data=pd.read_csv('well_data.csv')"
     ],
     "language": "python",
     "metadata": {},
     "outputs": [],
     "prompt_number": 35
    },
    {
     "cell_type": "markdown",
     "metadata": {},
     "source": [
      "Unfortantely I couldn't just multiply the two.  But we could first try this. "
     ]
    },
    {
     "cell_type": "code",
     "collapsed": false,
     "input": [
      "for i in well_data:\n",
      "    well_data[i]=well_data[i]*FW[i]"
     ],
     "language": "python",
     "metadata": {},
     "outputs": [
      {
       "ename": "KeyError",
       "evalue": "'Well_ID'",
       "output_type": "pyerr",
       "traceback": [
        "\u001b[1;31m---------------------------------------------------------------------------\u001b[0m\n\u001b[1;31mKeyError\u001b[0m                                  Traceback (most recent call last)",
        "\u001b[1;32m<ipython-input-36-8c3099b8665f>\u001b[0m in \u001b[0;36m<module>\u001b[1;34m()\u001b[0m\n\u001b[0;32m      1\u001b[0m \u001b[1;32mfor\u001b[0m \u001b[0mi\u001b[0m \u001b[1;32min\u001b[0m \u001b[0mwell_data\u001b[0m\u001b[1;33m:\u001b[0m\u001b[1;33m\u001b[0m\u001b[0m\n\u001b[1;32m----> 2\u001b[1;33m     \u001b[0mwell_data\u001b[0m\u001b[1;33m[\u001b[0m\u001b[0mi\u001b[0m\u001b[1;33m]\u001b[0m\u001b[1;33m=\u001b[0m\u001b[0mwell_data\u001b[0m\u001b[1;33m[\u001b[0m\u001b[0mi\u001b[0m\u001b[1;33m]\u001b[0m\u001b[1;33m*\u001b[0m\u001b[0mFW\u001b[0m\u001b[1;33m[\u001b[0m\u001b[0mi\u001b[0m\u001b[1;33m]\u001b[0m\u001b[1;33m\u001b[0m\u001b[0m\n\u001b[0m",
        "\u001b[1;31mKeyError\u001b[0m: 'Well_ID'"
       ]
      }
     ],
     "prompt_number": 36
    },
    {
     "cell_type": "markdown",
     "metadata": {},
     "source": [
      "The trouble is well_id doesn't work.......  So we need to first make sure that i is both in FW and well_data"
     ]
    },
    {
     "cell_type": "code",
     "collapsed": false,
     "input": [
      "for i in well_data:\n",
      "    if i in FW:\n",
      "        well_data[i]=well_data[i]/FW[i]"
     ],
     "language": "python",
     "metadata": {},
     "outputs": [],
     "prompt_number": 37
    },
    {
     "cell_type": "code",
     "collapsed": false,
     "input": [
      "print well_data.describe()"
     ],
     "language": "python",
     "metadata": {},
     "outputs": [
      {
       "output_type": "stream",
       "stream": "stdout",
       "text": [
        "             Well_ID         Lat         Lon       Depth           Si  \\\n",
        "count     759.000000  759.000000  759.000000  759.000000   407.000000   \n",
        "mean     3957.789196   23.782512   90.624464   65.554677  1427.087240   \n",
        "std      6500.882225    0.013105    0.018732   42.186161   360.059797   \n",
        "min         2.000000   23.754933   90.583917    0.000000   448.597036   \n",
        "25%      1654.000000   23.772109   90.610609   45.000000  1181.505726   \n",
        "50%      3415.000000   23.783783   90.626500   50.000000  1424.252313   \n",
        "75%      4873.500000   23.791708   90.637400   70.000000  1614.584520   \n",
        "max    140000.000000   23.808683   90.662967  523.000000  2501.923770   \n",
        "\n",
        "                P            S           Ca          Fe          Ba  \\\n",
        "count  407.000000   407.000000   407.000000  407.000000  407.000000   \n",
        "mean     0.026132   106.278615  1026.231147    0.099493    0.648665   \n",
        "std      0.029153   167.319018   503.047328    0.092287    0.394482   \n",
        "min      0.000265    -1.291017    89.254953   -0.000066    0.040997   \n",
        "25%      0.004907     4.667342   673.593342    0.030563    0.389030   \n",
        "50%      0.016398    38.081034  1002.216428    0.070397    0.580185   \n",
        "75%      0.038401   135.424049  1321.833881    0.152773    0.828041   \n",
        "max      0.176868  1404.724267  2895.369529    0.540643    2.136813   \n",
        "\n",
        "               Na          Mg            K          Mn          As  \\\n",
        "count  407.000000  407.000000   343.000000  407.000000  407.000000   \n",
        "mean     1.280678    0.842941   174.179841    0.023833    1.197109   \n",
        "std      0.778138    0.467372   191.308132    0.017820    1.355169   \n",
        "min      0.192632    0.102448     0.648005    0.000000    0.000000   \n",
        "25%      0.659957    0.576836    96.390271    0.009920    0.187222   \n",
        "50%      1.034199    0.750874   122.450452    0.021536    0.726098   \n",
        "75%      1.805029    1.019543   171.111199    0.033674    1.727597   \n",
        "max      4.581237    4.301406  1521.502974    0.114161    9.355054   \n",
        "\n",
        "               Sr           F          Cl         SO4          Br  \n",
        "count  407.000000  413.000000  411.000000  397.000000  405.000000  \n",
        "mean     2.131595    0.011418    1.195234    0.096865    0.000712  \n",
        "std      1.032882    0.010249    0.972199    0.148794    0.001092  \n",
        "min      0.393403   -0.000537    0.006378    0.001250    0.000073  \n",
        "25%      1.365955    0.005948    0.534025    0.004240    0.000242  \n",
        "50%      1.992896    0.008775    0.882880    0.034830    0.000409  \n",
        "75%      2.665316    0.012617    1.493993    0.124696    0.000673  \n",
        "max      7.775484    0.083998    6.136107    1.305114    0.012450  \n"
       ]
      }
     ],
     "prompt_number": 38
    },
    {
     "cell_type": "markdown",
     "metadata": {},
     "source": [
      "done.  easy-peasy math! "
     ]
    },
    {
     "cell_type": "markdown",
     "metadata": {},
     "source": [
      "I got thinking more about dictionary's.  Could we use them to keep track of units also?"
     ]
    },
    {
     "cell_type": "markdown",
     "metadata": {},
     "source": [
      "I got yelled at b/c I didn't have units on our graph from last time. But there is no good way to know all the units.......  So I figured I could make a dictionary of units, then combine them for the axes.  It is one more line.... See below"
     ]
    },
    {
     "cell_type": "code",
     "collapsed": false,
     "input": [
      "units={\n",
      "    'Si':'ppb',\n",
      "    'P':'ppm',\n",
      "    'S':'ppb',\n",
      "    'Ca':'pbb',\n",
      "    'Fe':'ppm',\n",
      "    'Ba':'ppb',\n",
      "    'Na':'ppm',\n",
      "    'Mg':'ppm',\n",
      "    'K':'ppb',\n",
      "    'Mn':'ppm',\n",
      "    'As':'ppb',\n",
      "    'Sr':'ppb',\n",
      "    'F':'ppm',\n",
      "    'Cl':'ppm',\n",
      "    'SO4':'ppm',\n",
      "    'Br':'ppm'\n",
      "}"
     ],
     "language": "python",
     "metadata": {},
     "outputs": [],
     "prompt_number": 41
    },
    {
     "cell_type": "code",
     "collapsed": false,
     "input": [
      "for i in well_data:\n",
      "    if i in units:\n",
      "        xtitle=i+'('+units[i]+')'\n",
      "        print xtitle"
     ],
     "language": "python",
     "metadata": {},
     "outputs": [
      {
       "output_type": "stream",
       "stream": "stdout",
       "text": [
        "Si(ppb)\n",
        "P(ppm)\n",
        "S(ppb)\n",
        "Ca(pbb)\n",
        "Fe(ppm)\n",
        "Ba(ppb)\n",
        "Na(ppm)\n",
        "Mg(ppm)\n",
        "K(ppb)\n",
        "Mn(ppm)\n",
        "As(ppb)\n",
        "Sr(ppb)\n",
        "F(ppm)\n",
        "Cl(ppm)\n",
        "SO4(ppm)\n",
        "Br(ppm)\n"
       ]
      }
     ],
     "prompt_number": 42
    },
    {
     "cell_type": "markdown",
     "metadata": {},
     "source": [
      "So lets go back and grab our graph and try it! But reread your data since you unit converted the 10,50 are wrong"
     ]
    },
    {
     "cell_type": "code",
     "collapsed": false,
     "input": [
      "well_data=pd.read_csv('well_data.csv')\n",
      "elems=['As','Fe','S','P','Na']\n",
      "f, ax = plt.subplots(1, len(elems), sharey=True)\n",
      "f.set_size_inches(10,5)\n",
      "\n",
      "for i,elem in enumerate(elems):\n",
      "    ax[i].scatter(well_data[elem][well_data.As<10],well_data.Depth[well_data.As<10],edgecolors='b',label='<10',facecolor='none')\n",
      "    ax[i].scatter(well_data[elem][logical_and(well_data.As>=10,well_data.As<=50)],well_data.Depth[logical_and(well_data.As>=10,well_data.As<=50)],edgecolors='g',label='10-50',facecolor='none')\n",
      "    ax[i].scatter(well_data[elem][well_data.As>50],well_data.Depth[well_data.As>50],edgecolors='r',label='>50',facecolor='none')\n",
      "    xtitle=elem+' ('+units[elem]+')'\n",
      "    ax[i].set_xlabel(xtitle)\n",
      "    ax[i].set_xlim([0,well_data[elem].max()])\n",
      "    ax[i].xaxis.major.locator.set_params(nbins=4) \n",
      "\n",
      "ax[0].set_ylim([250,0])\n",
      "ax[0].set_ylabel('Depth ft')"
     ],
     "language": "python",
     "metadata": {},
     "outputs": [
      {
       "metadata": {},
       "output_type": "pyout",
       "prompt_number": 49,
       "text": [
        "<matplotlib.text.Text at 0xe1d0470>"
       ]
      },
      {
       "metadata": {},
       "output_type": "display_data",
       "png": "[encoded data removed]",
       "text": [
        "<matplotlib.figure.Figure at 0xcb5e1d0>"
       ]
      }
     ],
     "prompt_number": 49
    },
    {
     "cell_type": "code",
     "collapsed": false,
     "input": [],
     "language": "python",
     "metadata": {},
     "outputs": []
    }
   ],
   "metadata": {}
  }
 ]
}