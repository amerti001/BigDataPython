{
 "cells": [
  {
   "cell_type": "code",
   "execution_count": 1,
   "metadata": {
    "collapsed": true
   },
   "outputs": [],
   "source": [
    "axis_names={\n",
    "'Sample':'Sample',\n",
    "'Species':'Species',\n",
    "'SizeClass':'Size Class',\n",
    "'LeafPos':'Leaf Position',\n",
    "'Conditions':'Conditions',\n",
    "'LAI':'LAI',\n",
    "'ChlB':'Chlorophyll B Concentration ($\\mu$mol/m$^2$)',\n",
    "'ChlA':'Chlorophyll A Concentration ($\\mu$mol/m$^2$)',\n",
    "'ChlP':'Chlorophyll Pool ($\\mu$mol/m$^2$)',\n",
    "'chlAB':'Chlorophylla/b Ratio',\n",
    "'Viol':'Violaxanthin Concentration ($\\mu$mol/m$^2$)',\n",
    "'Neox':'Neoxanthin Concentration ($\\mu$mol/m$^2$)',\n",
    "'Anth':'Antheraxanthin Concentration($\\mu$mol/m$^2$)',\n",
    "'Lutein':'Lutein Concentration ($\\mu$mol/m$^2$)',\n",
    "'Zeax':'Zeaxanthin Concentration ($\\mu$mol/m$^2$)',\n",
    "'Beta':'Beta Carotene Concentration ($\\mu$mol/m$^2$)',\n",
    "'VAZ':'V+A+Z ($\\mu$mol/m$^2$)',\n",
    "'VAZC':'V+A+Z /ChlA+ChlB (mmol/mol)',\n",
    "'ZVAZ':'Z/V+A+Z',\n",
    "'ZAVAZ':'Z+A/V+A+Z',\n",
    "'O':'O',\n",
    "'T100':'T100',\n",
    "'K':'K',\n",
    "'J':'J',\n",
    "'I':'I',\n",
    "'P':'P',\n",
    "'S':'S',\n",
    "'M':'M',\n",
    "'T':'T',\n",
    "'tFm':'tFm',\n",
    "'Fo':'Fo',\n",
    "'Fm':'Fm',\n",
    "'FvFm':'Fv/Fm',\n",
    "'FvFo':'Fv/Fo',\n",
    "'Vj':'Vj',\n",
    "'Pl':'PI',\n",
    "'Mo':'Mo',\n",
    "'ABSRC':'ABS/RC',\n",
    "'TRoRC':'TRo/RC',\n",
    "'DIoCS':'DIo/CS',\n",
    "'EToRC':'ETo/RC',\n",
    "'TRoABS':'TRo/ABS',\n",
    "'EToTRo':'ETo/TRo',\n",
    "'EToCS':'ETo/CS',\n",
    "'RCCSo':'RC/CSo',\n",
    "'RCCSm':'RC/CSm',\n",
    "'Area':'Area',\n",
    "}"
   ]
  },
  {
   "cell_type": "code",
   "execution_count": 2,
   "metadata": {
    "collapsed": false
   },
   "outputs": [
    {
     "data": {
      "text/plain": [
       "{'ABSRC': 'ABS/RC',\n",
       " 'Anth': 'Antheraxanthin Concentration($\\\\mu$mol/m$^2$)',\n",
       " 'Area': 'Area',\n",
       " 'Beta': 'Beta Carotene Concentration ($\\\\mu$mol/m$^2$)',\n",
       " 'ChlA': 'Chlorophyll A Concentration ($\\\\mu$mol/m$^2$)',\n",
       " 'ChlB': 'Chlorophyll B Concentration ($\\\\mu$mol/m$^2$)',\n",
       " 'ChlP': 'Chlorophyll Pool ($\\\\mu$mol/m$^2$)',\n",
       " 'Conditions': 'Conditions',\n",
       " 'DIoCS': 'DIo/CS',\n",
       " 'EToCS': 'ETo/CS',\n",
       " 'EToRC': 'ETo/RC',\n",
       " 'EToTRo': 'ETo/TRo',\n",
       " 'Fm': 'Fm',\n",
       " 'Fo': 'Fo',\n",
       " 'FvFm': 'Fv/Fm',\n",
       " 'FvFo': 'Fv/Fo',\n",
       " 'I': 'I',\n",
       " 'J': 'J',\n",
       " 'K': 'K',\n",
       " 'LAI': 'LAI',\n",
       " 'LeafPos': 'Leaf Position',\n",
       " 'Lutein': 'Lutein Concentration ($\\\\mu$mol/m$^2$)',\n",
       " 'M': 'M',\n",
       " 'Mo': 'Mo',\n",
       " 'Neox': 'Neoxanthin Concentration ($\\\\mu$mol/m$^2$)',\n",
       " 'O': 'O',\n",
       " 'P': 'P',\n",
       " 'Pl': 'PI',\n",
       " 'RCCSm': 'RC/CSm',\n",
       " 'RCCSo': 'RC/CSo',\n",
       " 'S': 'S',\n",
       " 'Sample': 'Sample',\n",
       " 'SizeClass': 'Size Class',\n",
       " 'Species': 'Species',\n",
       " 'T': 'T',\n",
       " 'T100': 'T100',\n",
       " 'TRoABS': 'TRo/ABS',\n",
       " 'TRoRC': 'TRo/RC',\n",
       " 'VAZ': 'V+A+Z ($\\\\mu$mol/m$^2$)',\n",
       " 'VAZC': 'V+A+Z /ChlA+ChlB (mmol/mol)',\n",
       " 'Viol': 'Violaxanthin Concentration ($\\\\mu$mol/m$^2$)',\n",
       " 'Vj': 'Vj',\n",
       " 'ZAVAZ': 'Z+A/V+A+Z',\n",
       " 'ZVAZ': 'Z/V+A+Z',\n",
       " 'Zeax': 'Zeaxanthin Concentration ($\\\\mu$mol/m$^2$)',\n",
       " 'chlAB': 'Chlorophylla/b Ratio',\n",
       " 'tFm': 'tFm'}"
      ]
     },
     "execution_count": 2,
     "metadata": {},
     "output_type": "execute_result"
    }
   ],
   "source": [
    "axis_names"
   ]
  },
  {
   "cell_type": "code",
   "execution_count": null,
   "metadata": {
    "collapsed": true
   },
   "outputs": [],
   "source": []
  }
 ],
 "metadata": {
  "kernelspec": {
   "display_name": "Python 2",
   "language": "python",
   "name": "python2"
  },
  "language_info": {
   "codemirror_mode": {
    "name": "ipython",
    "version": 2
   },
   "file_extension": ".py",
   "mimetype": "text/x-python",
   "name": "python",
   "nbconvert_exporter": "python",
   "pygments_lexer": "ipython2",
   "version": "2.7.10"
  }
 },
 "nbformat": 4,
 "nbformat_minor": 0
}
